{
 "cells": [
  {
   "cell_type": "markdown",
   "metadata": {
    "slideshow": {
     "slide_type": "slide"
    }
   },
   "source": [
    "# Data in Python\n",
    "\n",
    "## Stats 141B\n",
    "\n",
    "## Lecture 7\n"
   ]
  },
  {
   "cell_type": "markdown",
   "metadata": {
    "slideshow": {
     "slide_type": "slide"
    }
   },
   "source": [
    "## Computer architecture\n",
    "\n",
    "### CPU\n",
    "- CPU can work with certain number of bits at a time (most are 64-bit now)\n",
    "- each core can run separate processes in parallel\n",
    "- CPU has dedicate memory that is very fast to access: register, cache\n",
    "\n",
    "### Memory hierarchy\n",
    "- register holds (amoung other things) addresses of variables in main memory\n",
    "- primary storage (memory), random-access memory, ~10 GB/sec, ~GB in size\n",
    "- secondary storage, disk and SSD, ~1 GB/sec, ~TB in size\n",
    "- tertiary storage, ~ .1 GB/sec, ~EB in size (1 Bill GB) \n",
    "\n",
    "### GPU\n",
    "- specialized circuit for rendering graphics\n",
    "- not general purpose like CPU, but fast at array operations"
   ]
  },
  {
   "cell_type": "code",
   "execution_count": 1,
   "metadata": {
    "slideshow": {
     "slide_type": "slide"
    }
   },
   "outputs": [],
   "source": [
    "%load_ext memory_profiler"
   ]
  },
  {
   "cell_type": "code",
   "execution_count": 2,
   "metadata": {
    "slideshow": {
     "slide_type": "fragment"
    }
   },
   "outputs": [
    {
     "name": "stdout",
     "output_type": "stream",
     "text": [
      ">SPAC1002.01:pep\r\n",
      "MLPPTIRISGLAKTLHIPSRSPLQALKGSFILLNKRKFHYSPFILQEKVQSSNHTIRSDT\r\n",
      "KLWKRLLKITGKQAHQFKDKPFSHIFAFLFLHELSAILPLPIFFFIFHSLDWTPTGLPGE\r\n",
      "YLQKGSHVAASIFAKLGYNLPLEKVSKTLLDGAAAYAVVKVSYFVENNMVSSTRPFVSN*\r\n",
      ">SPAC1002.02:pep\r\n",
      "MASTFSQSVFARSLYEDSAENKVDSSKNTEANFPITLPKVLPTDPKASSLHKPQEQQPNI\r\n",
      "IPSKEEDKKPVINSMKLPSIPAPGTDNINESHIPRGYWKHPAVDKIAKRLHDQAPSDRTW\r\n",
      "SRMVSNLFAFISIQFLNRYLPNTTAVKVVSWILQALLLFNLLESVWQFVRPQPTFDDLQL\r\n",
      "TPLQRKLMGLPEGGSTSGKHLTPPRYRPNFSPSRKAENVKSPVRSTTWA*\r\n",
      ">SPAC1002.03c:pep\r\n"
     ]
    }
   ],
   "source": [
    "# The following data is from https://www.pombase.org/downloads/protein-datasets\n",
    "# It contains the amino acid sequences for proteins in fission yeast\n",
    "\n",
    "! head data/peptide.fa"
   ]
  },
  {
   "cell_type": "code",
   "execution_count": 3,
   "metadata": {
    "slideshow": {
     "slide_type": "slide"
    }
   },
   "outputs": [],
   "source": [
    "peppath = \"data/peptide.fa\""
   ]
  },
  {
   "cell_type": "code",
   "execution_count": 4,
   "metadata": {
    "slideshow": {
     "slide_type": "fragment"
    }
   },
   "outputs": [],
   "source": [
    "def pep_search(filename,pep):\n",
    "    pep_len = len(pep) + 1\n",
    "    with open(filename,'r') as pepfile:\n",
    "        for line in pepfile:\n",
    "            if line[:pep_len] == \">\" + pep:\n",
    "                break\n",
    "        pepstr = \"\"\n",
    "        for line in pepfile:\n",
    "            if line[0] == \">\":\n",
    "                break\n",
    "            pepstr += line.strip()\n",
    "    return pepstr"
   ]
  },
  {
   "cell_type": "code",
   "execution_count": 5,
   "metadata": {
    "scrolled": true,
    "slideshow": {
     "slide_type": "slide"
    }
   },
   "outputs": [
    {
     "data": {
      "text/plain": [
       "'MSAEDLFTIQILCDQIELKLASIVINSNIKLQLKRKKKTQQL*'"
      ]
     },
     "execution_count": 5,
     "metadata": {},
     "output_type": "execute_result"
    }
   ],
   "source": [
    "pepstr = pep_search(peppath,\"SPMTR.03\")\n",
    "pepstr"
   ]
  },
  {
   "cell_type": "code",
   "execution_count": 6,
   "metadata": {
    "slideshow": {
     "slide_type": "fragment"
    }
   },
   "outputs": [
    {
     "name": "stdout",
     "output_type": "stream",
     "text": [
      "MKRVAVLLKTVMCEFLKCDYNGYDRIISLLRRILTLICTPNLNGLTIKRVIDSMQSLEYI\r\n",
      "KQTCNFKLQMCISSMAFKRNNALQNCNHYAWCDDHCSDIGRPMTTVRGQCSKCTKPHLMR\r\n",
      "WLLLHYDNPYPSNSEFYDLSAATGLTRTQLRNWFSNRRR*\r\n",
      ">SPMTR.03:pep\r\n",
      "MSAEDLFTIQILCDQIELKLASIVINSNIKLQLKRKKKTQQL*\r\n",
      ">SPMTR.04:pep\r\n",
      "MDSHQELSAGSPISYDFLDPDWCFKRYLTKDALHSIETGKGAAYFVPDGFTPILIPNSQS\r\n",
      "YLLDGNSAQLPRPQPISFTLDQCKVPGYILKSLRKDTTSTERTPRPPNAFILYRKEKHAT\r\n",
      "LLKSNPSINNSQVSKLVGEMWRNESKEVRMRYFKMSEFYKAQHQKMYPGYKYQPRKNKVK\r\n",
      "R*\r\n"
     ]
    }
   ],
   "source": [
    "!tail data/peptide.fa"
   ]
  },
  {
   "cell_type": "code",
   "execution_count": 7,
   "metadata": {
    "slideshow": {
     "slide_type": "slide"
    }
   },
   "outputs": [],
   "source": [
    "def pep_search_fullread(filename,pep):\n",
    "    with open(filename,'r') as pepfile:\n",
    "        pepread = pepfile.read()\n",
    "    pepiter = iter(pepread.split(\"\\n\"))\n",
    "    for line in pepiter:\n",
    "        if line[:(len(pep)+1)] == \">\" + pep:\n",
    "            break\n",
    "    pepstr = \"\"\n",
    "    for line in pepiter:\n",
    "        if line[0] == \">\":\n",
    "            break\n",
    "        pepstr += line.strip()\n",
    "    return pepstr"
   ]
  },
  {
   "cell_type": "code",
   "execution_count": 8,
   "metadata": {
    "slideshow": {
     "slide_type": "slide"
    }
   },
   "outputs": [
    {
     "data": {
      "text/plain": [
       "'MSAEDLFTIQILCDQIELKLASIVINSNIKLQLKRKKKTQQL*'"
      ]
     },
     "execution_count": 8,
     "metadata": {},
     "output_type": "execute_result"
    }
   ],
   "source": [
    "pep_search_fullread(peppath,\"SPMTR.03\")"
   ]
  },
  {
   "cell_type": "markdown",
   "metadata": {
    "slideshow": {
     "slide_type": "slide"
    }
   },
   "source": [
    "## Profiling with IPython\n",
    "\n",
    "- %time: Time the execution of a single statement\n",
    "- %timeit: Time repeated execution of a single statement for more accuracy\n",
    "- %prun: Run code with the profiler\n",
    "- %memit: Measure the memory use of a single statement, requires %load_ext memory_profiler in IPython"
   ]
  },
  {
   "cell_type": "code",
   "execution_count": 9,
   "metadata": {
    "slideshow": {
     "slide_type": "slide"
    }
   },
   "outputs": [
    {
     "name": "stdout",
     "output_type": "stream",
     "text": [
      "peak memory: 57.84 MiB, increment: 0.03 MiB\n",
      "CPU times: user 57.4 ms, sys: 5.06 ms, total: 62.5 ms\n",
      "Wall time: 172 ms\n"
     ]
    }
   ],
   "source": [
    "%time %memit pepstr = pep_search(peppath,\"SPMTR.03\")"
   ]
  },
  {
   "cell_type": "code",
   "execution_count": 10,
   "metadata": {
    "slideshow": {
     "slide_type": "fragment"
    }
   },
   "outputs": [
    {
     "name": "stdout",
     "output_type": "stream",
     "text": [
      "peak memory: 66.88 MiB, increment: 9.04 MiB\n",
      "CPU times: user 46 ms, sys: 19.9 ms, total: 65.9 ms\n",
      "Wall time: 172 ms\n"
     ]
    }
   ],
   "source": [
    "%time %memit pepstr = pep_search_fullread(peppath,\"SPMTR.03\")"
   ]
  },
  {
   "cell_type": "code",
   "execution_count": 13,
   "metadata": {
    "slideshow": {
     "slide_type": "slide"
    }
   },
   "outputs": [],
   "source": [
    "def pep_search(filename,pep):\n",
    "    with open(filename,'r') as pepfile:\n",
    "        pep_len = len(pep) + 1\n",
    "        for line in pepfile:\n",
    "            if line[:pep_len] == \">\" + pep:\n",
    "                break\n",
    "        pepstr = \"\"\n",
    "        for line in pepfile:\n",
    "            if line[0] == \">\":\n",
    "                break\n",
    "            pepstr += line.strip()\n",
    "    return pepstr"
   ]
  },
  {
   "cell_type": "code",
   "execution_count": 15,
   "metadata": {
    "slideshow": {
     "slide_type": "fragment"
    }
   },
   "outputs": [],
   "source": [
    "def pep_reader(filename='data/peptide.fa'):\n",
    "    with open(filename,'r') as pepfile:\n",
    "        pepname = False # start of file\n",
    "        for line in pepfile: \n",
    "            if line[0] == '>': # check for prot id line\n",
    "                if pepname:\n",
    "                    yield (pepname,pepseq) # if not first output protein\n",
    "                pepname = line.split(':')[0][1:] # get the id\n",
    "                pepseq = \"\" # init seq\n",
    "            else:\n",
    "                pepseq += line.strip() # append to seq"
   ]
  },
  {
   "cell_type": "code",
   "execution_count": 16,
   "metadata": {
    "slideshow": {
     "slide_type": "slide"
    }
   },
   "outputs": [
    {
     "data": {
      "text/plain": [
       "['SPAC1002.01',\n",
       " 'SPAC1002.02',\n",
       " 'SPAC1002.03c',\n",
       " 'SPAC1002.04c',\n",
       " 'SPAC1002.05c',\n",
       " 'SPAC1002.06c',\n",
       " 'SPAC1002.07c',\n",
       " 'SPAC1002.08c',\n",
       " 'SPAC1002.09c',\n",
       " 'SPAC1002.10c']"
      ]
     },
     "execution_count": 16,
     "metadata": {},
     "output_type": "execute_result"
    }
   ],
   "source": [
    "pep = pep_reader()\n",
    "pepdict = {k:v for k,v in pep}\n",
    "[k for i,k in enumerate(pepdict.keys()) if i < 10] # first 10 keys"
   ]
  },
  {
   "cell_type": "markdown",
   "metadata": {
    "slideshow": {
     "slide_type": "slide"
    }
   },
   "source": [
    "## Data structures\n",
    "\n",
    "- Strategically arrange the data in memory (primary, secondary, or tertiary)\n",
    "- The data structure can be specific to the data type, for example dictionary keys need to be hashable (str, int)\n",
    "- Optimized for certain operations, insertion, deletion, indexing (lookup), etc.\n",
    "- measure complexity of operation by roughly number of basic operations required, $O(n)$ means less than $Cn$ for some constant $C$. \n",
    "\n",
    "### Python Lists\n",
    "- Array data structure: data are indexed by non-negative integers\n",
    "- Insertion at beginning is $O(n)$, insertion at end is $O(1)$\n",
    "- To find an index with a certain value (reverse lookup) takes $O(n)$ time"
   ]
  },
  {
   "cell_type": "markdown",
   "metadata": {
    "slideshow": {
     "slide_type": "slide"
    }
   },
   "source": [
    "## Dictionaries form hash tables\n",
    "\n",
    "- a hash function is used to give the keys integer ids (probably unique but maybe not)\n",
    "- a hash table maps these ids to values\n",
    "\n",
    "![](https://upload.wikimedia.org/wikipedia/commons/thumb/7/7d/Hash_table_3_1_1_0_1_0_0_SP.svg/315px-Hash_table_3_1_1_0_1_0_0_SP.svg.png)\n",
    "*image from wikipedia"
   ]
  },
  {
   "cell_type": "code",
   "execution_count": 17,
   "metadata": {
    "slideshow": {
     "slide_type": "slide"
    }
   },
   "outputs": [
    {
     "data": {
      "text/plain": [
       "'MLPPTIRISGLAKTLHIPSRSPLQALKGSFILLNKRKFHYSPFILQEKVQSSNHTIRSDTKLWKRLLKITGKQAHQFKDKPFSHIFAFLFLHELSAILPLPIFFFIFHSLDWTPTGLPGEYLQKGSHVAASIFAKLGYNLPLEKVSKTLLDGAAAYAVVKVSYFVENNMVSSTRPFVSN*'"
      ]
     },
     "execution_count": 17,
     "metadata": {},
     "output_type": "execute_result"
    }
   ],
   "source": [
    "pepdict['SPAC1002.01'] # select element"
   ]
  },
  {
   "cell_type": "code",
   "execution_count": 18,
   "metadata": {
    "slideshow": {
     "slide_type": "fragment"
    }
   },
   "outputs": [
    {
     "data": {
      "text/plain": [
       "-2508259212812006471"
      ]
     },
     "execution_count": 18,
     "metadata": {},
     "output_type": "execute_result"
    }
   ],
   "source": [
    "hash('SPAC1002.01') # the hash value"
   ]
  },
  {
   "cell_type": "code",
   "execution_count": 19,
   "metadata": {
    "slideshow": {
     "slide_type": "slide"
    }
   },
   "outputs": [],
   "source": [
    "pep = pep_reader() # init again\n",
    "prot_ids, prot_seqs = zip(*pep) # make 2 lists\n",
    "prot_ids = list(prot_ids)\n",
    "prot_seqs = list(prot_seqs)"
   ]
  },
  {
   "cell_type": "code",
   "execution_count": 20,
   "metadata": {
    "slideshow": {
     "slide_type": "slide"
    }
   },
   "outputs": [],
   "source": [
    "lastid = prot_ids[-1] # select last id"
   ]
  },
  {
   "cell_type": "code",
   "execution_count": 21,
   "metadata": {
    "slideshow": {
     "slide_type": "fragment"
    }
   },
   "outputs": [
    {
     "name": "stdout",
     "output_type": "stream",
     "text": [
      "CPU times: user 46 µs, sys: 8 µs, total: 54 µs\n",
      "Wall time: 57 µs\n"
     ]
    },
    {
     "data": {
      "text/plain": [
       "'MSAEDLFTIQILCDQIELKLASIVINSNIKLQLKRKKKTQQL*'"
      ]
     },
     "execution_count": 21,
     "metadata": {},
     "output_type": "execute_result"
    }
   ],
   "source": [
    "%time prot_seqs[prot_ids.index(lastid)] # time selecting using list.index"
   ]
  },
  {
   "cell_type": "code",
   "execution_count": 22,
   "metadata": {
    "slideshow": {
     "slide_type": "fragment"
    }
   },
   "outputs": [
    {
     "name": "stdout",
     "output_type": "stream",
     "text": [
      "CPU times: user 2 µs, sys: 0 ns, total: 2 µs\n",
      "Wall time: 3.81 µs\n"
     ]
    },
    {
     "data": {
      "text/plain": [
       "'MSAEDLFTIQILCDQIELKLASIVINSNIKLQLKRKKKTQQL*'"
      ]
     },
     "execution_count": 22,
     "metadata": {},
     "output_type": "execute_result"
    }
   ],
   "source": [
    "%time pepdict[lastid] # time select using dict"
   ]
  },
  {
   "cell_type": "markdown",
   "metadata": {
    "slideshow": {
     "slide_type": "slide"
    }
   },
   "source": [
    "## Regular expressions (regex)\n",
    "\n",
    "- syntax for representing patterns in text\n",
    "- descriptive language (like SQL, HTML, markdown)\n",
    "\n",
    "- metacharacter: matches a character or set of characters\n",
    "- escape: \\ escapes special chars or indicate special forms\n",
    "- qualifiers: specify the number and place of matches\n",
    "- concatenation: regex A and B are concatenated by AB"
   ]
  },
  {
   "cell_type": "code",
   "execution_count": 23,
   "metadata": {
    "slideshow": {
     "slide_type": "slide"
    }
   },
   "outputs": [
    {
     "data": {
      "text/plain": [
       "(<re.Match object; span=(0, 1), match='a'>, None, None)"
      ]
     },
     "execution_count": 23,
     "metadata": {},
     "output_type": "execute_result"
    }
   ],
   "source": [
    "## Using the re package\n",
    "\n",
    "import re\n",
    "\n",
    "alpha = re.compile('a')\n",
    "alpha.match('a'), alpha.match('A'), alpha.match('hello')"
   ]
  },
  {
   "cell_type": "markdown",
   "metadata": {
    "slideshow": {
     "slide_type": "slide"
    }
   },
   "source": [
    "- match() : determine if the RE matches at the beginning of the string.\n",
    "- search() : scan through a string, looking for any location where this RE matches.\n",
    "- findall() : find all substrings where the RE matches, and returns them as a list.\n",
    "- finditer() : find all substrings where the RE matches, and returns them as an iterator."
   ]
  },
  {
   "cell_type": "markdown",
   "metadata": {
    "slideshow": {
     "slide_type": "slide"
    }
   },
   "source": [
    "[ ] specifies character classes (sets of characters)"
   ]
  },
  {
   "cell_type": "code",
   "execution_count": 24,
   "metadata": {
    "slideshow": {
     "slide_type": "fragment"
    }
   },
   "outputs": [
    {
     "data": {
      "text/plain": [
       "(<re.Match object; span=(0, 1), match='a'>,\n",
       " None,\n",
       " <re.Match object; span=(0, 1), match='h'>)"
      ]
     },
     "execution_count": 24,
     "metadata": {},
     "output_type": "execute_result"
    }
   ],
   "source": [
    "alpha = re.compile('[a-z]')\n",
    "alpha.match('a'), alpha.match('A'), alpha.match('hello')\n",
    "# matching is greedy"
   ]
  },
  {
   "cell_type": "code",
   "execution_count": 25,
   "metadata": {
    "slideshow": {
     "slide_type": "slide"
    }
   },
   "outputs": [
    {
     "data": {
      "text/plain": [
       "'\\n\\\\ escapes characters\\n\\n\\' single quote\\n\" double quote\\n\\\\ backslash\\n\\n new line\\n\\r carriage return\\n\\t tab\\n'"
      ]
     },
     "execution_count": 25,
     "metadata": {},
     "output_type": "execute_result"
    }
   ],
   "source": [
    "\"\"\"\n",
    "\\ escapes characters\n",
    "\n",
    "\\' single quote\n",
    "\\\" double quote\n",
    "\\\\ backslash\n",
    "\\n new line\n",
    "\\r carriage return\n",
    "\\t tab\n",
    "\"\"\""
   ]
  },
  {
   "cell_type": "code",
   "execution_count": 26,
   "metadata": {
    "slideshow": {
     "slide_type": "slide"
    }
   },
   "outputs": [
    {
     "data": {
      "text/plain": [
       "'\\n\\\\d any decimal digit; [0-9].\\n\\\\D any non-digit character; [^0-9].\\n\\\\s any whitespace character; [ \\t\\n\\r\\x0c\\x0b].\\n\\\\S any non-whitespace character; [^ \\t\\n\\r\\x0c\\x0b].\\n\\\\w any alphanumeric character; [a-zA-Z0-9_].\\n\\\\W any non-alphanumeric character; [^a-zA-Z0-9_].\\n'"
      ]
     },
     "execution_count": 26,
     "metadata": {},
     "output_type": "execute_result"
    }
   ],
   "source": [
    "\"\"\"\n",
    "\\d any decimal digit; [0-9].\n",
    "\\D any non-digit character; [^0-9].\n",
    "\\s any whitespace character; [ \\t\\n\\r\\f\\v].\n",
    "\\S any non-whitespace character; [^ \\t\\n\\r\\f\\v].\n",
    "\\w any alphanumeric character; [a-zA-Z0-9_].\n",
    "\\W any non-alphanumeric character; [^a-zA-Z0-9_].\n",
    "\"\"\""
   ]
  },
  {
   "cell_type": "code",
   "execution_count": 27,
   "metadata": {
    "slideshow": {
     "slide_type": "slide"
    }
   },
   "outputs": [
    {
     "data": {
      "text/plain": [
       "(None, <re.Match object; span=(0, 2), match='5\\n'>, None)"
      ]
     },
     "execution_count": 27,
     "metadata": {},
     "output_type": "execute_result"
    }
   ],
   "source": [
    "alpha = re.compile('\\d\\n')\n",
    "alpha.match('5'), alpha.match('5\\n'), alpha.match('five')"
   ]
  },
  {
   "cell_type": "code",
   "execution_count": 28,
   "metadata": {
    "slideshow": {
     "slide_type": "slide"
    }
   },
   "outputs": [
    {
     "data": {
      "text/plain": [
       "(<re.Match object; span=(0, 1), match='5'>,\n",
       " None,\n",
       " <re.Match object; span=(0, 1), match='1'>)"
      ]
     },
     "execution_count": 28,
     "metadata": {},
     "output_type": "execute_result"
    }
   ],
   "source": [
    "## Complement set with ^ in []\n",
    "\n",
    "alpha = re.compile('[^432a-z]')\n",
    "alpha.match('5'), alpha.match('abs'), alpha.match('1hat')"
   ]
  },
  {
   "cell_type": "code",
   "execution_count": 29,
   "metadata": {
    "slideshow": {
     "slide_type": "slide"
    }
   },
   "outputs": [
    {
     "data": {
      "text/plain": [
       "(<re.Match object; span=(0, 5), match='a.com'>,\n",
       " <re.Match object; span=(0, 5), match='e.com'>,\n",
       " None)"
      ]
     },
     "execution_count": 29,
     "metadata": {},
     "output_type": "execute_result"
    }
   ],
   "source": [
    "## . is a wildcard for any literal char\n",
    "\n",
    "alpha = re.compile('.\\.com')\n",
    "alpha.match('a.com'), alpha.match('e.com'), alpha.match('com.org')"
   ]
  },
  {
   "cell_type": "code",
   "execution_count": 30,
   "metadata": {
    "slideshow": {
     "slide_type": "slide"
    }
   },
   "outputs": [
    {
     "data": {
      "text/plain": [
       "(<re.Match object; span=(0, 0), match=''>,\n",
       " <re.Match object; span=(0, 2), match='an'>,\n",
       " <re.Match object; span=(0, 0), match=''>)"
      ]
     },
     "execution_count": 30,
     "metadata": {},
     "output_type": "execute_result"
    }
   ],
   "source": [
    "## * match 0 or more repetitions of the preceding regex\n",
    "## () groups the metachars as regex\n",
    "\n",
    "alpha = re.compile('(an)*')\n",
    "alpha.match('banana'), alpha.match('an apple'), alpha.match('na no apple')"
   ]
  },
  {
   "cell_type": "code",
   "execution_count": 31,
   "metadata": {
    "slideshow": {
     "slide_type": "slide"
    }
   },
   "outputs": [
    {
     "data": {
      "text/plain": [
       "(None, <re.Match object; span=(0, 2), match='an'>, None)"
      ]
     },
     "execution_count": 31,
     "metadata": {},
     "output_type": "execute_result"
    }
   ],
   "source": [
    "## + match 1 or more repetitions of the preceding regex\n",
    "\n",
    "alpha = re.compile('(an)+')\n",
    "alpha.match('banana'), alpha.match('an apple'), alpha.match('na no apple')"
   ]
  },
  {
   "cell_type": "code",
   "execution_count": 32,
   "metadata": {
    "slideshow": {
     "slide_type": "slide"
    }
   },
   "outputs": [
    {
     "data": {
      "text/plain": [
       "(None,\n",
       " <re.Match object; span=(0, 2), match='no'>,\n",
       " <re.Match object; span=(0, 2), match='na'>)"
      ]
     },
     "execution_count": 32,
     "metadata": {},
     "output_type": "execute_result"
    }
   ],
   "source": [
    "## ? match 0 or 1 repetitions of the preceding regex\n",
    "\n",
    "alpha = re.compile('n[ao]?')\n",
    "alpha.match('banana'), alpha.match('noah\\'s apple'), alpha.match('na no apple')"
   ]
  },
  {
   "cell_type": "code",
   "execution_count": 33,
   "metadata": {
    "slideshow": {
     "slide_type": "slide"
    }
   },
   "outputs": [
    {
     "data": {
      "text/plain": [
       "(<re.Match object; span=(0, 4), match='BARN'>,\n",
       " <re.Match object; span=(0, 4), match='2002'>,\n",
       " None)"
      ]
     },
     "execution_count": 33,
     "metadata": {},
     "output_type": "execute_result"
    }
   ],
   "source": [
    "# {m} exactly m repetitions\n",
    "# {m,n} between m and n repetitions\n",
    "# | or , ^ $ beginning end of string\n",
    "\n",
    "alpha = re.compile('^[A-Z]+|[0-9]{4}$')\n",
    "alpha.match('BARN'), alpha.match('2002'), alpha.match('2002 BARNS')"
   ]
  },
  {
   "cell_type": "code",
   "execution_count": 34,
   "metadata": {
    "slideshow": {
     "slide_type": "slide"
    }
   },
   "outputs": [],
   "source": [
    "email = re.compile(\"^[a-zA-Z0-9_.+-]+@[a-zA-Z0-9-]+\\.[a-zA-Z0-9-.]{2,4}$\")"
   ]
  },
  {
   "cell_type": "code",
   "execution_count": 35,
   "metadata": {
    "slideshow": {
     "slide_type": "fragment"
    }
   },
   "outputs": [
    {
     "data": {
      "text/plain": [
       "<re.Match object; span=(0, 20), match='jsharpna@ucdavis.edu'>"
      ]
     },
     "execution_count": 35,
     "metadata": {},
     "output_type": "execute_result"
    }
   ],
   "source": [
    "email.match('jsharpna@ucdavis.edu')"
   ]
  },
  {
   "cell_type": "code",
   "execution_count": 36,
   "metadata": {
    "slideshow": {
     "slide_type": "fragment"
    }
   },
   "outputs": [
    {
     "data": {
      "text/plain": [
       "<re.Match object; span=(0, 7), match='j@j.edu'>"
      ]
     },
     "execution_count": 36,
     "metadata": {},
     "output_type": "execute_result"
    }
   ],
   "source": [
    "email.match('j@j.edu')"
   ]
  },
  {
   "cell_type": "code",
   "execution_count": 37,
   "metadata": {
    "slideshow": {
     "slide_type": "fragment"
    }
   },
   "outputs": [],
   "source": [
    "email.match('jsharpna@ucdavis.elevator')"
   ]
  },
  {
   "cell_type": "code",
   "execution_count": 38,
   "metadata": {
    "slideshow": {
     "slide_type": "slide"
    }
   },
   "outputs": [],
   "source": [
    "valid = [\"email@example.com\",\n",
    "\"firstname.lastname@example.com\",\n",
    "\"email@subdomain.example.com\",\n",
    "\"firstname+lastname@example.com\",\n",
    "\"email@123.123.123.123\",\n",
    "\"email@[123.123.123.123]\",\n",
    "\"\\\"email\\\"@example.com\",\n",
    "\"1234567890@example.com\",\n",
    "\"email@example-one.com\",\n",
    "\"_______@example.com\"]"
   ]
  },
  {
   "cell_type": "code",
   "execution_count": 39,
   "metadata": {
    "slideshow": {
     "slide_type": "slide"
    }
   },
   "outputs": [
    {
     "name": "stdout",
     "output_type": "stream",
     "text": [
      "email@subdomain.example.com\n",
      "email@123.123.123.123\n",
      "email@[123.123.123.123]\n",
      "\"email\"@example.com\n"
     ]
    }
   ],
   "source": [
    "for em in valid:\n",
    "    if not email.match(em):\n",
    "        print(em)"
   ]
  }
 ],
 "metadata": {
  "celltoolbar": "Slideshow",
  "kernelspec": {
   "display_name": "Python 3 (ipykernel)",
   "language": "python",
   "name": "python3"
  },
  "language_info": {
   "codemirror_mode": {
    "name": "ipython",
    "version": 3
   },
   "file_extension": ".py",
   "mimetype": "text/x-python",
   "name": "python",
   "nbconvert_exporter": "python",
   "pygments_lexer": "ipython3",
   "version": "3.8.10"
  }
 },
 "nbformat": 4,
 "nbformat_minor": 2
}
