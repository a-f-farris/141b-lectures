{
 "cells": [
  {
   "cell_type": "markdown",
   "metadata": {
    "slideshow": {
     "slide_type": "slide"
    }
   },
   "source": [
    "## STA 141B Lecture 9\n",
    "\n",
    "## Part 1 Numpy and Vectorization\n"
   ]
  },
  {
   "cell_type": "markdown",
   "metadata": {
    "slideshow": {
     "slide_type": "slide"
    }
   },
   "source": [
    "### Vectorization\n",
    "\n",
    "- Numpy is matrix algebra package in Python\n",
    "- Vectorization means converting an algorithm into matrix operations to speed it up\n",
    " - Python is slow: it is Just-in-time compiled (JIT)\n",
    " - C is fast: it is compiled and variables have static type\n",
    " - Vectorization just means that we notice that an operation has a recognizable form and we use the precompiled code for that operation\n",
    "- basic operation: dot product between $n \\times n$ matrices $A,B$\n",
    "\n",
    "$$ (AB)_{ij} = \\sum_{k=1}^n A_{ik} B_{kj}$$"
   ]
  },
  {
   "cell_type": "markdown",
   "metadata": {
    "slideshow": {
     "slide_type": "slide"
    }
   },
   "source": [
    "Pseudocode takes $O(n^3)$ time...\n",
    "\n",
    "```\n",
    "For i=1,...,n:\n",
    "  For j=1,...,n:\n",
    "    Init C[i,j] = 0\n",
    "    For k=1,...,n:\n",
    "      C[i,j] += A[i,k] B[k,j]\n",
    "```\n",
    "\n",
    "In Python nested for loops are slow, in C they are fast (compiled, static typed)\n",
    "\n",
    "Conclusion: implement in C, import in Python"
   ]
  },
  {
   "cell_type": "code",
   "execution_count": 1,
   "metadata": {
    "slideshow": {
     "slide_type": "slide"
    }
   },
   "outputs": [],
   "source": [
    "import numpy as np\n",
    "data_folder = 'data/'\n",
    "seeds = np.loadtxt(data_folder + 'seeds_dataset.txt',dtype=np.float64)"
   ]
  },
  {
   "cell_type": "markdown",
   "metadata": {
    "slideshow": {
     "slide_type": "slide"
    }
   },
   "source": [
    "Column meanings for the seeds dataset:\n",
    "1. area A, \n",
    "2. perimeter P, \n",
    "3. compactness $C = 4\\pi A/P^2$, \n",
    "4. length of kernel, \n",
    "5. width of kernel, \n",
    "6. asymmetry coefficient \n",
    "7. length of kernel groove."
   ]
  },
  {
   "cell_type": "code",
   "execution_count": 2,
   "metadata": {
    "slideshow": {
     "slide_type": "slide"
    }
   },
   "outputs": [
    {
     "name": "stdout",
     "output_type": "stream",
     "text": [
      "type:\t<class 'numpy.ndarray'>\n",
      "ndim:\t2\n",
      "shape:\t(210, 8)\n",
      "size:\t1680\n",
      "dtype:\tfloat64\n"
     ]
    }
   ],
   "source": [
    "n,p = seeds.shape #Remember tuple unpacking!\n",
    "print(\"type:\\t{}\\nndim:\\t{}\\nshape:\\t{}\\nsize:\\t{}\\ndtype:\\t{}\".format(\n",
    "    type(seeds),seeds.ndim,seeds.shape,seeds.size,seeds.dtype))"
   ]
  },
  {
   "cell_type": "code",
   "execution_count": 3,
   "metadata": {
    "slideshow": {
     "slide_type": "slide"
    }
   },
   "outputs": [
    {
     "name": "stdout",
     "output_type": "stream",
     "text": [
      "(8, 210)\n",
      "[[15.26   14.88   14.29   ... 13.2    11.84   12.3   ]\n",
      " [14.84   14.57   14.09   ... 13.66   13.21   13.34  ]\n",
      " [ 0.871   0.8811  0.905  ...  0.8883  0.8521  0.8684]\n",
      " ...\n",
      " [ 2.221   1.018   2.699  ...  8.315   3.598   5.637 ]\n",
      " [ 5.22    4.956   4.825  ...  5.056   5.044   5.063 ]\n",
      " [ 1.      1.      1.     ...  3.      3.      3.    ]]\n"
     ]
    }
   ],
   "source": [
    "## Transpose\n",
    "print(seeds.T.shape)\n",
    "print(seeds.T)"
   ]
  },
  {
   "cell_type": "code",
   "execution_count": 4,
   "metadata": {
    "slideshow": {
     "slide_type": "slide"
    }
   },
   "outputs": [],
   "source": [
    "rowsum = seeds.T @ np.ones(n)  # sum the rows\n",
    "colsum = seeds @ np.ones(p)   # sum the columns"
   ]
  },
  {
   "cell_type": "code",
   "execution_count": 5,
   "metadata": {
    "slideshow": {
     "slide_type": "fragment"
    }
   },
   "outputs": [],
   "source": [
    "rowsum = seeds.sum(axis=0)\n",
    "colsum = seeds.sum(axis=1)"
   ]
  },
  {
   "cell_type": "code",
   "execution_count": 6,
   "metadata": {
    "slideshow": {
     "slide_type": "slide"
    }
   },
   "outputs": [],
   "source": [
    "def mult_ones(seeds):\n",
    "    output = [0.]*p\n",
    "    for row in seeds: #arrays are iterable and return the rows\n",
    "        for i in range(p):\n",
    "            output[i] += row[i]\n",
    "    return output"
   ]
  },
  {
   "cell_type": "code",
   "execution_count": 7,
   "metadata": {
    "slideshow": {
     "slide_type": "slide"
    }
   },
   "outputs": [
    {
     "name": "stdout",
     "output_type": "stream",
     "text": [
      "CPU times: user 2.02 ms, sys: 1.9 ms, total: 3.92 ms\n",
      "Wall time: 503 µs\n"
     ]
    }
   ],
   "source": [
    "%time output = mult_ones(seeds)"
   ]
  },
  {
   "cell_type": "code",
   "execution_count": 8,
   "metadata": {
    "slideshow": {
     "slide_type": "fragment"
    }
   },
   "outputs": [
    {
     "name": "stdout",
     "output_type": "stream",
     "text": [
      "CPU times: user 213 µs, sys: 219 µs, total: 432 µs\n",
      "Wall time: 56.3 µs\n"
     ]
    }
   ],
   "source": [
    "%time output = seeds.T @ np.ones(n)"
   ]
  },
  {
   "cell_type": "code",
   "execution_count": 9,
   "metadata": {
    "slideshow": {
     "slide_type": "fragment"
    }
   },
   "outputs": [
    {
     "name": "stdout",
     "output_type": "stream",
     "text": [
      "CPU times: user 218 µs, sys: 242 µs, total: 460 µs\n",
      "Wall time: 87.7 µs\n"
     ]
    }
   ],
   "source": [
    "%time output = seeds.sum(axis=0)"
   ]
  },
  {
   "cell_type": "markdown",
   "metadata": {
    "slideshow": {
     "slide_type": "slide"
    }
   },
   "source": [
    "### Matrix Operations"
   ]
  },
  {
   "cell_type": "code",
   "execution_count": 10,
   "metadata": {
    "slideshow": {
     "slide_type": "fragment"
    }
   },
   "outputs": [],
   "source": [
    "## Some elementwise operations\n",
    "decseeds = seeds/10.0 \n",
    "mulseeds = 15*seeds - 1."
   ]
  },
  {
   "cell_type": "code",
   "execution_count": 11,
   "metadata": {
    "slideshow": {
     "slide_type": "fragment"
    }
   },
   "outputs": [],
   "source": [
    "## Elementwise functions\n",
    "declog = np.log(decseeds)\n",
    "decexp = np.exp(decseeds)\n",
    "decrt  = np.sqrt(decseeds)"
   ]
  },
  {
   "cell_type": "code",
   "execution_count": 12,
   "metadata": {
    "slideshow": {
     "slide_type": "slide"
    }
   },
   "outputs": [
    {
     "data": {
      "text/plain": [
       "((210, 1), (210, 8))"
      ]
     },
     "execution_count": 12,
     "metadata": {},
     "output_type": "execute_result"
    }
   ],
   "source": [
    "ratvec = seeds[:,4] / seeds[:,5]\n",
    "ratvec = ratvec.reshape((n,1))\n",
    "seeds_rat = np.concatenate((seeds,ratvec), axis=-1)\n",
    "ratvec.shape, seeds.shape"
   ]
  },
  {
   "cell_type": "code",
   "execution_count": 13,
   "metadata": {
    "slideshow": {
     "slide_type": "slide"
    }
   },
   "outputs": [],
   "source": [
    "everyten = seeds[0:n:10,:]\n",
    "seeds_ten = np.concatenate((seeds,everyten), axis=0)"
   ]
  },
  {
   "cell_type": "code",
   "execution_count": 14,
   "metadata": {
    "slideshow": {
     "slide_type": "fragment"
    }
   },
   "outputs": [
    {
     "name": "stdout",
     "output_type": "stream",
     "text": [
      "sum: 10557.3759\n",
      "mean: 6.284152321428571\n",
      "min: 0.7651\n",
      "max: 21.18\n"
     ]
    }
   ],
   "source": [
    "print(\"sum: {}\\nmean: {}\\nmin: {}\\nmax: {}\".format(\n",
    "    seeds.sum(), seeds.mean(), seeds.min(), seeds.max()))"
   ]
  },
  {
   "cell_type": "code",
   "execution_count": 15,
   "metadata": {
    "slideshow": {
     "slide_type": "slide"
    }
   },
   "outputs": [
    {
     "name": "stdout",
     "output_type": "stream",
     "text": [
      "sum: [3117.98   3057.45    182.9097 1181.992   684.307   777.0422 1135.695\n",
      "  420.    ]\n",
      "mean: [14.84752381 14.55928571  0.87099857  5.62853333  3.25860476  3.70020095\n",
      "  5.40807143  2.        ]\n",
      "min: [10.59   12.41    0.8081  4.899   2.63    0.7651  4.519   1.    ]\n",
      "max: [21.18   17.25    0.9183  6.675   4.033   8.456   6.55    3.    ]\n"
     ]
    }
   ],
   "source": [
    "print(\"sum: {}\\nmean: {}\\nmin: {}\\nmax: {}\".format(\n",
    "    seeds.sum(axis=0), seeds.mean(axis=0), \n",
    "    seeds.min(axis=0), seeds.max(axis=0)))"
   ]
  },
  {
   "cell_type": "markdown",
   "metadata": {
    "slideshow": {
     "slide_type": "slide"
    }
   },
   "source": [
    "## Array Broadcasting\n",
    "\n",
    "### When two matrices of different shapes are compared/multiplied/etc.\n",
    "\n",
    "### Rules...\n",
    "- add 1s to shape (left or right) until match\n",
    "- replicate right axis until match"
   ]
  },
  {
   "cell_type": "code",
   "execution_count": 16,
   "metadata": {
    "slideshow": {
     "slide_type": "fragment"
    }
   },
   "outputs": [
    {
     "data": {
      "text/plain": [
       "(8,)"
      ]
     },
     "execution_count": 16,
     "metadata": {},
     "output_type": "execute_result"
    }
   ],
   "source": [
    "ssum = seeds.sum(axis=0)\n",
    "ssum.shape"
   ]
  },
  {
   "cell_type": "code",
   "execution_count": 17,
   "metadata": {
    "slideshow": {
     "slide_type": "fragment"
    }
   },
   "outputs": [
    {
     "data": {
      "text/plain": [
       "array([[0., 0., 0., 0., 0., 0., 0., 0.]])"
      ]
     },
     "execution_count": 17,
     "metadata": {},
     "output_type": "execute_result"
    }
   ],
   "source": [
    "## compare an array and a vector (or just lower dimensional array)\n",
    "## pad 1 to the first axis\n",
    "ssum - ssum.reshape((1,8))"
   ]
  },
  {
   "cell_type": "code",
   "execution_count": 18,
   "metadata": {
    "slideshow": {
     "slide_type": "slide"
    }
   },
   "outputs": [],
   "source": [
    "## Center the variable\n",
    "## Replicates the lower dim array\n",
    "seeds_center = seeds - seeds.mean(axis=0)"
   ]
  },
  {
   "cell_type": "code",
   "execution_count": 19,
   "metadata": {
    "slideshow": {
     "slide_type": "fragment"
    }
   },
   "outputs": [
    {
     "data": {
      "text/plain": [
       "((210, 8), (8,))"
      ]
     },
     "execution_count": 19,
     "metadata": {},
     "output_type": "execute_result"
    }
   ],
   "source": [
    "seeds.shape, seeds.mean(axis=0).shape"
   ]
  },
  {
   "cell_type": "markdown",
   "metadata": {
    "slideshow": {
     "slide_type": "slide"
    }
   },
   "source": [
    "## Matrix slicing, Views, Copies"
   ]
  },
  {
   "cell_type": "code",
   "execution_count": 20,
   "metadata": {
    "slideshow": {
     "slide_type": "fragment"
    }
   },
   "outputs": [
    {
     "name": "stdout",
     "output_type": "stream",
     "text": [
      "[[3.242 4.543]\n",
      " [3.201 1.717]]\n"
     ]
    }
   ],
   "source": [
    "seeds_copy = seeds.copy() #this will be explained later\n",
    "print(seeds_copy[10:12,4:6])"
   ]
  },
  {
   "cell_type": "code",
   "execution_count": 21,
   "metadata": {
    "slideshow": {
     "slide_type": "slide"
    }
   },
   "outputs": [
    {
     "name": "stdout",
     "output_type": "stream",
     "text": [
      "-11.0\n"
     ]
    }
   ],
   "source": [
    "A = seeds_copy\n",
    "A[1,1] = -11\n",
    "print(seeds_copy[1,1])"
   ]
  },
  {
   "cell_type": "code",
   "execution_count": 22,
   "metadata": {
    "slideshow": {
     "slide_type": "slide"
    }
   },
   "outputs": [
    {
     "name": "stdout",
     "output_type": "stream",
     "text": [
      "[[14.29 14.09]\n",
      " [15.69 14.75]\n",
      " [18.98 16.57]]\n"
     ]
    }
   ],
   "source": [
    "## Fancy Indexing\n",
    "## Boolean and list indexing\n",
    "myrows = [2,17,97]\n",
    "print(seeds_copy[myrows,0:2])"
   ]
  },
  {
   "cell_type": "code",
   "execution_count": 23,
   "metadata": {
    "slideshow": {
     "slide_type": "slide"
    }
   },
   "outputs": [
    {
     "name": "stdout",
     "output_type": "stream",
     "text": [
      "[14.09    0.9058  6.449 ]\n"
     ]
    }
   ],
   "source": [
    "## Index by a list\n",
    "## Require same length since it matches\n",
    "myrows = [2,17,97]\n",
    "mycols = [1,2,3]\n",
    "print(seeds_copy[myrows,mycols])"
   ]
  },
  {
   "cell_type": "code",
   "execution_count": 24,
   "metadata": {
    "slideshow": {
     "slide_type": "slide"
    }
   },
   "outputs": [
    {
     "name": "stdout",
     "output_type": "stream",
     "text": [
      "[[20.71 17.23]\n",
      " [21.18 17.21]\n",
      " [20.88 17.05]\n",
      " [20.97 17.25]\n",
      " [20.24 16.91]]\n"
     ]
    }
   ],
   "source": [
    "## Boolean indexing\n",
    "rowslarge = seeds[:,0]>20.2\n",
    "print(seeds[rowslarge,0:2])"
   ]
  },
  {
   "cell_type": "code",
   "execution_count": 25,
   "metadata": {
    "slideshow": {
     "slide_type": "slide"
    }
   },
   "outputs": [
    {
     "name": "stdout",
     "output_type": "stream",
     "text": [
      "[[999. 999.]\n",
      " [999. 999.]\n",
      " [999. 999.]\n",
      " [999. 999.]]\n"
     ]
    }
   ],
   "source": [
    "## Assignment of a slice\n",
    "A = seeds_copy[1:5,4:6]\n",
    "seeds_copy[1:5,4:6] = 999\n",
    "print(seeds_copy[1:5,4:6])"
   ]
  },
  {
   "cell_type": "code",
   "execution_count": 26,
   "metadata": {
    "slideshow": {
     "slide_type": "fragment"
    }
   },
   "outputs": [
    {
     "data": {
      "text/plain": [
       "array([[999., 999.],\n",
       "       [999., 999.],\n",
       "       [999., 999.],\n",
       "       [999., 999.]])"
      ]
     },
     "execution_count": 26,
     "metadata": {},
     "output_type": "execute_result"
    }
   ],
   "source": [
    "## What happenned to A?\n",
    "A"
   ]
  },
  {
   "cell_type": "code",
   "execution_count": 27,
   "metadata": {
    "slideshow": {
     "slide_type": "slide"
    }
   },
   "outputs": [
    {
     "name": "stdout",
     "output_type": "stream",
     "text": [
      "[[1998. 1998.]\n",
      " [1998. 1998.]\n",
      " [1998. 1998.]\n",
      " [1998. 1998.]]\n"
     ]
    }
   ],
   "source": [
    "A[:,:] = A * 2.\n",
    "print(seeds_copy[1:5,4:6])"
   ]
  },
  {
   "cell_type": "markdown",
   "metadata": {
    "slideshow": {
     "slide_type": "slide"
    }
   },
   "source": [
    "- simple slicing creates a \"view\" of the array, a pointer to a subset of the other array\n",
    "- fancy indexing produces copies, so modifying it does not modify the original\n",
    "- can use `A.copy()` to explicitely produce copies"
   ]
  },
  {
   "cell_type": "markdown",
   "metadata": {
    "slideshow": {
     "slide_type": "slide"
    }
   },
   "source": [
    "## Sorting and bisection search\n",
    "\n",
    "- many sorting algorithms (quicksort, bubblesort, etc.)\n",
    "- they work on array datatypes by moving around the elements until sorted\n",
    "- once sorted you can easily search for elements, and insert while maintaining sort\n",
    "\n",
    "<img width=60% src=\"Binary_Search_Depiction.png\">"
   ]
  },
  {
   "cell_type": "code",
   "execution_count": 28,
   "metadata": {
    "slideshow": {
     "slide_type": "slide"
    }
   },
   "outputs": [
    {
     "name": "stdout",
     "output_type": "stream",
     "text": [
      "Help on function sort in module numpy:\n",
      "\n",
      "sort(a, axis=-1, kind=None, order=None)\n",
      "    Return a sorted copy of an array.\n",
      "    \n",
      "    Parameters\n",
      "    ----------\n",
      "    a : array_like\n",
      "        Array to be sorted.\n",
      "    axis : int or None, optional\n",
      "        Axis along which to sort. If None, the array is flattened before\n",
      "        sorting. The default is -1, which sorts along the last axis.\n",
      "    kind : {'quicksort', 'mergesort', 'heapsort', 'stable'}, optional\n",
      "        Sorting algorithm. The default is 'quicksort'. Note that both 'stable'\n",
      "        and 'mergesort' use timsort or radix sort under the covers and, in general,\n",
      "        the actual implementation will vary with data type. The 'mergesort' option\n",
      "        is retained for backwards compatibility.\n",
      "    \n",
      "        .. versionchanged:: 1.15.0.\n",
      "           The 'stable' option was added.\n",
      "    \n",
      "    order : str or list of str, optional\n",
      "        When `a` is an array with fields defined, this argument specifies\n",
      "        which fields to compare first, second, etc.  A single field can\n",
      "        be specified as a string, and not all fields need be specified,\n",
      "        but unspecified fields will still be used, in the order in which\n",
      "        they come up in the dtype, to break ties.\n",
      "    \n",
      "    Returns\n",
      "    -------\n",
      "    sorted_array : ndarray\n",
      "        Array of the same type and shape as `a`.\n",
      "    \n",
      "    See Also\n",
      "    --------\n",
      "    ndarray.sort : Method to sort an array in-place.\n",
      "    argsort : Indirect sort.\n",
      "    lexsort : Indirect stable sort on multiple keys.\n",
      "    searchsorted : Find elements in a sorted array.\n",
      "    partition : Partial sort.\n",
      "    \n",
      "    Notes\n",
      "    -----\n",
      "    The various sorting algorithms are characterized by their average speed,\n",
      "    worst case performance, work space size, and whether they are stable. A\n",
      "    stable sort keeps items with the same key in the same relative\n",
      "    order. The four algorithms implemented in NumPy have the following\n",
      "    properties:\n",
      "    \n",
      "    =========== ======= ============= ============ ========\n",
      "       kind      speed   worst case    work space   stable\n",
      "    =========== ======= ============= ============ ========\n",
      "    'quicksort'    1     O(n^2)            0          no\n",
      "    'heapsort'     3     O(n*log(n))       0          no\n",
      "    'mergesort'    2     O(n*log(n))      ~n/2        yes\n",
      "    'timsort'      2     O(n*log(n))      ~n/2        yes\n",
      "    =========== ======= ============= ============ ========\n",
      "    \n",
      "    .. note:: The datatype determines which of 'mergesort' or 'timsort'\n",
      "       is actually used, even if 'mergesort' is specified. User selection\n",
      "       at a finer scale is not currently available.\n",
      "    \n",
      "    All the sort algorithms make temporary copies of the data when\n",
      "    sorting along any but the last axis.  Consequently, sorting along\n",
      "    the last axis is faster and uses less space than sorting along\n",
      "    any other axis.\n",
      "    \n",
      "    The sort order for complex numbers is lexicographic. If both the real\n",
      "    and imaginary parts are non-nan then the order is determined by the\n",
      "    real parts except when they are equal, in which case the order is\n",
      "    determined by the imaginary parts.\n",
      "    \n",
      "    Previous to numpy 1.4.0 sorting real and complex arrays containing nan\n",
      "    values led to undefined behaviour. In numpy versions >= 1.4.0 nan\n",
      "    values are sorted to the end. The extended sort order is:\n",
      "    \n",
      "      * Real: [R, nan]\n",
      "      * Complex: [R + Rj, R + nanj, nan + Rj, nan + nanj]\n",
      "    \n",
      "    where R is a non-nan real value. Complex values with the same nan\n",
      "    placements are sorted according to the non-nan part if it exists.\n",
      "    Non-nan values are sorted as before.\n",
      "    \n",
      "    .. versionadded:: 1.12.0\n",
      "    \n",
      "    quicksort has been changed to `introsort <https://en.wikipedia.org/wiki/Introsort>`_.\n",
      "    When sorting does not make enough progress it switches to\n",
      "    `heapsort <https://en.wikipedia.org/wiki/Heapsort>`_.\n",
      "    This implementation makes quicksort O(n*log(n)) in the worst case.\n",
      "    \n",
      "    'stable' automatically chooses the best stable sorting algorithm\n",
      "    for the data type being sorted.\n",
      "    It, along with 'mergesort' is currently mapped to\n",
      "    `timsort <https://en.wikipedia.org/wiki/Timsort>`_\n",
      "    or `radix sort <https://en.wikipedia.org/wiki/Radix_sort>`_\n",
      "    depending on the data type.\n",
      "    API forward compatibility currently limits the\n",
      "    ability to select the implementation and it is hardwired for the different\n",
      "    data types.\n",
      "    \n",
      "    .. versionadded:: 1.17.0\n",
      "    \n",
      "    Timsort is added for better performance on already or nearly\n",
      "    sorted data. On random data timsort is almost identical to\n",
      "    mergesort. It is now used for stable sort while quicksort is still the\n",
      "    default sort if none is chosen. For timsort details, refer to\n",
      "    `CPython listsort.txt <https://github.com/python/cpython/blob/3.7/Objects/listsort.txt>`_.\n",
      "    'mergesort' and 'stable' are mapped to radix sort for integer data types. Radix sort is an\n",
      "    O(n) sort instead of O(n log n).\n",
      "    \n",
      "    .. versionchanged:: 1.18.0\n",
      "    \n",
      "    NaT now sorts to the end of arrays for consistency with NaN.\n",
      "    \n",
      "    Examples\n",
      "    --------\n",
      "    >>> a = np.array([[1,4],[3,1]])\n",
      "    >>> np.sort(a)                # sort along the last axis\n",
      "    array([[1, 4],\n",
      "           [1, 3]])\n",
      "    >>> np.sort(a, axis=None)     # sort the flattened array\n",
      "    array([1, 1, 3, 4])\n",
      "    >>> np.sort(a, axis=0)        # sort along the first axis\n",
      "    array([[1, 1],\n",
      "           [3, 4]])\n",
      "    \n",
      "    Use the `order` keyword to specify a field to use when sorting a\n",
      "    structured array:\n",
      "    \n",
      "    >>> dtype = [('name', 'S10'), ('height', float), ('age', int)]\n",
      "    >>> values = [('Arthur', 1.8, 41), ('Lancelot', 1.9, 38),\n",
      "    ...           ('Galahad', 1.7, 38)]\n",
      "    >>> a = np.array(values, dtype=dtype)       # create a structured array\n",
      "    >>> np.sort(a, order='height')                        # doctest: +SKIP\n",
      "    array([('Galahad', 1.7, 38), ('Arthur', 1.8, 41),\n",
      "           ('Lancelot', 1.8999999999999999, 38)],\n",
      "          dtype=[('name', '|S10'), ('height', '<f8'), ('age', '<i4')])\n",
      "    \n",
      "    Sort by age, then height if ages are equal:\n",
      "    \n",
      "    >>> np.sort(a, order=['age', 'height'])               # doctest: +SKIP\n",
      "    array([('Galahad', 1.7, 38), ('Lancelot', 1.8999999999999999, 38),\n",
      "           ('Arthur', 1.8, 41)],\n",
      "          dtype=[('name', '|S10'), ('height', '<f8'), ('age', '<i4')])\n",
      "\n"
     ]
    }
   ],
   "source": [
    "help(np.sort)"
   ]
  },
  {
   "cell_type": "code",
   "execution_count": 29,
   "metadata": {
    "slideshow": {
     "slide_type": "slide"
    }
   },
   "outputs": [
    {
     "name": "stdout",
     "output_type": "stream",
     "text": [
      "Help on function searchsorted in module numpy:\n",
      "\n",
      "searchsorted(a, v, side='left', sorter=None)\n",
      "    Find indices where elements should be inserted to maintain order.\n",
      "    \n",
      "    Find the indices into a sorted array `a` such that, if the\n",
      "    corresponding elements in `v` were inserted before the indices, the\n",
      "    order of `a` would be preserved.\n",
      "    \n",
      "    Assuming that `a` is sorted:\n",
      "    \n",
      "    ======  ============================\n",
      "    `side`  returned index `i` satisfies\n",
      "    ======  ============================\n",
      "    left    ``a[i-1] < v <= a[i]``\n",
      "    right   ``a[i-1] <= v < a[i]``\n",
      "    ======  ============================\n",
      "    \n",
      "    Parameters\n",
      "    ----------\n",
      "    a : 1-D array_like\n",
      "        Input array. If `sorter` is None, then it must be sorted in\n",
      "        ascending order, otherwise `sorter` must be an array of indices\n",
      "        that sort it.\n",
      "    v : array_like\n",
      "        Values to insert into `a`.\n",
      "    side : {'left', 'right'}, optional\n",
      "        If 'left', the index of the first suitable location found is given.\n",
      "        If 'right', return the last such index.  If there is no suitable\n",
      "        index, return either 0 or N (where N is the length of `a`).\n",
      "    sorter : 1-D array_like, optional\n",
      "        Optional array of integer indices that sort array a into ascending\n",
      "        order. They are typically the result of argsort.\n",
      "    \n",
      "        .. versionadded:: 1.7.0\n",
      "    \n",
      "    Returns\n",
      "    -------\n",
      "    indices : array of ints\n",
      "        Array of insertion points with the same shape as `v`.\n",
      "    \n",
      "    See Also\n",
      "    --------\n",
      "    sort : Return a sorted copy of an array.\n",
      "    histogram : Produce histogram from 1-D data.\n",
      "    \n",
      "    Notes\n",
      "    -----\n",
      "    Binary search is used to find the required insertion points.\n",
      "    \n",
      "    As of NumPy 1.4.0 `searchsorted` works with real/complex arrays containing\n",
      "    `nan` values. The enhanced sort order is documented in `sort`.\n",
      "    \n",
      "    This function uses the same algorithm as the builtin python `bisect.bisect_left`\n",
      "    (``side='left'``) and `bisect.bisect_right` (``side='right'``) functions,\n",
      "    which is also vectorized in the `v` argument.\n",
      "    \n",
      "    Examples\n",
      "    --------\n",
      "    >>> np.searchsorted([1,2,3,4,5], 3)\n",
      "    2\n",
      "    >>> np.searchsorted([1,2,3,4,5], 3, side='right')\n",
      "    3\n",
      "    >>> np.searchsorted([1,2,3,4,5], [-10, 10, 2, 3])\n",
      "    array([0, 5, 1, 2])\n",
      "\n"
     ]
    }
   ],
   "source": [
    "help(np.searchsorted)"
   ]
  },
  {
   "cell_type": "markdown",
   "metadata": {
    "slideshow": {
     "slide_type": "slide"
    }
   },
   "source": [
    "### Exercise\n",
    "\n",
    "Consider a 2D array where all of the elements of a given row are larger than all the elements of the previous one, and each row is sorted.  For example, the following satisfies this constraint,\n",
    "\n",
    "```\n",
    "[\n",
    "[1,4,7],\n",
    "[9,11,27],\n",
    "[29,300,3000]\n",
    "]\n",
    "```\n",
    "1. Write a method that rearranges the terms in an array such that it is in this format.\n",
    "2. Write a method that tests if a given element is in the array (as efficient as you can)."
   ]
  }
 ],
 "metadata": {
  "celltoolbar": "Slideshow",
  "kernelspec": {
   "display_name": "Python 3 (ipykernel)",
   "language": "python",
   "name": "python3"
  },
  "language_info": {
   "codemirror_mode": {
    "name": "ipython",
    "version": 3
   },
   "file_extension": ".py",
   "mimetype": "text/x-python",
   "name": "python",
   "nbconvert_exporter": "python",
   "pygments_lexer": "ipython3",
   "version": "3.8.10"
  }
 },
 "nbformat": 4,
 "nbformat_minor": 2
}
