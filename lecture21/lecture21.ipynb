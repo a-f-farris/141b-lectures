{
 "cells": [
  {
   "cell_type": "markdown",
   "metadata": {
    "slideshow": {
     "slide_type": "slide"
    }
   },
   "source": [
    "## Lecture 21: Parsing HTML\n",
    "\n",
    "### STA 141B"
   ]
  },
  {
   "cell_type": "markdown",
   "metadata": {
    "slideshow": {
     "slide_type": "slide"
    }
   },
   "source": [
    "- HTML is short for hypertext markup language\n",
    "- descriptive, markup language\n",
    "- used for modifying text with hidden tags\n",
    "- browser reads the html file, with the tags and everything and turns it into text with different fonts, colors, structure, etc\n",
    "- html has head (metadata, style, scripts) and body (main content to be displayed)\n",
    "- just html will look outdated: http://anson.ucdavis.edu/~affarris/"
   ]
  },
  {
   "cell_type": "markdown",
   "metadata": {
    "slideshow": {
     "slide_type": "slide"
    }
   },
   "source": [
    "### Tags\n",
    "&lt;TAG NAME&gt;STUFF BETWEEN TAGS&lt;\\TAG NAME&gt;\n",
    "\n",
    "- paragraph: &lt;p&gt;&lt;\\p&gt;\n",
    "- bold: &lt;strong&gt; text, create hyperlinks &lt;a href=\"site.html\"&gt;\n",
    "- create headers: &lt;h1&gt;&lt;h2&gt;\n",
    "- create unordered lists: &lt;ul&gt;\n",
    "- tables: &lt;table&gt;\n",
    "- newline: &lt;br&gt;\n",
    "- display image: &lt;img&gt;"
   ]
  },
  {
   "cell_type": "markdown",
   "metadata": {
    "slideshow": {
     "slide_type": "slide"
    }
   },
   "source": [
    "### Style\n",
    "\n",
    "- HTML only gives semantic structure to text, and does not specify or customize how these tags are visually represented\n",
    "- CSS defines the visual meaning of the HTML, which is given in separate stylesheet files\n",
    "\n",
    "```\n",
    ".page-header {\n",
    "  padding: 2rem 6rem; }\n",
    "```\n",
    "\n",
    "- tag.class selectors : select every tag with class\n",
    "- tag#id selectors : the tag with id"
   ]
  },
  {
   "cell_type": "markdown",
   "metadata": {
    "slideshow": {
     "slide_type": "slide"
    }
   },
   "source": [
    "### HTML structure\n",
    "\n",
    "Tags such as `div, a, body, span` wrap more html with opening and closing tags \n",
    "\n",
    "```\n",
    "<div class='example'>text in between</div>;\n",
    "```\n",
    "\n",
    "- hierarchical document structure\n",
    "- If a tag is nested inside of another tag then it is the child (`<a>` is the child of `<p>`)\n",
    "```\n",
    "<p>Have you tried the <a href=\"salmon.html\">salmon</a></p>\n",
    "```\n",
    "- tree structure is called the Document Object Model (DOM)\n",
    "- LXML and BeautifulSoup parses the html string into this tree structure"
   ]
  },
  {
   "cell_type": "markdown",
   "metadata": {
    "slideshow": {
     "slide_type": "slide"
    }
   },
   "source": [
    "## Breaking down data.gov climate data\n",
    "\n",
    "Data.gov maintains a list of climate related datasets, but they are maintained by different agencies.  I'd like to get a sense of the number and diversity of these datasets, and which agencies they are coming from."
   ]
  },
  {
   "cell_type": "code",
   "execution_count": 1,
   "metadata": {
    "slideshow": {
     "slide_type": "slide"
    }
   },
   "outputs": [],
   "source": [
    "import requests\n",
    "import requests_ftp\n",
    "import requests_cache\n",
    "import lxml\n",
    "from bs4 import BeautifulSoup\n",
    "from collections import Counter\n",
    "from matplotlib import pyplot as plt\n",
    "import pandas as pd\n",
    "plt.style.use('ggplot')\n",
    "requests_cache.install_cache('coll_cache')\n",
    "%matplotlib inline"
   ]
  },
  {
   "cell_type": "markdown",
   "metadata": {
    "slideshow": {
     "slide_type": "slide"
    }
   },
   "source": [
    "I went to data.gov and selected the climate data tab.  Here is the url: https://catalog.data.gov/dataset?groups=climate5434&page=1\n",
    "\n",
    "Let's make a request for this page."
   ]
  },
  {
   "cell_type": "code",
   "execution_count": 2,
   "metadata": {
    "slideshow": {
     "slide_type": "fragment"
    }
   },
   "outputs": [],
   "source": [
    "urlbase = \"https://catalog.data.gov/dataset\"\n",
    "dataparams = {\"groups\":\"climate5434\",\"page\":1}\n",
    "climreq = requests.get(urlbase,params = dataparams)"
   ]
  },
  {
   "cell_type": "code",
   "execution_count": 3,
   "metadata": {
    "slideshow": {
     "slide_type": "fragment"
    }
   },
   "outputs": [
    {
     "data": {
      "text/plain": [
       "'https://catalog.data.gov/dataset?groups=climate5434&page=1'"
      ]
     },
     "execution_count": 3,
     "metadata": {},
     "output_type": "execute_result"
    }
   ],
   "source": [
    "climreq.url"
   ]
  },
  {
   "cell_type": "code",
   "execution_count": 4,
   "metadata": {
    "slideshow": {
     "slide_type": "slide"
    }
   },
   "outputs": [],
   "source": [
    "climhtml = climreq.text\n",
    "clim = BeautifulSoup(climhtml,'lxml')"
   ]
  },
  {
   "cell_type": "markdown",
   "metadata": {
    "slideshow": {
     "slide_type": "fragment"
    }
   },
   "source": [
    "Here we imported the climate data catalogue (page 1), and turned it into a Beautiful Soup object.  We used the lxml parser, which is why we had to import lxml.  Let's look at the raw html."
   ]
  },
  {
   "cell_type": "code",
   "execution_count": 5,
   "metadata": {
    "slideshow": {
     "slide_type": "slide"
    }
   },
   "outputs": [
    {
     "name": "stdout",
     "output_type": "stream",
     "text": [
      "<!DOCTYPE html>\n",
      "<!--[if IE 9]> <html lang=\"en\" class=\"ie9\"> <![endif]-->\n",
      "<!--[if gt IE 8]><!--> <html lang=\"en\"> <!--<![endif]-->\n",
      "  <head>\n",
      "    <link rel=\"stylesheet\" type=\"text/css\" href=\"/fanstatic/vendor/:version:2021-11-17T06:50:23.43/select2/select2.min.css\" />\n",
      "<link rel=\"stylesheet\" type=\"text/css\" href=\"/fanstatic/css/:version:2021-11-17T06:50:23.40/main.min.css\" />\n",
      "<link rel=\"stylesheet\" type=\"text/css\" href=\"/fanstatic/vendor/:version:2021-11-17T06:50:23.43/font-awesome/css/font-awesome.\n"
     ]
    }
   ],
   "source": [
    "print(climhtml[:500])"
   ]
  },
  {
   "cell_type": "markdown",
   "metadata": {
    "slideshow": {
     "slide_type": "slide"
    }
   },
   "source": [
    "The BS object, and tags have other tags within then that you can access either as a class object (like below) or using the find method"
   ]
  },
  {
   "cell_type": "code",
   "execution_count": 6,
   "metadata": {
    "slideshow": {
     "slide_type": "fragment"
    }
   },
   "outputs": [
    {
     "data": {
      "text/plain": [
       "<body data-locale-root=\"https://catalog.data.gov/\" data-site-root=\"https://catalog.data.gov/\">\n",
       "<div class=\"sr-only sr-only-focusable\"><a href=\"#content\">Skip to content</a></div>\n",
       "<a class=\"hide\" href=\"#content\">Skip to content</a>\n",
       "<header class=\"navbar navbar-static-top masthead\">\n",
       "<div class=\"container\">\n",
       "<div class=\"searchbox-row skip-navigation\">\n",
       "<div class=\"skip-link\">\n",
       "<a href=\"#\">Jump to Content</a>\n",
       "</div>\n",
       "<div>\n",
       "<form action=\"/dataset\" class=\"search-form form-inline navbar-right navbar-nav\" method=\"get\" role=\"search\">\n",
       "<div class=\"input-group\">\n",
       "<label class=\"hide\" for=\"search-header\">Search for:</label>\n",
       "<input class=\"search-field form-control\" id=\"search-header\" name=\"q\" onblur=\"if(value=='') value = 'Search Data.Gov'\" onfocus=\"if(value=='Search Data.Gov') value = ''\" placeholder=\"Search Data.Gov\" type=\"search\" value=\"Search Data.Gov\"/> <span class=\"input-group-btn\">\n",
       "<button class=\"search-submit btn_new btn-default\" type=\"submit\">\n",
       "<i class=\"fa fa-search\"></i>\n",
       "<span class=\"sr-only\">Search</span>\n",
       "</button>\n",
       "</span>\n",
       "</div>\n",
       "<input name=\"as_sfid\" type=\"hidden\" value=\"AAAAAAX7aj0tCL-KN6lr6uhtoWP0Tdjoe5mngAQlT8BuTHVPUuvxAiTtaqzIEQ-u1o_BKUyyBJ2HdfQoPaFUMr50-bcD5hw6uLQadPHNKLjbFpyfSfq9iv7T_Jzo25Dlo00lsL8=\"/><input name=\"as_fid\" type=\"hidden\" value=\"041dc0e0ce4e04adcc647936d82990fb834c97c4\"/></form>\n",
       "</div>\n",
       "</div>\n",
       "<hgroup class=\"top\">\n",
       "<div class=\"account-wrapper\">\n",
       "</div>\n",
       "</hgroup>\n",
       "<hgroup class=\"top-nav\">\n",
       "<div class=\"logo\">\n",
       "<a class=\"root\" href=\"http://www.data.gov/\"><span>data.gov</span></a>\n",
       "</div>\n",
       "<button aria-controls=\"navbarSupportedContent\" aria-expanded=\"false\" aria-label=\"Toggle navigation\" class=\"btn btn-navbar\" data-target=\"#nav-primary\" data-toggle=\"collapse\" type=\"button\">\n",
       "<span class=\"icon-bar\"></span>\n",
       "<span class=\"icon-bar\"></span>\n",
       "<span class=\"icon-bar\"></span>\n",
       "</button>\n",
       "<div class=\"nav-primary navbar-collapse collapse\" id=\"nav-primary\">\n",
       "<nav class=\"primary\">\n",
       "<ul class=\"nav navbar-nav navbar-right\" id=\"menu-primary-navigation\">\n",
       "<li class=\"active\"><a href=\"/dataset\">Data</a></li>\n",
       "<li class=\"dropdown yamm-fw menu-topics\"><a class=\"dropdown-toggle\" data-toggle=\"dropdown\">Topics<b class=\"caret\"></b></a>\n",
       "<ul class=\"dropdown-menu topics\">\n",
       "<li class=\"menu-agriculture\"><a href=\"//www.data.gov/food/\"><i></i><span>Agriculture</span></a></li>\n",
       "<li class=\"menu-climate\"><a href=\"//www.data.gov/climate/\"><i></i><span>Climate</span></a></li>\n",
       "<li class=\"menu-energy\"><a href=\"//www.data.gov/energy/\"><i></i><span>Energy</span></a></li>\n",
       "<li class=\"menu-local-government\"><a href=\"//www.data.gov/local/\"><i></i><span>Local Government</span></a></li>\n",
       "<li class=\"menu-maritime\"><a href=\"//www.data.gov/maritime/\"><i></i><span>Maritime</span></a></li>\n",
       "<li class=\"menu-ocean\"><a href=\"//www.data.gov/ocean/\"><i></i><span>Ocean</span></a></li>\n",
       "<li class=\"menu-older-adults-health\"><a href=\"//catalog.data.gov/group/older-adults-health-data\"><i></i><span>Older Adults Health</span></a></li>\n",
       "</ul>\n",
       "</li><li>\n",
       "</li><li><a href=\"//resources.data.gov\">Resources</a></li>\n",
       "<li><a href=\"//strategy.data.gov\">Strategy</a></li>\n",
       "<li><a href=\"//www.data.gov/developers/\">Developers</a></li>\n",
       "<li><a href=\"//www.data.gov/contact\">Contact</a></li>\n",
       "</ul>\n",
       "</nav>\n",
       "</div>\n",
       "</hgroup>\n",
       "</div>\n",
       "<div class=\"header_new banner_new page-heading_new\">\n",
       "<div class=\"container\">\n",
       "<div class=\"page-header_new\">\n",
       "<div class=\"main-heading\">\n",
       "<h1>\n",
       "<span class=\"category-header topic-climate\"><a class=\"topic_url\" href=\"//www.data.gov/climate\"><div><i></i></div><span class=\"topic_name\">Climate</span></a>   —   </span>\n",
       "                        \n",
       "                    \n",
       "                        Data Catalog\n",
       "                    </h1>\n",
       "</div>\n",
       "<div class=\"toolbar\">\n",
       "<ol class=\"breadcrumb\">\n",
       "<li class=\"home\"><a href=\"/dataset\"><i class=\"fa fa-home\"></i><span> Home</span></a></li>\n",
       "<li class=\"active\"><a href=\"/dataset\">Datasets</a></li>\n",
       "</ol>\n",
       "<div class=\"add_action\">\n",
       "<a class=\"btn btn_new\" href=\"/organization\">Organizations</a>\n",
       "<a class=\"btn btn-primary question\" href=\"https://www.data.gov/catalog-help/\"><i class=\"fa fa-question-circle\"></i></a>\n",
       "</div>\n",
       "</div>\n",
       "</div>\n",
       "</div>\n",
       "</div>\n",
       "</header>\n",
       "<div class=\"sub-nav banner-nav\">\n",
       "<div class=\"container\">\n",
       "<nav class=\"topic-subnav\" role=\"navigation\">\n",
       "<ul class=\"nav navbar-nav\" id=\"menu-community\">\n",
       "<li><a class=\"dropdown-toggle\" data-toggle=\"dropdown\" href=\"//www.data.gov/#\">Themes<b class=\"caret\"></b></a>\n",
       "<ul class=\"dropdown-menu topics topic-climate\">\n",
       "<li><a href=\"//www.data.gov/climate/arctic/\">Arctic</a></li>\n",
       "<li><a href=\"//www.data.gov/climate/coastalflooding/\">Coastal Flooding</a></li>\n",
       "<li><a href=\"//www.data.gov/climate/ecosystem-vulnerability/\">Ecosystem Vulnerability</a></li>\n",
       "<li><a href=\"//www.data.gov/climate/energy-infrastructure/\">Energy Infrastructure</a></li>\n",
       "<li><a href=\"//www.data.gov/climate/foodresilience/\">Food Resilience</a></li>\n",
       "<li><a href=\"//www.data.gov/climate/humanhealth/\">Human Health</a></li>\n",
       "<li><a href=\"//www.data.gov/climate/transportation/\">Transportation</a></li>\n",
       "<li><a href=\"//www.data.gov/climate/tribal-nations/\">Tribal Nations</a></li>\n",
       "<li><a href=\"//www.data.gov/climate/water/\">Water</a></li>\n",
       "</ul>\n",
       "</li>\n",
       "<li><a class=\"active\" href=\"//catalog.data.gov/dataset?groups=climate5434\">Data</a></li>\n",
       "<li><a href=\"//www.data.gov/climate/portals/\">Resources</a></li>\n",
       "<li><a href=\"//www.data.gov/climate/climate-challenges\">Challenges</a></li>\n",
       "<li><a href=\"//www.data.gov/climate/faq/\">FAQ</a></li>\n",
       "<li><a href=\"//www.data.gov/climate/contact/\">Contact Climate</a></li>\n",
       "</ul>\n",
       "</nav>\n",
       "</div>\n",
       "</div>\n",
       "<div class=\"controller-package action-search\" role=\"main\">\n",
       "<div class=\"container\" id=\"content\">\n",
       "<div class=\"toolbar\">\n",
       "<div class=\"module\" style=\"margin:0px;\">\n",
       "<div class=\"faded disclaimer\" style=\"margin-bottom:10px;visibility: hidden;height:0px;\">\n",
       "        Federal datasets are subject to the U.S. Federal Government <a href=\"//www.data.gov/data-policy\"><b>Data Policy</b></a>. Non-federal participants (e.g., universities, organizations, and tribal, state, and local governments) maintain their own data policies. Data policies influence the usefulness of the data. <a href=\"//www.data.gov/catalog-help\"><b>Learn more</b></a> about how to search for data and use this catalog.\n",
       "    </div>\n",
       "<form class=\"dataset-search clearfix\" data-module=\"select-switch\" id=\"dataset-search\" method=\"get\">\n",
       "<span class=\"control-group search-giant\">\n",
       "<label class=\"hide\" for=\"search-big\">Search datasets</label>\n",
       "<input autocomplete=\"off\" class=\"search\" id=\"search-big\" name=\"q\" onblur=\"if(value=='') value = 'Search datasets...'\" onfocus=\"if(value=='Search datasets...') value = ''\" placeholder=\"Search datasets...\" type=\"text\" value=\"\"/>\n",
       "<button type=\"submit\" value=\"search\">Submit</button>\n",
       "</span>\n",
       "<span class=\"form-select form-group control-order-by\">\n",
       "<label for=\"field-order-by\">Order by</label>\n",
       "<select class=\"form-control\" id=\"field-order-by\" name=\"sort\">\n",
       "<option value=\"score desc, name asc\">Relevance</option>\n",
       "<option value=\"title_string asc\">Name Ascending</option>\n",
       "<option value=\"title_string desc\">Name Descending</option>\n",
       "<option value=\"metadata_modified desc\">Last Modified</option>\n",
       "<option selected=\"selected\" value=\"views_recent desc\">Popular</option>\n",
       "<option value=\"metadata_created desc\">Date Added</option>\n",
       "</select>\n",
       "<button class=\"btn js-hide\" type=\"submit\">Go</button>\n",
       "</span>\n",
       "<span>\n",
       "<input name=\"groups\" type=\"hidden\" value=\"climate5434\"/>\n",
       "</span>\n",
       "<br clear=\"both\"/>\n",
       "<div id=\"dataset-search-ext\"></div>\n",
       "<div class=\"results\">\n",
       "<div class=\"filter-list\">\n",
       "<span class=\"facet\">Topics:</span>\n",
       "<span class=\"filtered pill\">\n",
       "                        \n",
       "                      Climate\n",
       "                    <a class=\"remove\" href=\"dataset\" title=\"Remove\"><i class=\"fa fa-times\"></i></a>\n",
       "</span>\n",
       "</div>\n",
       "</div>\n",
       "<input name=\"as_sfid\" type=\"hidden\" value=\"AAAAAAWkDtSH1wF6geTMZlL8AbfEM1WpIBWXeKbpyGmLy5kobMQNu5JxOg3-6-qD_BgeNJtFJN4J_sxZFmrP5OOAsqywFqftYPR1XiWwOXmH2o2djtHlpT28-muJgRbJQo41NUA=\"/><input name=\"as_fid\" type=\"hidden\" value=\"bbef6b8dfb39fa6a6c4a404e94581c1da0d13483\"/></form></div>\n",
       "<a class=\"show-filters btn btn-primary\">Filter Results</a>\n",
       "</div>\n",
       "<div class=\"row wrapper\">\n",
       "<aside class=\"secondary col-sm-3\">\n",
       "<section class=\"module module-narrow module-shallow\" id=\"dataset-map\">\n",
       "<h2 class=\"module-heading\">\n",
       "<i class=\"icon-medium fa fa-globe\"></i>\n",
       "        Filter by location\n",
       "        <a class=\"action\" href=\"/dataset?groups=climate5434\">Clear</a>\n",
       "</h2>\n",
       "<div id=\"dataset-map-edit\">\n",
       "<label class=\"hide\" for=\"field-location\">Filter by location</label>\n",
       "<input data-module=\"location-autocomplete\" data-module-source=\"/api/action/location_search\" id=\"field-location\" placeholder=\"Enter location...\" type=\"text\" value=\"\"/>\n",
       "</div>\n",
       "<div class=\"dataset-map\" data-module=\"spatial-query\">\n",
       "<div id=\"dataset-map-container\"></div>\n",
       "</div>\n",
       "<div id=\"dataset-map-attribution\">\n",
       "<div>Map tiles &amp; Data by <a href=\"http://openstreetmap.org\">OpenStreetMap</a>, under <a href=\"https://creativecommons.org/licenses/by-sa/3.0/\">CC BY SA</a>.</div>\n",
       "</div>\n",
       "</section>\n",
       "<div class=\"filters\">\n",
       "<div>\n",
       "<section class=\"module module-narrow module-shallow\">\n",
       "<h2 class=\"module-heading\">\n",
       "<i class=\"fa fa-filter\"></i>\n",
       "              \n",
       "              Topics\n",
       "            </h2>\n",
       "<nav>\n",
       "<ul class=\"list-unstyled nav nav-simple nav-facet\">\n",
       "<li class=\"nav-item active\">\n",
       "<a href=\"/dataset\" title=\"\">\n",
       "<span class=\"item-label\">Climate</span>\n",
       "<span class=\"hidden separator\"> - </span>\n",
       "<span class=\"item-count badge\">401</span>\n",
       "</a>\n",
       "</li>\n",
       "<li class=\"nav-item\">\n",
       "<a href=\"/dataset?groups=older-adults-health-data&amp;groups=climate5434\" title=\"Older Adults Health Data Collection\">\n",
       "<span class=\"item-label\">Older Adults Health...</span>\n",
       "<span class=\"hidden separator\"> - </span>\n",
       "<span class=\"item-count badge\">3</span>\n",
       "</a>\n",
       "</li>\n",
       "<li class=\"nav-item\">\n",
       "<a href=\"/dataset?groups=climate5434&amp;groups=agriculture8571\" title=\"\">\n",
       "<span class=\"item-label\">Agriculture</span>\n",
       "<span class=\"hidden separator\"> - </span>\n",
       "<span class=\"item-count badge\">1</span>\n",
       "</a>\n",
       "</li>\n",
       "<li class=\"nav-item\">\n",
       "<a href=\"/dataset?groups=energy9485&amp;groups=climate5434\" title=\"\">\n",
       "<span class=\"item-label\">Energy</span>\n",
       "<span class=\"hidden separator\"> - </span>\n",
       "<span class=\"item-count badge\">1</span>\n",
       "</a>\n",
       "</li>\n",
       "<li class=\"nav-item\">\n",
       "<a href=\"/dataset?groups=local&amp;groups=climate5434\" title=\"\">\n",
       "<span class=\"item-label\">Local Government</span>\n",
       "<span class=\"hidden separator\"> - </span>\n",
       "<span class=\"item-count badge\">1</span>\n",
       "</a>\n",
       "</li>\n",
       "</ul>\n",
       "</nav>\n",
       "<p class=\"module-footer\">\n",
       "</p>\n",
       "</section>\n",
       "<section class=\"module module-narrow module-shallow\">\n",
       "<h2 class=\"module-heading\">\n",
       "<i class=\"fa fa-filter\"></i>\n",
       "              \n",
       "              Topic Categories\n",
       "            </h2>\n",
       "<nav>\n",
       "<ul class=\"list-unstyled nav nav-simple nav-facet\">\n",
       "<li class=\"nav-item\">\n",
       "<a href=\"/dataset?groups=climate5434&amp;vocab_category_all=Water\" title=\"\">\n",
       "<span class=\"item-label\">Water</span>\n",
       "<span class=\"hidden separator\"> - </span>\n",
       "<span class=\"item-count badge\">45</span>\n",
       "</a>\n",
       "</li>\n",
       "<li class=\"nav-item\">\n",
       "<a href=\"/dataset?vocab_category_all=Food+Resilience&amp;groups=climate5434\" title=\"\">\n",
       "<span class=\"item-label\">Food Resilience</span>\n",
       "<span class=\"hidden separator\"> - </span>\n",
       "<span class=\"item-count badge\">41</span>\n",
       "</a>\n",
       "</li>\n",
       "<li class=\"nav-item\">\n",
       "<a href=\"/dataset?vocab_category_all=Human+Health&amp;groups=climate5434\" title=\"\">\n",
       "<span class=\"item-label\">Human Health</span>\n",
       "<span class=\"hidden separator\"> - </span>\n",
       "<span class=\"item-count badge\">39</span>\n",
       "</a>\n",
       "</li>\n",
       "<li class=\"nav-item\">\n",
       "<a href=\"/dataset?vocab_category_all=Arctic&amp;groups=climate5434\" title=\"\">\n",
       "<span class=\"item-label\">Arctic</span>\n",
       "<span class=\"hidden separator\"> - </span>\n",
       "<span class=\"item-count badge\">37</span>\n",
       "</a>\n",
       "</li>\n",
       "<li class=\"nav-item\">\n",
       "<a href=\"/dataset?vocab_category_all=Ecosystem+Vulnerability&amp;groups=climate5434\" title=\"Ecosystem Vulnerability\">\n",
       "<span class=\"item-label\">Ecosystem Vulnerabi...</span>\n",
       "<span class=\"hidden separator\"> - </span>\n",
       "<span class=\"item-count badge\">36</span>\n",
       "</a>\n",
       "</li>\n",
       "</ul>\n",
       "</nav>\n",
       "<p class=\"module-footer\">\n",
       "<a class=\"read-more\" href=\"/dataset?groups=climate5434&amp;_vocab_category_all_limit=0\">Show More Topic Categories</a>\n",
       "</p>\n",
       "</section>\n",
       "<section class=\"module module-narrow module-shallow\">\n",
       "<h2 class=\"module-heading\">\n",
       "<i class=\"fa fa-filter\"></i>\n",
       "              \n",
       "              Dataset Type\n",
       "            </h2>\n",
       "<nav>\n",
       "<ul class=\"list-unstyled nav nav-simple nav-facet\">\n",
       "<li class=\"nav-item\">\n",
       "<a href=\"/dataset?metadata_type=geospatial&amp;groups=climate5434\" title=\"\">\n",
       "<span class=\"item-label\">geospatial</span>\n",
       "<span class=\"hidden separator\"> - </span>\n",
       "<span class=\"item-count badge\">257</span>\n",
       "</a>\n",
       "</li>\n",
       "</ul>\n",
       "</nav>\n",
       "<p class=\"module-footer\">\n",
       "</p>\n",
       "</section>\n",
       "<section class=\"module module-narrow module-shallow\">\n",
       "<h2 class=\"module-heading\">\n",
       "<i class=\"fa fa-filter\"></i>\n",
       "              \n",
       "              Tags\n",
       "            </h2>\n",
       "<nav>\n",
       "<ul class=\"list-unstyled nav nav-simple nav-facet\">\n",
       "<li class=\"nav-item\">\n",
       "<a href=\"/dataset?tags=__&amp;groups=climate5434\" title=\"\">\n",
       "<span class=\"item-label\">__</span>\n",
       "<span class=\"hidden separator\"> - </span>\n",
       "<span class=\"item-count badge\">401</span>\n",
       "</a>\n",
       "</li>\n",
       "<li class=\"nav-item\">\n",
       "<a href=\"/dataset?tags=earth-science&amp;groups=climate5434\" title=\"\">\n",
       "<span class=\"item-label\">earth-science</span>\n",
       "<span class=\"hidden separator\"> - </span>\n",
       "<span class=\"item-count badge\">128</span>\n",
       "</a>\n",
       "</li>\n",
       "<li class=\"nav-item\">\n",
       "<a href=\"/dataset?tags=united+states&amp;groups=climate5434\" title=\"\">\n",
       "<span class=\"item-label\">united states</span>\n",
       "<span class=\"hidden separator\"> - </span>\n",
       "<span class=\"item-count badge\">61</span>\n",
       "</a>\n",
       "</li>\n",
       "<li class=\"nav-item\">\n",
       "<a href=\"/dataset?tags=environment&amp;groups=climate5434\" title=\"\">\n",
       "<span class=\"item-label\">environment</span>\n",
       "<span class=\"hidden separator\"> - </span>\n",
       "<span class=\"item-count badge\">54</span>\n",
       "</a>\n",
       "</li>\n",
       "<li class=\"nav-item\">\n",
       "<a href=\"/dataset?tags=ngda&amp;groups=climate5434\" title=\"\">\n",
       "<span class=\"item-label\">ngda</span>\n",
       "<span class=\"hidden separator\"> - </span>\n",
       "<span class=\"item-count badge\">52</span>\n",
       "</a>\n",
       "</li>\n",
       "</ul>\n",
       "</nav>\n",
       "<p class=\"module-footer\">\n",
       "<a class=\"read-more\" href=\"/dataset?groups=climate5434&amp;_tags_limit=0\">Show More Tags</a>\n",
       "</p>\n",
       "</section>\n",
       "<section class=\"module module-narrow module-shallow\">\n",
       "<h2 class=\"module-heading\">\n",
       "<i class=\"fa fa-filter\"></i>\n",
       "              \n",
       "              Formats\n",
       "            </h2>\n",
       "<nav>\n",
       "<ul class=\"list-unstyled nav nav-simple nav-facet\">\n",
       "<li class=\"nav-item\">\n",
       "<a href=\"/dataset?res_format=HTML&amp;groups=climate5434\" title=\"\">\n",
       "<span class=\"item-label\">HTML</span>\n",
       "<span class=\"hidden separator\"> - </span>\n",
       "<span class=\"item-count badge\">208</span>\n",
       "</a>\n",
       "</li>\n",
       "<li class=\"nav-item\">\n",
       "<a href=\"/dataset?res_format=PDF&amp;groups=climate5434\" title=\"\">\n",
       "<span class=\"item-label\">PDF</span>\n",
       "<span class=\"hidden separator\"> - </span>\n",
       "<span class=\"item-count badge\">58</span>\n",
       "</a>\n",
       "</li>\n",
       "<li class=\"nav-item\">\n",
       "<a href=\"/dataset?groups=climate5434&amp;res_format=Esri+REST\" title=\"\">\n",
       "<span class=\"item-label\">Esri REST</span>\n",
       "<span class=\"hidden separator\"> - </span>\n",
       "<span class=\"item-count badge\">42</span>\n",
       "</a>\n",
       "</li>\n",
       "<li class=\"nav-item\">\n",
       "<a href=\"/dataset?groups=climate5434&amp;res_format=PNG\" title=\"\">\n",
       "<span class=\"item-label\">PNG</span>\n",
       "<span class=\"hidden separator\"> - </span>\n",
       "<span class=\"item-count badge\">37</span>\n",
       "</a>\n",
       "</li>\n",
       "<li class=\"nav-item\">\n",
       "<a href=\"/dataset?res_format=EXCEL&amp;groups=climate5434\" title=\"\">\n",
       "<span class=\"item-label\">EXCEL</span>\n",
       "<span class=\"hidden separator\"> - </span>\n",
       "<span class=\"item-count badge\">33</span>\n",
       "</a>\n",
       "</li>\n",
       "</ul>\n",
       "</nav>\n",
       "<p class=\"module-footer\">\n",
       "<a class=\"read-more\" href=\"/dataset?groups=climate5434&amp;_res_format_limit=0\">Show More Formats</a>\n",
       "</p>\n",
       "</section>\n",
       "<section class=\"module module-narrow module-shallow\">\n",
       "<h2 class=\"module-heading\">\n",
       "<i class=\"fa fa-filter\"></i>\n",
       "              \n",
       "              Organization Types\n",
       "            </h2>\n",
       "<nav>\n",
       "<ul class=\"list-unstyled nav nav-simple nav-facet\">\n",
       "<li class=\"nav-item\">\n",
       "<a href=\"/dataset?organization_type=Federal+Government&amp;groups=climate5434\" title=\"\">\n",
       "<span class=\"item-label\">Federal Government</span>\n",
       "<span class=\"hidden separator\"> - </span>\n",
       "<span class=\"item-count badge\">398</span>\n",
       "</a>\n",
       "</li>\n",
       "<li class=\"nav-item\">\n",
       "<a href=\"/dataset?organization_type=City+Government&amp;groups=climate5434\" title=\"\">\n",
       "<span class=\"item-label\">City Government</span>\n",
       "<span class=\"hidden separator\"> - </span>\n",
       "<span class=\"item-count badge\">1</span>\n",
       "</a>\n",
       "</li>\n",
       "</ul>\n",
       "</nav>\n",
       "<p class=\"module-footer\">\n",
       "</p>\n",
       "</section>\n",
       "<section class=\"module module-narrow module-shallow\">\n",
       "<h2 class=\"module-heading\">\n",
       "<i class=\"fa fa-filter\"></i>\n",
       "              \n",
       "              Organizations\n",
       "            </h2>\n",
       "<nav>\n",
       "<ul class=\"list-unstyled nav nav-simple nav-facet\">\n",
       "<li class=\"nav-item\">\n",
       "<a href=\"/dataset?organization=nasa-gov&amp;groups=climate5434\" title=\"National Aeronautics and Space Administration\">\n",
       "<span class=\"item-label\">National Aeronautic...</span>\n",
       "<span class=\"hidden separator\"> - </span>\n",
       "<span class=\"item-count badge\">131</span>\n",
       "</a>\n",
       "</li>\n",
       "<li class=\"nav-item\">\n",
       "<a href=\"/dataset?organization=usda-gov&amp;groups=climate5434\" title=\"Department of Agriculture\">\n",
       "<span class=\"item-label\">Department of Agric...</span>\n",
       "<span class=\"hidden separator\"> - </span>\n",
       "<span class=\"item-count badge\">61</span>\n",
       "</a>\n",
       "</li>\n",
       "<li class=\"nav-item\">\n",
       "<a href=\"/dataset?organization=epa-gov&amp;groups=climate5434\" title=\"U.S. Environmental Protection Agency\">\n",
       "<span class=\"item-label\">U.S. Environmental ...</span>\n",
       "<span class=\"hidden separator\"> - </span>\n",
       "<span class=\"item-count badge\">60</span>\n",
       "</a>\n",
       "</li>\n",
       "<li class=\"nav-item\">\n",
       "<a href=\"/dataset?groups=climate5434&amp;organization=noaa-gov\" title=\"National Oceanic and Atmospheric Administration, Department of Commerce\">\n",
       "<span class=\"item-label\">National Oceanic an...</span>\n",
       "<span class=\"hidden separator\"> - </span>\n",
       "<span class=\"item-count badge\">32</span>\n",
       "</a>\n",
       "</li>\n",
       "<li class=\"nav-item\">\n",
       "<a href=\"/dataset?organization=hhs-gov&amp;groups=climate5434\" title=\"U.S. Department of Health &amp; Human Services\">\n",
       "<span class=\"item-label\">U.S. Department of ...</span>\n",
       "<span class=\"hidden separator\"> - </span>\n",
       "<span class=\"item-count badge\">27</span>\n",
       "</a>\n",
       "</li>\n",
       "</ul>\n",
       "</nav>\n",
       "<p class=\"module-footer\">\n",
       "<a class=\"read-more\" href=\"/dataset?groups=climate5434&amp;_organization_limit=0\">Show More Organizations</a>\n",
       "</p>\n",
       "</section>\n",
       "<section class=\"module module-narrow module-shallow\">\n",
       "<h2 class=\"module-heading\">\n",
       "<i class=\"fa fa-filter\"></i>\n",
       "              \n",
       "              Publishers\n",
       "            </h2>\n",
       "<nav>\n",
       "<ul class=\"list-unstyled nav nav-simple nav-facet\">\n",
       "<li class=\"nav-item\">\n",
       "<a href=\"/dataset?publisher=NASA+NSIDC+DAAC&amp;groups=climate5434\" title=\"\">\n",
       "<span class=\"item-label\">NASA NSIDC DAAC</span>\n",
       "<span class=\"hidden separator\"> - </span>\n",
       "<span class=\"item-count badge\">64</span>\n",
       "</a>\n",
       "</li>\n",
       "<li class=\"nav-item\">\n",
       "<a href=\"/dataset?groups=climate5434&amp;publisher=Economic+Research+Service%2C+Department+of+Agriculture\" title=\"Economic Research Service, Department of Agriculture\">\n",
       "<span class=\"item-label\">Economic Research S...</span>\n",
       "<span class=\"hidden separator\"> - </span>\n",
       "<span class=\"item-count badge\">37</span>\n",
       "</a>\n",
       "</li>\n",
       "<li class=\"nav-item\">\n",
       "<a href=\"/dataset?publisher=NASA%2FGSFC%2FSED%2FESD%2FGCDC%2FGESDISC&amp;groups=climate5434\" title=\"NASA/GSFC/SED/ESD/GCDC/GESDISC\">\n",
       "<span class=\"item-label\">NASA/GSFC/SED/ESD/G...</span>\n",
       "<span class=\"hidden separator\"> - </span>\n",
       "<span class=\"item-count badge\">20</span>\n",
       "</a>\n",
       "</li>\n",
       "<li class=\"nav-item\">\n",
       "<a href=\"/dataset?publisher=ORNL_DAAC&amp;groups=climate5434\" title=\"\">\n",
       "<span class=\"item-label\">ORNL_DAAC</span>\n",
       "<span class=\"hidden separator\"> - </span>\n",
       "<span class=\"item-count badge\">19</span>\n",
       "</a>\n",
       "</li>\n",
       "<li class=\"nav-item\">\n",
       "<a href=\"/dataset?publisher=Centers+for+Disease+Control+and+Prevention%2C+Department+of+Health+%26+Human+Services&amp;groups=climate5434\" title=\"Centers for Disease Control and Prevention, Department of Health &amp; Human Services\">\n",
       "<span class=\"item-label\">Centers for Disease...</span>\n",
       "<span class=\"hidden separator\"> - </span>\n",
       "<span class=\"item-count badge\">14</span>\n",
       "</a>\n",
       "</li>\n",
       "</ul>\n",
       "</nav>\n",
       "<p class=\"module-footer\">\n",
       "<a class=\"read-more\" href=\"/dataset?groups=climate5434&amp;_publisher_limit=0\">Show More Publishers</a>\n",
       "</p>\n",
       "</section>\n",
       "<section class=\"module module-narrow module-shallow\">\n",
       "<h2 class=\"module-heading\">\n",
       "<i class=\"fa fa-filter\"></i>\n",
       "              \n",
       "              Bureaus\n",
       "            </h2>\n",
       "<nav>\n",
       "<ul class=\"list-unstyled nav nav-simple nav-facet\">\n",
       "<li class=\"nav-item\">\n",
       "<a href=\"/dataset?bureauCode=026%3A00&amp;groups=climate5434\" title=\"\">\n",
       "<span class=\"item-label\">026:00</span>\n",
       "<span class=\"hidden separator\"> - </span>\n",
       "<span class=\"item-count badge\">131</span>\n",
       "</a>\n",
       "</li>\n",
       "<li class=\"nav-item\">\n",
       "<a href=\"/dataset?bureauCode=005%3A13&amp;groups=climate5434\" title=\"\">\n",
       "<span class=\"item-label\">005:13</span>\n",
       "<span class=\"hidden separator\"> - </span>\n",
       "<span class=\"item-count badge\">37</span>\n",
       "</a>\n",
       "</li>\n",
       "<li class=\"nav-item\">\n",
       "<a href=\"/dataset?groups=climate5434&amp;bureauCode=020%3A00\" title=\"\">\n",
       "<span class=\"item-label\">020:00</span>\n",
       "<span class=\"hidden separator\"> - </span>\n",
       "<span class=\"item-count badge\">16</span>\n",
       "</a>\n",
       "</li>\n",
       "<li class=\"nav-item\">\n",
       "<a href=\"/dataset?groups=climate5434&amp;bureauCode=009%3A20\" title=\"\">\n",
       "<span class=\"item-label\">009:20</span>\n",
       "<span class=\"hidden separator\"> - </span>\n",
       "<span class=\"item-count badge\">15</span>\n",
       "</a>\n",
       "</li>\n",
       "<li class=\"nav-item\">\n",
       "<a href=\"/dataset?bureauCode=019%3A20&amp;groups=climate5434\" title=\"\">\n",
       "<span class=\"item-label\">019:20</span>\n",
       "<span class=\"hidden separator\"> - </span>\n",
       "<span class=\"item-count badge\">14</span>\n",
       "</a>\n",
       "</li>\n",
       "</ul>\n",
       "</nav>\n",
       "<p class=\"module-footer\">\n",
       "<a class=\"read-more\" href=\"/dataset?groups=climate5434&amp;_bureauCode_limit=0\">Show More Bureaus</a>\n",
       "</p>\n",
       "</section>\n",
       "</div>\n",
       "<a class=\"close no-text hide-filters\"><i class=\"fa fa-times-circle\"></i><span class=\"text\">close</span></a>\n",
       "</div>\n",
       "</aside>\n",
       "<div class=\"primary col-sm-9 col-xs-12\">\n",
       "<section class=\"module\">\n",
       "<div class=\"new-results\">\n",
       "        \n",
       "\n",
       "  \n",
       "  \n",
       "  \n",
       "  \n",
       "\n",
       "401 datasets found\n",
       "        </div>\n",
       "<div class=\"module-content\">\n",
       "<ul class=\"dataset-list unstyled\">\n",
       "<li class=\"dataset-item has-organization\">\n",
       "<div class=\"dataset-content\">\n",
       "<div class=\"organization-type-wrap\">\n",
       "<span class=\"organization-type\" data-organization-type=\"federal\" title=\"Federal Government\">\n",
       "<span>Federal</span>\n",
       "</span>\n",
       "</div>\n",
       "<h3 class=\"dataset-heading\">\n",
       "<a href=\"/dataset/aster-global-digital-elevation-model-v003\">ASTER Global Digital Elevation Model V003</a>\n",
       "</h3>\n",
       "<div class=\"notes\">\n",
       "<p class=\"dataset-organization\">National Aeronautics and Space Administration —</p>\n",
       "<div>The ASTER Global Digital Elevation Model (GDEM) Version 3 (ASTGTM) provides a global digital elevation model (DEM) of land areas on Earth at a spatial resolution of...</div>\n",
       "</div>\n",
       "<ul class=\"dataset-resources unstyled\">\n",
       "<li>\n",
       "<a class=\"label label-default\" data-format=\"html\" data-organization=\"National Aeronautics and Space Administration\" href=\"https://scholar.google.com/scholar?q=10.5067%2FASTER%2FASTGTM.003\" target=\"_blank\">HTML</a>\n",
       "</li>\n",
       "<li>\n",
       "<a class=\"label label-default\" data-format=\"html\" data-organization=\"National Aeronautics and Space Administration\" href=\"https://doi.org/10.5067/ASTER/ASTGTM.003\" target=\"_blank\">HTML</a>\n",
       "</li>\n",
       "<li>\n",
       "<a class=\"label label-default\" data-format=\"html\" data-organization=\"National Aeronautics and Space Administration\" href=\"https://lpdaac.usgs.gov\" target=\"_blank\">HTML</a>\n",
       "</li>\n",
       "<li>\n",
       "<a class=\"label label-default\" data-format=\"html\" data-organization=\"National Aeronautics and Space Administration\" href=\"http://asterweb.jpl.nasa.gov/\" target=\"_blank\">HTML</a>\n",
       "</li>\n",
       "<li>\n",
       "<a class=\"label label-default\" data-format=\"html\" data-organization=\"National Aeronautics and Space Administration\" href=\"https://search.earthdata.nasa.gov/search?q=C1575726572-LPDAAC_ECS\" target=\"_blank\">HTML</a>\n",
       "</li>\n",
       "<li>\n",
       "<a class=\"label label-default\" data-format=\"pdf\" data-organization=\"National Aeronautics and Space Administration\" href=\"https://lpdaac.usgs.gov/documents/434/ASTGTM_User_Guide_V3.pdf\">PDF</a>\n",
       "</li>\n",
       "<li>\n",
       "<a class=\"more\" href=\"/dataset/aster-global-digital-elevation-model-v003\">2 more in dataset</a>\n",
       "</li>\n",
       "</ul>\n",
       "</div>\n",
       "</li>\n",
       "<li class=\"dataset-item has-organization\">\n",
       "<div class=\"dataset-content\">\n",
       "<div class=\"organization-type-wrap\">\n",
       "<span class=\"organization-type\" data-organization-type=\"federal\" title=\"Federal Government\">\n",
       "<span>Federal</span>\n",
       "</span>\n",
       "</div>\n",
       "<h3 class=\"dataset-heading\">\n",
       "<a href=\"/dataset/modis-aqua-near-real-time-nrt-sea-ice-extent-5-min-l2-swath-1km\">MODIS/Aqua Near Real Time (NRT) Sea Ice Extent 5-Min L2 Swath 1km</a>\n",
       "</h3>\n",
       "<div class=\"notes\">\n",
       "<p class=\"dataset-organization\">National Aeronautics and Space Administration —</p>\n",
       "<div>MODIS Near Real Time (NRT) Sea Ice Extent 5-Min L2 Swath 1km, MYD29, data set contains fields for sea ice by reflectance, sea ice by reflectance pixel Quality...</div>\n",
       "</div>\n",
       "<ul class=\"dataset-resources unstyled\">\n",
       "<li>\n",
       "<a class=\"label label-default\" data-format=\"html\" data-organization=\"National Aeronautics and Space Administration\" href=\"https://scholar.google.com/scholar?q=10.5067%2FMODIS%2FMYD29.NRT.006\" target=\"_blank\">HTML</a>\n",
       "</li>\n",
       "<li>\n",
       "<a class=\"label label-default\" data-format=\"html\" data-organization=\"National Aeronautics and Space Administration\" href=\"https://earthdata.nasa.gov/earth-observation-data/near-real-time/download-nrt-data/modis-nrt\" target=\"_blank\">HTML</a>\n",
       "</li>\n",
       "<li>\n",
       "<a class=\"label label-default\" data-format=\"html\" data-organization=\"National Aeronautics and Space Administration\" href=\"http://lance3.modaps.eosdis.nasa.gov/data_products/\" target=\"_blank\">HTML</a>\n",
       "</li>\n",
       "<li>\n",
       "<a class=\"label label-default\" data-format=\"html\" data-organization=\"National Aeronautics and Space Administration\" href=\"https://nrt3.modaps.eosdis.nasa.gov/archive/allData/6/MYD29/\" target=\"_blank\">HTML</a>\n",
       "</li>\n",
       "<li>\n",
       "<a class=\"label label-default\" data-format=\"html\" data-organization=\"National Aeronautics and Space Administration\" href=\"http://modis.gsfc.nasa.gov/sci_team/\" target=\"_blank\">HTML</a>\n",
       "</li>\n",
       "</ul>\n",
       "</div>\n",
       "</li>\n",
       "<li class=\"dataset-item has-organization\">\n",
       "<div class=\"dataset-content\">\n",
       "<div class=\"organization-type-wrap\">\n",
       "<span class=\"organization-type\" data-organization-type=\"federal\" title=\"Federal Government\">\n",
       "<span>Federal</span>\n",
       "</span>\n",
       "</div>\n",
       "<h3 class=\"dataset-heading\">\n",
       "<a href=\"/dataset/modis-terraaqua-l3-value-added-aerosol-optical-depth-nrt\">MODIS/Terra+Aqua L3 Value-added Aerosol Optical Depth - NRT</a>\n",
       "</h3>\n",
       "<div class=\"notes\">\n",
       "<p class=\"dataset-organization\">National Aeronautics and Space Administration —</p>\n",
       "<div>MODIS was launched aboard the Terra satellite on December 18, 1999 (10:30 am equator crossing time) as part of NASA's Earth Observing System (EOS) mission. MODIS...</div>\n",
       "</div>\n",
       "<ul class=\"dataset-resources unstyled\">\n",
       "<li>\n",
       "<a class=\"label label-default\" data-format=\"html\" data-organization=\"National Aeronautics and Space Administration\" href=\"https://scholar.google.com/scholar?q=10.5067%2FMODIS%2FMCDAODHD.NRT.061\" target=\"_blank\">HTML</a>\n",
       "</li>\n",
       "<li>\n",
       "<a class=\"label label-default\" data-format=\"html\" data-organization=\"National Aeronautics and Space Administration\" href=\"https://earthdata.nasa.gov/earth-observation-data/near-real-time/download-nrt-data/modis-nrt\" target=\"_blank\">HTML</a>\n",
       "</li>\n",
       "<li>\n",
       "<a class=\"label label-default\" data-format=\"html\" data-organization=\"National Aeronautics and Space Administration\" href=\"https://lance3.modaps.eosdis.nasa.gov/data_products/\" target=\"_blank\">HTML</a>\n",
       "</li>\n",
       "<li>\n",
       "<a class=\"label label-default\" data-format=\"html\" data-organization=\"National Aeronautics and Space Administration\" href=\"https://nrt3.modaps.eosdis.nasa.gov/archive/allData/61/MCDAODHD/\" target=\"_blank\">HTML</a>\n",
       "</li>\n",
       "</ul>\n",
       "</div>\n",
       "</li>\n",
       "<li class=\"dataset-item has-organization\">\n",
       "<div class=\"dataset-content\">\n",
       "<div class=\"organization-type-wrap\">\n",
       "<span class=\"organization-type\" data-organization-type=\"federal\" title=\"Federal Government\">\n",
       "<span>Federal</span>\n",
       "</span>\n",
       "</div>\n",
       "<h3 class=\"dataset-heading\">\n",
       "<a href=\"/dataset/nldas-mosaic-land-surface-model-l4-hourly-0-125-x-0-125-degree-v002-nldas-mos0125-h-at-ges\">NLDAS Mosaic Land Surface Model L4 Hourly 0.125 x 0.125 degree V002 (NLDAS_MOS0125_H) at GES DISC</a>\n",
       "</h3>\n",
       "<div class=\"notes\">\n",
       "<p class=\"dataset-organization\">National Aeronautics and Space Administration —</p>\n",
       "<div>This data set contains a series of land surface parameters simulated from the Mosaic land-surface model (LSM) for Phase 2 of the North American Land Data...</div>\n",
       "</div>\n",
       "<ul class=\"dataset-resources unstyled\">\n",
       "<li>\n",
       "<a class=\"label label-default\" data-format=\"html\" data-organization=\"National Aeronautics and Space Administration\" href=\"https://scholar.google.com/scholar?q=10.5067%2FEN4MBWTCENE5\" target=\"_blank\">HTML</a>\n",
       "</li>\n",
       "<li>\n",
       "<a class=\"label label-default\" data-format=\"png\" data-organization=\"National Aeronautics and Space Administration\" href=\"https://docserver.gesdisc.eosdis.nasa.gov/public/project/Images/NLDAS_MOS0125_H_002.png\">PNG</a>\n",
       "</li>\n",
       "<li>\n",
       "<a class=\"label label-default\" data-format=\"html\" data-organization=\"National Aeronautics and Space Administration\" href=\"https://disc.gsfc.nasa.gov/datacollection/NLDAS_MOS0125_H_002.html\" target=\"_blank\">HTML</a>\n",
       "</li>\n",
       "<li>\n",
       "<a class=\"label label-default\" data-format=\"html\" data-organization=\"National Aeronautics and Space Administration\" href=\"https://hydro1.gesdisc.eosdis.nasa.gov/data/NLDAS/NLDAS_MOS0125_H.002/\" target=\"_blank\">HTML</a>\n",
       "</li>\n",
       "<li>\n",
       "<a class=\"label label-default\" data-format=\"html\" data-organization=\"National Aeronautics and Space Administration\" href=\"https://disc.gsfc.nasa.gov/SSW/#keywords=NLDAS_MOS0125_H\" target=\"_blank\">HTML</a>\n",
       "</li>\n",
       "<li>\n",
       "<a class=\"label label-default\" data-format=\"html\" data-organization=\"National Aeronautics and Space Administration\" href=\"https://search.earthdata.nasa.gov/search?q=NLDAS_MOS0125_H\" target=\"_blank\">HTML</a>\n",
       "</li>\n",
       "<li>\n",
       "<a class=\"more\" href=\"/dataset/nldas-mosaic-land-surface-model-l4-hourly-0-125-x-0-125-degree-v002-nldas-mos0125-h-at-ges\">7 more in dataset</a>\n",
       "</li>\n",
       "</ul>\n",
       "</div>\n",
       "</li>\n",
       "<li class=\"dataset-item has-organization\">\n",
       "<div class=\"dataset-content\">\n",
       "<div class=\"organization-type-wrap\">\n",
       "<span class=\"organization-type\" data-organization-type=\"federal\" title=\"Federal Government\">\n",
       "<span>Federal</span>\n",
       "</span>\n",
       "</div>\n",
       "<h3 class=\"dataset-heading\">\n",
       "<a href=\"/dataset/near-real-time-ssm-i-ease-grid-daily-global-ice-concentration-and-snow-extent-v002\">Near-Real-Time SSM/I EASE-Grid Daily Global Ice Concentration and Snow Extent V002</a>\n",
       "</h3>\n",
       "<div class=\"notes\">\n",
       "<p class=\"dataset-organization\">National Aeronautics and Space Administration —</p>\n",
       "<div>The Near-real-time Ice and Snow Extent (NISE) data set provides daily, global maps of sea ice concentrations and snow extent. These data are not suitable for time...</div>\n",
       "</div>\n",
       "<ul class=\"dataset-resources unstyled\">\n",
       "<li>\n",
       "<a class=\"label label-default\" data-format=\"html\" data-organization=\"National Aeronautics and Space Administration\" href=\"https://scholar.google.com/scholar?q=10.5067%2F4FSODMDM1WEJ\" target=\"_blank\">HTML</a>\n",
       "</li>\n",
       "<li>\n",
       "<a class=\"label label-default\" data-format=\"html\" data-organization=\"National Aeronautics and Space Administration\" href=\"https://n5eil01u.ecs.nsidc.org/OTHR/NISE.002/\" target=\"_blank\">HTML</a>\n",
       "</li>\n",
       "<li>\n",
       "<a class=\"label label-default\" data-format=\"html\" data-organization=\"National Aeronautics and Space Administration\" href=\"https://search.earthdata.nasa.gov/search/granules?p=C1647528934-NSIDC_ECS&amp;q=NISE&amp;m=-57.1997352188082%2114.06689453125%211%211%210%210%2C2&amp;tl=1556467685%214%21%21\" target=\"_blank\">HTML</a>\n",
       "</li>\n",
       "<li>\n",
       "<a class=\"label label-default\" data-format=\"html\" data-organization=\"National Aeronautics and Space Administration\" href=\"https://doi.org/10.5067/4FSODMDM1WEJ\" target=\"_blank\">HTML</a>\n",
       "</li>\n",
       "</ul>\n",
       "</div>\n",
       "</li>\n",
       "<li class=\"dataset-item has-organization\">\n",
       "<div class=\"dataset-content\">\n",
       "<div class=\"organization-type-wrap\">\n",
       "<span class=\"organization-type\" data-organization-type=\"federal\" title=\"Federal Government\">\n",
       "<span>Federal</span>\n",
       "</span>\n",
       "</div>\n",
       "<h3 class=\"dataset-heading\">\n",
       "<a href=\"/dataset/nldas-secondary-forcing-data-l4-monthly-0-125-x-0-125-degree-v002-nldas-forb0125-m-at-ges-\">NLDAS Secondary Forcing Data L4 Monthly 0.125 x 0.125 degree V002 (NLDAS_FORB0125_M) at GES DISC</a>\n",
       "</h3>\n",
       "<div class=\"notes\">\n",
       "<p class=\"dataset-organization\">National Aeronautics and Space Administration —</p>\n",
       "<div>This data set contains the monthly secondary forcing data \"File B\" for Phase 2 of the North American Land Data Assimilation System (NLDAS-2). The data are in 1/8th...</div>\n",
       "</div>\n",
       "<ul class=\"dataset-resources unstyled\">\n",
       "<li>\n",
       "<a class=\"label label-default\" data-format=\"html\" data-organization=\"National Aeronautics and Space Administration\" href=\"https://scholar.google.com/scholar?q=10.5067%2FOCLG3PX8QDFL\" target=\"_blank\">HTML</a>\n",
       "</li>\n",
       "<li>\n",
       "<a class=\"label label-default\" data-format=\"png\" data-organization=\"National Aeronautics and Space Administration\" href=\"https://docserver.gesdisc.eosdis.nasa.gov/public/project/Images/NLDAS_FORB0125_M_002.png\">PNG</a>\n",
       "</li>\n",
       "<li>\n",
       "<a class=\"label label-default\" data-format=\"html\" data-organization=\"National Aeronautics and Space Administration\" href=\"https://disc.gsfc.nasa.gov/datacollection/NLDAS_FORB0125_M_002.html\" target=\"_blank\">HTML</a>\n",
       "</li>\n",
       "<li>\n",
       "<a class=\"label label-default\" data-format=\"html\" data-organization=\"National Aeronautics and Space Administration\" href=\"https://hydro1.gesdisc.eosdis.nasa.gov/data/NLDAS/NLDAS_FORB0125_M.002/\" target=\"_blank\">HTML</a>\n",
       "</li>\n",
       "<li>\n",
       "<a class=\"label label-default\" data-format=\"html\" data-organization=\"National Aeronautics and Space Administration\" href=\"https://search.earthdata.nasa.gov/search?q=NLDAS_FORB0125_M\" target=\"_blank\">HTML</a>\n",
       "</li>\n",
       "<li>\n",
       "<a class=\"label label-default\" data-format=\"html\" data-organization=\"National Aeronautics and Space Administration\" href=\"https://giovanni.gsfc.nasa.gov/giovanni/#dataKeyword=NLDAS_FORB0125_M\" target=\"_blank\">HTML</a>\n",
       "</li>\n",
       "<li>\n",
       "<a class=\"more\" href=\"/dataset/nldas-secondary-forcing-data-l4-monthly-0-125-x-0-125-degree-v002-nldas-forb0125-m-at-ges-\">6 more in dataset</a>\n",
       "</li>\n",
       "</ul>\n",
       "</div>\n",
       "</li>\n",
       "<li class=\"dataset-item has-organization\">\n",
       "<div class=\"dataset-content\">\n",
       "<div class=\"organization-type-wrap\">\n",
       "<span class=\"organization-type\" data-organization-type=\"federal\" title=\"Federal Government\">\n",
       "<span>Federal</span>\n",
       "</span>\n",
       "</div>\n",
       "<h3 class=\"dataset-heading\">\n",
       "<a href=\"/dataset/nldas-secondary-forcing-data-l4-monthly-climatology-0-125-x-0-125-degree-v002-nldas-forb01\">NLDAS Secondary Forcing Data L4 Monthly Climatology 0.125 x 0.125 degree V002 (NLDAS_FORB0125_MC) at GES DISC</a>\n",
       "</h3>\n",
       "<div class=\"notes\">\n",
       "<p class=\"dataset-organization\">National Aeronautics and Space Administration —</p>\n",
       "<div>This data set contains the monthly climatology data of the secondary forcing data for Phase 2 of the North American Land Data Assimilation System (NLDAS-2). The data...</div>\n",
       "</div>\n",
       "<ul class=\"dataset-resources unstyled\">\n",
       "<li>\n",
       "<a class=\"label label-default\" data-format=\"html\" data-organization=\"National Aeronautics and Space Administration\" href=\"https://scholar.google.com/scholar?q=10.5067%2F1D81ROXYF340\" target=\"_blank\">HTML</a>\n",
       "</li>\n",
       "<li>\n",
       "<a class=\"label label-default\" data-format=\"png\" data-organization=\"National Aeronautics and Space Administration\" href=\"https://docserver.gesdisc.eosdis.nasa.gov/public/project/Images/NLDAS_FORB0125_MC_002.png\">PNG</a>\n",
       "</li>\n",
       "<li>\n",
       "<a class=\"label label-default\" data-format=\"html\" data-organization=\"National Aeronautics and Space Administration\" href=\"https://disc.gsfc.nasa.gov/datacollection/NLDAS_FORB0125_MC_002.html\" target=\"_blank\">HTML</a>\n",
       "</li>\n",
       "<li>\n",
       "<a class=\"label label-default\" data-format=\"html\" data-organization=\"National Aeronautics and Space Administration\" href=\"https://hydro1.gesdisc.eosdis.nasa.gov/data/NLDAS/NLDAS_FORB0125_MC.002/\" target=\"_blank\">HTML</a>\n",
       "</li>\n",
       "<li>\n",
       "<a class=\"label label-default\" data-format=\"html\" data-organization=\"National Aeronautics and Space Administration\" href=\"https://search.earthdata.nasa.gov/search?q=NLDAS_FORB0125_MC\" target=\"_blank\">HTML</a>\n",
       "</li>\n",
       "<li>\n",
       "<a class=\"label label-default\" data-format=\"html\" data-organization=\"National Aeronautics and Space Administration\" href=\"https://hydro1.gesdisc.eosdis.nasa.gov/dods/NLDAS_FORB0125_MC.002\" target=\"_blank\">HTML</a>\n",
       "</li>\n",
       "<li>\n",
       "<a class=\"more\" href=\"/dataset/nldas-secondary-forcing-data-l4-monthly-climatology-0-125-x-0-125-degree-v002-nldas-forb01\">5 more in dataset</a>\n",
       "</li>\n",
       "</ul>\n",
       "</div>\n",
       "</li>\n",
       "<li class=\"dataset-item has-organization\">\n",
       "<div class=\"dataset-content\">\n",
       "<div class=\"organization-type-wrap\">\n",
       "<span class=\"organization-type\" data-organization-type=\"federal\" title=\"Federal Government\">\n",
       "<span>Federal</span>\n",
       "</span>\n",
       "</div>\n",
       "<h3 class=\"dataset-heading\">\n",
       "<a href=\"/dataset/icebridge-ku-band-radar-l1b-geolocated-radar-echo-strength-profiles-v002\">IceBridge Ku-Band Radar L1B Geolocated Radar Echo Strength Profiles V002</a>\n",
       "</h3>\n",
       "<div class=\"notes\">\n",
       "<p class=\"dataset-organization\">National Aeronautics and Space Administration —</p>\n",
       "<div>This data set contains elevation and surface measurements over Greenland, the Arctic, and Antarctica, as well as flight path charts and echogram images acquired...</div>\n",
       "</div>\n",
       "<ul class=\"dataset-resources unstyled\">\n",
       "<li>\n",
       "<a class=\"label label-default\" data-format=\"html\" data-organization=\"National Aeronautics and Space Administration\" href=\"https://scholar.google.com/scholar?q=10.5067%2FD7DX7J7J5JN9\" target=\"_blank\">HTML</a>\n",
       "</li>\n",
       "<li>\n",
       "<a class=\"label label-default\" data-format=\"html\" data-organization=\"National Aeronautics and Space Administration\" href=\"http://nsidc.org/icebridge/portal/\" target=\"_blank\">HTML</a>\n",
       "</li>\n",
       "<li>\n",
       "<a class=\"label label-default\" data-format=\"html\" data-organization=\"National Aeronautics and Space Administration\" href=\"https://n5eil01u.ecs.nsidc.org/ICEBRIDGE/IRKUB1B.002/\" target=\"_blank\">HTML</a>\n",
       "</li>\n",
       "<li>\n",
       "<a class=\"label label-default\" data-format=\"html\" data-organization=\"National Aeronautics and Space Administration\" href=\"https://search.earthdata.nasa.gov/search/granules?p=C1000000940-NSIDC_ECS&amp;m=-33.609375%2119.40625%211%211%210%210%2C2&amp;tl=1514139055%214%21%21&amp;q=IRKUB1B\" target=\"_blank\">HTML</a>\n",
       "</li>\n",
       "<li>\n",
       "<a class=\"label label-default\" data-format=\"html\" data-organization=\"National Aeronautics and Space Administration\" href=\"http://nsidc.org/icebridge/portal/\" target=\"_blank\">HTML</a>\n",
       "</li>\n",
       "<li>\n",
       "<a class=\"label label-default\" data-format=\"html\" data-organization=\"National Aeronautics and Space Administration\" href=\"https://n5eil01u.ecs.nsidc.org/ICEBRIDGE/IRKUB1B.002/\" target=\"_blank\">HTML</a>\n",
       "</li>\n",
       "<li>\n",
       "<a class=\"more\" href=\"/dataset/icebridge-ku-band-radar-l1b-geolocated-radar-echo-strength-profiles-v002\">6 more in dataset</a>\n",
       "</li>\n",
       "</ul>\n",
       "</div>\n",
       "</li>\n",
       "<li class=\"dataset-item has-organization\">\n",
       "<div class=\"dataset-content\">\n",
       "<div class=\"organization-type-wrap\">\n",
       "<span class=\"organization-type\" data-organization-type=\"federal\" title=\"Federal Government\">\n",
       "<span>Federal</span>\n",
       "</span>\n",
       "</div>\n",
       "<h3 class=\"dataset-heading\">\n",
       "<a href=\"/dataset/icebridge-cambot-l1b-geolocated-images-v001\">IceBridge CAMBOT L1B Geolocated Images V001</a>\n",
       "</h3>\n",
       "<div class=\"notes\">\n",
       "<p class=\"dataset-organization\">National Aeronautics and Space Administration —</p>\n",
       "<div>This data set contains images taken with the Continuous Airborne Mapping By Optical Translator (CAMBOT) over Antarctica and Greenland.</div>\n",
       "</div>\n",
       "<ul class=\"dataset-resources unstyled\">\n",
       "<li>\n",
       "<a class=\"label label-default\" data-format=\"html\" data-organization=\"National Aeronautics and Space Administration\" href=\"https://scholar.google.com/scholar?q=10.5067%2FFC93UWYQA1D8\" target=\"_blank\">HTML</a>\n",
       "</li>\n",
       "<li>\n",
       "<a class=\"label label-default\" data-format=\"html\" data-organization=\"National Aeronautics and Space Administration\" href=\"https://nsidc.org/icebridge/portal/map\" target=\"_blank\">HTML</a>\n",
       "</li>\n",
       "<li>\n",
       "<a class=\"label label-default\" data-format=\"html\" data-organization=\"National Aeronautics and Space Administration\" href=\"https://n5eil01u.ecs.nsidc.org/ICEBRIDGE/IOCAM1B.001/\" target=\"_blank\">HTML</a>\n",
       "</li>\n",
       "<li>\n",
       "<a class=\"label label-default\" data-format=\"html\" data-organization=\"National Aeronautics and Space Administration\" href=\"https://search.earthdata.nasa.gov/search/granules?p=C1388123740-NSIDC_ECS&amp;q=iocam1b&amp;m=-99.71099693295352%21-4.68017578125%210%211%210%210%2C2&amp;tl=1559661355%214%21%21\" target=\"_blank\">HTML</a>\n",
       "</li>\n",
       "<li>\n",
       "<a class=\"label label-default\" data-format=\"html\" data-organization=\"National Aeronautics and Space Administration\" href=\"https://nsidc.org/icebridge/portal/map\" target=\"_blank\">HTML</a>\n",
       "</li>\n",
       "<li>\n",
       "<a class=\"label label-default\" data-format=\"html\" data-organization=\"National Aeronautics and Space Administration\" href=\"https://n5eil01u.ecs.nsidc.org/ICEBRIDGE/IOCAM1B.001/\" target=\"_blank\">HTML</a>\n",
       "</li>\n",
       "<li>\n",
       "<a class=\"more\" href=\"/dataset/icebridge-cambot-l1b-geolocated-images-v001\">6 more in dataset</a>\n",
       "</li>\n",
       "</ul>\n",
       "</div>\n",
       "</li>\n",
       "<li class=\"dataset-item has-organization\">\n",
       "<div class=\"dataset-content\">\n",
       "<div class=\"organization-type-wrap\">\n",
       "<span class=\"organization-type\" data-organization-type=\"federal\" title=\"Federal Government\">\n",
       "<span>Federal</span>\n",
       "</span>\n",
       "</div>\n",
       "<h3 class=\"dataset-heading\">\n",
       "<a href=\"/dataset/icebridge-narrow-swath-atm-l1b-elevation-and-return-strength-v002\">IceBridge Narrow Swath ATM L1B Elevation and Return Strength V002</a>\n",
       "</h3>\n",
       "<div class=\"notes\">\n",
       "<p class=\"dataset-organization\">National Aeronautics and Space Administration —</p>\n",
       "<div>This data set contains spot elevation measurements of Greenland, Arctic, and Antarctic sea ice acquired using the NASA Airborne Topographic Mapper (ATM) narrow-swath...</div>\n",
       "</div>\n",
       "<ul class=\"dataset-resources unstyled\">\n",
       "<li>\n",
       "<a class=\"label label-default\" data-format=\"html\" data-organization=\"National Aeronautics and Space Administration\" href=\"https://scholar.google.com/scholar?q=10.5067%2FCXEQS8KVIXEI\" target=\"_blank\">HTML</a>\n",
       "</li>\n",
       "<li>\n",
       "<a class=\"label label-default\" data-format=\"html\" data-organization=\"National Aeronautics and Space Administration\" href=\"https://nsidc.org/icebridge/portal/\" target=\"_blank\">HTML</a>\n",
       "</li>\n",
       "<li>\n",
       "<a class=\"label label-default\" data-format=\"html\" data-organization=\"National Aeronautics and Space Administration\" href=\"https://n5eil01u.ecs.nsidc.org/ICEBRIDGE/ILNSA1B.002/\" target=\"_blank\">HTML</a>\n",
       "</li>\n",
       "<li>\n",
       "<a class=\"label label-default\" data-format=\"html\" data-organization=\"National Aeronautics and Space Administration\" href=\"https://search.earthdata.nasa.gov/search/granules?p=C1000000060-NSIDC_ECS&amp;m=-30.515625%21-0.5625%211%211%210%210%2C2&amp;tl=1514139825%214%21%21&amp;q=ILNSA1B\" target=\"_blank\">HTML</a>\n",
       "</li>\n",
       "<li>\n",
       "<a class=\"label label-default\" data-format=\"html\" data-organization=\"National Aeronautics and Space Administration\" href=\"https://doi.org/10.5067/CXEQS8KVIXEI\" target=\"_blank\">HTML</a>\n",
       "</li>\n",
       "<li>\n",
       "<a class=\"label label-default\" data-format=\"html\" data-organization=\"National Aeronautics and Space Administration\" href=\"https://doi.org/10.5067/CXEQS8KVIXEI\" target=\"_blank\">HTML</a>\n",
       "</li>\n",
       "</ul>\n",
       "</div>\n",
       "</li>\n",
       "<li class=\"dataset-item has-organization\">\n",
       "<div class=\"dataset-content\">\n",
       "<div class=\"organization-type-wrap\">\n",
       "<span class=\"organization-type\" data-organization-type=\"federal\" title=\"Federal Government\">\n",
       "<span>Federal</span>\n",
       "</span>\n",
       "</div>\n",
       "<h3 class=\"dataset-heading\">\n",
       "<a href=\"/dataset/noaa-nsidc-climate-data-record-of-passive-microwave-sea-ice-concentration-version-3\">NOAA/NSIDC Climate Data Record of Passive Microwave Sea Ice Concentration, Version 3</a>\n",
       "</h3>\n",
       "<div class=\"notes\">\n",
       "<p class=\"dataset-organization\">National Aeronautics and Space Administration —</p>\n",
       "<div>This data set provides a Climate Data Record (CDR) of sea ice concentration from passive microwave data. The CDR algorithm output is a rule-based combination of ice...</div>\n",
       "</div>\n",
       "<ul class=\"dataset-resources unstyled\">\n",
       "<li>\n",
       "<a class=\"label label-default\" data-format=\"html\" data-organization=\"National Aeronautics and Space Administration\" href=\"https://scholar.google.com/scholar?q=10.7265%2FN59P2ZTG\" target=\"_blank\">HTML</a>\n",
       "</li>\n",
       "<li>\n",
       "<a class=\"label label-default\" data-format=\"html\" data-organization=\"National Aeronautics and Space Administration\" href=\"https://nsidc.org/forms/G02202_or.html?major_version=3\" target=\"_blank\">HTML</a>\n",
       "</li>\n",
       "<li>\n",
       "<a class=\"label label-default\" data-format=\"html\" data-organization=\"National Aeronautics and Space Administration\" href=\"https://doi.org/10.7265/N59P2ZTG\" target=\"_blank\">HTML</a>\n",
       "</li>\n",
       "<li>\n",
       "<a class=\"label label-default\" data-format=\"html\" data-organization=\"National Aeronautics and Space Administration\" href=\"https://doi.org/10.7265/N59P2ZTG\" target=\"_blank\">HTML</a>\n",
       "</li>\n",
       "</ul>\n",
       "</div>\n",
       "</li>\n",
       "<li class=\"dataset-item has-organization\">\n",
       "<div class=\"dataset-content\">\n",
       "<div class=\"organization-type-wrap\">\n",
       "<span class=\"organization-type\" data-organization-type=\"federal\" title=\"Federal Government\">\n",
       "<span>Federal</span>\n",
       "</span>\n",
       "</div>\n",
       "<h3 class=\"dataset-heading\">\n",
       "<a href=\"/dataset/icebridge-radar-l3-tomographic-ice-thickness-v002\">IceBridge Radar L3 Tomographic Ice Thickness V002</a>\n",
       "</h3>\n",
       "<div class=\"notes\">\n",
       "<p class=\"dataset-organization\">National Aeronautics and Space Administration —</p>\n",
       "<div>This data set contains Level-3 tomographic ice thickness measurements and ice thickness errors over areas of Greenland and Antarctica. Two of the data files...</div>\n",
       "</div>\n",
       "<ul class=\"dataset-resources unstyled\">\n",
       "<li>\n",
       "<a class=\"label label-default\" data-format=\"html\" data-organization=\"National Aeronautics and Space Administration\" href=\"https://scholar.google.com/scholar?q=10.5067%2F5NSX14QW4U4J\" target=\"_blank\">HTML</a>\n",
       "</li>\n",
       "<li>\n",
       "<a class=\"label label-default\" data-format=\"html\" data-organization=\"National Aeronautics and Space Administration\" href=\"https://nsidc.org/icebridge/portal/\" target=\"_blank\">HTML</a>\n",
       "</li>\n",
       "<li>\n",
       "<a class=\"label label-default\" data-format=\"html\" data-organization=\"National Aeronautics and Space Administration\" href=\"https://n5eil01u.ecs.nsidc.org/ICEBRIDGE/IRTIT3.002/\" target=\"_blank\">HTML</a>\n",
       "</li>\n",
       "<li>\n",
       "<a class=\"label label-default\" data-format=\"html\" data-organization=\"National Aeronautics and Space Administration\" href=\"https://search.earthdata.nasa.gov/search/granules?p=C1586132466-NSIDC_ECS&amp;m=-63.5625%21-85.78125%211%211%210%210%2C2&amp;q=IRTIT3&amp;ok=IRTIT3\" target=\"_blank\">HTML</a>\n",
       "</li>\n",
       "<li>\n",
       "<a class=\"label label-default\" data-format=\"html\" data-organization=\"National Aeronautics and Space Administration\" href=\"https://doi.org/10.5067/5NSX14QW4U4J\" target=\"_blank\">HTML</a>\n",
       "</li>\n",
       "<li>\n",
       "<a class=\"label label-default\" data-format=\"html\" data-organization=\"National Aeronautics and Space Administration\" href=\"https://doi.org/10.5067/5NSX14QW4U4J\" target=\"_blank\">HTML</a>\n",
       "</li>\n",
       "</ul>\n",
       "</div>\n",
       "</li>\n",
       "<li class=\"dataset-item has-organization\">\n",
       "<div class=\"dataset-content\">\n",
       "<div class=\"organization-type-wrap\">\n",
       "<span class=\"organization-type\" data-organization-type=\"federal\" title=\"Federal Government\">\n",
       "<span>Federal</span>\n",
       "</span>\n",
       "</div>\n",
       "<h3 class=\"dataset-heading\">\n",
       "<a href=\"/dataset/icebridge-riegl-laser-altimeter-l1b-time-tagged-laser-ranges-v001\">IceBridge Riegl Laser Altimeter L1B Time-Tagged Laser Ranges V001</a>\n",
       "</h3>\n",
       "<div class=\"notes\">\n",
       "<p class=\"dataset-organization\">National Aeronautics and Space Administration —</p>\n",
       "<div>This data set contains laser ranges, returned pulses, and deviation for returned pulses in Antarctica and Greenland using the Riegl Laser Altimeter. The data were...</div>\n",
       "</div>\n",
       "<ul class=\"dataset-resources unstyled\">\n",
       "<li>\n",
       "<a class=\"label label-default\" data-format=\"html\" data-organization=\"National Aeronautics and Space Administration\" href=\"https://scholar.google.com/scholar?q=10.5067%2FKH078MNXPAOV\" target=\"_blank\">HTML</a>\n",
       "</li>\n",
       "<li>\n",
       "<a class=\"label label-default\" data-format=\"html\" data-organization=\"National Aeronautics and Space Administration\" href=\"https://n5eil01u.ecs.nsidc.org/ICEBRIDGE/ILUTP1B.001/\" target=\"_blank\">HTML</a>\n",
       "</li>\n",
       "<li>\n",
       "<a class=\"label label-default\" data-format=\"html\" data-organization=\"National Aeronautics and Space Administration\" href=\"https://search.earthdata.nasa.gov/search/granules?p=C1000001277-NSIDC_ECS&amp;m=-73.41954240081849%21-154.30300027266756%210%212%210%210%2C2&amp;q=ILUTP1B&amp;ok=ILUTP1B\" target=\"_blank\">HTML</a>\n",
       "</li>\n",
       "<li>\n",
       "<a class=\"label label-default\" data-format=\"html\" data-organization=\"National Aeronautics and Space Administration\" href=\"https://doi.org/10.5067/KH078MNXPAOV\" target=\"_blank\">HTML</a>\n",
       "</li>\n",
       "<li>\n",
       "<a class=\"label label-default\" data-format=\"html\" data-organization=\"National Aeronautics and Space Administration\" href=\"https://doi.org/10.5067/KH078MNXPAOV\" target=\"_blank\">HTML</a>\n",
       "</li>\n",
       "</ul>\n",
       "</div>\n",
       "</li>\n",
       "<li class=\"dataset-item has-organization\">\n",
       "<div class=\"dataset-content\">\n",
       "<div class=\"organization-type-wrap\">\n",
       "<span class=\"organization-type\" data-organization-type=\"federal\" title=\"Federal Government\">\n",
       "<span>Federal</span>\n",
       "</span>\n",
       "</div>\n",
       "<h3 class=\"dataset-heading\">\n",
       "<a href=\"/dataset/icebridge-scintrex-cs-3-cesium-magnetometer-l1b-geolocated-magnetic-anomalies-v002\">IceBridge Scintrex CS-3 Cesium Magnetometer L1B Geolocated Magnetic Anomalies V002</a>\n",
       "</h3>\n",
       "<div class=\"notes\">\n",
       "<p class=\"dataset-organization\">National Aeronautics and Space Administration —</p>\n",
       "<div>This data set contains magnetic field readings taken over Antarctica using the Scintrex CS-3 Cesium Magnetometer instrument. The data were collected as part of...</div>\n",
       "</div>\n",
       "<ul class=\"dataset-resources unstyled\">\n",
       "<li>\n",
       "<a class=\"label label-default\" data-format=\"html\" data-organization=\"National Aeronautics and Space Administration\" href=\"https://scholar.google.com/scholar?q=10.5067%2FOY7C2Y61YSYW\" target=\"_blank\">HTML</a>\n",
       "</li>\n",
       "<li>\n",
       "<a class=\"label label-default\" data-format=\"html\" data-organization=\"National Aeronautics and Space Administration\" href=\"https://n5eil01u.ecs.nsidc.org/ICEBRIDGE/IMCS31B.002\" target=\"_blank\">HTML</a>\n",
       "</li>\n",
       "<li>\n",
       "<a class=\"label label-default\" data-format=\"html\" data-organization=\"National Aeronautics and Space Administration\" href=\"https://search.earthdata.nasa.gov/search/granules?p=C1000000840-NSIDC_ECS&amp;m=-67.10846805443366%21160.8286421216187%210%212%210%210%2C2&amp;q=IMCS31B\" target=\"_blank\">HTML</a>\n",
       "</li>\n",
       "<li>\n",
       "<a class=\"label label-default\" data-format=\"html\" data-organization=\"National Aeronautics and Space Administration\" href=\"https://doi.org/10.5067/OY7C2Y61YSYW\" target=\"_blank\">HTML</a>\n",
       "</li>\n",
       "<li>\n",
       "<a class=\"label label-default\" data-format=\"html\" data-organization=\"National Aeronautics and Space Administration\" href=\"https://doi.org/10.5067/OY7C2Y61YSYW\" target=\"_blank\">HTML</a>\n",
       "</li>\n",
       "</ul>\n",
       "</div>\n",
       "</li>\n",
       "<li class=\"dataset-item has-organization\">\n",
       "<div class=\"dataset-content\">\n",
       "<div class=\"organization-type-wrap\">\n",
       "<span class=\"organization-type\" data-organization-type=\"federal\" title=\"Federal Government\">\n",
       "<span>Federal</span>\n",
       "</span>\n",
       "</div>\n",
       "<h3 class=\"dataset-heading\">\n",
       "<a href=\"/dataset/global-organic-soil-carbon-and-nitrogen-zinke-et-al\">Global Organic Soil Carbon and Nitrogen (Zinke et al.)</a>\n",
       "</h3>\n",
       "<div class=\"notes\">\n",
       "<p class=\"dataset-organization\">National Aeronautics and Space Administration —</p>\n",
       "<div>A compilation of worldwide soil carbon and nitrogen data for more than 3500 soil profiles.</div>\n",
       "</div>\n",
       "<ul class=\"dataset-resources unstyled\">\n",
       "<li>\n",
       "<a class=\"label label-default\" data-format=\"html\" data-organization=\"National Aeronautics and Space Administration\" href=\"https://scholar.google.com/scholar?q=10.3334%2FORNLDAAC%2F221\" target=\"_blank\">HTML</a>\n",
       "</li>\n",
       "<li>\n",
       "<a class=\"label label-default\" data-format=\"html\" data-organization=\"National Aeronautics and Space Administration\" href=\"https://daac.ornl.gov/daacdata/global_soil/ZinkeSoil/\" target=\"_blank\">HTML</a>\n",
       "</li>\n",
       "<li>\n",
       "<a class=\"label label-default\" data-format=\"html\" data-organization=\"National Aeronautics and Space Administration\" href=\"https://daac.ornl.gov/SOILS/guides/zinke_soil.html\" target=\"_blank\">HTML</a>\n",
       "</li>\n",
       "<li>\n",
       "<a class=\"label label-default\" data-format=\"html\" data-organization=\"National Aeronautics and Space Administration\" href=\"https://doi.org/10.3334/ORNLDAAC/221\" target=\"_blank\">HTML</a>\n",
       "</li>\n",
       "<li>\n",
       "<a class=\"label label-default\" data-format=\"html\" data-organization=\"National Aeronautics and Space Administration\" href=\"https://daac.ornl.gov/daacdata/global_soil/ZinkeSoil/comp/zinke_readme.txt\" target=\"_blank\">HTML</a>\n",
       "</li>\n",
       "<li>\n",
       "<a class=\"label label-default\" data-format=\"pdf\" data-organization=\"National Aeronautics and Space Administration\" href=\"https://daac.ornl.gov/daacdata/global_soil/ZinkeSoil/comp/zinke_soil.pdf\">PDF</a>\n",
       "</li>\n",
       "<li>\n",
       "<a class=\"more\" href=\"/dataset/global-organic-soil-carbon-and-nitrogen-zinke-et-al\">1 more in dataset</a>\n",
       "</li>\n",
       "</ul>\n",
       "</div>\n",
       "</li>\n",
       "<li class=\"dataset-item has-organization\">\n",
       "<div class=\"dataset-content\">\n",
       "<div class=\"organization-type-wrap\">\n",
       "<span class=\"organization-type\" data-organization-type=\"federal\" title=\"Federal Government\">\n",
       "<span>Federal</span>\n",
       "</span>\n",
       "</div>\n",
       "<h3 class=\"dataset-heading\">\n",
       "<a href=\"/dataset/sea-ice-trends-and-climatologies-from-smmr-and-ssm-i-ssmis-version-3\">Sea Ice Trends and Climatologies from SMMR and SSM/I-SSMIS, Version 3</a>\n",
       "</h3>\n",
       "<div class=\"notes\">\n",
       "<p class=\"dataset-organization\">National Aeronautics and Space Administration —</p>\n",
       "<div>NSIDC provides this data set to aid investigations of variability and trends in sea ice cover. Ice cover in these data are indicated by sea ice concentration: the...</div>\n",
       "</div>\n",
       "<ul class=\"dataset-resources unstyled\">\n",
       "<li>\n",
       "<a class=\"label label-default\" data-format=\"html\" data-organization=\"National Aeronautics and Space Administration\" href=\"https://scholar.google.com/scholar?q=10.5067%2FIJ0T7HFHB9Y6\" target=\"_blank\">HTML</a>\n",
       "</li>\n",
       "<li>\n",
       "<a class=\"label label-default\" data-format=\"html\" data-organization=\"National Aeronautics and Space Administration\" href=\"https://daacdata.apps.nsidc.org/pub/DATASETS/nsidc0192_seaice_trends_climo_v3/\" target=\"_blank\">HTML</a>\n",
       "</li>\n",
       "<li>\n",
       "<a class=\"label label-default\" data-format=\"html\" data-organization=\"National Aeronautics and Space Administration\" href=\"https://daacdata.apps.nsidc.org/pub/DATASETS/nsidc0192_seaice_trends_climo_v3/\" target=\"_blank\">HTML</a>\n",
       "</li>\n",
       "<li>\n",
       "<a class=\"label label-default\" data-format=\"html\" data-organization=\"National Aeronautics and Space Administration\" href=\"https://daacdata.apps.nsidc.org/pub/DATASETS/nsidc0192_seaice_trends_climo_v3/\" target=\"_blank\">HTML</a>\n",
       "</li>\n",
       "<li>\n",
       "<a class=\"label label-default\" data-format=\"html\" data-organization=\"National Aeronautics and Space Administration\" href=\"https://daacdata.apps.nsidc.org/pub/DATASETS/nsidc0192_seaice_trends_climo_v3/\" target=\"_blank\">HTML</a>\n",
       "</li>\n",
       "<li>\n",
       "<a class=\"label label-default\" data-format=\"html\" data-organization=\"National Aeronautics and Space Administration\" href=\"https://doi.org/10.5067/IJ0T7HFHB9Y6\" target=\"_blank\">HTML</a>\n",
       "</li>\n",
       "<li>\n",
       "<a class=\"more\" href=\"/dataset/sea-ice-trends-and-climatologies-from-smmr-and-ssm-i-ssmis-version-3\">1 more in dataset</a>\n",
       "</li>\n",
       "</ul>\n",
       "</div>\n",
       "</li>\n",
       "<li class=\"dataset-item has-organization\">\n",
       "<div class=\"dataset-content\">\n",
       "<div class=\"organization-type-wrap\">\n",
       "<span class=\"organization-type\" data-organization-type=\"federal\" title=\"Federal Government\">\n",
       "<span>Federal</span>\n",
       "</span>\n",
       "</div>\n",
       "<h3 class=\"dataset-heading\">\n",
       "<a href=\"/dataset/clpx-ground-isa-snow-depth-transects-and-related-measurements-version-2\">CLPX-Ground: ISA Snow Depth Transects and Related Measurements, Version 2</a>\n",
       "</h3>\n",
       "<div class=\"notes\">\n",
       "<p class=\"dataset-organization\">National Aeronautics and Space Administration —</p>\n",
       "<div>This data set consists of snow depth data from nine study areas, within three larger-scale areas in northern Colorado (Fraser, North Park, and Rabbit Ears Meso-cell...</div>\n",
       "</div>\n",
       "<ul class=\"dataset-resources unstyled\">\n",
       "<li>\n",
       "<a class=\"label label-default\" data-format=\"html\" data-organization=\"National Aeronautics and Space Administration\" href=\"https://scholar.google.com/scholar?q=10.5060%2FD4MW2F23\" target=\"_blank\">HTML</a>\n",
       "</li>\n",
       "<li>\n",
       "<a class=\"label label-default\" data-format=\"html\" data-organization=\"National Aeronautics and Space Administration\" href=\"https://daacdata.apps.nsidc.org/pub/DATASETS/CLP/data/ground_data/nsidc0175_snow_transects/\" target=\"_blank\">HTML</a>\n",
       "</li>\n",
       "<li>\n",
       "<a class=\"label label-default\" data-format=\"html\" data-organization=\"National Aeronautics and Space Administration\" href=\"https://daacdata.apps.nsidc.org/pub/DATASETS/CLP/data/ground_data/nsidc0175_snow_transects/\" target=\"_blank\">HTML</a>\n",
       "</li>\n",
       "<li>\n",
       "<a class=\"label label-default\" data-format=\"html\" data-organization=\"National Aeronautics and Space Administration\" href=\"https://doi.org/10.5060/D4MW2F23\" target=\"_blank\">HTML</a>\n",
       "</li>\n",
       "<li>\n",
       "<a class=\"label label-default\" data-format=\"html\" data-organization=\"National Aeronautics and Space Administration\" href=\"https://doi.org/10.5060/D4MW2F23\" target=\"_blank\">HTML</a>\n",
       "</li>\n",
       "</ul>\n",
       "</div>\n",
       "</li>\n",
       "<li class=\"dataset-item has-organization\">\n",
       "<div class=\"dataset-content\">\n",
       "<div class=\"organization-type-wrap\">\n",
       "<span class=\"organization-type\" data-organization-type=\"federal\" title=\"Federal Government\">\n",
       "<span>Federal</span>\n",
       "</span>\n",
       "</div>\n",
       "<h3 class=\"dataset-heading\">\n",
       "<a href=\"/dataset/icebridge-atm-l0-raw-ranges-version-1\">IceBridge ATM L0 Raw Ranges, Version 1</a>\n",
       "</h3>\n",
       "<div class=\"notes\">\n",
       "<p class=\"dataset-organization\">National Aeronautics and Space Administration —</p>\n",
       "<div>This data set contains raw elevation range measurements using the NASA Airborne Topographic Mapper (ATM) instrumentation. The data were collected as part of...</div>\n",
       "</div>\n",
       "<ul class=\"dataset-resources unstyled\">\n",
       "<li>\n",
       "<a class=\"label label-default\" data-format=\"html\" data-organization=\"National Aeronautics and Space Administration\" href=\"https://scholar.google.com/scholar?q=10.5067%2FMQJDOKN8AKDD\" target=\"_blank\">HTML</a>\n",
       "</li>\n",
       "<li>\n",
       "<a class=\"label label-default\" data-format=\"html\" data-organization=\"National Aeronautics and Space Administration\" href=\"https://daacdata.apps.nsidc.org/pub/DATASETS/ICEBRIDGE/ILATM0_ATMraw_v01/\" target=\"_blank\">HTML</a>\n",
       "</li>\n",
       "<li>\n",
       "<a class=\"label label-default\" data-format=\"html\" data-organization=\"National Aeronautics and Space Administration\" href=\"https://doi.org/10.5067/MQJDOKN8AKDD\" target=\"_blank\">HTML</a>\n",
       "</li>\n",
       "<li>\n",
       "<a class=\"label label-default\" data-format=\"html\" data-organization=\"National Aeronautics and Space Administration\" href=\"https://doi.org/10.5067/MQJDOKN8AKDD\" target=\"_blank\">HTML</a>\n",
       "</li>\n",
       "</ul>\n",
       "</div>\n",
       "</li>\n",
       "<li class=\"dataset-item has-organization\">\n",
       "<div class=\"dataset-content\">\n",
       "<div class=\"organization-type-wrap\">\n",
       "<span class=\"organization-type\" data-organization-type=\"federal\" title=\"Federal Government\">\n",
       "<span>Federal</span>\n",
       "</span>\n",
       "</div>\n",
       "<h3 class=\"dataset-heading\">\n",
       "<a href=\"/dataset/quick-stats-agricultural-database-api\">Quick Stats Agricultural Database API</a>\n",
       "</h3>\n",
       "<div class=\"notes\">\n",
       "<p class=\"dataset-organization\">Department of Agriculture —</p>\n",
       "<div>Quick Stats API is the programmatic interface to the National Agricultural Statistics Service's (NASS) online database containing results from the 1997, 2002, 2007,...</div>\n",
       "</div>\n",
       "<ul class=\"dataset-resources unstyled\">\n",
       "<li>\n",
       "<a class=\"label label-default\" data-format=\"html\" data-organization=\"Department of Agriculture\" href=\"http://quickstats.nass.usda.gov/api\" target=\"_blank\">HTML</a>\n",
       "</li>\n",
       "</ul>\n",
       "</div>\n",
       "</li>\n",
       "<li class=\"dataset-item has-organization\">\n",
       "<div class=\"dataset-content\">\n",
       "<div class=\"organization-type-wrap\">\n",
       "<span class=\"organization-type\" data-organization-type=\"federal\" title=\"Federal Government\">\n",
       "<span>Federal</span>\n",
       "</span>\n",
       "</div>\n",
       "<h3 class=\"dataset-heading\">\n",
       "<a href=\"/dataset/gldas-noah-land-surface-model-l4-3-hourly-1-0-x-1-0-degree-v2-0-gldas-noah10-3h-at-ges-dis\">GLDAS Noah Land Surface Model L4 3 hourly 1.0 x 1.0 degree V2.0 (GLDAS_NOAH10_3H) at GES DISC</a>\n",
       "</h3>\n",
       "<div class=\"notes\">\n",
       "<p class=\"dataset-organization\">National Aeronautics and Space Administration —</p>\n",
       "<div>NASA Global Land Data Assimilation System Version 2 (GLDAS-2) has three components: GLDAS-2.0, GLDAS-2.1, and GLDAS-2.2. GLDAS-2.0 is forced entirely with the...</div>\n",
       "</div>\n",
       "<ul class=\"dataset-resources unstyled\">\n",
       "<li>\n",
       "<a class=\"label label-default\" data-format=\"html\" data-organization=\"National Aeronautics and Space Administration\" href=\"https://scholar.google.com/scholar?q=10.5067%2FL0JGCNVBNRAX\" target=\"_blank\">HTML</a>\n",
       "</li>\n",
       "<li>\n",
       "<a class=\"label label-default\" data-format=\"png\" data-organization=\"National Aeronautics and Space Administration\" href=\"https://docserver.gesdisc.eosdis.nasa.gov/public/project/Images/GLDAS_NOAH10_3H_2.0.png\">PNG</a>\n",
       "</li>\n",
       "<li>\n",
       "<a class=\"label label-default\" data-format=\"html\" data-organization=\"National Aeronautics and Space Administration\" href=\"https://disc.gsfc.nasa.gov/datacollection/GLDAS_NOAH10_3H_2.0.html\" target=\"_blank\">HTML</a>\n",
       "</li>\n",
       "<li>\n",
       "<a class=\"label label-default\" data-format=\"html\" data-organization=\"National Aeronautics and Space Administration\" href=\"https://hydro1.gesdisc.eosdis.nasa.gov/data/GLDAS/GLDAS_NOAH10_3H.2.0/\" target=\"_blank\">HTML</a>\n",
       "</li>\n",
       "<li>\n",
       "<a class=\"label label-default\" data-format=\"html\" data-organization=\"National Aeronautics and Space Administration\" href=\"https://search.earthdata.nasa.gov/search?q=GLDAS_NOAH10_3H_2.0\" target=\"_blank\">HTML</a>\n",
       "</li>\n",
       "<li>\n",
       "<a class=\"label label-default\" data-format=\"html\" data-organization=\"National Aeronautics and Space Administration\" href=\"https://hydro1.gesdisc.eosdis.nasa.gov/opendap/hyrax/GLDAS/GLDAS_NOAH10_3H.2.0/\" target=\"_blank\">HTML</a>\n",
       "</li>\n",
       "<li>\n",
       "<a class=\"more\" href=\"/dataset/gldas-noah-land-surface-model-l4-3-hourly-1-0-x-1-0-degree-v2-0-gldas-noah10-3h-at-ges-dis\">5 more in dataset</a>\n",
       "</li>\n",
       "</ul>\n",
       "</div>\n",
       "</li>\n",
       "</ul>\n",
       "</div>\n",
       "<div class=\"pagination-wrapper\"><ul class=\"pagination\"> <li class=\"active\"><a href=\"/dataset?groups=climate5434&amp;page=1\">1</a></li> <li><a href=\"/dataset?groups=climate5434&amp;page=2\">2</a></li> <li><a href=\"/dataset?groups=climate5434&amp;page=3\">3</a></li> <li class=\"disabled\"><a href=\"#\">...</a></li> <li><a href=\"/dataset?groups=climate5434&amp;page=21\">21</a></li> <li><a href=\"/dataset?groups=climate5434&amp;page=2\">»</a></li></ul></div>\n",
       "<div style=\"text-align:center; margin-top:20px;\">\n",
       "<b>\n",
       "                    \n",
       "\n",
       "  \n",
       "  \n",
       "  \n",
       "  \n",
       "\n",
       "401 datasets found\n",
       "                </b>\n",
       "</div>\n",
       "</section>\n",
       "<section class=\"module\">\n",
       "<div class=\"module-content\">\n",
       "<p>\n",
       "<small>\n",
       "                \n",
       "                \n",
       "                \n",
       "                 You can also access this registry using the <a href=\"/api/3\">API</a> (see <a href=\"https://docs.ckan.org/en/2.8/api/index.html\">API Docs</a>). \n",
       "            </small>\n",
       "</p>\n",
       "<p>\n",
       "<small>\n",
       "                Didn't find what you're looking for? Suggest a dataset <a href=\"https://www.data.gov/contact\">here</a>.\n",
       "            </small>\n",
       "</p>\n",
       "</div>\n",
       "</section>\n",
       "</div>\n",
       "</div>\n",
       "</div>\n",
       "</div>\n",
       "<footer class=\"site-footer\">\n",
       "<div class=\"container\">\n",
       "<div class=\"fluid-row\">\n",
       "<div class=\"col-md-6 clearfix\">\n",
       "<div class=\"footer-logo\"> <a class=\"logo-brand\" href=\"http://www.data.gov/\">Data.Gov 2.0</a> </div>\n",
       "<ul class=\"nav\" id=\"menu-footer2\">\n",
       "<li><a href=\"//www.data.gov/privacy-policy\">Privacy and Website Policies</a></li>\n",
       "<li><a href=\"//www.usa.gov/\">USA.GOV</a></li>\n",
       "<li><a href=\"//www.performance.gov/\">PERFORMANCE.GOV</a></li>\n",
       "</ul>\n",
       "</div>\n",
       "<nav class=\"col-md-3\" role=\"navigation\">\n",
       "<ul class=\"nav\" id=\"menu-footer\">\n",
       "<li><a href=\"//www.data.gov/about\">About</a></li>\n",
       "<li><a href=\"//www.data.gov/open-gov/\">Open Government</a></li>\n",
       "<li><a href=\"//www.data.gov/meta/\">Blog</a></li>\n",
       "<li><a href=\"//www.data.gov/metrics\">Metrics</a></li>\n",
       "<li><a href=\"//www.data.gov/events/\">Events</a></li>\n",
       "<li><a class=\"local-link\" href=\"/user/saml2login\"> Login</a></li>\n",
       "</ul>\n",
       "</nav>\n",
       "<div class=\"col-md-3 social-nav\">\n",
       "<nav role=\"navigation\">\n",
       "<ul class=\"nav\" id=\"menu-social_navigation\">\n",
       "<li><a href=\"https://twitter.com/usdatagov\"><i class=\"fa fa-twitter\"></i><span>Twitter</span></a></li>\n",
       "<li><a href=\"http://github.com/GSA/data.gov/\"><i class=\"fa fa-github\"></i><span>Github</span></a></li>\n",
       "</ul>\n",
       "</nav>\n",
       "</div>\n",
       "</div>\n",
       "</div>\n",
       "</footer>\n",
       "<input data-module=\"googleanalyticsbasic_events\" type=\"hidden\"/>\n",
       "<script>document.getElementsByTagName('html')[0].className += ' js';</script>\n",
       "<script src=\"/fanstatic/vendor/:version:2021-11-17T06:50:23.43/jquery.min.js\" type=\"text/javascript\"></script>\n",
       "<script src=\"/fanstatic/vendor/:version:2021-11-17T06:50:23.43/:bundle:bootstrap/js/bootstrap.min.js;jed.min.js;moment-with-locales.min.js;select2/select2.min.js;qs.js\" type=\"text/javascript\"></script>\n",
       "<script src=\"/fanstatic/base/:version:2021-11-17T06:50:23.40/:bundle:plugins/jquery.inherit.min.js;plugins/jquery.proxy-all.min.js;plugins/jquery.url-helpers.min.js;plugins/jquery.date-helpers.min.js;plugins/jquery.slug.min.js;plugins/jquery.slug-preview.min.js;plugins/jquery.truncator.min.js;plugins/jquery.masonry.min.js;plugins/jquery.form-warning.min.js;plugins/jquery.images-loaded.min.js;sandbox.min.js;module.min.js;pubsub.min.js;client.min.js;notify.min.js;i18n.min.js;main.min.js;modules/select-switch.min.js;modules/slug-preview.min.js;modules/basic-form.min.js;modules/confirm-action.min.js;modules/api-info.min.js;modules/autocomplete.min.js;modules/custom-fields.min.js;modules/data-viewer.min.js;modules/table-selectable-rows.min.js;modules/resource-form.min.js;modules/resource-upload-field.min.js;modules/resource-reorder.min.js;modules/resource-view-reorder.min.js;modules/follow.min.js;modules/activity-stream.min.js;modules/dashboard.min.js;modules/resource-view-embed.min.js;view-filters.min.js;modules/resource-view-filters-form.min.js;modules/resource-view-filters.min.js;modules/table-toggle-more.min.js;modules/dataset-visibility.min.js;modules/media-grid.min.js;modules/image-upload.min.js;modules/followers-counter.min.js\" type=\"text/javascript\"></script>\n",
       "<script src=\"/fanstatic/base/:version:2021-11-17T06:50:23.40/tracking.min.js\" type=\"text/javascript\"></script>\n",
       "<script src=\"/fanstatic/datagovtheme/:version:2021-11-17T06:50:26.05/:bundle:scripts/vendor/leaflet/leaflet.js;scripts/vendor/leaflet.draw/leaflet.draw.js;scripts/spatial_query.js;scripts/location_autocomplete.js\" type=\"text/javascript\"></script>\n",
       "<!--[if lte ie 9]><script type=\"text/javascript\" src=\"/fanstatic/datagovtheme/:version:2021-11-17T06:50:26.05/scripts/vendor/jquery.placeholder.js\"></script><![endif]-->\n",
       "<script src=\"/fanstatic/datagovtheme/:version:2021-11-17T06:50:26.05/scripts/jquery.cookie.js\" type=\"text/javascript\"></script>\n",
       "<script src=\"/fanstatic/datagovtheme/:version:2021-11-17T06:50:26.05/scripts/datagovtheme.js\" type=\"text/javascript\"></script>\n",
       "<script src=\"/fanstatic/datagovtheme/:version:2021-11-17T06:50:26.05/:bundle:scripts/tracking.js;scripts/hideMaxListItem.js;scripts/sorting.js\" type=\"text/javascript\"></script>\n",
       "<script src=\"/fanstatic/googleanalyticsbasic/:version:2021-11-17T06:50:30.55/googleanalyticsbasic_events.js\" type=\"text/javascript\"></script></body>"
      ]
     },
     "execution_count": 6,
     "metadata": {},
     "output_type": "execute_result"
    }
   ],
   "source": [
    "clim.body"
   ]
  },
  {
   "cell_type": "code",
   "execution_count": 7,
   "metadata": {
    "slideshow": {
     "slide_type": "slide"
    }
   },
   "outputs": [
    {
     "name": "stdout",
     "output_type": "stream",
     "text": [
      "<div class=\"dataset-content\">\n",
      " <div class=\"organization-type-wrap\">\n",
      "  <span class=\"organization-type\" data-organization-type=\"federal\" title=\"Federal Government\">\n",
      "   <span>\n",
      "    Federal\n",
      "   </span>\n",
      "  </span>\n",
      " </div>\n",
      " <h3 class=\"dataset-heading\">\n",
      "  <a href=\"/dataset/aster-global-digital-elevation-model-v003\">\n",
      "   ASTER Global Digital Elevation Model V003\n",
      "  </a>\n",
      " </h3>\n",
      " <div class=\"notes\">\n",
      "  <p class=\"dataset-organization\">\n",
      "   National Aeronautics and Space Administration —\n",
      "  </p>\n",
      "  <div>\n",
      "   The ASTER Global Digital Elevation Model (GDEM) Version 3 (ASTGTM) provides a global digital elevation model (DEM) of land areas on Earth at a spatial resolution of...\n",
      "  </div>\n",
      " </div>\n",
      " <ul class=\"dataset-resources unstyled\">\n",
      "  <li>\n",
      "   <a class=\"label label-default\" data-format=\"html\" data-organization=\"National Aeronautics and Space Administration\" href=\"https://scholar.google.com/scholar?q=10.5067%2FASTER%2FASTGTM.003\" target=\"_blank\">\n",
      "    HTML\n",
      "   </a>\n",
      "  </li>\n",
      "  <li>\n",
      "   <a class=\"label label-default\" data-format=\"html\" data-organization=\"National Aeronautics and Space Administration\" href=\"https://doi.org/10.5067/ASTER/ASTGTM.003\" target=\"_blank\">\n",
      "    HTML\n",
      "   </a>\n",
      "  </li>\n",
      "  <li>\n",
      "   <a class=\"label label-default\" data-format=\"html\" data-organization=\"National Aeronautics and Space Administration\" href=\"https://lpdaac.usgs.gov\" target=\"_blank\">\n",
      "    HTML\n",
      "   </a>\n",
      "  </li>\n",
      "  <li>\n",
      "   <a class=\"label label-default\" data-format=\"html\" data-organization=\"National Aeronautics and Space Administration\" href=\"http://asterweb.jpl.nasa.gov/\" target=\"_blank\">\n",
      "    HTML\n",
      "   </a>\n",
      "  </li>\n",
      "  <li>\n",
      "   <a class=\"label label-default\" data-format=\"html\" data-organization=\"National Aeronautics and Space Administration\" href=\"https://search.earthdata.nasa.gov/search?q=C1575726572-LPDAAC_ECS\" target=\"_blank\">\n",
      "    HTML\n",
      "   </a>\n",
      "  </li>\n",
      "  <li>\n",
      "   <a class=\"label label-default\" data-format=\"pdf\" data-organization=\"National Aeronautics and Space Administration\" href=\"https://lpdaac.usgs.gov/documents/434/ASTGTM_User_Guide_V3.pdf\">\n",
      "    PDF\n",
      "   </a>\n",
      "  </li>\n",
      "  <li>\n",
      "   <a class=\"more\" href=\"/dataset/aster-global-digital-elevation-model-v003\">\n",
      "    2 more in dataset\n",
      "   </a>\n",
      "  </li>\n",
      " </ul>\n",
      "</div>\n",
      "\n"
     ]
    }
   ],
   "source": [
    "collset_content = clim.find_all(name='div',attrs={'class':'dataset-content'})\n",
    "collset1 = collset_content[0]\n",
    "print(collset1.prettify())"
   ]
  },
  {
   "cell_type": "code",
   "execution_count": 8,
   "metadata": {
    "slideshow": {
     "slide_type": "slide"
    }
   },
   "outputs": [
    {
     "data": {
      "text/plain": [
       "('div', {'class': ['dataset-content']}, ['dataset-content'])"
      ]
     },
     "execution_count": 8,
     "metadata": {},
     "output_type": "execute_result"
    }
   ],
   "source": [
    "collset1.name, collset1.attrs, collset1['class']"
   ]
  },
  {
   "cell_type": "code",
   "execution_count": 9,
   "metadata": {
    "slideshow": {
     "slide_type": "fragment"
    }
   },
   "outputs": [
    {
     "name": "stdout",
     "output_type": "stream",
     "text": [
      "<a href=\"/dataset/aster-global-digital-elevation-model-v003\">ASTER Global Digital Elevation Model V003</a>\n",
      "<a class=\"label label-default\" data-format=\"html\" data-organization=\"National Aeronautics and Space Administration\" href=\"https://scholar.google.com/scholar?q=10.5067%2FASTER%2FASTGTM.003\" target=\"_blank\">HTML</a>\n"
     ]
    }
   ],
   "source": [
    "aset1 = collset1.find_all('a')\n",
    "print(aset1[0])\n",
    "print(aset1[1])"
   ]
  },
  {
   "cell_type": "markdown",
   "metadata": {
    "slideshow": {
     "slide_type": "slide"
    }
   },
   "source": [
    "Here is the title of the dataset collection, let's make a script to extract the title and href's from the 'a' tags."
   ]
  },
  {
   "cell_type": "code",
   "execution_count": 10,
   "metadata": {
    "slideshow": {
     "slide_type": "fragment"
    }
   },
   "outputs": [
    {
     "data": {
      "text/plain": [
       "'ASTER Global Digital Elevation Model V003'"
      ]
     },
     "execution_count": 10,
     "metadata": {},
     "output_type": "execute_result"
    }
   ],
   "source": [
    "aset1[0].text"
   ]
  },
  {
   "cell_type": "code",
   "execution_count": 11,
   "metadata": {
    "slideshow": {
     "slide_type": "fragment"
    }
   },
   "outputs": [
    {
     "data": {
      "text/plain": [
       "{'href': '/dataset/aster-global-digital-elevation-model-v003'}"
      ]
     },
     "execution_count": 11,
     "metadata": {},
     "output_type": "execute_result"
    }
   ],
   "source": [
    "aset1[0].attrs"
   ]
  },
  {
   "cell_type": "code",
   "execution_count": 12,
   "metadata": {
    "slideshow": {
     "slide_type": "slide"
    }
   },
   "outputs": [],
   "source": [
    "adict = {'label':[],'coll':[],'more':[]}\n",
    "for a in aset1:\n",
    "    try:\n",
    "        adict[a['class'][0]].append(a['href'])\n",
    "    except KeyError:\n",
    "        adict['coll'].append(a['href'])\n",
    "        collname = a.text.strip()"
   ]
  },
  {
   "cell_type": "code",
   "execution_count": 13,
   "metadata": {
    "slideshow": {
     "slide_type": "fragment"
    }
   },
   "outputs": [
    {
     "data": {
      "text/plain": [
       "'ASTER Global Digital Elevation Model V003'"
      ]
     },
     "execution_count": 13,
     "metadata": {},
     "output_type": "execute_result"
    }
   ],
   "source": [
    "collname"
   ]
  },
  {
   "cell_type": "code",
   "execution_count": 14,
   "metadata": {
    "slideshow": {
     "slide_type": "fragment"
    }
   },
   "outputs": [
    {
     "data": {
      "text/plain": [
       "{'label': ['https://scholar.google.com/scholar?q=10.5067%2FASTER%2FASTGTM.003',\n",
       "  'https://doi.org/10.5067/ASTER/ASTGTM.003',\n",
       "  'https://lpdaac.usgs.gov',\n",
       "  'http://asterweb.jpl.nasa.gov/',\n",
       "  'https://search.earthdata.nasa.gov/search?q=C1575726572-LPDAAC_ECS',\n",
       "  'https://lpdaac.usgs.gov/documents/434/ASTGTM_User_Guide_V3.pdf'],\n",
       " 'coll': ['/dataset/aster-global-digital-elevation-model-v003'],\n",
       " 'more': ['/dataset/aster-global-digital-elevation-model-v003']}"
      ]
     },
     "execution_count": 14,
     "metadata": {},
     "output_type": "execute_result"
    }
   ],
   "source": [
    "adict"
   ]
  },
  {
   "cell_type": "markdown",
   "metadata": {
    "slideshow": {
     "slide_type": "slide"
    }
   },
   "source": [
    "We are also able to get the description component of the collection."
   ]
  },
  {
   "cell_type": "code",
   "execution_count": 15,
   "metadata": {
    "slideshow": {
     "slide_type": "fragment"
    }
   },
   "outputs": [],
   "source": [
    "collnotes = collset1.find('div',attrs={'class':'notes'})"
   ]
  },
  {
   "cell_type": "code",
   "execution_count": 16,
   "metadata": {
    "slideshow": {
     "slide_type": "fragment"
    }
   },
   "outputs": [
    {
     "name": "stdout",
     "output_type": "stream",
     "text": [
      "<div class=\"notes\">\n",
      " <p class=\"dataset-organization\">\n",
      "  National Aeronautics and Space Administration —\n",
      " </p>\n",
      " <div>\n",
      "  The ASTER Global Digital Elevation Model (GDEM) Version 3 (ASTGTM) provides a global digital elevation model (DEM) of land areas on Earth at a spatial resolution of...\n",
      " </div>\n",
      "</div>\n",
      "\n"
     ]
    }
   ],
   "source": [
    "print(collnotes.prettify())"
   ]
  },
  {
   "cell_type": "code",
   "execution_count": 17,
   "metadata": {
    "slideshow": {
     "slide_type": "slide"
    }
   },
   "outputs": [
    {
     "data": {
      "text/plain": [
       "'National Aeronautics and Space Administration —'"
      ]
     },
     "execution_count": 17,
     "metadata": {},
     "output_type": "execute_result"
    }
   ],
   "source": [
    "collnotes.p.text.strip()"
   ]
  },
  {
   "cell_type": "code",
   "execution_count": 18,
   "metadata": {
    "slideshow": {
     "slide_type": "fragment"
    }
   },
   "outputs": [
    {
     "data": {
      "text/plain": [
       "'The ASTER Global Digital Elevation Model (GDEM) Version 3 (ASTGTM) provides a global digital elevation model (DEM) of land areas on Earth at a spatial resolution of...'"
      ]
     },
     "execution_count": 18,
     "metadata": {},
     "output_type": "execute_result"
    }
   ],
   "source": [
    "collnotes.div.text.strip()"
   ]
  },
  {
   "cell_type": "code",
   "execution_count": 19,
   "metadata": {
    "slideshow": {
     "slide_type": "fragment"
    }
   },
   "outputs": [],
   "source": [
    "collorg = collnotes.p.text.strip()\n",
    "colldesc = collnotes.div.text.strip()"
   ]
  },
  {
   "cell_type": "markdown",
   "metadata": {
    "slideshow": {
     "slide_type": "fragment"
    }
   },
   "source": [
    "Now that we have some code to process the collection html, let's create a def to modularize this section."
   ]
  },
  {
   "cell_type": "code",
   "execution_count": 20,
   "metadata": {
    "slideshow": {
     "slide_type": "slide"
    }
   },
   "outputs": [],
   "source": [
    "def process_collset(collset1):\n",
    "    \"\"\"\n",
    "    Processes the data.gov html within the tags <div class = dataset-content>...\n",
    "    Input: html string\n",
    "    Output: tuple of title (string), organization (string), \n",
    "      description (string), hrefs (dictionary)\n",
    "    \"\"\"\n",
    "    aset1 = collset1.find_all('a')\n",
    "    adict = {'label':[],'coll':[],'more':[]}\n",
    "    for a in aset1:\n",
    "        try:\n",
    "            adict[a['class'][0]].append(a['href'])\n",
    "        except KeyError:\n",
    "            adict['coll'].append(a['href'])\n",
    "            collname = a.text.strip()\n",
    "    collnotes = collset1.find('div',attrs={'class':'notes'})\n",
    "    collorg = collnotes.p.text.strip()\n",
    "    colldescdiv = collnotes.div\n",
    "    if colldescdiv:\n",
    "        colldesc = colldescdiv.text.strip()\n",
    "    else:\n",
    "        colldesc = \"\"\n",
    "    return collname, collorg, colldesc, adict"
   ]
  },
  {
   "cell_type": "code",
   "execution_count": 21,
   "metadata": {
    "slideshow": {
     "slide_type": "slide"
    }
   },
   "outputs": [
    {
     "name": "stdout",
     "output_type": "stream",
     "text": [
      "Help on function process_collset in module __main__:\n",
      "\n",
      "process_collset(collset1)\n",
      "    Processes the data.gov html within the tags <div class = dataset-content>...\n",
      "    Input: html string\n",
      "    Output: tuple of title (string), organization (string), \n",
      "      description (string), hrefs (dictionary)\n",
      "\n"
     ]
    }
   ],
   "source": [
    "help(process_collset)"
   ]
  },
  {
   "cell_type": "code",
   "execution_count": 22,
   "metadata": {
    "slideshow": {
     "slide_type": "slide"
    }
   },
   "outputs": [],
   "source": [
    "collname, collorg, colldesc, adict = process_collset(collset1)"
   ]
  },
  {
   "cell_type": "code",
   "execution_count": 23,
   "metadata": {
    "slideshow": {
     "slide_type": "fragment"
    }
   },
   "outputs": [
    {
     "data": {
      "text/plain": [
       "'ASTER Global Digital Elevation Model V003'"
      ]
     },
     "execution_count": 23,
     "metadata": {},
     "output_type": "execute_result"
    }
   ],
   "source": [
    "collname"
   ]
  },
  {
   "cell_type": "code",
   "execution_count": 24,
   "metadata": {
    "slideshow": {
     "slide_type": "fragment"
    }
   },
   "outputs": [
    {
     "data": {
      "text/plain": [
       "'National Aeronautics and Space Administration —'"
      ]
     },
     "execution_count": 24,
     "metadata": {},
     "output_type": "execute_result"
    }
   ],
   "source": [
    "collorg"
   ]
  },
  {
   "cell_type": "code",
   "execution_count": 25,
   "metadata": {
    "slideshow": {
     "slide_type": "fragment"
    }
   },
   "outputs": [
    {
     "data": {
      "text/plain": [
       "'The ASTER Global Digital Elevation Model (GDEM) Version 3 (ASTGTM) provides a global digital elevation model (DEM) of land areas on Earth at a spatial resolution of...'"
      ]
     },
     "execution_count": 25,
     "metadata": {},
     "output_type": "execute_result"
    }
   ],
   "source": [
    "colldesc"
   ]
  },
  {
   "cell_type": "code",
   "execution_count": 26,
   "metadata": {
    "slideshow": {
     "slide_type": "slide"
    }
   },
   "outputs": [
    {
     "data": {
      "text/plain": [
       "{'label': ['https://scholar.google.com/scholar?q=10.5067%2FASTER%2FASTGTM.003',\n",
       "  'https://doi.org/10.5067/ASTER/ASTGTM.003',\n",
       "  'https://lpdaac.usgs.gov',\n",
       "  'http://asterweb.jpl.nasa.gov/',\n",
       "  'https://search.earthdata.nasa.gov/search?q=C1575726572-LPDAAC_ECS',\n",
       "  'https://lpdaac.usgs.gov/documents/434/ASTGTM_User_Guide_V3.pdf'],\n",
       " 'coll': ['/dataset/aster-global-digital-elevation-model-v003'],\n",
       " 'more': ['/dataset/aster-global-digital-elevation-model-v003']}"
      ]
     },
     "execution_count": 26,
     "metadata": {},
     "output_type": "execute_result"
    }
   ],
   "source": [
    "adict"
   ]
  },
  {
   "cell_type": "code",
   "execution_count": 27,
   "metadata": {
    "slideshow": {
     "slide_type": "slide"
    }
   },
   "outputs": [
    {
     "name": "stdout",
     "output_type": "stream",
     "text": [
      "ASTER Global Digital Elevation Model V003\n",
      "MODIS/Aqua Near Real Time (NRT) Sea Ice Extent 5-Min L2 Swath 1km\n",
      "MODIS/Terra+Aqua L3 Value-added Aerosol Optical Depth - NRT\n",
      "NLDAS Mosaic Land Surface Model L4 Hourly 0.125 x 0.125 degree V002 (NLDAS_MOS0125_H) at GES DISC\n",
      "Near-Real-Time SSM/I EASE-Grid Daily Global Ice Concentration and Snow Extent V002\n",
      "NLDAS Secondary Forcing Data L4 Monthly 0.125 x 0.125 degree V002 (NLDAS_FORB0125_M) at GES DISC\n",
      "NLDAS Secondary Forcing Data L4 Monthly Climatology 0.125 x 0.125 degree V002 (NLDAS_FORB0125_MC) at GES DISC\n",
      "IceBridge Ku-Band Radar L1B Geolocated Radar Echo Strength Profiles V002\n",
      "IceBridge CAMBOT L1B Geolocated Images V001\n",
      "IceBridge Narrow Swath ATM L1B Elevation and Return Strength V002\n",
      "NOAA/NSIDC Climate Data Record of Passive Microwave Sea Ice Concentration, Version 3\n",
      "IceBridge Radar L3 Tomographic Ice Thickness V002\n",
      "IceBridge Riegl Laser Altimeter L1B Time-Tagged Laser Ranges V001\n",
      "IceBridge Scintrex CS-3 Cesium Magnetometer L1B Geolocated Magnetic Anomalies V002\n",
      "Global Organic Soil Carbon and Nitrogen (Zinke et al.)\n",
      "Sea Ice Trends and Climatologies from SMMR and SSM/I-SSMIS, Version 3\n",
      "CLPX-Ground: ISA Snow Depth Transects and Related Measurements, Version 2\n",
      "IceBridge ATM L0 Raw Ranges, Version 1\n",
      "Quick Stats Agricultural Database API\n",
      "GLDAS Noah Land Surface Model L4 3 hourly 1.0 x 1.0 degree V2.0 (GLDAS_NOAH10_3H) at GES DISC\n"
     ]
    }
   ],
   "source": [
    "for collset in collset_content:\n",
    "    collname = process_collset(collset)[0]\n",
    "    print(collname)"
   ]
  },
  {
   "cell_type": "markdown",
   "metadata": {
    "slideshow": {
     "slide_type": "slide"
    }
   },
   "source": [
    "Let's modularize the queries from data.gov."
   ]
  },
  {
   "cell_type": "code",
   "execution_count": 28,
   "metadata": {
    "slideshow": {
     "slide_type": "fragment"
    }
   },
   "outputs": [],
   "source": [
    "def clim_page(urlbase = \"https://catalog.data.gov/dataset\", groups=\"climate5434\",\n",
    "              page=1):\n",
    "    \"\"\"\n",
    "    Queries the data.gov climate change data search for a specific page\n",
    "    Input: urlbase, groups, page (strings)\n",
    "    Output: list of dataset-content \n",
    "    \"\"\"\n",
    "    dataparams = {\"groups\":groups,\"page\":page}\n",
    "    climreq = requests.get(urlbase,params = dataparams)\n",
    "    clim_bs = BeautifulSoup(climreq.text,'lxml')\n",
    "    collset_content = clim_bs.find_all(name='div',attrs={'class':'dataset-content'})\n",
    "    return collset_content"
   ]
  },
  {
   "cell_type": "code",
   "execution_count": 29,
   "metadata": {
    "slideshow": {
     "slide_type": "slide"
    }
   },
   "outputs": [],
   "source": [
    "clim = clim_page(page=2)"
   ]
  },
  {
   "cell_type": "code",
   "execution_count": 30,
   "metadata": {
    "slideshow": {
     "slide_type": "fragment"
    }
   },
   "outputs": [
    {
     "name": "stdout",
     "output_type": "stream",
     "text": [
      "['GLDAS Noah Land Surface Model L4 monthly 0.25 x 0.25 degree V2.0 (GLDAS_NOAH025_M) at GES DISC', 'Global Fire Emissions Database, Version 4.1 (GFEDv4)', 'Global Annual Freezing and Thawing Indices, Version 1', 'MyPyramid Food Raw Data', 'Production, Supply, and Distribution Database', 'Global Agricultural Information Network', 'IceBridge LVIS L0 Raw Ranges V001', 'NLDAS Forcing Data L4 Monthly 0.125 x 0.125 degree V001 (NLDAS_FOR0125_M) at GES DISC', 'NLDAS Secondary Forcing Data L4 Hourly 0.125 x 0.125 degree V002 (NLDAS_FORB0125_H) at GES DISC', 'IceBridge Sander AIRGrav L1B Geolocated Free Air Gravity Anomalies V001', 'IceBridge LVIS L1B Geolocated Return Energy Waveforms V002', 'IceBridge NSERC L1B Geolocated Meteorologic and Surface Temperature Data, Version 1', 'IceBridge MCoRDS L3 Gridded Ice Thickness, Surface, and Bottom V002', 'Historical Arctic and Antarctic Surface Observational Data, Version 1', 'AMSRIce03 Sea Ice Thickness Data, Version 1', 'Tropospheric Emission Spectrometer (TES) Data', 'IceBridge UAF Lidar Profiler L1B Geolocated Surface Elevation Triplets V001', 'IceBridge DMS L0 Raw Imagery, Version 1', 'Greenland Climate Network (GC-Net) Radiation for Arctic System Reanalysis, Version 1', 'IceBridge Scintrex CS-3 Cesium Magnetometer L0 Raw Magnetic Field, Version 1']\n"
     ]
    }
   ],
   "source": [
    "print([process_collset(c)[0] for c in clim])"
   ]
  },
  {
   "cell_type": "markdown",
   "metadata": {
    "slideshow": {
     "slide_type": "slide"
    }
   },
   "source": [
    "Here we extract all of the pages from the climate group from data.gov."
   ]
  },
  {
   "cell_type": "code",
   "execution_count": 31,
   "metadata": {
    "slideshow": {
     "slide_type": "fragment"
    }
   },
   "outputs": [],
   "source": [
    "page_num_max = 34\n",
    "climate_colls = []\n",
    "for page_num in range(1,page_num_max+1):\n",
    "    try:\n",
    "        clim = clim_page(page=page_num)\n",
    "        if clim != None:\n",
    "            climate_colls += [process_collset(c) for c in clim]\n",
    "        else:\n",
    "            break\n",
    "    except requests.HTTPError:\n",
    "        break"
   ]
  },
  {
   "cell_type": "code",
   "execution_count": 32,
   "metadata": {
    "slideshow": {
     "slide_type": "slide"
    }
   },
   "outputs": [
    {
     "data": {
      "text/plain": [
       "401"
      ]
     },
     "execution_count": 32,
     "metadata": {},
     "output_type": "execute_result"
    }
   ],
   "source": [
    "len(climate_colls)"
   ]
  },
  {
   "cell_type": "code",
   "execution_count": 33,
   "metadata": {
    "slideshow": {
     "slide_type": "fragment"
    }
   },
   "outputs": [
    {
     "data": {
      "text/plain": [
       "{'label': ['https://scholar.google.com/scholar?q=10.5067%2FASTER%2FASTGTM.003',\n",
       "  'https://doi.org/10.5067/ASTER/ASTGTM.003',\n",
       "  'https://lpdaac.usgs.gov',\n",
       "  'http://asterweb.jpl.nasa.gov/',\n",
       "  'https://search.earthdata.nasa.gov/search?q=C1575726572-LPDAAC_ECS',\n",
       "  'https://lpdaac.usgs.gov/documents/434/ASTGTM_User_Guide_V3.pdf'],\n",
       " 'coll': ['/dataset/aster-global-digital-elevation-model-v003'],\n",
       " 'more': ['/dataset/aster-global-digital-elevation-model-v003']}"
      ]
     },
     "execution_count": 33,
     "metadata": {},
     "output_type": "execute_result"
    }
   ],
   "source": [
    "climate_colls[0][3]"
   ]
  },
  {
   "cell_type": "markdown",
   "metadata": {
    "slideshow": {
     "slide_type": "slide"
    }
   },
   "source": [
    "I'll build a dataframe so that I can count the data collections by organization."
   ]
  },
  {
   "cell_type": "code",
   "execution_count": 34,
   "metadata": {
    "slideshow": {
     "slide_type": "fragment"
    }
   },
   "outputs": [],
   "source": [
    "climate_df = pd.DataFrame({'name':c[0],'organization':c[1],'description':c[2]}\n",
    "                          for c in climate_colls)"
   ]
  },
  {
   "cell_type": "code",
   "execution_count": 35,
   "metadata": {
    "slideshow": {
     "slide_type": "slide"
    }
   },
   "outputs": [
    {
     "data": {
      "text/html": [
       "<div>\n",
       "<style scoped>\n",
       "    .dataframe tbody tr th:only-of-type {\n",
       "        vertical-align: middle;\n",
       "    }\n",
       "\n",
       "    .dataframe tbody tr th {\n",
       "        vertical-align: top;\n",
       "    }\n",
       "\n",
       "    .dataframe thead th {\n",
       "        text-align: right;\n",
       "    }\n",
       "</style>\n",
       "<table border=\"1\" class=\"dataframe\">\n",
       "  <thead>\n",
       "    <tr style=\"text-align: right;\">\n",
       "      <th></th>\n",
       "      <th>name</th>\n",
       "      <th>organization</th>\n",
       "      <th>description</th>\n",
       "    </tr>\n",
       "  </thead>\n",
       "  <tbody>\n",
       "    <tr>\n",
       "      <th>0</th>\n",
       "      <td>ASTER Global Digital Elevation Model V003</td>\n",
       "      <td>National Aeronautics and Space Administration —</td>\n",
       "      <td>The ASTER Global Digital Elevation Model (GDEM...</td>\n",
       "    </tr>\n",
       "    <tr>\n",
       "      <th>1</th>\n",
       "      <td>MODIS/Aqua Near Real Time (NRT) Sea Ice Extent...</td>\n",
       "      <td>National Aeronautics and Space Administration —</td>\n",
       "      <td>MODIS Near Real Time (NRT) Sea Ice Extent 5-Mi...</td>\n",
       "    </tr>\n",
       "    <tr>\n",
       "      <th>2</th>\n",
       "      <td>MODIS/Terra+Aqua L3 Value-added Aerosol Optica...</td>\n",
       "      <td>National Aeronautics and Space Administration —</td>\n",
       "      <td>MODIS was launched aboard the Terra satellite ...</td>\n",
       "    </tr>\n",
       "    <tr>\n",
       "      <th>3</th>\n",
       "      <td>NLDAS Mosaic Land Surface Model L4 Hourly 0.12...</td>\n",
       "      <td>National Aeronautics and Space Administration —</td>\n",
       "      <td>This data set contains a series of land surfac...</td>\n",
       "    </tr>\n",
       "    <tr>\n",
       "      <th>4</th>\n",
       "      <td>Near-Real-Time SSM/I EASE-Grid Daily Global Ic...</td>\n",
       "      <td>National Aeronautics and Space Administration —</td>\n",
       "      <td>The Near-real-time Ice and Snow Extent (NISE) ...</td>\n",
       "    </tr>\n",
       "    <tr>\n",
       "      <th>...</th>\n",
       "      <td>...</td>\n",
       "      <td>...</td>\n",
       "      <td>...</td>\n",
       "    </tr>\n",
       "    <tr>\n",
       "      <th>396</th>\n",
       "      <td>Travel Monitoring Analysis System (TMAS) (Nati...</td>\n",
       "      <td>Department of Transportation —</td>\n",
       "      <td>The Travel Monitoring Analysis System (TMAS) d...</td>\n",
       "    </tr>\n",
       "    <tr>\n",
       "      <th>397</th>\n",
       "      <td>Intermodal Passenger Connectivity Database (IP...</td>\n",
       "      <td>Department of Transportation —</td>\n",
       "      <td>The IPCD is November 4, 2019 and is a nationwi...</td>\n",
       "    </tr>\n",
       "    <tr>\n",
       "      <th>398</th>\n",
       "      <td>Navigable Waterway Nodes (National) - National...</td>\n",
       "      <td>Department of Transportation —</td>\n",
       "      <td>The Navigable Waterway Nodes dataset is June 2...</td>\n",
       "    </tr>\n",
       "    <tr>\n",
       "      <th>399</th>\n",
       "      <td>Ports (National) - National Geospatial Data As...</td>\n",
       "      <td>Department of Transportation —</td>\n",
       "      <td>The Ports dataset June 26, 2019 is part of the...</td>\n",
       "    </tr>\n",
       "    <tr>\n",
       "      <th>400</th>\n",
       "      <td>North American Rail Lines (National) - Nationa...</td>\n",
       "      <td>Department of Transportation —</td>\n",
       "      <td>The Rail Network is a comprehensive database o...</td>\n",
       "    </tr>\n",
       "  </tbody>\n",
       "</table>\n",
       "<p>401 rows × 3 columns</p>\n",
       "</div>"
      ],
      "text/plain": [
       "                                                  name  \\\n",
       "0            ASTER Global Digital Elevation Model V003   \n",
       "1    MODIS/Aqua Near Real Time (NRT) Sea Ice Extent...   \n",
       "2    MODIS/Terra+Aqua L3 Value-added Aerosol Optica...   \n",
       "3    NLDAS Mosaic Land Surface Model L4 Hourly 0.12...   \n",
       "4    Near-Real-Time SSM/I EASE-Grid Daily Global Ic...   \n",
       "..                                                 ...   \n",
       "396  Travel Monitoring Analysis System (TMAS) (Nati...   \n",
       "397  Intermodal Passenger Connectivity Database (IP...   \n",
       "398  Navigable Waterway Nodes (National) - National...   \n",
       "399  Ports (National) - National Geospatial Data As...   \n",
       "400  North American Rail Lines (National) - Nationa...   \n",
       "\n",
       "                                        organization  \\\n",
       "0    National Aeronautics and Space Administration —   \n",
       "1    National Aeronautics and Space Administration —   \n",
       "2    National Aeronautics and Space Administration —   \n",
       "3    National Aeronautics and Space Administration —   \n",
       "4    National Aeronautics and Space Administration —   \n",
       "..                                               ...   \n",
       "396                   Department of Transportation —   \n",
       "397                   Department of Transportation —   \n",
       "398                   Department of Transportation —   \n",
       "399                   Department of Transportation —   \n",
       "400                   Department of Transportation —   \n",
       "\n",
       "                                           description  \n",
       "0    The ASTER Global Digital Elevation Model (GDEM...  \n",
       "1    MODIS Near Real Time (NRT) Sea Ice Extent 5-Mi...  \n",
       "2    MODIS was launched aboard the Terra satellite ...  \n",
       "3    This data set contains a series of land surfac...  \n",
       "4    The Near-real-time Ice and Snow Extent (NISE) ...  \n",
       "..                                                 ...  \n",
       "396  The Travel Monitoring Analysis System (TMAS) d...  \n",
       "397  The IPCD is November 4, 2019 and is a nationwi...  \n",
       "398  The Navigable Waterway Nodes dataset is June 2...  \n",
       "399  The Ports dataset June 26, 2019 is part of the...  \n",
       "400  The Rail Network is a comprehensive database o...  \n",
       "\n",
       "[401 rows x 3 columns]"
      ]
     },
     "execution_count": 35,
     "metadata": {},
     "output_type": "execute_result"
    }
   ],
   "source": [
    "climate_df"
   ]
  },
  {
   "cell_type": "code",
   "execution_count": 36,
   "metadata": {
    "slideshow": {
     "slide_type": "slide"
    }
   },
   "outputs": [],
   "source": [
    "org_count = climate_df.groupby('organization').count()"
   ]
  },
  {
   "cell_type": "code",
   "execution_count": 37,
   "metadata": {
    "slideshow": {
     "slide_type": "fragment"
    }
   },
   "outputs": [
    {
     "data": {
      "text/html": [
       "<div>\n",
       "<style scoped>\n",
       "    .dataframe tbody tr th:only-of-type {\n",
       "        vertical-align: middle;\n",
       "    }\n",
       "\n",
       "    .dataframe tbody tr th {\n",
       "        vertical-align: top;\n",
       "    }\n",
       "\n",
       "    .dataframe thead th {\n",
       "        text-align: right;\n",
       "    }\n",
       "</style>\n",
       "<table border=\"1\" class=\"dataframe\">\n",
       "  <thead>\n",
       "    <tr style=\"text-align: right;\">\n",
       "      <th></th>\n",
       "      <th>name</th>\n",
       "      <th>description</th>\n",
       "    </tr>\n",
       "    <tr>\n",
       "      <th>organization</th>\n",
       "      <th></th>\n",
       "      <th></th>\n",
       "    </tr>\n",
       "  </thead>\n",
       "  <tbody>\n",
       "    <tr>\n",
       "      <th>National Aeronautics and Space Administration —</th>\n",
       "      <td>131</td>\n",
       "      <td>131</td>\n",
       "    </tr>\n",
       "    <tr>\n",
       "      <th>Department of Agriculture —</th>\n",
       "      <td>61</td>\n",
       "      <td>61</td>\n",
       "    </tr>\n",
       "    <tr>\n",
       "      <th>U.S. Environmental Protection Agency —</th>\n",
       "      <td>60</td>\n",
       "      <td>60</td>\n",
       "    </tr>\n",
       "    <tr>\n",
       "      <th>National Oceanic and Atmospheric Administration, Department of Commerce —</th>\n",
       "      <td>32</td>\n",
       "      <td>32</td>\n",
       "    </tr>\n",
       "    <tr>\n",
       "      <th>U.S. Department of Health &amp; Human Services —</th>\n",
       "      <td>27</td>\n",
       "      <td>27</td>\n",
       "    </tr>\n",
       "    <tr>\n",
       "      <th>Department of Transportation —</th>\n",
       "      <td>25</td>\n",
       "      <td>25</td>\n",
       "    </tr>\n",
       "    <tr>\n",
       "      <th>Department of Energy —</th>\n",
       "      <td>14</td>\n",
       "      <td>14</td>\n",
       "    </tr>\n",
       "    <tr>\n",
       "      <th>Department of Commerce —</th>\n",
       "      <td>13</td>\n",
       "      <td>13</td>\n",
       "    </tr>\n",
       "    <tr>\n",
       "      <th>Federal Geographic Data Committee —</th>\n",
       "      <td>10</td>\n",
       "      <td>10</td>\n",
       "    </tr>\n",
       "    <tr>\n",
       "      <th>US Census Bureau, Department of Commerce —</th>\n",
       "      <td>8</td>\n",
       "      <td>8</td>\n",
       "    </tr>\n",
       "    <tr>\n",
       "      <th>U.S. Geological Survey, Department of the Interior —</th>\n",
       "      <td>6</td>\n",
       "      <td>6</td>\n",
       "    </tr>\n",
       "    <tr>\n",
       "      <th>Department of Homeland Security —</th>\n",
       "      <td>5</td>\n",
       "      <td>5</td>\n",
       "    </tr>\n",
       "    <tr>\n",
       "      <th>Department of Defense —</th>\n",
       "      <td>3</td>\n",
       "      <td>3</td>\n",
       "    </tr>\n",
       "    <tr>\n",
       "      <th>Department of Housing and Urban Development —</th>\n",
       "      <td>2</td>\n",
       "      <td>2</td>\n",
       "    </tr>\n",
       "    <tr>\n",
       "      <th>Pennsylvania Geospatial Data Clearinghouse —</th>\n",
       "      <td>2</td>\n",
       "      <td>2</td>\n",
       "    </tr>\n",
       "    <tr>\n",
       "      <th>City of New York —</th>\n",
       "      <td>1</td>\n",
       "      <td>1</td>\n",
       "    </tr>\n",
       "    <tr>\n",
       "      <th>Federal Emergency Management Agency, Department of Homeland Security —</th>\n",
       "      <td>1</td>\n",
       "      <td>1</td>\n",
       "    </tr>\n",
       "  </tbody>\n",
       "</table>\n",
       "</div>"
      ],
      "text/plain": [
       "                                                    name  description\n",
       "organization                                                         \n",
       "National Aeronautics and Space Administration —      131          131\n",
       "Department of Agriculture —                           61           61\n",
       "U.S. Environmental Protection Agency —                60           60\n",
       "National Oceanic and Atmospheric Administration...    32           32\n",
       "U.S. Department of Health & Human Services —          27           27\n",
       "Department of Transportation —                        25           25\n",
       "Department of Energy —                                14           14\n",
       "Department of Commerce —                              13           13\n",
       "Federal Geographic Data Committee —                   10           10\n",
       "US Census Bureau, Department of Commerce —             8            8\n",
       "U.S. Geological Survey, Department of the Inter...     6            6\n",
       "Department of Homeland Security —                      5            5\n",
       "Department of Defense —                                3            3\n",
       "Department of Housing and Urban Development —          2            2\n",
       "Pennsylvania Geospatial Data Clearinghouse —           2            2\n",
       "City of New York —                                     1            1\n",
       "Federal Emergency Management Agency, Department...     1            1"
      ]
     },
     "execution_count": 37,
     "metadata": {},
     "output_type": "execute_result"
    }
   ],
   "source": [
    "org_count.sort_values(by='name',ascending=False)"
   ]
  },
  {
   "cell_type": "code",
   "execution_count": 38,
   "metadata": {
    "slideshow": {
     "slide_type": "slide"
    }
   },
   "outputs": [],
   "source": [
    "org_count_abbr = org_count[org_count['name'] > 20]"
   ]
  },
  {
   "cell_type": "code",
   "execution_count": 39,
   "metadata": {
    "slideshow": {
     "slide_type": "fragment"
    }
   },
   "outputs": [],
   "source": [
    "rem_count = org_count[org_count['name'] <= 20].sum()[0]"
   ]
  },
  {
   "cell_type": "code",
   "execution_count": 40,
   "metadata": {
    "slideshow": {
     "slide_type": "fragment"
    }
   },
   "outputs": [
    {
     "data": {
      "text/plain": [
       "numpy.int64"
      ]
     },
     "execution_count": 40,
     "metadata": {},
     "output_type": "execute_result"
    }
   ],
   "source": [
    "type(rem_count)"
   ]
  },
  {
   "cell_type": "code",
   "execution_count": 41,
   "metadata": {
    "slideshow": {
     "slide_type": "slide"
    }
   },
   "outputs": [],
   "source": [
    "org_count_abbr = org_count_abbr.append(pd.DataFrame({'name':[rem_count]}, \n",
    "                                                    index=['Other']))\n",
    "org_count_abbr = org_count_abbr[['name']].rename(columns={'name':'count'})"
   ]
  },
  {
   "cell_type": "code",
   "execution_count": 42,
   "metadata": {
    "slideshow": {
     "slide_type": "slide"
    }
   },
   "outputs": [
    {
     "data": {
      "text/html": [
       "<div>\n",
       "<style scoped>\n",
       "    .dataframe tbody tr th:only-of-type {\n",
       "        vertical-align: middle;\n",
       "    }\n",
       "\n",
       "    .dataframe tbody tr th {\n",
       "        vertical-align: top;\n",
       "    }\n",
       "\n",
       "    .dataframe thead th {\n",
       "        text-align: right;\n",
       "    }\n",
       "</style>\n",
       "<table border=\"1\" class=\"dataframe\">\n",
       "  <thead>\n",
       "    <tr style=\"text-align: right;\">\n",
       "      <th></th>\n",
       "      <th>count</th>\n",
       "    </tr>\n",
       "  </thead>\n",
       "  <tbody>\n",
       "    <tr>\n",
       "      <th>Department of Agriculture —</th>\n",
       "      <td>61</td>\n",
       "    </tr>\n",
       "    <tr>\n",
       "      <th>Department of Transportation —</th>\n",
       "      <td>25</td>\n",
       "    </tr>\n",
       "    <tr>\n",
       "      <th>National Aeronautics and Space Administration —</th>\n",
       "      <td>131</td>\n",
       "    </tr>\n",
       "    <tr>\n",
       "      <th>National Oceanic and Atmospheric Administration, Department of Commerce —</th>\n",
       "      <td>32</td>\n",
       "    </tr>\n",
       "    <tr>\n",
       "      <th>U.S. Department of Health &amp; Human Services —</th>\n",
       "      <td>27</td>\n",
       "    </tr>\n",
       "    <tr>\n",
       "      <th>U.S. Environmental Protection Agency —</th>\n",
       "      <td>60</td>\n",
       "    </tr>\n",
       "    <tr>\n",
       "      <th>Other</th>\n",
       "      <td>65</td>\n",
       "    </tr>\n",
       "  </tbody>\n",
       "</table>\n",
       "</div>"
      ],
      "text/plain": [
       "                                                    count\n",
       "Department of Agriculture —                            61\n",
       "Department of Transportation —                         25\n",
       "National Aeronautics and Space Administration —       131\n",
       "National Oceanic and Atmospheric Administration...     32\n",
       "U.S. Department of Health & Human Services —           27\n",
       "U.S. Environmental Protection Agency —                 60\n",
       "Other                                                  65"
      ]
     },
     "execution_count": 42,
     "metadata": {},
     "output_type": "execute_result"
    }
   ],
   "source": [
    "org_count_abbr"
   ]
  },
  {
   "cell_type": "code",
   "execution_count": 43,
   "metadata": {
    "slideshow": {
     "slide_type": "slide"
    }
   },
   "outputs": [
    {
     "data": {
      "text/plain": [
       "<Figure size 720x576 with 0 Axes>"
      ]
     },
     "metadata": {},
     "output_type": "display_data"
    },
    {
     "data": {
      "image/png": "[encoded data removed]",
      "text/plain": [
       "<Figure size 576x432 with 1 Axes>"
      ]
     },
     "metadata": {
      "needs_background": "light"
     },
     "output_type": "display_data"
    }
   ],
   "source": [
    "plt.figure(figsize=(10,8))\n",
    "_ = org_count_abbr.sort_values(by='count',ascending=False).plot(y='count',kind='bar',figsize=(8,6))"
   ]
  },
  {
   "cell_type": "code",
   "execution_count": 44,
   "metadata": {
    "slideshow": {
     "slide_type": "slide"
    }
   },
   "outputs": [],
   "source": [
    "org_sorted = org_count_abbr.sort_values(by='count',ascending=False).index.values"
   ]
  },
  {
   "cell_type": "markdown",
   "metadata": {
    "slideshow": {
     "slide_type": "slide"
    }
   },
   "source": [
    "# Tracking the status of datasets\n",
    "\n",
    "The goal of this section is to look at the status of the datasets, and if they are able to be downloaded by following the link.  We can do this by checking the header for a http or ftp request.  Let's make some defs to query the dataset urls.  The first is for converting relative paths to urls, and the second returns the status of the request to that url."
   ]
  },
  {
   "cell_type": "code",
   "execution_count": 45,
   "metadata": {
    "slideshow": {
     "slide_type": "fragment"
    }
   },
   "outputs": [],
   "source": [
    "def reltoabs(url,urlbase = \"https://catalog.data.gov\"):\n",
    "    \"\"\"\n",
    "    Input: url string\n",
    "    Output: url string\n",
    "    \"\"\"\n",
    "    if url[0]=='/':\n",
    "        return urlbase+url\n",
    "    if (url[:6] == \"http:/\") and (not url[6] == \"/\"):\n",
    "        return \"http://\" + url[6:]\n",
    "    return url"
   ]
  },
  {
   "cell_type": "code",
   "execution_count": 46,
   "metadata": {
    "slideshow": {
     "slide_type": "slide"
    }
   },
   "outputs": [],
   "source": [
    "def testurl(url):\n",
    "    \"\"\"\n",
    "    Input: url\n",
    "    Output: request status code\n",
    "    \"\"\"\n",
    "    try:\n",
    "        if url[:4] == 'http':\n",
    "            r = requests.head(url)\n",
    "            return r.status_code\n",
    "        if url[:3] == 'ftp':\n",
    "            requests_ftp.monkeypatch_session()\n",
    "            s = requests.Session()\n",
    "            resp = s.list(url)\n",
    "            return resp.status_code\n",
    "    except requests.ConnectionError:\n",
    "        return None"
   ]
  },
  {
   "cell_type": "code",
   "execution_count": 47,
   "metadata": {
    "slideshow": {
     "slide_type": "slide"
    }
   },
   "outputs": [
    {
     "data": {
      "text/plain": [
       "['https://scholar.google.com/scholar?q=10.5067%2FASTER%2FASTGTM.003',\n",
       " 'https://doi.org/10.5067/ASTER/ASTGTM.003',\n",
       " 'https://lpdaac.usgs.gov',\n",
       " 'http://asterweb.jpl.nasa.gov/',\n",
       " 'https://search.earthdata.nasa.gov/search?q=C1575726572-LPDAAC_ECS',\n",
       " 'https://lpdaac.usgs.gov/documents/434/ASTGTM_User_Guide_V3.pdf']"
      ]
     },
     "execution_count": 47,
     "metadata": {},
     "output_type": "execute_result"
    }
   ],
   "source": [
    "[a for a in climate_colls[0][3]['label']]"
   ]
  },
  {
   "cell_type": "code",
   "execution_count": 48,
   "metadata": {
    "slideshow": {
     "slide_type": "slide"
    }
   },
   "outputs": [
    {
     "name": "stdout",
     "output_type": "stream",
     "text": [
      "ftp://sidads.colorado.edu/pub/DATASETS/NOAA/G02189/\n",
      "ftp://sidads.colorado.edu/pub/DATASETS/NOAA/G02172/\n",
      "ftp://sidads.colorado.edu/pub/DATASETS/NOAA/G02182/\n",
      "ftp://sidads.colorado.edu/pub/DATASETS/NOAA/G01358/\n",
      "ftp://sidads.colorado.edu/DATASETS/NOAA/G02203/\n",
      "ftp://sidads.colorado.edu/pub/DATASETS/NOAA/G02171/\n"
     ]
    }
   ],
   "source": [
    "urlstats=[]\n",
    "errors = []\n",
    "for coll in climate_colls:\n",
    "    urlstattemp = []\n",
    "    for urlrel in coll[3]['label']:\n",
    "        try:\n",
    "            url = reltoabs(urlrel)\n",
    "            urlstatus = testurl(url)\n",
    "            urlstattemp += [urlstatus]\n",
    "        except BaseException as e:\n",
    "            print(urlrel)\n",
    "            errors.append((e,urlrel))\n",
    "    urlstats.append(urlstattemp)"
   ]
  },
  {
   "cell_type": "code",
   "execution_count": 49,
   "metadata": {
    "slideshow": {
     "slide_type": "slide"
    }
   },
   "outputs": [
    {
     "data": {
      "text/plain": [
       "6"
      ]
     },
     "execution_count": 49,
     "metadata": {},
     "output_type": "execute_result"
    }
   ],
   "source": [
    "len(errors)"
   ]
  },
  {
   "cell_type": "code",
   "execution_count": 50,
   "metadata": {},
   "outputs": [
    {
     "data": {
      "text/plain": [
       "(ValueError(\"invalid literal for int() with base 10: '226-Options:'\"),\n",
       " 'ftp://sidads.colorado.edu/pub/DATASETS/NOAA/G02189/')"
      ]
     },
     "execution_count": 50,
     "metadata": {},
     "output_type": "execute_result"
    }
   ],
   "source": [
    "errors[0]"
   ]
  },
  {
   "cell_type": "code",
   "execution_count": 51,
   "metadata": {
    "slideshow": {
     "slide_type": "skip"
    }
   },
   "outputs": [
    {
     "data": {
      "text/plain": [
       "401"
      ]
     },
     "execution_count": 51,
     "metadata": {},
     "output_type": "execute_result"
    }
   ],
   "source": [
    "len(urlstats)"
   ]
  },
  {
   "cell_type": "markdown",
   "metadata": {
    "slideshow": {
     "slide_type": "slide"
    }
   },
   "source": [
    "We can see that urlstats contains the request status of the urls that are listed on data.gov.  So let's make a def that converts each list of status returns into a dict of counts of each type.  This way we can pass it to pd.DataFrame"
   ]
  },
  {
   "cell_type": "code",
   "execution_count": 52,
   "metadata": {
    "slideshow": {
     "slide_type": "slide"
    }
   },
   "outputs": [
    {
     "data": {
      "text/plain": [
       "[[200, 302, 200, None, 200, 200],\n",
       " [200, 200, 301, 200, 301],\n",
       " [200, 200, 301, 200],\n",
       " [200, 200, 301, 200, 200, 200],\n",
       " [200, 401, 200, 302],\n",
       " [200, 200, 301, 200, 200, 200],\n",
       " [200, 200, 301, 200, 200, 200],\n",
       " [200, 301, 401, 200, 301, 401],\n",
       " [200, 200, 401, 200, 200, 401],\n",
       " [200, 200, 401, 200, 302, 302],\n",
       " [200, 302, 302, 302],\n",
       " [200, 200, 401, 200, 302, 302],\n",
       " [200, 401, 200, 302, 302],\n",
       " [200, 301, 200, 302, 302],\n",
       " [200, 401, 200, 302, 200, 200],\n",
       " [200, 401, 401, 401, 401, 302],\n",
       " [200, 401, 401, 302, 302],\n",
       " [200, 401, 302, 302],\n",
       " [302],\n",
       " [200, 200, 301, 200, 200, 405],\n",
       " [200, 200, 301, 200, 200, 200],\n",
       " [200, 401, 200, 302, 200, 200],\n",
       " [200, 401, 302, 302],\n",
       " [302],\n",
       " [None],\n",
       " [None],\n",
       " [200, 200, 301, 200, 200, 301],\n",
       " [200, 200, 301, 302, 200, 200],\n",
       " [200, 200, 301, 200, 200, 200],\n",
       " [200, 301, 401, 200, 301, 401],\n",
       " [200, 200, 301, 200, 302, 302],\n",
       " [200, 401, 302, 302],\n",
       " [200, 301, 401, 301, 401, 301],\n",
       " [200, 401, 302, 302],\n",
       " [200, 401, 401, 302, 302],\n",
       " [301],\n",
       " [200, 200, 401, 200, 302, 302],\n",
       " [200, 401, 302, 302],\n",
       " [200, 401, 302, 302],\n",
       " [200, 401, 302, 302],\n",
       " [200, 302, 302, 302],\n",
       " [200],\n",
       " [301],\n",
       " [200, 200, 301, 302, 200, 200],\n",
       " [200, 401, 200, 302, 200, 200],\n",
       " [200, 200, 200, 200, 301, 302],\n",
       " [301],\n",
       " [301],\n",
       " [None, 302],\n",
       " [200, 200, 302, 200, 200, 200],\n",
       " [200, 200, 302, 200, 200, 404],\n",
       " [404, 302, 302, 302],\n",
       " [200, 200, 302, 200],\n",
       " [200, 200, 301, 200, 200, 200],\n",
       " [200, 200, 301, 302, 200, 200],\n",
       " [200, 301, 401, 200, 301, 401],\n",
       " [200, 401, 200, 200, 302, 302],\n",
       " [200, 401, 401, 401, 302, 302],\n",
       " [200, 301, 401, 200, 301, 401],\n",
       " [200, 401, 401, 401, 302, 302],\n",
       " [200, 401, 401, 302, 302],\n",
       " [200, 401, 302, 302],\n",
       " [200, 301, 401, 200, 301, 401],\n",
       " [200, 401, 200, 302, 200, 200],\n",
       " [200, 401, 200, 401, 200, 401],\n",
       " [200, 401, 200, 401, 200, 302],\n",
       " [200, 200, 401, 200, 302, 302],\n",
       " [200, 401, 302, 302],\n",
       " [200, 301, 401, 200, 302, 302],\n",
       " [200, 401, 302, 302],\n",
       " [200, 301, 200, 200, 302, 302],\n",
       " [200, 301, 200, 200, 302, 302],\n",
       " [302, 302],\n",
       " [302],\n",
       " [302],\n",
       " [200, 401, 200, 302, 200, 200],\n",
       " [200, 401, 200, 302, 200, 200],\n",
       " [200, 301, 401, 200, 302, 302],\n",
       " [200, 200, 301, 200, 200, 200],\n",
       " [200, 200, 401, 200, 200, 401],\n",
       " [200, 200, 401, 200, 302, 302],\n",
       " [200, 200, 401, 200, 302, 302],\n",
       " [200, 401, 302, 302],\n",
       " [301],\n",
       " [200, 200, 301, 200, 200, 200],\n",
       " [200, 301, 401, 200, 301, 401],\n",
       " [200, 301, 401, 200, 302, 302],\n",
       " [200, 401, 200, 401, 200, 401],\n",
       " [200, 401, 302, 302],\n",
       " [200, 401, 302, 302],\n",
       " [200, 401, 302, 302],\n",
       " [200, 401, 401, 401, 401, 302],\n",
       " [301],\n",
       " [200, 302, 302, 302],\n",
       " [200, 200, 400],\n",
       " [301],\n",
       " [403],\n",
       " [None],\n",
       " [302],\n",
       " [301],\n",
       " [200, 200],\n",
       " [200, 401, 200, 302, 200, 200],\n",
       " [200, 401, 200, 302, 200, 200],\n",
       " [200, 200, 302, 200, 200],\n",
       " [404, 302, 302, 302],\n",
       " [200, 401, 200, 302, 200, 200],\n",
       " [200, 301, 401, 200, 301, 401],\n",
       " [301],\n",
       " [None],\n",
       " [200, 200, 301, None, 301],\n",
       " [200, 200, 301, 200, 200, 200],\n",
       " [200],\n",
       " [301, 302, 200, 302, 302],\n",
       " [200, 200, 302],\n",
       " [200, 200, 200, 200, 200, 302],\n",
       " [200, 200, 301, 200, 200, 200],\n",
       " [403, 200, 301, 301, 200, 200],\n",
       " [200, 200, 200, 200, 200, 200],\n",
       " [200, 301, 200, 302, 302],\n",
       " [200, 200, 301, 301],\n",
       " [404, 200, None, 301, 200],\n",
       " [200, 200, 302],\n",
       " [200, 200, 200, 200],\n",
       " [],\n",
       " [301],\n",
       " [301],\n",
       " [301],\n",
       " [301],\n",
       " [301],\n",
       " [301],\n",
       " [301],\n",
       " [301],\n",
       " [404, 302, 302, 302],\n",
       " [200, 302, 401, 200, 302],\n",
       " [200, 401, 401, 302, 302],\n",
       " [200],\n",
       " [200, 401, 200, 302, 200, 200],\n",
       " [200, 401, 200, 302, 200, 200],\n",
       " [200, 401, 200, 302, 200, 200],\n",
       " [200, 401, 200, 302, 200, 200],\n",
       " [200, 200, 302, 301, 301, 301],\n",
       " [200, 200, 302, 200, 200, 301],\n",
       " [200, 401, 200, 302, 200, 200],\n",
       " [200, 401, 200, 302, 200, 200],\n",
       " [200, 301, 200, 302, 302],\n",
       " [302, 302, 302, 302],\n",
       " [302, 302],\n",
       " [301],\n",
       " [301],\n",
       " [301],\n",
       " [301],\n",
       " [301],\n",
       " [200, 200, 302, 200, 200, 200],\n",
       " [200, 200, 302, 200],\n",
       " [200, 401, 200, 302, 200, 200],\n",
       " [200, 302, 200, 302],\n",
       " [],\n",
       " [200, 200, 301, 301],\n",
       " [None, None, None, None, 301],\n",
       " [200, 200, 200, 200, 200],\n",
       " [200, 200, 200, 200, 200],\n",
       " [200],\n",
       " [200],\n",
       " [200],\n",
       " [200],\n",
       " [200],\n",
       " [301, 301],\n",
       " [301, 301],\n",
       " [301],\n",
       " [301],\n",
       " [200, 200, 302, 200, 200, 200],\n",
       " [200, 401, 200, 302, 302],\n",
       " [301],\n",
       " [301],\n",
       " [200, 301, 200, 302, 302],\n",
       " [200],\n",
       " [302],\n",
       " [],\n",
       " [],\n",
       " [None, None],\n",
       " [None, None],\n",
       " [301, 200, 301],\n",
       " [301, 200, 200, 200],\n",
       " [301, 301, 200],\n",
       " [200],\n",
       " [301, 200, 301],\n",
       " [200],\n",
       " [301],\n",
       " [200],\n",
       " [301],\n",
       " [200, 302, 200, None, 200, 200],\n",
       " [200, 401, 200, 302, 200, 200],\n",
       " [200, 401, 200, 302, 200, 200],\n",
       " [200, 200, 401, 200, 302, 302],\n",
       " [302],\n",
       " [301],\n",
       " [200, 200],\n",
       " [301],\n",
       " [301],\n",
       " [200, 301, 301, 200],\n",
       " [301, 301, 301, 301, 301, 301],\n",
       " [200, 301],\n",
       " [301],\n",
       " [301],\n",
       " [301],\n",
       " [307],\n",
       " [301],\n",
       " [200, 302, 301, 200, 200, 302],\n",
       " [200, 200, 302, 200, 200, 200],\n",
       " [200, 302, 401, 200, 200, 302],\n",
       " [200, 401, 200, 302, 200, 200],\n",
       " [200, 302, 401, 200, 302],\n",
       " [200, 401, 200, 302, 302],\n",
       " [],\n",
       " [None],\n",
       " [302],\n",
       " [None],\n",
       " [301],\n",
       " [302],\n",
       " [302],\n",
       " [200],\n",
       " [200],\n",
       " [],\n",
       " [200, 200, 200, 301],\n",
       " [200],\n",
       " [302, 302],\n",
       " [302, 302],\n",
       " [302, 302],\n",
       " [301, 301, 301],\n",
       " [200, 200],\n",
       " [200],\n",
       " [301, 302],\n",
       " [302, 302],\n",
       " [400, 400, 400, 400],\n",
       " [302],\n",
       " [301],\n",
       " [302],\n",
       " [302],\n",
       " [302],\n",
       " [302],\n",
       " [301],\n",
       " [None],\n",
       " [302],\n",
       " [302],\n",
       " [],\n",
       " [302],\n",
       " [400, 400, 400, 400],\n",
       " [400, 400, 400, 400],\n",
       " [302],\n",
       " [301],\n",
       " [302],\n",
       " [301],\n",
       " [404, 302],\n",
       " [226],\n",
       " [302],\n",
       " [302, 302],\n",
       " [302, 302],\n",
       " [302],\n",
       " [302, 302],\n",
       " [404, 302, 302],\n",
       " [],\n",
       " [200, 401, 302, 302],\n",
       " [200, 401, 401, 200, 403, 200],\n",
       " [301, 301, 200],\n",
       " [200, 200, 200],\n",
       " [200, 200, 301, 200, 200, 200],\n",
       " [200, 200, 301, 200, 200, 200],\n",
       " [200, 200, 301, 200, 200, 200],\n",
       " [200, 200, 301, 200, 200, 200],\n",
       " [200, 200, 301, 200, 200, 200],\n",
       " [200, 200, 301, 200, 200, 200],\n",
       " [200, 200, 401, 200, 302, 302],\n",
       " [200],\n",
       " [None, 302],\n",
       " [302],\n",
       " [302],\n",
       " [301, 503, 503],\n",
       " [503],\n",
       " [503],\n",
       " [503],\n",
       " [503, 200, 503],\n",
       " [503],\n",
       " [200],\n",
       " [503],\n",
       " [301, 503],\n",
       " [200],\n",
       " [503, 503],\n",
       " [403],\n",
       " [301, 301, 301, 226, 200, 200],\n",
       " [301, 301, 301, 226, 200, 301],\n",
       " [400, 400, 400, 400],\n",
       " [302],\n",
       " [302],\n",
       " [None],\n",
       " [301, 301, 301, 226, 200, 200],\n",
       " [301, 301, 301, 226, 200, 301],\n",
       " [],\n",
       " [400, 400, 400, 400],\n",
       " [400, 400, 400, 400],\n",
       " [200],\n",
       " [200],\n",
       " [200, 200],\n",
       " [200, 200],\n",
       " [200],\n",
       " [200],\n",
       " [200],\n",
       " [200, 302, 200, 226, 200, 301],\n",
       " [301, 301, 301, 404, 404, None],\n",
       " [302, 301, 200, 200, 200, 200],\n",
       " [200, 301, 200, 404, 302, 200],\n",
       " [301, 301, 301, 404, 404, 200],\n",
       " [301, 301, 301, 404, 200, 301],\n",
       " [301, 301, 301, 404, 302, 200],\n",
       " [200, 200, 200, 200],\n",
       " [301, 301, 301, 404, 404, 200],\n",
       " [200],\n",
       " [301, 301, 301, 226, 200, 301],\n",
       " [200, 200],\n",
       " [200],\n",
       " [301, 301, 226],\n",
       " [None, 301, 226],\n",
       " [301, 226],\n",
       " [301, 301, 301, 404, 404, 301],\n",
       " [301, 301, 301, 226, 200, 200],\n",
       " [302, 302, 302],\n",
       " [200, 200, 200, 200, 200, 302],\n",
       " [302, 302, 302, 302],\n",
       " [302, 302, 302, 302],\n",
       " [302, 302, 302, 302],\n",
       " [302, 302, 302, 302],\n",
       " [302, 302, 302, 302],\n",
       " [302, 302, 302, 302, 302, 302],\n",
       " [302, 302, 302, 302, 302, 302],\n",
       " [200, 200, 200, 200, 200, 302],\n",
       " [200, 200, 200, 200, 200, 302],\n",
       " [200, 200, 200, 200, 200, 302],\n",
       " [302, 301, 301, 200, 200, 200],\n",
       " [301, 200, 200, 200],\n",
       " [301, 200, 200, 200],\n",
       " [301, 200, 200, 200],\n",
       " [301, 302, 200, 200],\n",
       " [301, 301, 301, 301],\n",
       " [302],\n",
       " [301, 200, 200, 200],\n",
       " [301, 200, 200, 200],\n",
       " [301, 200, 200, 200],\n",
       " [301, 200, 200, 200],\n",
       " [302, 301, 302, 200, 200],\n",
       " [302, 302, 301, 200, 301, 301],\n",
       " [302, 301, 200, 301, 301, 200],\n",
       " [302, 301, 200, 301, 301, 200],\n",
       " [301, 200, 200, 200],\n",
       " [301],\n",
       " [301, 301, 301, 301, 301, 301],\n",
       " [301, 200, 200, 200],\n",
       " [301, 301, 301, 301, 301, 301],\n",
       " [302, 200, 200, 200, 200, 200],\n",
       " [301],\n",
       " [302, 200, 200, 200, 200, 200],\n",
       " [200, 301, 200],\n",
       " [301, 200, 200, 200],\n",
       " [301, 200, 200, 200],\n",
       " [301, 200, 200, 200],\n",
       " [301, 200, 200, 200],\n",
       " [301, 200, 200, 200],\n",
       " [301, 200, 200, 200],\n",
       " [301, 200, 200, 200],\n",
       " [301, 200, 200, 200],\n",
       " [301, 200, 200, 200],\n",
       " [301, 200, 200, 200],\n",
       " [200, 200],\n",
       " [302, 301, 200, 301, 301, 200],\n",
       " [301, 200],\n",
       " [200, 200],\n",
       " [200, 200],\n",
       " [301, 200, 200, 200],\n",
       " [301, 200],\n",
       " [301, 200, 200, 200],\n",
       " [301, 200, 200, 200],\n",
       " [301, 200, 200, 200],\n",
       " [301, 302, 200, 200, 200, 200],\n",
       " [None],\n",
       " [301, 301, 200, 200, 200],\n",
       " [301, 301, 200, 200, 200],\n",
       " [301, 301, 200, 200, 200],\n",
       " [301, 301, 200, 200, 200],\n",
       " [301, 301, 301, 200, 200, 200],\n",
       " [301, 301, 200, 200, 301, 200],\n",
       " [301, 301, 200, 200, 200],\n",
       " [301, 301, 301, 200, 200, 200],\n",
       " [301, 301, 200, 200, 200],\n",
       " [301, 301, 200, 200, 200],\n",
       " [301, 301, 200, 200, None, 200],\n",
       " [301, 301, 200, 200, 200],\n",
       " [301, 301, 200, 200, 200],\n",
       " [301, 301, 200, 200, 200],\n",
       " [301, 301, 200, 200, 200],\n",
       " [301, 301, 200, 200, 200],\n",
       " [301, 301, 200, 200, 200],\n",
       " [301, 301, 200, 200, 200],\n",
       " [301, 301, 200, 200, 200]]"
      ]
     },
     "execution_count": 52,
     "metadata": {},
     "output_type": "execute_result"
    }
   ],
   "source": [
    "urlstats[0:10]"
   ]
  },
  {
   "cell_type": "code",
   "execution_count": 53,
   "metadata": {
    "slideshow": {
     "slide_type": "slide"
    }
   },
   "outputs": [],
   "source": [
    "def convstatnames(stats):\n",
    "    \"\"\"Return a dictionary of counts\"\"\"\n",
    "    sdict = dict(Counter(stats))\n",
    "    return {'status_'+str(a):b for a,b in sdict.items()}\n",
    "\n",
    "stat_df = pd.DataFrame([convstatnames(stats) for stats in urlstats])\n",
    "stat_df = stat_df.fillna(0)\n",
    "stat_df.head()\n",
    "\n",
    "failedstatus = ['status_400','status_404','status_405','status_503','status_None']\n",
    "stat_df['failed ratio'] = stat_df[failedstatus].sum(axis=1)/stat_df.sum(axis=1)"
   ]
  },
  {
   "cell_type": "markdown",
   "metadata": {
    "slideshow": {
     "slide_type": "slide"
    }
   },
   "source": [
    "We've also created a variable which is the proportion of urls that returned a status in the 400's or 500's or None.  Let's now join this against the climate_df to get one DataFrame of all unique combinations of failed ratio and organization.  Retain only the most common organizations."
   ]
  },
  {
   "cell_type": "code",
   "execution_count": 54,
   "metadata": {
    "slideshow": {
     "slide_type": "slide"
    }
   },
   "outputs": [
    {
     "data": {
      "text/html": [
       "<div>\n",
       "<style scoped>\n",
       "    .dataframe tbody tr th:only-of-type {\n",
       "        vertical-align: middle;\n",
       "    }\n",
       "\n",
       "    .dataframe tbody tr th {\n",
       "        vertical-align: top;\n",
       "    }\n",
       "\n",
       "    .dataframe thead th {\n",
       "        text-align: right;\n",
       "    }\n",
       "</style>\n",
       "<table border=\"1\" class=\"dataframe\">\n",
       "  <thead>\n",
       "    <tr style=\"text-align: right;\">\n",
       "      <th></th>\n",
       "      <th>organization</th>\n",
       "      <th>failed ratio</th>\n",
       "      <th>count</th>\n",
       "    </tr>\n",
       "  </thead>\n",
       "  <tbody>\n",
       "    <tr>\n",
       "      <th>1</th>\n",
       "      <td>Department of Agriculture —</td>\n",
       "      <td>0.000000</td>\n",
       "      <td>56</td>\n",
       "    </tr>\n",
       "    <tr>\n",
       "      <th>2</th>\n",
       "      <td>Department of Agriculture —</td>\n",
       "      <td>0.333333</td>\n",
       "      <td>1</td>\n",
       "    </tr>\n",
       "    <tr>\n",
       "      <th>3</th>\n",
       "      <td>Department of Agriculture —</td>\n",
       "      <td>0.500000</td>\n",
       "      <td>1</td>\n",
       "    </tr>\n",
       "    <tr>\n",
       "      <th>4</th>\n",
       "      <td>Department of Agriculture —</td>\n",
       "      <td>1.000000</td>\n",
       "      <td>3</td>\n",
       "    </tr>\n",
       "    <tr>\n",
       "      <th>17</th>\n",
       "      <td>Department of Transportation —</td>\n",
       "      <td>0.000000</td>\n",
       "      <td>20</td>\n",
       "    </tr>\n",
       "  </tbody>\n",
       "</table>\n",
       "</div>"
      ],
      "text/plain": [
       "                      organization  failed ratio  count\n",
       "1      Department of Agriculture —      0.000000     56\n",
       "2      Department of Agriculture —      0.333333      1\n",
       "3      Department of Agriculture —      0.500000      1\n",
       "4      Department of Agriculture —      1.000000      3\n",
       "17  Department of Transportation —      0.000000     20"
      ]
     },
     "execution_count": 54,
     "metadata": {},
     "output_type": "execute_result"
    }
   ],
   "source": [
    "climate_df = climate_df.join(stat_df)\n",
    "climate_failed = climate_df.groupby(['organization','failed ratio'])\n",
    "failed_count = climate_failed.count()[['name']].rename(columns={'name':'count'})\n",
    "failed_count = failed_count.reset_index()\n",
    "red_orgs = org_count[org_count['name'] > 20].index\n",
    "failed_count_red = failed_count[[org in red_orgs for org in failed_count['organization']]]\n",
    "failed_count_red.head()"
   ]
  },
  {
   "cell_type": "code",
   "execution_count": 55,
   "metadata": {
    "scrolled": true,
    "slideshow": {
     "slide_type": "slide"
    }
   },
   "outputs": [
    {
     "data": {
      "text/html": [
       "<div>\n",
       "<style scoped>\n",
       "    .dataframe tbody tr th:only-of-type {\n",
       "        vertical-align: middle;\n",
       "    }\n",
       "\n",
       "    .dataframe tbody tr th {\n",
       "        vertical-align: top;\n",
       "    }\n",
       "\n",
       "    .dataframe thead th {\n",
       "        text-align: right;\n",
       "    }\n",
       "</style>\n",
       "<table border=\"1\" class=\"dataframe\">\n",
       "  <thead>\n",
       "    <tr style=\"text-align: right;\">\n",
       "      <th></th>\n",
       "      <th>name</th>\n",
       "      <th>organization</th>\n",
       "      <th>description</th>\n",
       "      <th>status_200</th>\n",
       "      <th>status_302</th>\n",
       "      <th>status_None</th>\n",
       "      <th>status_301</th>\n",
       "      <th>status_401</th>\n",
       "      <th>status_405</th>\n",
       "      <th>status_404</th>\n",
       "      <th>status_400</th>\n",
       "      <th>status_403</th>\n",
       "      <th>status_307</th>\n",
       "      <th>status_226</th>\n",
       "      <th>status_503</th>\n",
       "      <th>failed ratio</th>\n",
       "    </tr>\n",
       "  </thead>\n",
       "  <tbody>\n",
       "    <tr>\n",
       "      <th>0</th>\n",
       "      <td>ASTER Global Digital Elevation Model V003</td>\n",
       "      <td>National Aeronautics and Space Administration —</td>\n",
       "      <td>The ASTER Global Digital Elevation Model (GDEM...</td>\n",
       "      <td>4.0</td>\n",
       "      <td>1.0</td>\n",
       "      <td>1.0</td>\n",
       "      <td>0.0</td>\n",
       "      <td>0.0</td>\n",
       "      <td>0.0</td>\n",
       "      <td>0.0</td>\n",
       "      <td>0.0</td>\n",
       "      <td>0.0</td>\n",
       "      <td>0.0</td>\n",
       "      <td>0.0</td>\n",
       "      <td>0.0</td>\n",
       "      <td>0.166667</td>\n",
       "    </tr>\n",
       "    <tr>\n",
       "      <th>1</th>\n",
       "      <td>MODIS/Aqua Near Real Time (NRT) Sea Ice Extent...</td>\n",
       "      <td>National Aeronautics and Space Administration —</td>\n",
       "      <td>MODIS Near Real Time (NRT) Sea Ice Extent 5-Mi...</td>\n",
       "      <td>3.0</td>\n",
       "      <td>0.0</td>\n",
       "      <td>0.0</td>\n",
       "      <td>2.0</td>\n",
       "      <td>0.0</td>\n",
       "      <td>0.0</td>\n",
       "      <td>0.0</td>\n",
       "      <td>0.0</td>\n",
       "      <td>0.0</td>\n",
       "      <td>0.0</td>\n",
       "      <td>0.0</td>\n",
       "      <td>0.0</td>\n",
       "      <td>0.000000</td>\n",
       "    </tr>\n",
       "    <tr>\n",
       "      <th>2</th>\n",
       "      <td>MODIS/Terra+Aqua L3 Value-added Aerosol Optica...</td>\n",
       "      <td>National Aeronautics and Space Administration —</td>\n",
       "      <td>MODIS was launched aboard the Terra satellite ...</td>\n",
       "      <td>3.0</td>\n",
       "      <td>0.0</td>\n",
       "      <td>0.0</td>\n",
       "      <td>1.0</td>\n",
       "      <td>0.0</td>\n",
       "      <td>0.0</td>\n",
       "      <td>0.0</td>\n",
       "      <td>0.0</td>\n",
       "      <td>0.0</td>\n",
       "      <td>0.0</td>\n",
       "      <td>0.0</td>\n",
       "      <td>0.0</td>\n",
       "      <td>0.000000</td>\n",
       "    </tr>\n",
       "    <tr>\n",
       "      <th>3</th>\n",
       "      <td>NLDAS Mosaic Land Surface Model L4 Hourly 0.12...</td>\n",
       "      <td>National Aeronautics and Space Administration —</td>\n",
       "      <td>This data set contains a series of land surfac...</td>\n",
       "      <td>5.0</td>\n",
       "      <td>0.0</td>\n",
       "      <td>0.0</td>\n",
       "      <td>1.0</td>\n",
       "      <td>0.0</td>\n",
       "      <td>0.0</td>\n",
       "      <td>0.0</td>\n",
       "      <td>0.0</td>\n",
       "      <td>0.0</td>\n",
       "      <td>0.0</td>\n",
       "      <td>0.0</td>\n",
       "      <td>0.0</td>\n",
       "      <td>0.000000</td>\n",
       "    </tr>\n",
       "    <tr>\n",
       "      <th>4</th>\n",
       "      <td>Near-Real-Time SSM/I EASE-Grid Daily Global Ic...</td>\n",
       "      <td>National Aeronautics and Space Administration —</td>\n",
       "      <td>The Near-real-time Ice and Snow Extent (NISE) ...</td>\n",
       "      <td>2.0</td>\n",
       "      <td>1.0</td>\n",
       "      <td>0.0</td>\n",
       "      <td>0.0</td>\n",
       "      <td>1.0</td>\n",
       "      <td>0.0</td>\n",
       "      <td>0.0</td>\n",
       "      <td>0.0</td>\n",
       "      <td>0.0</td>\n",
       "      <td>0.0</td>\n",
       "      <td>0.0</td>\n",
       "      <td>0.0</td>\n",
       "      <td>0.000000</td>\n",
       "    </tr>\n",
       "  </tbody>\n",
       "</table>\n",
       "</div>"
      ],
      "text/plain": [
       "                                                name  \\\n",
       "0          ASTER Global Digital Elevation Model V003   \n",
       "1  MODIS/Aqua Near Real Time (NRT) Sea Ice Extent...   \n",
       "2  MODIS/Terra+Aqua L3 Value-added Aerosol Optica...   \n",
       "3  NLDAS Mosaic Land Surface Model L4 Hourly 0.12...   \n",
       "4  Near-Real-Time SSM/I EASE-Grid Daily Global Ic...   \n",
       "\n",
       "                                      organization  \\\n",
       "0  National Aeronautics and Space Administration —   \n",
       "1  National Aeronautics and Space Administration —   \n",
       "2  National Aeronautics and Space Administration —   \n",
       "3  National Aeronautics and Space Administration —   \n",
       "4  National Aeronautics and Space Administration —   \n",
       "\n",
       "                                         description  status_200  status_302  \\\n",
       "0  The ASTER Global Digital Elevation Model (GDEM...         4.0         1.0   \n",
       "1  MODIS Near Real Time (NRT) Sea Ice Extent 5-Mi...         3.0         0.0   \n",
       "2  MODIS was launched aboard the Terra satellite ...         3.0         0.0   \n",
       "3  This data set contains a series of land surfac...         5.0         0.0   \n",
       "4  The Near-real-time Ice and Snow Extent (NISE) ...         2.0         1.0   \n",
       "\n",
       "   status_None  status_301  status_401  status_405  status_404  status_400  \\\n",
       "0          1.0         0.0         0.0         0.0         0.0         0.0   \n",
       "1          0.0         2.0         0.0         0.0         0.0         0.0   \n",
       "2          0.0         1.0         0.0         0.0         0.0         0.0   \n",
       "3          0.0         1.0         0.0         0.0         0.0         0.0   \n",
       "4          0.0         0.0         1.0         0.0         0.0         0.0   \n",
       "\n",
       "   status_403  status_307  status_226  status_503  failed ratio  \n",
       "0         0.0         0.0         0.0         0.0      0.166667  \n",
       "1         0.0         0.0         0.0         0.0      0.000000  \n",
       "2         0.0         0.0         0.0         0.0      0.000000  \n",
       "3         0.0         0.0         0.0         0.0      0.000000  \n",
       "4         0.0         0.0         0.0         0.0      0.000000  "
      ]
     },
     "execution_count": 55,
     "metadata": {},
     "output_type": "execute_result"
    }
   ],
   "source": [
    "climate_df.head()"
   ]
  },
  {
   "cell_type": "code",
   "execution_count": 56,
   "metadata": {
    "scrolled": true,
    "slideshow": {
     "slide_type": "slide"
    }
   },
   "outputs": [
    {
     "name": "stderr",
     "output_type": "stream",
     "text": [
      "/tmp/ipykernel_73749/3929521048.py:2: SettingWithCopyWarning: \n",
      "A value is trying to be set on a copy of a slice from a DataFrame.\n",
      "Try using .loc[row_indexer,col_indexer] = value instead\n",
      "\n",
      "See the caveats in the documentation: https://pandas.pydata.org/pandas-docs/stable/user_guide/indexing.html#returning-a-view-versus-a-copy\n",
      "  failed_count_red['org number'] = failed_count_red['organization'].apply(lambda o: org_numbers[o])\n"
     ]
    }
   ],
   "source": [
    "org_numbers = {org_sorted[i]:i+1 for i in range(len(org_sorted))}\n",
    "failed_count_red['org number'] = failed_count_red['organization'].apply(lambda o: org_numbers[o])"
   ]
  },
  {
   "cell_type": "code",
   "execution_count": 57,
   "metadata": {
    "scrolled": true,
    "slideshow": {
     "slide_type": "slide"
    }
   },
   "outputs": [
    {
     "data": {
      "text/html": [
       "<div>\n",
       "<style scoped>\n",
       "    .dataframe tbody tr th:only-of-type {\n",
       "        vertical-align: middle;\n",
       "    }\n",
       "\n",
       "    .dataframe tbody tr th {\n",
       "        vertical-align: top;\n",
       "    }\n",
       "\n",
       "    .dataframe thead th {\n",
       "        text-align: right;\n",
       "    }\n",
       "</style>\n",
       "<table border=\"1\" class=\"dataframe\">\n",
       "  <thead>\n",
       "    <tr style=\"text-align: right;\">\n",
       "      <th></th>\n",
       "      <th>organization</th>\n",
       "      <th>failed ratio</th>\n",
       "      <th>count</th>\n",
       "      <th>org number</th>\n",
       "    </tr>\n",
       "  </thead>\n",
       "  <tbody>\n",
       "    <tr>\n",
       "      <th>1</th>\n",
       "      <td>Department of Agriculture —</td>\n",
       "      <td>0.000000</td>\n",
       "      <td>56</td>\n",
       "      <td>3</td>\n",
       "    </tr>\n",
       "    <tr>\n",
       "      <th>2</th>\n",
       "      <td>Department of Agriculture —</td>\n",
       "      <td>0.333333</td>\n",
       "      <td>1</td>\n",
       "      <td>3</td>\n",
       "    </tr>\n",
       "    <tr>\n",
       "      <th>3</th>\n",
       "      <td>Department of Agriculture —</td>\n",
       "      <td>0.500000</td>\n",
       "      <td>1</td>\n",
       "      <td>3</td>\n",
       "    </tr>\n",
       "    <tr>\n",
       "      <th>4</th>\n",
       "      <td>Department of Agriculture —</td>\n",
       "      <td>1.000000</td>\n",
       "      <td>3</td>\n",
       "      <td>3</td>\n",
       "    </tr>\n",
       "    <tr>\n",
       "      <th>17</th>\n",
       "      <td>Department of Transportation —</td>\n",
       "      <td>0.000000</td>\n",
       "      <td>20</td>\n",
       "      <td>7</td>\n",
       "    </tr>\n",
       "  </tbody>\n",
       "</table>\n",
       "</div>"
      ],
      "text/plain": [
       "                      organization  failed ratio  count  org number\n",
       "1      Department of Agriculture —      0.000000     56           3\n",
       "2      Department of Agriculture —      0.333333      1           3\n",
       "3      Department of Agriculture —      0.500000      1           3\n",
       "4      Department of Agriculture —      1.000000      3           3\n",
       "17  Department of Transportation —      0.000000     20           7"
      ]
     },
     "execution_count": 57,
     "metadata": {},
     "output_type": "execute_result"
    }
   ],
   "source": [
    "failed_count_red.head()"
   ]
  },
  {
   "cell_type": "code",
   "execution_count": 58,
   "metadata": {},
   "outputs": [
    {
     "data": {
      "text/html": [
       "<div>\n",
       "<style scoped>\n",
       "    .dataframe tbody tr th:only-of-type {\n",
       "        vertical-align: middle;\n",
       "    }\n",
       "\n",
       "    .dataframe tbody tr th {\n",
       "        vertical-align: top;\n",
       "    }\n",
       "\n",
       "    .dataframe thead th {\n",
       "        text-align: right;\n",
       "    }\n",
       "</style>\n",
       "<table border=\"1\" class=\"dataframe\">\n",
       "  <thead>\n",
       "    <tr style=\"text-align: right;\">\n",
       "      <th></th>\n",
       "      <th>organization</th>\n",
       "      <th>failed ratio</th>\n",
       "      <th>count</th>\n",
       "      <th>org number</th>\n",
       "    </tr>\n",
       "  </thead>\n",
       "  <tbody>\n",
       "    <tr>\n",
       "      <th>1</th>\n",
       "      <td>Department of Agriculture —</td>\n",
       "      <td>0.000000</td>\n",
       "      <td>56</td>\n",
       "      <td>3</td>\n",
       "    </tr>\n",
       "    <tr>\n",
       "      <th>2</th>\n",
       "      <td>Department of Agriculture —</td>\n",
       "      <td>0.333333</td>\n",
       "      <td>1</td>\n",
       "      <td>3</td>\n",
       "    </tr>\n",
       "    <tr>\n",
       "      <th>3</th>\n",
       "      <td>Department of Agriculture —</td>\n",
       "      <td>0.500000</td>\n",
       "      <td>1</td>\n",
       "      <td>3</td>\n",
       "    </tr>\n",
       "    <tr>\n",
       "      <th>4</th>\n",
       "      <td>Department of Agriculture —</td>\n",
       "      <td>1.000000</td>\n",
       "      <td>3</td>\n",
       "      <td>3</td>\n",
       "    </tr>\n",
       "    <tr>\n",
       "      <th>17</th>\n",
       "      <td>Department of Transportation —</td>\n",
       "      <td>0.000000</td>\n",
       "      <td>20</td>\n",
       "      <td>7</td>\n",
       "    </tr>\n",
       "  </tbody>\n",
       "</table>\n",
       "</div>"
      ],
      "text/plain": [
       "                      organization  failed ratio  count  org number\n",
       "1      Department of Agriculture —      0.000000     56           3\n",
       "2      Department of Agriculture —      0.333333      1           3\n",
       "3      Department of Agriculture —      0.500000      1           3\n",
       "4      Department of Agriculture —      1.000000      3           3\n",
       "17  Department of Transportation —      0.000000     20           7"
      ]
     },
     "execution_count": 58,
     "metadata": {},
     "output_type": "execute_result"
    }
   ],
   "source": [
    "failed_count_red.head()"
   ]
  },
  {
   "cell_type": "code",
   "execution_count": 61,
   "metadata": {
    "scrolled": true,
    "slideshow": {
     "slide_type": "slide"
    }
   },
   "outputs": [
    {
     "name": "stdout",
     "output_type": "stream",
     "text": [
      "1: National Aeronautics and Space Administration —\n",
      "2: Other\n",
      "3: Department of Agriculture —\n",
      "4: U.S. Environmental Protection Agency —\n",
      "5: National Oceanic and Atmospheric Administration, Department of Commerce —\n",
      "6: U.S. Department of Health & Human Services —\n",
      "7: Department of Transportation —\n"
     ]
    },
    {
     "data": {
      "image/png": "[encoded data removed]",
      "text/plain": [
       "<Figure size 576x432 with 1 Axes>"
      ]
     },
     "metadata": {
      "needs_background": "light"
     },
     "output_type": "display_data"
    }
   ],
   "source": [
    "from operator import itemgetter\n",
    "norgs=len(org_numbers)\n",
    "_ = failed_count_red.plot(x = 'org number',y = 'failed ratio',xticks=range(1,norgs+1),\n",
    "                      s=failed_count_red['count']*10,kind='scatter',marker='s',figsize=(8,6))\n",
    "for orgname,i in sorted(org_numbers.items(),key=itemgetter(1)):\n",
    "    print(\"{}: {}\".format(i,orgname))"
   ]
  }
 ],
 "metadata": {
  "anaconda-cloud": {},
  "celltoolbar": "Slideshow",
  "kernelspec": {
   "display_name": "Python 3 (ipykernel)",
   "language": "python",
   "name": "python3"
  },
  "language_info": {
   "codemirror_mode": {
    "name": "ipython",
    "version": 3
   },
   "file_extension": ".py",
   "mimetype": "text/x-python",
   "name": "python",
   "nbconvert_exporter": "python",
   "pygments_lexer": "ipython3",
   "version": "3.8.10"
  }
 },
 "nbformat": 4,
 "nbformat_minor": 1
}
