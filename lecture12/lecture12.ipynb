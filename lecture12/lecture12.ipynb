{
 "cells": [
  {
   "cell_type": "markdown",
   "metadata": {
    "slideshow": {
     "slide_type": "slide"
    }
   },
   "source": [
    "## 141B Lecture 12\n",
    "\n",
    "## Data Munging\n"
   ]
  },
  {
   "cell_type": "markdown",
   "metadata": {
    "slideshow": {
     "slide_type": "slide"
    }
   },
   "source": [
    "## US College Scorecard data\n",
    "\n",
    "- national college scorecard dataset: https://collegescorecard.ed.gov/data/ \n",
    "- dataset is a large comparison of accredited colleges and universities in the U.S\n",
    "\n",
    "> The College Scorecard is designed to increase transparency, putting the power in the hands of the public — from those choosing colleges to those improving college quality — to see how well different schools are serving their students."
   ]
  },
  {
   "cell_type": "code",
   "execution_count": 1,
   "metadata": {
    "slideshow": {
     "slide_type": "slide"
    }
   },
   "outputs": [],
   "source": [
    "import pandas as pd\n",
    "import numpy as np\n",
    "\n",
    "datadir = \"data\""
   ]
  },
  {
   "cell_type": "code",
   "execution_count": 2,
   "metadata": {
    "slideshow": {
     "slide_type": "slide"
    }
   },
   "outputs": [
    {
     "name": "stdout",
     "output_type": "stream",
     "text": [
      "total 5201596\r\n",
      "drwxrwxr-x 3 phileas phileas      4096 Oct 18 11:38 .\r\n",
      "drwxrwxr-x 4 phileas phileas      4096 Oct 19 16:32 ..\r\n",
      "-rw-rw-r-- 1 phileas phileas 391592882 Aug  2 15:57 CollegeScorecard_Raw_Data_08032021.zip\r\n",
      "-rw-r--r-- 1 phileas phileas  39382166 Jul 15 16:41 Crosswalks.zip\r\n",
      "-rw-r--r-- 1 phileas phileas    583793 Jul 19 19:00 data.yaml\r\n",
      "-rw-r--r-- 1 phileas phileas 279769389 Jul 19 09:02 FieldOfStudyData1415_1516_PP.csv\r\n",
      "-rw-r--r-- 1 phileas phileas 291199519 Jul 19 09:03 FieldOfStudyData1516_1617_PP.csv\r\n",
      "-rw-r--r-- 1 phileas phileas 390773724 Jul 19 09:03 FieldOfStudyData1617_1718_PP.csv\r\n",
      "drwxrwxr-x 2 phileas phileas      4096 Oct 18 11:38 __MACOSX\r\n",
      "-rw-r--r-- 1 phileas phileas  79838455 Jul 19 09:03 MERGED1996_97_PP.csv\r\n",
      "-rw-r--r-- 1 phileas phileas  83415578 Jul 19 09:03 MERGED1997_98_PP.csv\r\n",
      "-rw-r--r-- 1 phileas phileas  93754499 Jul 19 09:03 MERGED1998_99_PP.csv\r\n",
      "-rw-r--r-- 1 phileas phileas 107099258 Jul 19 09:03 MERGED1999_00_PP.csv\r\n",
      "-rw-r--r-- 1 phileas phileas 120479091 Jul 19 09:03 MERGED2000_01_PP.csv\r\n",
      "-rw-r--r-- 1 phileas phileas 122417449 Jul 19 09:03 MERGED2001_02_PP.csv\r\n",
      "-rw-r--r-- 1 phileas phileas 133460758 Jul 19 09:03 MERGED2002_03_PP.csv\r\n",
      "-rw-r--r-- 1 phileas phileas 135497821 Jul 19 09:03 MERGED2003_04_PP.csv\r\n",
      "-rw-r--r-- 1 phileas phileas 148613224 Jul 19 09:03 MERGED2004_05_PP.csv\r\n",
      "-rw-r--r-- 1 phileas phileas 153110405 Jul 19 09:03 MERGED2005_06_PP.csv\r\n",
      "-rw-r--r-- 1 phileas phileas 152537503 Jul 19 09:04 MERGED2006_07_PP.csv\r\n",
      "-rw-r--r-- 1 phileas phileas 155017942 Jul 19 09:04 MERGED2007_08_PP.csv\r\n",
      "-rw-r--r-- 1 phileas phileas 155094050 Jul 19 09:04 MERGED2008_09_PP.csv\r\n",
      "-rw-r--r-- 1 phileas phileas 160924263 Jul 19 09:04 MERGED2009_10_PP.csv\r\n",
      "-rw-r--r-- 1 phileas phileas 164369352 Jul 19 09:04 MERGED2010_11_PP.csv\r\n",
      "-rw-r--r-- 1 phileas phileas 172090168 Jul 19 09:04 MERGED2011_12_PP.csv\r\n",
      "-rw-r--r-- 1 phileas phileas 174248592 Jul 19 09:04 MERGED2012_13_PP.csv\r\n",
      "-rw-r--r-- 1 phileas phileas 175033786 Jul 19 09:04 MERGED2013_14_PP.csv\r\n",
      "-rw-r--r-- 1 phileas phileas 175648494 Jul 19 09:04 MERGED2014_15_PP.csv\r\n",
      "-rw-r--r-- 1 phileas phileas 171248331 Jul 19 09:05 MERGED2015_16_PP.csv\r\n",
      "-rw-r--r-- 1 phileas phileas 171328272 Jul 19 09:05 MERGED2016_17_PP.csv\r\n",
      "-rw-r--r-- 1 phileas phileas 171170343 Jul 19 09:05 MERGED2017_18_PP.csv\r\n",
      "-rw-r--r-- 1 phileas phileas  96580000 Jul 19 09:05 MERGED2018_19_PP.csv\r\n",
      "-rw-r--r-- 1 phileas phileas  87574365 Jul 19 09:05 MERGED2019_20_PP.csv\r\n",
      "-rw-r--r-- 1 phileas phileas 181615979 Jul 19 09:05 Most-Recent-Cohorts-All-Data-Elements.csv\r\n",
      "-rw-r--r-- 1 phileas phileas 390773724 Jul 19 09:06 Most-Recent-Cohorts-Field-of-Study.csv\r\n"
     ]
    }
   ],
   "source": [
    "!ls -la data"
   ]
  },
  {
   "cell_type": "markdown",
   "metadata": {
    "slideshow": {
     "slide_type": "slide"
    }
   },
   "source": [
    "### Pandas I/O\n",
    "\n",
    "<table border=\"1\" class=\"colwidths-given docutils\">\n",
    "<colgroup>\n",
    "<col width=\"12%\" />\n",
    "<col width=\"40%\" />\n",
    "<col width=\"24%\" />\n",
    "<col width=\"24%\" />\n",
    "</colgroup>\n",
    "<thead valign=\"bottom\">\n",
    "<tr class=\"row-odd\"><th class=\"head\">Format Type</th>\n",
    "<th class=\"head\">Data Description</th>\n",
    "<th class=\"head\">Reader</th>\n",
    "<th class=\"head\">Writer</th>\n",
    "</tr>\n",
    "</thead>\n",
    "<tbody valign=\"top\">\n",
    "<tr class=\"row-even\"><td>text</td>\n",
    "<td><a class=\"reference external\" href=\"https://en.wikipedia.org/wiki/Comma-separated_values\">CSV</a></td>\n",
    "<td><a class=\"reference internal\" href=\"#io-read-csv-table\"><span class=\"std std-ref\">read_csv</span></a></td>\n",
    "<td><a class=\"reference internal\" href=\"#io-store-in-csv\"><span class=\"std std-ref\">to_csv</span></a></td>\n",
    "</tr>\n",
    "<tr class=\"row-odd\"><td>text</td>\n",
    "<td><a class=\"reference external\" href=\"http://www.json.org/\">JSON</a></td>\n",
    "<td><a class=\"reference internal\" href=\"#io-json-reader\"><span class=\"std std-ref\">read_json</span></a></td>\n",
    "<td><a class=\"reference internal\" href=\"#io-json-writer\"><span class=\"std std-ref\">to_json</span></a></td>\n",
    "</tr>\n",
    "<tr class=\"row-even\"><td>text</td>\n",
    "<td><a class=\"reference external\" href=\"https://en.wikipedia.org/wiki/HTML\">HTML</a></td>\n",
    "<td><a class=\"reference internal\" href=\"#io-read-html\"><span class=\"std std-ref\">read_html</span></a></td>\n",
    "<td><a class=\"reference internal\" href=\"#io-html\"><span class=\"std std-ref\">to_html</span></a></td>\n",
    "</tr>\n",
    "<tr class=\"row-odd\"><td>text</td>\n",
    "<td>Local clipboard</td>\n",
    "<td><a class=\"reference internal\" href=\"#io-clipboard\"><span class=\"std std-ref\">read_clipboard</span></a></td>\n",
    "<td><a class=\"reference internal\" href=\"#io-clipboard\"><span class=\"std std-ref\">to_clipboard</span></a></td>\n",
    "</tr>\n",
    "<tr class=\"row-even\"><td>binary</td>\n",
    "<td><a class=\"reference external\" href=\"https://en.wikipedia.org/wiki/Microsoft_Excel\">MS Excel</a></td>\n",
    "<td><a class=\"reference internal\" href=\"#io-excel-reader\"><span class=\"std std-ref\">read_excel</span></a></td>\n",
    "<td><a class=\"reference internal\" href=\"#io-excel-writer\"><span class=\"std std-ref\">to_excel</span></a></td>\n",
    "</tr>\n",
    "<tr class=\"row-odd\"><td>binary</td>\n",
    "<td><a class=\"reference external\" href=\"https://support.hdfgroup.org/HDF5/whatishdf5.html\">HDF5 Format</a></td>\n",
    "<td><a class=\"reference internal\" href=\"#io-hdf5\"><span class=\"std std-ref\">read_hdf</span></a></td>\n",
    "<td><a class=\"reference internal\" href=\"#io-hdf5\"><span class=\"std std-ref\">to_hdf</span></a></td>\n",
    "</tr>\n",
    "<tr class=\"row-even\"><td>binary</td>\n",
    "<td><a class=\"reference external\" href=\"https://github.com/wesm/feather\">Feather Format</a></td>\n",
    "<td><a class=\"reference internal\" href=\"#io-feather\"><span class=\"std std-ref\">read_feather</span></a></td>\n",
    "<td><a class=\"reference internal\" href=\"#io-feather\"><span class=\"std std-ref\">to_feather</span></a></td>\n",
    "</tr>\n",
    "<tr class=\"row-odd\"><td>binary</td>\n",
    "<td><a class=\"reference external\" href=\"https://parquet.apache.org/\">Parquet Format</a></td>\n",
    "<td><a class=\"reference internal\" href=\"#io-parquet\"><span class=\"std std-ref\">read_parquet</span></a></td>\n",
    "<td><a class=\"reference internal\" href=\"#io-parquet\"><span class=\"std std-ref\">to_parquet</span></a></td>\n",
    "</tr>\n",
    "<tr class=\"row-even\"><td>binary</td>\n",
    "<td><a class=\"reference external\" href=\"http://msgpack.org/index.html\">Msgpack</a></td>\n",
    "<td><a class=\"reference internal\" href=\"#io-msgpack\"><span class=\"std std-ref\">read_msgpack</span></a></td>\n",
    "<td><a class=\"reference internal\" href=\"#io-msgpack\"><span class=\"std std-ref\">to_msgpack</span></a></td>\n",
    "</tr>\n",
    "<tr class=\"row-odd\"><td>binary</td>\n",
    "<td><a class=\"reference external\" href=\"https://en.wikipedia.org/wiki/Stata\">Stata</a></td>\n",
    "<td><a class=\"reference internal\" href=\"#io-stata-reader\"><span class=\"std std-ref\">read_stata</span></a></td>\n",
    "<td><a class=\"reference internal\" href=\"#io-stata-writer\"><span class=\"std std-ref\">to_stata</span></a></td>\n",
    "</tr>\n",
    "<tr class=\"row-even\"><td>binary</td>\n",
    "<td><a class=\"reference external\" href=\"https://en.wikipedia.org/wiki/SAS_(software)\">SAS</a></td>\n",
    "<td><a class=\"reference internal\" href=\"#io-sas-reader\"><span class=\"std std-ref\">read_sas</span></a></td>\n",
    "<td>&#160;</td>\n",
    "</tr>\n",
    "<tr class=\"row-odd\"><td>binary</td>\n",
    "<td><a class=\"reference external\" href=\"https://docs.python.org/3/library/pickle.html\">Python Pickle Format</a></td>\n",
    "<td><a class=\"reference internal\" href=\"#io-pickle\"><span class=\"std std-ref\">read_pickle</span></a></td>\n",
    "<td><a class=\"reference internal\" href=\"#io-pickle\"><span class=\"std std-ref\">to_pickle</span></a></td>\n",
    "</tr>\n",
    "<tr class=\"row-even\"><td>SQL</td>\n",
    "<td><a class=\"reference external\" href=\"https://en.wikipedia.org/wiki/SQL\">SQL</a></td>\n",
    "<td><a class=\"reference internal\" href=\"#io-sql\"><span class=\"std std-ref\">read_sql</span></a></td>\n",
    "<td><a class=\"reference internal\" href=\"#io-sql\"><span class=\"std std-ref\">to_sql</span></a></td>\n",
    "</tr>\n",
    "<tr class=\"row-odd\"><td>SQL</td>\n",
    "<td><a class=\"reference external\" href=\"https://en.wikipedia.org/wiki/BigQuery\">Google Big Query</a></td>\n",
    "<td><a class=\"reference internal\" href=\"#io-bigquery\"><span class=\"std std-ref\">read_gbq</span></a></td>\n",
    "<td><a class=\"reference internal\" href=\"#io-bigquery\"><span class=\"std std-ref\">to_gbq</span></a></td>\n",
    "</tr>\n",
    "</tbody>\n",
    "</table>\n",
    "\n",
    "* from https://pandas.pydata.org/pandas-docs/stable/io.html"
   ]
  },
  {
   "cell_type": "markdown",
   "metadata": {
    "slideshow": {
     "slide_type": "slide"
    }
   },
   "source": [
    "### Practice munging on a subset of data\n",
    "\n",
    "- for multiple moderate data files, read in one practice munging\n",
    "- for a single large CSV, HDF5, SQL database, etc. read it in chunks (later).  \n",
    "- anticipate curveballs with linux tools"
   ]
  },
  {
   "cell_type": "code",
   "execution_count": 3,
   "metadata": {
    "slideshow": {
     "slide_type": "fragment"
    }
   },
   "outputs": [
    {
     "name": "stderr",
     "output_type": "stream",
     "text": [
      "/home/phileas/.local/lib/python3.8/site-packages/IPython/core/interactiveshell.py:3441: DtypeWarning: Columns (1,6,1351,1365,1377,1378,1407,1408,1411,1426,1431,1432,1433,1445,1446,1447,1461,1489,1537,1538,1539,1540,1541,1542,1547,1548,1549,1553,1554,1559,1560,1561,1562,1563,1567,1568,1571,1572,1573,1574,1606,1609,1610,1611,1613,1614,1615,1616,1636,1637,1711,1723,1724,1729,1909,1910,1911,1912,1913) have mixed types.Specify dtype option on import or set low_memory=False.\n",
      "  exec(code_obj, self.user_global_ns, self.user_ns)\n"
     ]
    }
   ],
   "source": [
    "# read in the 2009 data\n",
    "COL = pd.read_csv(datadir + '/MERGED2009_10_PP.csv')"
   ]
  },
  {
   "cell_type": "code",
   "execution_count": 4,
   "metadata": {
    "slideshow": {
     "slide_type": "slide"
    }
   },
   "outputs": [
    {
     "data": {
      "text/html": [
       "<div>\n",
       "<style scoped>\n",
       "    .dataframe tbody tr th:only-of-type {\n",
       "        vertical-align: middle;\n",
       "    }\n",
       "\n",
       "    .dataframe tbody tr th {\n",
       "        vertical-align: top;\n",
       "    }\n",
       "\n",
       "    .dataframe thead th {\n",
       "        text-align: right;\n",
       "    }\n",
       "</style>\n",
       "<table border=\"1\" class=\"dataframe\">\n",
       "  <thead>\n",
       "    <tr style=\"text-align: right;\">\n",
       "      <th></th>\n",
       "      <th>UNITID</th>\n",
       "      <th>OPEID</th>\n",
       "      <th>OPEID6</th>\n",
       "      <th>INSTNM</th>\n",
       "      <th>CITY</th>\n",
       "      <th>STABBR</th>\n",
       "      <th>ZIP</th>\n",
       "      <th>ACCREDAGENCY</th>\n",
       "      <th>INSTURL</th>\n",
       "      <th>NPCURL</th>\n",
       "      <th>...</th>\n",
       "      <th>FEDSCHCD</th>\n",
       "      <th>BOOKSUPPLY</th>\n",
       "      <th>ROOMBOARD_ON</th>\n",
       "      <th>OTHEREXPENSE_ON</th>\n",
       "      <th>ROOMBOARD_OFF</th>\n",
       "      <th>OTHEREXPENSE_OFF</th>\n",
       "      <th>OTHEREXPENSE_FAM</th>\n",
       "      <th>ENDOWBEGIN</th>\n",
       "      <th>ENDOWEND</th>\n",
       "      <th>DOLPROVIDER</th>\n",
       "    </tr>\n",
       "  </thead>\n",
       "  <tbody>\n",
       "    <tr>\n",
       "      <th>0</th>\n",
       "      <td>100636</td>\n",
       "      <td>1230800</td>\n",
       "      <td>12308</td>\n",
       "      <td>Community College of the Air Force</td>\n",
       "      <td>Montgomery</td>\n",
       "      <td>AL</td>\n",
       "      <td>36114-3011</td>\n",
       "      <td>NaN</td>\n",
       "      <td>NaN</td>\n",
       "      <td>NaN</td>\n",
       "      <td>...</td>\n",
       "      <td>NaN</td>\n",
       "      <td>0.0</td>\n",
       "      <td>0.0</td>\n",
       "      <td>0.0</td>\n",
       "      <td>NaN</td>\n",
       "      <td>NaN</td>\n",
       "      <td>NaN</td>\n",
       "      <td>NaN</td>\n",
       "      <td>NaN</td>\n",
       "      <td>NaN</td>\n",
       "    </tr>\n",
       "    <tr>\n",
       "      <th>1</th>\n",
       "      <td>100654</td>\n",
       "      <td>100200</td>\n",
       "      <td>1002</td>\n",
       "      <td>Alabama A &amp; M University</td>\n",
       "      <td>Normal</td>\n",
       "      <td>AL</td>\n",
       "      <td>35762</td>\n",
       "      <td>NaN</td>\n",
       "      <td>NaN</td>\n",
       "      <td>NaN</td>\n",
       "      <td>...</td>\n",
       "      <td>NaN</td>\n",
       "      <td>1800.0</td>\n",
       "      <td>5350.0</td>\n",
       "      <td>2080.0</td>\n",
       "      <td>5350.0</td>\n",
       "      <td>2080.0</td>\n",
       "      <td>1300.0</td>\n",
       "      <td>NaN</td>\n",
       "      <td>NaN</td>\n",
       "      <td>NaN</td>\n",
       "    </tr>\n",
       "    <tr>\n",
       "      <th>2</th>\n",
       "      <td>100663</td>\n",
       "      <td>105200</td>\n",
       "      <td>1052</td>\n",
       "      <td>University of Alabama at Birmingham</td>\n",
       "      <td>Birmingham</td>\n",
       "      <td>AL</td>\n",
       "      <td>35294-0110</td>\n",
       "      <td>NaN</td>\n",
       "      <td>NaN</td>\n",
       "      <td>NaN</td>\n",
       "      <td>...</td>\n",
       "      <td>NaN</td>\n",
       "      <td>1000.0</td>\n",
       "      <td>8969.0</td>\n",
       "      <td>4050.0</td>\n",
       "      <td>8969.0</td>\n",
       "      <td>4050.0</td>\n",
       "      <td>4050.0</td>\n",
       "      <td>330920594.0</td>\n",
       "      <td>326256324.0</td>\n",
       "      <td>NaN</td>\n",
       "    </tr>\n",
       "    <tr>\n",
       "      <th>3</th>\n",
       "      <td>100690</td>\n",
       "      <td>2503400</td>\n",
       "      <td>25034</td>\n",
       "      <td>Amridge University</td>\n",
       "      <td>Montgomery</td>\n",
       "      <td>AL</td>\n",
       "      <td>36117-3553</td>\n",
       "      <td>NaN</td>\n",
       "      <td>NaN</td>\n",
       "      <td>NaN</td>\n",
       "      <td>...</td>\n",
       "      <td>NaN</td>\n",
       "      <td>1500.0</td>\n",
       "      <td>NaN</td>\n",
       "      <td>NaN</td>\n",
       "      <td>9600.0</td>\n",
       "      <td>1600.0</td>\n",
       "      <td>1600.0</td>\n",
       "      <td>174805.0</td>\n",
       "      <td>174805.0</td>\n",
       "      <td>NaN</td>\n",
       "    </tr>\n",
       "    <tr>\n",
       "      <th>4</th>\n",
       "      <td>100706</td>\n",
       "      <td>105500</td>\n",
       "      <td>1055</td>\n",
       "      <td>University of Alabama in Huntsville</td>\n",
       "      <td>Huntsville</td>\n",
       "      <td>AL</td>\n",
       "      <td>35899</td>\n",
       "      <td>NaN</td>\n",
       "      <td>NaN</td>\n",
       "      <td>NaN</td>\n",
       "      <td>...</td>\n",
       "      <td>NaN</td>\n",
       "      <td>1542.0</td>\n",
       "      <td>7208.0</td>\n",
       "      <td>3957.0</td>\n",
       "      <td>NaN</td>\n",
       "      <td>NaN</td>\n",
       "      <td>NaN</td>\n",
       "      <td>55880886.0</td>\n",
       "      <td>53895740.0</td>\n",
       "      <td>NaN</td>\n",
       "    </tr>\n",
       "  </tbody>\n",
       "</table>\n",
       "<p>5 rows × 2392 columns</p>\n",
       "</div>"
      ],
      "text/plain": [
       "   UNITID    OPEID  OPEID6                               INSTNM        CITY  \\\n",
       "0  100636  1230800   12308   Community College of the Air Force  Montgomery   \n",
       "1  100654   100200    1002             Alabama A & M University      Normal   \n",
       "2  100663   105200    1052  University of Alabama at Birmingham  Birmingham   \n",
       "3  100690  2503400   25034                   Amridge University  Montgomery   \n",
       "4  100706   105500    1055  University of Alabama in Huntsville  Huntsville   \n",
       "\n",
       "  STABBR         ZIP  ACCREDAGENCY  INSTURL  NPCURL  ...  FEDSCHCD  \\\n",
       "0     AL  36114-3011           NaN      NaN     NaN  ...       NaN   \n",
       "1     AL       35762           NaN      NaN     NaN  ...       NaN   \n",
       "2     AL  35294-0110           NaN      NaN     NaN  ...       NaN   \n",
       "3     AL  36117-3553           NaN      NaN     NaN  ...       NaN   \n",
       "4     AL       35899           NaN      NaN     NaN  ...       NaN   \n",
       "\n",
       "   BOOKSUPPLY  ROOMBOARD_ON  OTHEREXPENSE_ON  ROOMBOARD_OFF  OTHEREXPENSE_OFF  \\\n",
       "0         0.0           0.0              0.0            NaN               NaN   \n",
       "1      1800.0        5350.0           2080.0         5350.0            2080.0   \n",
       "2      1000.0        8969.0           4050.0         8969.0            4050.0   \n",
       "3      1500.0           NaN              NaN         9600.0            1600.0   \n",
       "4      1542.0        7208.0           3957.0            NaN               NaN   \n",
       "\n",
       "   OTHEREXPENSE_FAM   ENDOWBEGIN     ENDOWEND  DOLPROVIDER  \n",
       "0               NaN          NaN          NaN          NaN  \n",
       "1            1300.0          NaN          NaN          NaN  \n",
       "2            4050.0  330920594.0  326256324.0          NaN  \n",
       "3            1600.0     174805.0     174805.0          NaN  \n",
       "4               NaN   55880886.0   53895740.0          NaN  \n",
       "\n",
       "[5 rows x 2392 columns]"
      ]
     },
     "execution_count": 4,
     "metadata": {},
     "output_type": "execute_result"
    }
   ],
   "source": [
    "COL.head() # look at the top 5 rows"
   ]
  },
  {
   "cell_type": "code",
   "execution_count": 5,
   "metadata": {
    "slideshow": {
     "slide_type": "slide"
    }
   },
   "outputs": [
    {
     "data": {
      "text/plain": [
       "pandas.core.frame.DataFrame"
      ]
     },
     "execution_count": 5,
     "metadata": {},
     "output_type": "execute_result"
    }
   ],
   "source": [
    "type(COL) # Pandas is built around DataFrame"
   ]
  },
  {
   "cell_type": "code",
   "execution_count": 6,
   "metadata": {
    "slideshow": {
     "slide_type": "fragment"
    }
   },
   "outputs": [
    {
     "data": {
      "text/plain": [
       "UNITID                int64\n",
       "OPEID                object\n",
       "OPEID6                int64\n",
       "INSTNM               object\n",
       "CITY                 object\n",
       "                     ...   \n",
       "OTHEREXPENSE_OFF    float64\n",
       "OTHEREXPENSE_FAM    float64\n",
       "ENDOWBEGIN          float64\n",
       "ENDOWEND            float64\n",
       "DOLPROVIDER         float64\n",
       "Length: 2392, dtype: object"
      ]
     },
     "execution_count": 6,
     "metadata": {},
     "output_type": "execute_result"
    }
   ],
   "source": [
    "COL.dtypes # see the types of columns"
   ]
  },
  {
   "cell_type": "code",
   "execution_count": 7,
   "metadata": {
    "slideshow": {
     "slide_type": "slide"
    }
   },
   "outputs": [
    {
     "name": "stdout",
     "output_type": "stream",
     "text": [
      "<class 'pandas.core.frame.DataFrame'>\n",
      "RangeIndex: 7217 entries, 0 to 7216\n",
      "Columns: 2392 entries, UNITID to DOLPROVIDER\n",
      "dtypes: float64(1175), int64(11), object(1206)\n",
      "memory usage: 131.7+ MB\n"
     ]
    }
   ],
   "source": [
    "# Let's explore the DataFrame\n",
    "COL.info()"
   ]
  },
  {
   "cell_type": "code",
   "execution_count": 8,
   "metadata": {
    "slideshow": {
     "slide_type": "slide"
    }
   },
   "outputs": [
    {
     "data": {
      "text/html": [
       "<div>\n",
       "<style scoped>\n",
       "    .dataframe tbody tr th:only-of-type {\n",
       "        vertical-align: middle;\n",
       "    }\n",
       "\n",
       "    .dataframe tbody tr th {\n",
       "        vertical-align: top;\n",
       "    }\n",
       "\n",
       "    .dataframe thead th {\n",
       "        text-align: right;\n",
       "    }\n",
       "</style>\n",
       "<table border=\"1\" class=\"dataframe\">\n",
       "  <thead>\n",
       "    <tr style=\"text-align: right;\">\n",
       "      <th></th>\n",
       "      <th>UNITID</th>\n",
       "      <th>OPEID6</th>\n",
       "      <th>ACCREDAGENCY</th>\n",
       "      <th>INSTURL</th>\n",
       "      <th>NPCURL</th>\n",
       "      <th>SCH_DEG</th>\n",
       "      <th>HCM2</th>\n",
       "      <th>MAIN</th>\n",
       "      <th>NUMBRANCH</th>\n",
       "      <th>PREDDEG</th>\n",
       "      <th>...</th>\n",
       "      <th>FEDSCHCD</th>\n",
       "      <th>BOOKSUPPLY</th>\n",
       "      <th>ROOMBOARD_ON</th>\n",
       "      <th>OTHEREXPENSE_ON</th>\n",
       "      <th>ROOMBOARD_OFF</th>\n",
       "      <th>OTHEREXPENSE_OFF</th>\n",
       "      <th>OTHEREXPENSE_FAM</th>\n",
       "      <th>ENDOWBEGIN</th>\n",
       "      <th>ENDOWEND</th>\n",
       "      <th>DOLPROVIDER</th>\n",
       "    </tr>\n",
       "  </thead>\n",
       "  <tbody>\n",
       "    <tr>\n",
       "      <th>count</th>\n",
       "      <td>7.217000e+03</td>\n",
       "      <td>7217.000000</td>\n",
       "      <td>0.0</td>\n",
       "      <td>0.0</td>\n",
       "      <td>0.0</td>\n",
       "      <td>7078.000000</td>\n",
       "      <td>0.0</td>\n",
       "      <td>7217.000000</td>\n",
       "      <td>7217.000000</td>\n",
       "      <td>7217.000000</td>\n",
       "      <td>...</td>\n",
       "      <td>0.0</td>\n",
       "      <td>4170.000000</td>\n",
       "      <td>2010.000000</td>\n",
       "      <td>2017.000000</td>\n",
       "      <td>3470.000000</td>\n",
       "      <td>3470.000000</td>\n",
       "      <td>3470.000000</td>\n",
       "      <td>2.788000e+03</td>\n",
       "      <td>2.788000e+03</td>\n",
       "      <td>0.0</td>\n",
       "    </tr>\n",
       "    <tr>\n",
       "      <th>mean</th>\n",
       "      <td>8.739853e+05</td>\n",
       "      <td>14789.356519</td>\n",
       "      <td>NaN</td>\n",
       "      <td>NaN</td>\n",
       "      <td>NaN</td>\n",
       "      <td>1.964397</td>\n",
       "      <td>NaN</td>\n",
       "      <td>0.787031</td>\n",
       "      <td>4.026050</td>\n",
       "      <td>1.873355</td>\n",
       "      <td>...</td>\n",
       "      <td>NaN</td>\n",
       "      <td>1138.897842</td>\n",
       "      <td>7536.891045</td>\n",
       "      <td>2813.018840</td>\n",
       "      <td>8027.356772</td>\n",
       "      <td>3895.888473</td>\n",
       "      <td>4098.601729</td>\n",
       "      <td>1.431899e+08</td>\n",
       "      <td>1.116878e+08</td>\n",
       "      <td>NaN</td>\n",
       "    </tr>\n",
       "    <tr>\n",
       "      <th>std</th>\n",
       "      <td>3.710622e+06</td>\n",
       "      <td>12558.215963</td>\n",
       "      <td>NaN</td>\n",
       "      <td>NaN</td>\n",
       "      <td>NaN</td>\n",
       "      <td>0.885809</td>\n",
       "      <td>NaN</td>\n",
       "      <td>0.409435</td>\n",
       "      <td>11.171766</td>\n",
       "      <td>1.001540</td>\n",
       "      <td>...</td>\n",
       "      <td>NaN</td>\n",
       "      <td>789.287983</td>\n",
       "      <td>2534.772097</td>\n",
       "      <td>1409.798633</td>\n",
       "      <td>2989.916784</td>\n",
       "      <td>2098.182124</td>\n",
       "      <td>2248.782466</td>\n",
       "      <td>1.059975e+09</td>\n",
       "      <td>7.807512e+08</td>\n",
       "      <td>NaN</td>\n",
       "    </tr>\n",
       "    <tr>\n",
       "      <th>min</th>\n",
       "      <td>1.006360e+05</td>\n",
       "      <td>1002.000000</td>\n",
       "      <td>NaN</td>\n",
       "      <td>NaN</td>\n",
       "      <td>NaN</td>\n",
       "      <td>1.000000</td>\n",
       "      <td>NaN</td>\n",
       "      <td>0.000000</td>\n",
       "      <td>1.000000</td>\n",
       "      <td>0.000000</td>\n",
       "      <td>...</td>\n",
       "      <td>NaN</td>\n",
       "      <td>0.000000</td>\n",
       "      <td>0.000000</td>\n",
       "      <td>0.000000</td>\n",
       "      <td>0.000000</td>\n",
       "      <td>0.000000</td>\n",
       "      <td>0.000000</td>\n",
       "      <td>0.000000e+00</td>\n",
       "      <td>0.000000e+00</td>\n",
       "      <td>NaN</td>\n",
       "    </tr>\n",
       "    <tr>\n",
       "      <th>25%</th>\n",
       "      <td>1.651120e+05</td>\n",
       "      <td>3285.000000</td>\n",
       "      <td>NaN</td>\n",
       "      <td>NaN</td>\n",
       "      <td>NaN</td>\n",
       "      <td>1.000000</td>\n",
       "      <td>NaN</td>\n",
       "      <td>1.000000</td>\n",
       "      <td>1.000000</td>\n",
       "      <td>1.000000</td>\n",
       "      <td>...</td>\n",
       "      <td>NaN</td>\n",
       "      <td>900.000000</td>\n",
       "      <td>5958.500000</td>\n",
       "      <td>1818.000000</td>\n",
       "      <td>6120.000000</td>\n",
       "      <td>2600.000000</td>\n",
       "      <td>2700.000000</td>\n",
       "      <td>1.616152e+06</td>\n",
       "      <td>1.585383e+06</td>\n",
       "      <td>NaN</td>\n",
       "    </tr>\n",
       "    <tr>\n",
       "      <th>50%</th>\n",
       "      <td>2.154240e+05</td>\n",
       "      <td>10052.000000</td>\n",
       "      <td>NaN</td>\n",
       "      <td>NaN</td>\n",
       "      <td>NaN</td>\n",
       "      <td>2.000000</td>\n",
       "      <td>NaN</td>\n",
       "      <td>1.000000</td>\n",
       "      <td>1.000000</td>\n",
       "      <td>2.000000</td>\n",
       "      <td>...</td>\n",
       "      <td>NaN</td>\n",
       "      <td>1100.000000</td>\n",
       "      <td>7496.000000</td>\n",
       "      <td>2748.000000</td>\n",
       "      <td>7791.500000</td>\n",
       "      <td>3627.000000</td>\n",
       "      <td>3654.000000</td>\n",
       "      <td>8.996077e+06</td>\n",
       "      <td>8.045339e+06</td>\n",
       "      <td>NaN</td>\n",
       "    </tr>\n",
       "    <tr>\n",
       "      <th>75%</th>\n",
       "      <td>4.193410e+05</td>\n",
       "      <td>23616.000000</td>\n",
       "      <td>NaN</td>\n",
       "      <td>NaN</td>\n",
       "      <td>NaN</td>\n",
       "      <td>3.000000</td>\n",
       "      <td>NaN</td>\n",
       "      <td>1.000000</td>\n",
       "      <td>2.000000</td>\n",
       "      <td>3.000000</td>\n",
       "      <td>...</td>\n",
       "      <td>NaN</td>\n",
       "      <td>1400.000000</td>\n",
       "      <td>9122.500000</td>\n",
       "      <td>3512.000000</td>\n",
       "      <td>9763.000000</td>\n",
       "      <td>4757.250000</td>\n",
       "      <td>5025.000000</td>\n",
       "      <td>4.142574e+07</td>\n",
       "      <td>3.357602e+07</td>\n",
       "      <td>NaN</td>\n",
       "    </tr>\n",
       "    <tr>\n",
       "      <th>max</th>\n",
       "      <td>4.497000e+07</td>\n",
       "      <td>41552.000000</td>\n",
       "      <td>NaN</td>\n",
       "      <td>NaN</td>\n",
       "      <td>NaN</td>\n",
       "      <td>3.000000</td>\n",
       "      <td>NaN</td>\n",
       "      <td>1.000000</td>\n",
       "      <td>74.000000</td>\n",
       "      <td>4.000000</td>\n",
       "      <td>...</td>\n",
       "      <td>NaN</td>\n",
       "      <td>28000.000000</td>\n",
       "      <td>19400.000000</td>\n",
       "      <td>12400.000000</td>\n",
       "      <td>26148.000000</td>\n",
       "      <td>14400.000000</td>\n",
       "      <td>18861.000000</td>\n",
       "      <td>3.692669e+10</td>\n",
       "      <td>2.603539e+10</td>\n",
       "      <td>NaN</td>\n",
       "    </tr>\n",
       "  </tbody>\n",
       "</table>\n",
       "<p>8 rows × 1186 columns</p>\n",
       "</div>"
      ],
      "text/plain": [
       "             UNITID        OPEID6  ACCREDAGENCY  INSTURL  NPCURL      SCH_DEG  \\\n",
       "count  7.217000e+03   7217.000000           0.0      0.0     0.0  7078.000000   \n",
       "mean   8.739853e+05  14789.356519           NaN      NaN     NaN     1.964397   \n",
       "std    3.710622e+06  12558.215963           NaN      NaN     NaN     0.885809   \n",
       "min    1.006360e+05   1002.000000           NaN      NaN     NaN     1.000000   \n",
       "25%    1.651120e+05   3285.000000           NaN      NaN     NaN     1.000000   \n",
       "50%    2.154240e+05  10052.000000           NaN      NaN     NaN     2.000000   \n",
       "75%    4.193410e+05  23616.000000           NaN      NaN     NaN     3.000000   \n",
       "max    4.497000e+07  41552.000000           NaN      NaN     NaN     3.000000   \n",
       "\n",
       "       HCM2         MAIN    NUMBRANCH      PREDDEG  ...  FEDSCHCD  \\\n",
       "count   0.0  7217.000000  7217.000000  7217.000000  ...       0.0   \n",
       "mean    NaN     0.787031     4.026050     1.873355  ...       NaN   \n",
       "std     NaN     0.409435    11.171766     1.001540  ...       NaN   \n",
       "min     NaN     0.000000     1.000000     0.000000  ...       NaN   \n",
       "25%     NaN     1.000000     1.000000     1.000000  ...       NaN   \n",
       "50%     NaN     1.000000     1.000000     2.000000  ...       NaN   \n",
       "75%     NaN     1.000000     2.000000     3.000000  ...       NaN   \n",
       "max     NaN     1.000000    74.000000     4.000000  ...       NaN   \n",
       "\n",
       "         BOOKSUPPLY  ROOMBOARD_ON  OTHEREXPENSE_ON  ROOMBOARD_OFF  \\\n",
       "count   4170.000000   2010.000000      2017.000000    3470.000000   \n",
       "mean    1138.897842   7536.891045      2813.018840    8027.356772   \n",
       "std      789.287983   2534.772097      1409.798633    2989.916784   \n",
       "min        0.000000      0.000000         0.000000       0.000000   \n",
       "25%      900.000000   5958.500000      1818.000000    6120.000000   \n",
       "50%     1100.000000   7496.000000      2748.000000    7791.500000   \n",
       "75%     1400.000000   9122.500000      3512.000000    9763.000000   \n",
       "max    28000.000000  19400.000000     12400.000000   26148.000000   \n",
       "\n",
       "       OTHEREXPENSE_OFF  OTHEREXPENSE_FAM    ENDOWBEGIN      ENDOWEND  \\\n",
       "count       3470.000000       3470.000000  2.788000e+03  2.788000e+03   \n",
       "mean        3895.888473       4098.601729  1.431899e+08  1.116878e+08   \n",
       "std         2098.182124       2248.782466  1.059975e+09  7.807512e+08   \n",
       "min            0.000000          0.000000  0.000000e+00  0.000000e+00   \n",
       "25%         2600.000000       2700.000000  1.616152e+06  1.585383e+06   \n",
       "50%         3627.000000       3654.000000  8.996077e+06  8.045339e+06   \n",
       "75%         4757.250000       5025.000000  4.142574e+07  3.357602e+07   \n",
       "max        14400.000000      18861.000000  3.692669e+10  2.603539e+10   \n",
       "\n",
       "       DOLPROVIDER  \n",
       "count          0.0  \n",
       "mean           NaN  \n",
       "std            NaN  \n",
       "min            NaN  \n",
       "25%            NaN  \n",
       "50%            NaN  \n",
       "75%            NaN  \n",
       "max            NaN  \n",
       "\n",
       "[8 rows x 1186 columns]"
      ]
     },
     "execution_count": 8,
     "metadata": {},
     "output_type": "execute_result"
    }
   ],
   "source": [
    "COL.describe() # some stats"
   ]
  },
  {
   "cell_type": "code",
   "execution_count": 9,
   "metadata": {
    "slideshow": {
     "slide_type": "slide"
    }
   },
   "outputs": [
    {
     "data": {
      "text/plain": [
       "Index(['UNITID', 'OPEID', 'OPEID6', 'INSTNM', 'CITY', 'STABBR', 'ZIP',\n",
       "       'ACCREDAGENCY', 'INSTURL', 'NPCURL',\n",
       "       ...\n",
       "       'FEDSCHCD', 'BOOKSUPPLY', 'ROOMBOARD_ON', 'OTHEREXPENSE_ON',\n",
       "       'ROOMBOARD_OFF', 'OTHEREXPENSE_OFF', 'OTHEREXPENSE_FAM', 'ENDOWBEGIN',\n",
       "       'ENDOWEND', 'DOLPROVIDER'],\n",
       "      dtype='object', length=2392)"
      ]
     },
     "execution_count": 9,
     "metadata": {},
     "output_type": "execute_result"
    }
   ],
   "source": [
    "COL.columns # DataFrames have columns"
   ]
  },
  {
   "cell_type": "code",
   "execution_count": 10,
   "metadata": {
    "slideshow": {
     "slide_type": "fragment"
    }
   },
   "outputs": [
    {
     "data": {
      "text/plain": [
       "RangeIndex(start=0, stop=7217, step=1)"
      ]
     },
     "execution_count": 10,
     "metadata": {},
     "output_type": "execute_result"
    }
   ],
   "source": [
    "COL.index # and row indices"
   ]
  },
  {
   "cell_type": "code",
   "execution_count": 11,
   "metadata": {
    "slideshow": {
     "slide_type": "slide"
    }
   },
   "outputs": [
    {
     "data": {
      "text/html": [
       "<div>\n",
       "<style scoped>\n",
       "    .dataframe tbody tr th:only-of-type {\n",
       "        vertical-align: middle;\n",
       "    }\n",
       "\n",
       "    .dataframe tbody tr th {\n",
       "        vertical-align: top;\n",
       "    }\n",
       "\n",
       "    .dataframe thead th {\n",
       "        text-align: right;\n",
       "    }\n",
       "</style>\n",
       "<table border=\"1\" class=\"dataframe\">\n",
       "  <thead>\n",
       "    <tr style=\"text-align: right;\">\n",
       "      <th></th>\n",
       "      <th>OPEID</th>\n",
       "      <th>OPEID6</th>\n",
       "      <th>INSTNM</th>\n",
       "      <th>CITY</th>\n",
       "      <th>STABBR</th>\n",
       "      <th>ZIP</th>\n",
       "      <th>ACCREDAGENCY</th>\n",
       "      <th>INSTURL</th>\n",
       "      <th>NPCURL</th>\n",
       "      <th>SCH_DEG</th>\n",
       "      <th>...</th>\n",
       "      <th>FEDSCHCD</th>\n",
       "      <th>BOOKSUPPLY</th>\n",
       "      <th>ROOMBOARD_ON</th>\n",
       "      <th>OTHEREXPENSE_ON</th>\n",
       "      <th>ROOMBOARD_OFF</th>\n",
       "      <th>OTHEREXPENSE_OFF</th>\n",
       "      <th>OTHEREXPENSE_FAM</th>\n",
       "      <th>ENDOWBEGIN</th>\n",
       "      <th>ENDOWEND</th>\n",
       "      <th>DOLPROVIDER</th>\n",
       "    </tr>\n",
       "    <tr>\n",
       "      <th>UNITID</th>\n",
       "      <th></th>\n",
       "      <th></th>\n",
       "      <th></th>\n",
       "      <th></th>\n",
       "      <th></th>\n",
       "      <th></th>\n",
       "      <th></th>\n",
       "      <th></th>\n",
       "      <th></th>\n",
       "      <th></th>\n",
       "      <th></th>\n",
       "      <th></th>\n",
       "      <th></th>\n",
       "      <th></th>\n",
       "      <th></th>\n",
       "      <th></th>\n",
       "      <th></th>\n",
       "      <th></th>\n",
       "      <th></th>\n",
       "      <th></th>\n",
       "      <th></th>\n",
       "    </tr>\n",
       "  </thead>\n",
       "  <tbody>\n",
       "    <tr>\n",
       "      <th>100636</th>\n",
       "      <td>1230800</td>\n",
       "      <td>12308</td>\n",
       "      <td>Community College of the Air Force</td>\n",
       "      <td>Montgomery</td>\n",
       "      <td>AL</td>\n",
       "      <td>36114-3011</td>\n",
       "      <td>NaN</td>\n",
       "      <td>NaN</td>\n",
       "      <td>NaN</td>\n",
       "      <td>NaN</td>\n",
       "      <td>...</td>\n",
       "      <td>NaN</td>\n",
       "      <td>0.0</td>\n",
       "      <td>0.0</td>\n",
       "      <td>0.0</td>\n",
       "      <td>NaN</td>\n",
       "      <td>NaN</td>\n",
       "      <td>NaN</td>\n",
       "      <td>NaN</td>\n",
       "      <td>NaN</td>\n",
       "      <td>NaN</td>\n",
       "    </tr>\n",
       "    <tr>\n",
       "      <th>100654</th>\n",
       "      <td>100200</td>\n",
       "      <td>1002</td>\n",
       "      <td>Alabama A &amp; M University</td>\n",
       "      <td>Normal</td>\n",
       "      <td>AL</td>\n",
       "      <td>35762</td>\n",
       "      <td>NaN</td>\n",
       "      <td>NaN</td>\n",
       "      <td>NaN</td>\n",
       "      <td>3.0</td>\n",
       "      <td>...</td>\n",
       "      <td>NaN</td>\n",
       "      <td>1800.0</td>\n",
       "      <td>5350.0</td>\n",
       "      <td>2080.0</td>\n",
       "      <td>5350.0</td>\n",
       "      <td>2080.0</td>\n",
       "      <td>1300.0</td>\n",
       "      <td>NaN</td>\n",
       "      <td>NaN</td>\n",
       "      <td>NaN</td>\n",
       "    </tr>\n",
       "    <tr>\n",
       "      <th>100663</th>\n",
       "      <td>105200</td>\n",
       "      <td>1052</td>\n",
       "      <td>University of Alabama at Birmingham</td>\n",
       "      <td>Birmingham</td>\n",
       "      <td>AL</td>\n",
       "      <td>35294-0110</td>\n",
       "      <td>NaN</td>\n",
       "      <td>NaN</td>\n",
       "      <td>NaN</td>\n",
       "      <td>3.0</td>\n",
       "      <td>...</td>\n",
       "      <td>NaN</td>\n",
       "      <td>1000.0</td>\n",
       "      <td>8969.0</td>\n",
       "      <td>4050.0</td>\n",
       "      <td>8969.0</td>\n",
       "      <td>4050.0</td>\n",
       "      <td>4050.0</td>\n",
       "      <td>330920594.0</td>\n",
       "      <td>326256324.0</td>\n",
       "      <td>NaN</td>\n",
       "    </tr>\n",
       "    <tr>\n",
       "      <th>100690</th>\n",
       "      <td>2503400</td>\n",
       "      <td>25034</td>\n",
       "      <td>Amridge University</td>\n",
       "      <td>Montgomery</td>\n",
       "      <td>AL</td>\n",
       "      <td>36117-3553</td>\n",
       "      <td>NaN</td>\n",
       "      <td>NaN</td>\n",
       "      <td>NaN</td>\n",
       "      <td>3.0</td>\n",
       "      <td>...</td>\n",
       "      <td>NaN</td>\n",
       "      <td>1500.0</td>\n",
       "      <td>NaN</td>\n",
       "      <td>NaN</td>\n",
       "      <td>9600.0</td>\n",
       "      <td>1600.0</td>\n",
       "      <td>1600.0</td>\n",
       "      <td>174805.0</td>\n",
       "      <td>174805.0</td>\n",
       "      <td>NaN</td>\n",
       "    </tr>\n",
       "    <tr>\n",
       "      <th>100706</th>\n",
       "      <td>105500</td>\n",
       "      <td>1055</td>\n",
       "      <td>University of Alabama in Huntsville</td>\n",
       "      <td>Huntsville</td>\n",
       "      <td>AL</td>\n",
       "      <td>35899</td>\n",
       "      <td>NaN</td>\n",
       "      <td>NaN</td>\n",
       "      <td>NaN</td>\n",
       "      <td>3.0</td>\n",
       "      <td>...</td>\n",
       "      <td>NaN</td>\n",
       "      <td>1542.0</td>\n",
       "      <td>7208.0</td>\n",
       "      <td>3957.0</td>\n",
       "      <td>NaN</td>\n",
       "      <td>NaN</td>\n",
       "      <td>NaN</td>\n",
       "      <td>55880886.0</td>\n",
       "      <td>53895740.0</td>\n",
       "      <td>NaN</td>\n",
       "    </tr>\n",
       "  </tbody>\n",
       "</table>\n",
       "<p>5 rows × 2391 columns</p>\n",
       "</div>"
      ],
      "text/plain": [
       "          OPEID  OPEID6                               INSTNM        CITY  \\\n",
       "UNITID                                                                     \n",
       "100636  1230800   12308   Community College of the Air Force  Montgomery   \n",
       "100654   100200    1002             Alabama A & M University      Normal   \n",
       "100663   105200    1052  University of Alabama at Birmingham  Birmingham   \n",
       "100690  2503400   25034                   Amridge University  Montgomery   \n",
       "100706   105500    1055  University of Alabama in Huntsville  Huntsville   \n",
       "\n",
       "       STABBR         ZIP  ACCREDAGENCY  INSTURL  NPCURL  SCH_DEG  ...  \\\n",
       "UNITID                                                             ...   \n",
       "100636     AL  36114-3011           NaN      NaN     NaN      NaN  ...   \n",
       "100654     AL       35762           NaN      NaN     NaN      3.0  ...   \n",
       "100663     AL  35294-0110           NaN      NaN     NaN      3.0  ...   \n",
       "100690     AL  36117-3553           NaN      NaN     NaN      3.0  ...   \n",
       "100706     AL       35899           NaN      NaN     NaN      3.0  ...   \n",
       "\n",
       "        FEDSCHCD  BOOKSUPPLY  ROOMBOARD_ON  OTHEREXPENSE_ON  ROOMBOARD_OFF  \\\n",
       "UNITID                                                                       \n",
       "100636       NaN         0.0           0.0              0.0            NaN   \n",
       "100654       NaN      1800.0        5350.0           2080.0         5350.0   \n",
       "100663       NaN      1000.0        8969.0           4050.0         8969.0   \n",
       "100690       NaN      1500.0           NaN              NaN         9600.0   \n",
       "100706       NaN      1542.0        7208.0           3957.0            NaN   \n",
       "\n",
       "        OTHEREXPENSE_OFF  OTHEREXPENSE_FAM   ENDOWBEGIN     ENDOWEND  \\\n",
       "UNITID                                                                 \n",
       "100636               NaN               NaN          NaN          NaN   \n",
       "100654            2080.0            1300.0          NaN          NaN   \n",
       "100663            4050.0            4050.0  330920594.0  326256324.0   \n",
       "100690            1600.0            1600.0     174805.0     174805.0   \n",
       "100706               NaN               NaN   55880886.0   53895740.0   \n",
       "\n",
       "        DOLPROVIDER  \n",
       "UNITID               \n",
       "100636          NaN  \n",
       "100654          NaN  \n",
       "100663          NaN  \n",
       "100690          NaN  \n",
       "100706          NaN  \n",
       "\n",
       "[5 rows x 2391 columns]"
      ]
     },
     "execution_count": 11,
     "metadata": {},
     "output_type": "execute_result"
    }
   ],
   "source": [
    "COL = COL.set_index('UNITID') # set index variable\n",
    "COL.head()"
   ]
  },
  {
   "cell_type": "code",
   "execution_count": 12,
   "metadata": {
    "slideshow": {
     "slide_type": "slide"
    }
   },
   "outputs": [
    {
     "data": {
      "text/plain": [
       "pandas.core.series.Series"
      ]
     },
     "execution_count": 12,
     "metadata": {},
     "output_type": "execute_result"
    }
   ],
   "source": [
    "enroll = COL['UGDS'] # DataFrame acts like dictionary from column names to columns\n",
    "type(enroll) # columns are Series"
   ]
  },
  {
   "cell_type": "code",
   "execution_count": 13,
   "metadata": {
    "slideshow": {
     "slide_type": "fragment"
    }
   },
   "outputs": [
    {
     "data": {
      "text/plain": [
       "dtype('float64')"
      ]
     },
     "execution_count": 13,
     "metadata": {},
     "output_type": "execute_result"
    }
   ],
   "source": [
    "enroll.dtypes # the dtype of the series"
   ]
  },
  {
   "cell_type": "code",
   "execution_count": 14,
   "metadata": {
    "slideshow": {
     "slide_type": "slide"
    }
   },
   "outputs": [
    {
     "data": {
      "text/plain": [
       "UNITID\n",
       "100636        0.0\n",
       "100654     4483.0\n",
       "100663    10265.0\n",
       "100690      389.0\n",
       "100706     5956.0\n",
       "100724     4638.0\n",
       "Name: UGDS, dtype: float64"
      ]
     },
     "execution_count": 14,
     "metadata": {},
     "output_type": "execute_result"
    }
   ],
   "source": [
    "enroll[:6] # Series slices like an array"
   ]
  },
  {
   "cell_type": "code",
   "execution_count": 15,
   "metadata": {
    "slideshow": {
     "slide_type": "slide"
    }
   },
   "outputs": [
    {
     "data": {
      "text/plain": [
       "4483.0"
      ]
     },
     "execution_count": 15,
     "metadata": {},
     "output_type": "execute_result"
    }
   ],
   "source": [
    "enroll[100654] # Series acts like a dictionary from index to value"
   ]
  },
  {
   "cell_type": "code",
   "execution_count": 16,
   "metadata": {
    "slideshow": {
     "slide_type": "fragment"
    }
   },
   "outputs": [
    {
     "data": {
      "text/plain": [
       "UNITID\n",
       "100654     4483.0\n",
       "100751    23296.0\n",
       "Name: UGDS, dtype: float64"
      ]
     },
     "execution_count": 16,
     "metadata": {},
     "output_type": "execute_result"
    }
   ],
   "source": [
    "enroll[[100654,100751]] # list indices are keys"
   ]
  },
  {
   "cell_type": "code",
   "execution_count": 17,
   "metadata": {
    "slideshow": {
     "slide_type": "slide"
    }
   },
   "outputs": [
    {
     "data": {
      "text/plain": [
       "(7217,)"
      ]
     },
     "execution_count": 17,
     "metadata": {},
     "output_type": "execute_result"
    }
   ],
   "source": [
    "enroll.shape"
   ]
  },
  {
   "cell_type": "code",
   "execution_count": 18,
   "metadata": {
    "slideshow": {
     "slide_type": "fragment"
    }
   },
   "outputs": [
    {
     "data": {
      "text/plain": [
       "count      6649.000000\n",
       "mean       2484.897579\n",
       "std        5688.903697\n",
       "min           0.000000\n",
       "25%         138.000000\n",
       "50%         611.000000\n",
       "75%        2233.000000\n",
       "max      235028.000000\n",
       "Name: UGDS, dtype: float64"
      ]
     },
     "execution_count": 18,
     "metadata": {},
     "output_type": "execute_result"
    }
   ],
   "source": [
    "enroll.describe()"
   ]
  },
  {
   "cell_type": "markdown",
   "metadata": {
    "slideshow": {
     "slide_type": "slide"
    }
   },
   "source": [
    "### Series statistics\n",
    "\n",
    "- `mean, min, max, std, count`"
   ]
  },
  {
   "cell_type": "code",
   "execution_count": 19,
   "metadata": {
    "slideshow": {
     "slide_type": "fragment"
    }
   },
   "outputs": [
    {
     "data": {
      "text/plain": [
       "2484.8975785832454"
      ]
     },
     "execution_count": 19,
     "metadata": {},
     "output_type": "execute_result"
    }
   ],
   "source": [
    "enroll.mean()"
   ]
  },
  {
   "cell_type": "code",
   "execution_count": 20,
   "metadata": {
    "slideshow": {
     "slide_type": "fragment"
    }
   },
   "outputs": [
    {
     "data": {
      "text/plain": [
       "6649"
      ]
     },
     "execution_count": 20,
     "metadata": {},
     "output_type": "execute_result"
    }
   ],
   "source": [
    "enroll.count()"
   ]
  },
  {
   "cell_type": "code",
   "execution_count": 21,
   "metadata": {
    "slideshow": {
     "slide_type": "slide"
    }
   },
   "outputs": [],
   "source": [
    "def read_enroll_data(year,datadir):\n",
    "    \"\"\"read a CollegeScorecard enrollment\"\"\"\n",
    "    nextyr = str(int(year) + 1)[-2:]\n",
    "    filename = datadir + '/MERGED{}_{}_PP.csv'.format(year,nextyr)\n",
    "    col = pd.read_csv(filename,dtype={'UNITID':np.int64,'UGDS':np.float64},usecols=['UNITID','UGDS'])\n",
    "    col = col.set_index('UNITID')\n",
    "    return col['UGDS']"
   ]
  },
  {
   "cell_type": "code",
   "execution_count": 22,
   "metadata": {
    "slideshow": {
     "slide_type": "fragment"
    }
   },
   "outputs": [],
   "source": [
    "ENR_list = [read_enroll_data(year,datadir) for year in range(2000,2010)] # read these years"
   ]
  },
  {
   "cell_type": "code",
   "execution_count": 23,
   "metadata": {
    "slideshow": {
     "slide_type": "slide"
    }
   },
   "outputs": [
    {
     "data": {
      "text/plain": [
       "[6654, 6725, 6652, 6673, 6747, 6899, 6951, 6971, 7055, 7217]"
      ]
     },
     "execution_count": 23,
     "metadata": {},
     "output_type": "execute_result"
    }
   ],
   "source": [
    "[len(enr) for enr in ENR_list] # amount of data"
   ]
  },
  {
   "cell_type": "code",
   "execution_count": 24,
   "metadata": {
    "slideshow": {
     "slide_type": "fragment"
    }
   },
   "outputs": [
    {
     "data": {
      "text/plain": [
       "[0, 6362, 6300, 6361, 6318, 6388, 6441, 6454, 6544, 6649]"
      ]
     },
     "execution_count": 24,
     "metadata": {},
     "output_type": "execute_result"
    }
   ],
   "source": [
    "[enr.count() for enr in ENR_list] # count the number of NAs"
   ]
  },
  {
   "cell_type": "code",
   "execution_count": 25,
   "metadata": {
    "slideshow": {
     "slide_type": "slide"
    }
   },
   "outputs": [],
   "source": [
    "enr_01_02, enr_02_03 = ENR_list[1:3] \n",
    "enr_01_03 = enr_01_02 + enr_02_03 # add two Series of different length and NAs"
   ]
  },
  {
   "cell_type": "code",
   "execution_count": 26,
   "metadata": {
    "slideshow": {
     "slide_type": "slide"
    }
   },
   "outputs": [],
   "source": [
    "enr_nna = enr_02_03[~enr_02_03.isna()] # common form of boolean indexing\n",
    "enr_nna2 = enr_02_03.dropna() # does the same"
   ]
  },
  {
   "cell_type": "markdown",
   "metadata": {
    "slideshow": {
     "slide_type": "slide"
    }
   },
   "source": [
    "### Series operations\n",
    "\n",
    "- Comparing elements of series is based on the index not the row number\n",
    "- `series.add, div, gt, lt, ne`\n",
    "- Time series index lets you do differencing (diff), rolling window transform (rolling)\n",
    "- Many other series operations: https://pandas.pydata.org/pandas-docs/version/0.22/api.html#series\n"
   ]
  },
  {
   "cell_type": "markdown",
   "metadata": {
    "slideshow": {
     "slide_type": "slide"
    }
   },
   "source": [
    "### DataFrames\n",
    "\n",
    "A DataFrame is...\n",
    "- a dictionary of Series,\n",
    "- an array (access positions with `.iloc`),\n",
    "- a dictionary of rows (access rows with `.loc`),\n",
    "- a time series (if indexing by Datetime) \n",
    "\n",
    "Tidy data principle: https://cran.r-project.org/web/packages/tidyr/vignettes/tidy-data.html\n",
    "- rows = observations\n",
    "- columns = variables"
   ]
  },
  {
   "cell_type": "code",
   "execution_count": 27,
   "metadata": {
    "slideshow": {
     "slide_type": "slide"
    }
   },
   "outputs": [
    {
     "name": "stdout",
     "output_type": "stream",
     "text": [
      "<class 'pandas.core.frame.DataFrame'>\n",
      "Int64Index: 7217 entries, 100636 to 44970003\n",
      "Data columns (total 15 columns):\n",
      " #   Column     Non-Null Count  Dtype \n",
      "---  ------     --------------  ----- \n",
      " 0   OPEID      7217 non-null   object\n",
      " 1   OPEID6     7217 non-null   int64 \n",
      " 2   INSTNM     7217 non-null   object\n",
      " 3   CITY       7217 non-null   object\n",
      " 4   STABBR     7217 non-null   object\n",
      " 5   ZIP        7217 non-null   object\n",
      " 6   MAIN       7217 non-null   int64 \n",
      " 7   NUMBRANCH  7217 non-null   int64 \n",
      " 8   PREDDEG    7217 non-null   int64 \n",
      " 9   HIGHDEG    7217 non-null   int64 \n",
      " 10  CONTROL    7217 non-null   int64 \n",
      " 11  ST_FIPS    7217 non-null   int64 \n",
      " 12  REGION     7217 non-null   int64 \n",
      " 13  ICLEVEL    7217 non-null   int64 \n",
      " 14  OPEFLAG    7217 non-null   int64 \n",
      "dtypes: int64(10), object(5)\n",
      "memory usage: 1.1+ MB\n"
     ]
    }
   ],
   "source": [
    "# Which columns have no NAs\n",
    "col_dna = COL.dropna(axis=1)\n",
    "col_dna.info()"
   ]
  },
  {
   "cell_type": "code",
   "execution_count": 28,
   "metadata": {
    "slideshow": {
     "slide_type": "slide"
    }
   },
   "outputs": [
    {
     "data": {
      "text/html": [
       "<div>\n",
       "<style scoped>\n",
       "    .dataframe tbody tr th:only-of-type {\n",
       "        vertical-align: middle;\n",
       "    }\n",
       "\n",
       "    .dataframe tbody tr th {\n",
       "        vertical-align: top;\n",
       "    }\n",
       "\n",
       "    .dataframe thead th {\n",
       "        text-align: right;\n",
       "    }\n",
       "</style>\n",
       "<table border=\"1\" class=\"dataframe\">\n",
       "  <thead>\n",
       "    <tr style=\"text-align: right;\">\n",
       "      <th></th>\n",
       "      <th>INSTNM</th>\n",
       "      <th>HIGHDEG</th>\n",
       "    </tr>\n",
       "    <tr>\n",
       "      <th>UNITID</th>\n",
       "      <th></th>\n",
       "      <th></th>\n",
       "    </tr>\n",
       "  </thead>\n",
       "  <tbody>\n",
       "    <tr>\n",
       "      <th>100636</th>\n",
       "      <td>Community College of the Air Force</td>\n",
       "      <td>2</td>\n",
       "    </tr>\n",
       "    <tr>\n",
       "      <th>100654</th>\n",
       "      <td>Alabama A &amp; M University</td>\n",
       "      <td>4</td>\n",
       "    </tr>\n",
       "    <tr>\n",
       "      <th>100663</th>\n",
       "      <td>University of Alabama at Birmingham</td>\n",
       "      <td>4</td>\n",
       "    </tr>\n",
       "    <tr>\n",
       "      <th>100690</th>\n",
       "      <td>Amridge University</td>\n",
       "      <td>4</td>\n",
       "    </tr>\n",
       "    <tr>\n",
       "      <th>100706</th>\n",
       "      <td>University of Alabama in Huntsville</td>\n",
       "      <td>4</td>\n",
       "    </tr>\n",
       "  </tbody>\n",
       "</table>\n",
       "</div>"
      ],
      "text/plain": [
       "                                     INSTNM  HIGHDEG\n",
       "UNITID                                              \n",
       "100636   Community College of the Air Force        2\n",
       "100654             Alabama A & M University        4\n",
       "100663  University of Alabama at Birmingham        4\n",
       "100690                   Amridge University        4\n",
       "100706  University of Alabama in Huntsville        4"
      ]
     },
     "execution_count": 28,
     "metadata": {},
     "output_type": "execute_result"
    }
   ],
   "source": [
    "col_dna[['INSTNM','HIGHDEG']].head() # access columns"
   ]
  },
  {
   "cell_type": "code",
   "execution_count": 29,
   "metadata": {
    "slideshow": {
     "slide_type": "slide"
    }
   },
   "outputs": [
    {
     "data": {
      "text/html": [
       "<div>\n",
       "<style scoped>\n",
       "    .dataframe tbody tr th:only-of-type {\n",
       "        vertical-align: middle;\n",
       "    }\n",
       "\n",
       "    .dataframe tbody tr th {\n",
       "        vertical-align: top;\n",
       "    }\n",
       "\n",
       "    .dataframe thead th {\n",
       "        text-align: right;\n",
       "    }\n",
       "</style>\n",
       "<table border=\"1\" class=\"dataframe\">\n",
       "  <thead>\n",
       "    <tr style=\"text-align: right;\">\n",
       "      <th></th>\n",
       "      <th>OPEID</th>\n",
       "      <th>OPEID6</th>\n",
       "      <th>INSTNM</th>\n",
       "      <th>CITY</th>\n",
       "      <th>STABBR</th>\n",
       "      <th>ZIP</th>\n",
       "      <th>MAIN</th>\n",
       "      <th>NUMBRANCH</th>\n",
       "      <th>PREDDEG</th>\n",
       "      <th>HIGHDEG</th>\n",
       "      <th>CONTROL</th>\n",
       "      <th>ST_FIPS</th>\n",
       "      <th>REGION</th>\n",
       "      <th>ICLEVEL</th>\n",
       "      <th>OPEFLAG</th>\n",
       "    </tr>\n",
       "    <tr>\n",
       "      <th>UNITID</th>\n",
       "      <th></th>\n",
       "      <th></th>\n",
       "      <th></th>\n",
       "      <th></th>\n",
       "      <th></th>\n",
       "      <th></th>\n",
       "      <th></th>\n",
       "      <th></th>\n",
       "      <th></th>\n",
       "      <th></th>\n",
       "      <th></th>\n",
       "      <th></th>\n",
       "      <th></th>\n",
       "      <th></th>\n",
       "      <th></th>\n",
       "    </tr>\n",
       "  </thead>\n",
       "  <tbody>\n",
       "    <tr>\n",
       "      <th>100654</th>\n",
       "      <td>100200</td>\n",
       "      <td>1002</td>\n",
       "      <td>Alabama A &amp; M University</td>\n",
       "      <td>Normal</td>\n",
       "      <td>AL</td>\n",
       "      <td>35762</td>\n",
       "      <td>1</td>\n",
       "      <td>1</td>\n",
       "      <td>3</td>\n",
       "      <td>4</td>\n",
       "      <td>1</td>\n",
       "      <td>1</td>\n",
       "      <td>5</td>\n",
       "      <td>1</td>\n",
       "      <td>1</td>\n",
       "    </tr>\n",
       "    <tr>\n",
       "      <th>100830</th>\n",
       "      <td>831000</td>\n",
       "      <td>8310</td>\n",
       "      <td>Auburn University at Montgomery</td>\n",
       "      <td>Montgomery</td>\n",
       "      <td>AL</td>\n",
       "      <td>36117-3596</td>\n",
       "      <td>1</td>\n",
       "      <td>1</td>\n",
       "      <td>3</td>\n",
       "      <td>4</td>\n",
       "      <td>1</td>\n",
       "      <td>1</td>\n",
       "      <td>5</td>\n",
       "      <td>1</td>\n",
       "      <td>1</td>\n",
       "    </tr>\n",
       "  </tbody>\n",
       "</table>\n",
       "</div>"
      ],
      "text/plain": [
       "         OPEID  OPEID6                           INSTNM        CITY STABBR  \\\n",
       "UNITID                                                                       \n",
       "100654  100200    1002         Alabama A & M University      Normal     AL   \n",
       "100830  831000    8310  Auburn University at Montgomery  Montgomery     AL   \n",
       "\n",
       "               ZIP  MAIN  NUMBRANCH  PREDDEG  HIGHDEG  CONTROL  ST_FIPS  \\\n",
       "UNITID                                                                    \n",
       "100654       35762     1          1        3        4        1        1   \n",
       "100830  36117-3596     1          1        3        4        1        1   \n",
       "\n",
       "        REGION  ICLEVEL  OPEFLAG  \n",
       "UNITID                            \n",
       "100654       5        1        1  \n",
       "100830       5        1        1  "
      ]
     },
     "execution_count": 29,
     "metadata": {},
     "output_type": "execute_result"
    }
   ],
   "source": [
    "col_dna.loc[[100654,100830]] # access rows from indices with loc"
   ]
  },
  {
   "cell_type": "code",
   "execution_count": 30,
   "metadata": {
    "slideshow": {
     "slide_type": "slide"
    }
   },
   "outputs": [
    {
     "data": {
      "text/html": [
       "<div>\n",
       "<style scoped>\n",
       "    .dataframe tbody tr th:only-of-type {\n",
       "        vertical-align: middle;\n",
       "    }\n",
       "\n",
       "    .dataframe tbody tr th {\n",
       "        vertical-align: top;\n",
       "    }\n",
       "\n",
       "    .dataframe thead th {\n",
       "        text-align: right;\n",
       "    }\n",
       "</style>\n",
       "<table border=\"1\" class=\"dataframe\">\n",
       "  <thead>\n",
       "    <tr style=\"text-align: right;\">\n",
       "      <th></th>\n",
       "      <th>OPEID</th>\n",
       "      <th>OPEID6</th>\n",
       "      <th>INSTNM</th>\n",
       "      <th>CITY</th>\n",
       "      <th>STABBR</th>\n",
       "    </tr>\n",
       "    <tr>\n",
       "      <th>UNITID</th>\n",
       "      <th></th>\n",
       "      <th></th>\n",
       "      <th></th>\n",
       "      <th></th>\n",
       "      <th></th>\n",
       "    </tr>\n",
       "  </thead>\n",
       "  <tbody>\n",
       "    <tr>\n",
       "      <th>100636</th>\n",
       "      <td>1230800</td>\n",
       "      <td>12308</td>\n",
       "      <td>Community College of the Air Force</td>\n",
       "      <td>Montgomery</td>\n",
       "      <td>AL</td>\n",
       "    </tr>\n",
       "    <tr>\n",
       "      <th>100654</th>\n",
       "      <td>100200</td>\n",
       "      <td>1002</td>\n",
       "      <td>Alabama A &amp; M University</td>\n",
       "      <td>Normal</td>\n",
       "      <td>AL</td>\n",
       "    </tr>\n",
       "    <tr>\n",
       "      <th>100663</th>\n",
       "      <td>105200</td>\n",
       "      <td>1052</td>\n",
       "      <td>University of Alabama at Birmingham</td>\n",
       "      <td>Birmingham</td>\n",
       "      <td>AL</td>\n",
       "    </tr>\n",
       "    <tr>\n",
       "      <th>100690</th>\n",
       "      <td>2503400</td>\n",
       "      <td>25034</td>\n",
       "      <td>Amridge University</td>\n",
       "      <td>Montgomery</td>\n",
       "      <td>AL</td>\n",
       "    </tr>\n",
       "    <tr>\n",
       "      <th>100706</th>\n",
       "      <td>105500</td>\n",
       "      <td>1055</td>\n",
       "      <td>University of Alabama in Huntsville</td>\n",
       "      <td>Huntsville</td>\n",
       "      <td>AL</td>\n",
       "    </tr>\n",
       "    <tr>\n",
       "      <th>100724</th>\n",
       "      <td>100500</td>\n",
       "      <td>1005</td>\n",
       "      <td>Alabama State University</td>\n",
       "      <td>Montgomery</td>\n",
       "      <td>AL</td>\n",
       "    </tr>\n",
       "    <tr>\n",
       "      <th>100751</th>\n",
       "      <td>105100</td>\n",
       "      <td>1051</td>\n",
       "      <td>The University of Alabama</td>\n",
       "      <td>Tuscaloosa</td>\n",
       "      <td>AL</td>\n",
       "    </tr>\n",
       "    <tr>\n",
       "      <th>100760</th>\n",
       "      <td>100700</td>\n",
       "      <td>1007</td>\n",
       "      <td>Central Alabama Community College</td>\n",
       "      <td>Alexander City</td>\n",
       "      <td>AL</td>\n",
       "    </tr>\n",
       "    <tr>\n",
       "      <th>100812</th>\n",
       "      <td>100800</td>\n",
       "      <td>1008</td>\n",
       "      <td>Athens State University</td>\n",
       "      <td>Athens</td>\n",
       "      <td>AL</td>\n",
       "    </tr>\n",
       "    <tr>\n",
       "      <th>100830</th>\n",
       "      <td>831000</td>\n",
       "      <td>8310</td>\n",
       "      <td>Auburn University at Montgomery</td>\n",
       "      <td>Montgomery</td>\n",
       "      <td>AL</td>\n",
       "    </tr>\n",
       "  </tbody>\n",
       "</table>\n",
       "</div>"
      ],
      "text/plain": [
       "          OPEID  OPEID6                               INSTNM            CITY  \\\n",
       "UNITID                                                                         \n",
       "100636  1230800   12308   Community College of the Air Force      Montgomery   \n",
       "100654   100200    1002             Alabama A & M University          Normal   \n",
       "100663   105200    1052  University of Alabama at Birmingham      Birmingham   \n",
       "100690  2503400   25034                   Amridge University      Montgomery   \n",
       "100706   105500    1055  University of Alabama in Huntsville      Huntsville   \n",
       "100724   100500    1005             Alabama State University      Montgomery   \n",
       "100751   105100    1051            The University of Alabama      Tuscaloosa   \n",
       "100760   100700    1007    Central Alabama Community College  Alexander City   \n",
       "100812   100800    1008              Athens State University          Athens   \n",
       "100830   831000    8310      Auburn University at Montgomery      Montgomery   \n",
       "\n",
       "       STABBR  \n",
       "UNITID         \n",
       "100636     AL  \n",
       "100654     AL  \n",
       "100663     AL  \n",
       "100690     AL  \n",
       "100706     AL  \n",
       "100724     AL  \n",
       "100751     AL  \n",
       "100760     AL  \n",
       "100812     AL  \n",
       "100830     AL  "
      ]
     },
     "execution_count": 30,
     "metadata": {},
     "output_type": "execute_result"
    }
   ],
   "source": [
    "## the following should be used only in an emergency!\n",
    "\n",
    "col_dna.iloc[:10,:5] # access elements like an array with iloc"
   ]
  },
  {
   "cell_type": "code",
   "execution_count": 31,
   "metadata": {
    "slideshow": {
     "slide_type": "slide"
    }
   },
   "outputs": [
    {
     "data": {
      "text/plain": [
       "OPEID        object\n",
       "OPEID6        int64\n",
       "INSTNM       object\n",
       "CITY         object\n",
       "STABBR       object\n",
       "ZIP          object\n",
       "MAIN          int64\n",
       "NUMBRANCH     int64\n",
       "PREDDEG       int64\n",
       "HIGHDEG       int64\n",
       "CONTROL       int64\n",
       "ST_FIPS       int64\n",
       "REGION        int64\n",
       "ICLEVEL       int64\n",
       "OPEFLAG       int64\n",
       "dtype: object"
      ]
     },
     "execution_count": 31,
     "metadata": {},
     "output_type": "execute_result"
    }
   ],
   "source": [
    "col_dna.dtypes # access dtypes"
   ]
  },
  {
   "cell_type": "code",
   "execution_count": 32,
   "metadata": {
    "slideshow": {
     "slide_type": "slide"
    }
   },
   "outputs": [
    {
     "data": {
      "text/plain": [
       "OPEID         object\n",
       "OPEID6       float64\n",
       "INSTNM        object\n",
       "CITY          object\n",
       "STABBR        object\n",
       "ZIP           object\n",
       "MAIN         float64\n",
       "NUMBRANCH    float64\n",
       "PREDDEG      float64\n",
       "HIGHDEG      float64\n",
       "CONTROL      float64\n",
       "ST_FIPS      float64\n",
       "REGION       float64\n",
       "ICLEVEL      float64\n",
       "OPEFLAG      float64\n",
       "dtype: object"
      ]
     },
     "execution_count": 32,
     "metadata": {},
     "output_type": "execute_result"
    }
   ],
   "source": [
    "#type(col_dna)\n",
    "#col_dna.dtypes.replace(np.dtype('int64'),np.dtype('float64')) # dtypes is a Series!\n",
    "col_dna.dtypes.replace({np.dtype('int64'):np.dtype('float64')})"
   ]
  },
  {
   "cell_type": "code",
   "execution_count": 33,
   "metadata": {
    "slideshow": {
     "slide_type": "slide"
    }
   },
   "outputs": [],
   "source": [
    "col_dtypes = dict(col_dna.dtypes.replace({np.dtype('int64'):np.dtype('float64')})) # make the dtypes floats\n",
    "col_dtypes['UNITID'] = np.dtype('int64') # convert the UNITID back to int\n",
    "vars_interest = ['ADM_RATE','UGDS','TUITIONFEE_IN','TUITIONFEE_OUT','MN_EARN_WNE_P10'] # Include these vars\n",
    "col_dtypes.update({a: np.dtype('float64') for a in vars_interest}) # make them floats"
   ]
  },
  {
   "cell_type": "code",
   "execution_count": 34,
   "metadata": {
    "slideshow": {
     "slide_type": "fragment"
    }
   },
   "outputs": [
    {
     "ename": "ValueError",
     "evalue": "could not convert string to float: 'PrivacySuppressed'",
     "output_type": "error",
     "traceback": [
      "\u001b[0;31m---------------------------------------------------------------------------\u001b[0m",
      "\u001b[0;31mTypeError\u001b[0m                                 Traceback (most recent call last)",
      "\u001b[0;32m~/.local/lib/python3.8/site-packages/pandas/_libs/parsers.pyx\u001b[0m in \u001b[0;36mpandas._libs.parsers.TextReader._convert_tokens\u001b[0;34m()\u001b[0m\n",
      "\u001b[0;31mTypeError\u001b[0m: Cannot cast array data from dtype('O') to dtype('float64') according to the rule 'safe'",
      "\nDuring handling of the above exception, another exception occurred:\n",
      "\u001b[0;31mValueError\u001b[0m                                Traceback (most recent call last)",
      "\u001b[0;32m/tmp/ipykernel_3716/3223480371.py\u001b[0m in \u001b[0;36m<module>\u001b[0;34m\u001b[0m\n\u001b[1;32m      1\u001b[0m \u001b[0;31m## Try reading it with these dtypes\u001b[0m\u001b[0;34m\u001b[0m\u001b[0;34m\u001b[0m\u001b[0;34m\u001b[0m\u001b[0m\n\u001b[0;32m----> 2\u001b[0;31m col_try_again = pd.read_csv(datadir + '/MERGED2009_10_PP.csv',\n\u001b[0m\u001b[1;32m      3\u001b[0m                             dtype=col_dtypes,usecols=col_dtypes.keys())\n\u001b[1;32m      4\u001b[0m \u001b[0;34m\u001b[0m\u001b[0m\n\u001b[1;32m      5\u001b[0m \u001b[0;31m## ValueError: could not convert string to float: 'PrivacySuppressed'\u001b[0m\u001b[0;34m\u001b[0m\u001b[0;34m\u001b[0m\u001b[0;34m\u001b[0m\u001b[0m\n",
      "\u001b[0;32m~/.local/lib/python3.8/site-packages/pandas/util/_decorators.py\u001b[0m in \u001b[0;36mwrapper\u001b[0;34m(*args, **kwargs)\u001b[0m\n\u001b[1;32m    309\u001b[0m                     \u001b[0mstacklevel\u001b[0m\u001b[0;34m=\u001b[0m\u001b[0mstacklevel\u001b[0m\u001b[0;34m,\u001b[0m\u001b[0;34m\u001b[0m\u001b[0;34m\u001b[0m\u001b[0m\n\u001b[1;32m    310\u001b[0m                 )\n\u001b[0;32m--> 311\u001b[0;31m             \u001b[0;32mreturn\u001b[0m \u001b[0mfunc\u001b[0m\u001b[0;34m(\u001b[0m\u001b[0;34m*\u001b[0m\u001b[0margs\u001b[0m\u001b[0;34m,\u001b[0m \u001b[0;34m**\u001b[0m\u001b[0mkwargs\u001b[0m\u001b[0;34m)\u001b[0m\u001b[0;34m\u001b[0m\u001b[0;34m\u001b[0m\u001b[0m\n\u001b[0m\u001b[1;32m    312\u001b[0m \u001b[0;34m\u001b[0m\u001b[0m\n\u001b[1;32m    313\u001b[0m         \u001b[0;32mreturn\u001b[0m \u001b[0mwrapper\u001b[0m\u001b[0;34m\u001b[0m\u001b[0;34m\u001b[0m\u001b[0m\n",
      "\u001b[0;32m~/.local/lib/python3.8/site-packages/pandas/io/parsers/readers.py\u001b[0m in \u001b[0;36mread_csv\u001b[0;34m(filepath_or_buffer, sep, delimiter, header, names, index_col, usecols, squeeze, prefix, mangle_dupe_cols, dtype, engine, converters, true_values, false_values, skipinitialspace, skiprows, skipfooter, nrows, na_values, keep_default_na, na_filter, verbose, skip_blank_lines, parse_dates, infer_datetime_format, keep_date_col, date_parser, dayfirst, cache_dates, iterator, chunksize, compression, thousands, decimal, lineterminator, quotechar, quoting, doublequote, escapechar, comment, encoding, encoding_errors, dialect, error_bad_lines, warn_bad_lines, on_bad_lines, delim_whitespace, low_memory, memory_map, float_precision, storage_options)\u001b[0m\n\u001b[1;32m    584\u001b[0m     \u001b[0mkwds\u001b[0m\u001b[0;34m.\u001b[0m\u001b[0mupdate\u001b[0m\u001b[0;34m(\u001b[0m\u001b[0mkwds_defaults\u001b[0m\u001b[0;34m)\u001b[0m\u001b[0;34m\u001b[0m\u001b[0;34m\u001b[0m\u001b[0m\n\u001b[1;32m    585\u001b[0m \u001b[0;34m\u001b[0m\u001b[0m\n\u001b[0;32m--> 586\u001b[0;31m     \u001b[0;32mreturn\u001b[0m \u001b[0m_read\u001b[0m\u001b[0;34m(\u001b[0m\u001b[0mfilepath_or_buffer\u001b[0m\u001b[0;34m,\u001b[0m \u001b[0mkwds\u001b[0m\u001b[0;34m)\u001b[0m\u001b[0;34m\u001b[0m\u001b[0;34m\u001b[0m\u001b[0m\n\u001b[0m\u001b[1;32m    587\u001b[0m \u001b[0;34m\u001b[0m\u001b[0m\n\u001b[1;32m    588\u001b[0m \u001b[0;34m\u001b[0m\u001b[0m\n",
      "\u001b[0;32m~/.local/lib/python3.8/site-packages/pandas/io/parsers/readers.py\u001b[0m in \u001b[0;36m_read\u001b[0;34m(filepath_or_buffer, kwds)\u001b[0m\n\u001b[1;32m    486\u001b[0m \u001b[0;34m\u001b[0m\u001b[0m\n\u001b[1;32m    487\u001b[0m     \u001b[0;32mwith\u001b[0m \u001b[0mparser\u001b[0m\u001b[0;34m:\u001b[0m\u001b[0;34m\u001b[0m\u001b[0;34m\u001b[0m\u001b[0m\n\u001b[0;32m--> 488\u001b[0;31m         \u001b[0;32mreturn\u001b[0m \u001b[0mparser\u001b[0m\u001b[0;34m.\u001b[0m\u001b[0mread\u001b[0m\u001b[0;34m(\u001b[0m\u001b[0mnrows\u001b[0m\u001b[0;34m)\u001b[0m\u001b[0;34m\u001b[0m\u001b[0;34m\u001b[0m\u001b[0m\n\u001b[0m\u001b[1;32m    489\u001b[0m \u001b[0;34m\u001b[0m\u001b[0m\n\u001b[1;32m    490\u001b[0m \u001b[0;34m\u001b[0m\u001b[0m\n",
      "\u001b[0;32m~/.local/lib/python3.8/site-packages/pandas/io/parsers/readers.py\u001b[0m in \u001b[0;36mread\u001b[0;34m(self, nrows)\u001b[0m\n\u001b[1;32m   1045\u001b[0m     \u001b[0;32mdef\u001b[0m \u001b[0mread\u001b[0m\u001b[0;34m(\u001b[0m\u001b[0mself\u001b[0m\u001b[0;34m,\u001b[0m \u001b[0mnrows\u001b[0m\u001b[0;34m=\u001b[0m\u001b[0;32mNone\u001b[0m\u001b[0;34m)\u001b[0m\u001b[0;34m:\u001b[0m\u001b[0;34m\u001b[0m\u001b[0;34m\u001b[0m\u001b[0m\n\u001b[1;32m   1046\u001b[0m         \u001b[0mnrows\u001b[0m \u001b[0;34m=\u001b[0m \u001b[0mvalidate_integer\u001b[0m\u001b[0;34m(\u001b[0m\u001b[0;34m\"nrows\"\u001b[0m\u001b[0;34m,\u001b[0m \u001b[0mnrows\u001b[0m\u001b[0;34m)\u001b[0m\u001b[0;34m\u001b[0m\u001b[0;34m\u001b[0m\u001b[0m\n\u001b[0;32m-> 1047\u001b[0;31m         \u001b[0mindex\u001b[0m\u001b[0;34m,\u001b[0m \u001b[0mcolumns\u001b[0m\u001b[0;34m,\u001b[0m \u001b[0mcol_dict\u001b[0m \u001b[0;34m=\u001b[0m \u001b[0mself\u001b[0m\u001b[0;34m.\u001b[0m\u001b[0m_engine\u001b[0m\u001b[0;34m.\u001b[0m\u001b[0mread\u001b[0m\u001b[0;34m(\u001b[0m\u001b[0mnrows\u001b[0m\u001b[0;34m)\u001b[0m\u001b[0;34m\u001b[0m\u001b[0;34m\u001b[0m\u001b[0m\n\u001b[0m\u001b[1;32m   1048\u001b[0m \u001b[0;34m\u001b[0m\u001b[0m\n\u001b[1;32m   1049\u001b[0m         \u001b[0;32mif\u001b[0m \u001b[0mindex\u001b[0m \u001b[0;32mis\u001b[0m \u001b[0;32mNone\u001b[0m\u001b[0;34m:\u001b[0m\u001b[0;34m\u001b[0m\u001b[0;34m\u001b[0m\u001b[0m\n",
      "\u001b[0;32m~/.local/lib/python3.8/site-packages/pandas/io/parsers/c_parser_wrapper.py\u001b[0m in \u001b[0;36mread\u001b[0;34m(self, nrows)\u001b[0m\n\u001b[1;32m    221\u001b[0m         \u001b[0;32mtry\u001b[0m\u001b[0;34m:\u001b[0m\u001b[0;34m\u001b[0m\u001b[0;34m\u001b[0m\u001b[0m\n\u001b[1;32m    222\u001b[0m             \u001b[0;32mif\u001b[0m \u001b[0mself\u001b[0m\u001b[0;34m.\u001b[0m\u001b[0mlow_memory\u001b[0m\u001b[0;34m:\u001b[0m\u001b[0;34m\u001b[0m\u001b[0;34m\u001b[0m\u001b[0m\n\u001b[0;32m--> 223\u001b[0;31m                 \u001b[0mchunks\u001b[0m \u001b[0;34m=\u001b[0m \u001b[0mself\u001b[0m\u001b[0;34m.\u001b[0m\u001b[0m_reader\u001b[0m\u001b[0;34m.\u001b[0m\u001b[0mread_low_memory\u001b[0m\u001b[0;34m(\u001b[0m\u001b[0mnrows\u001b[0m\u001b[0;34m)\u001b[0m\u001b[0;34m\u001b[0m\u001b[0;34m\u001b[0m\u001b[0m\n\u001b[0m\u001b[1;32m    224\u001b[0m                 \u001b[0;31m# destructive to chunks\u001b[0m\u001b[0;34m\u001b[0m\u001b[0;34m\u001b[0m\u001b[0;34m\u001b[0m\u001b[0m\n\u001b[1;32m    225\u001b[0m                 \u001b[0mdata\u001b[0m \u001b[0;34m=\u001b[0m \u001b[0m_concatenate_chunks\u001b[0m\u001b[0;34m(\u001b[0m\u001b[0mchunks\u001b[0m\u001b[0;34m)\u001b[0m\u001b[0;34m\u001b[0m\u001b[0;34m\u001b[0m\u001b[0m\n",
      "\u001b[0;32m~/.local/lib/python3.8/site-packages/pandas/_libs/parsers.pyx\u001b[0m in \u001b[0;36mpandas._libs.parsers.TextReader.read_low_memory\u001b[0;34m()\u001b[0m\n",
      "\u001b[0;32m~/.local/lib/python3.8/site-packages/pandas/_libs/parsers.pyx\u001b[0m in \u001b[0;36mpandas._libs.parsers.TextReader._read_rows\u001b[0;34m()\u001b[0m\n",
      "\u001b[0;32m~/.local/lib/python3.8/site-packages/pandas/_libs/parsers.pyx\u001b[0m in \u001b[0;36mpandas._libs.parsers.TextReader._convert_column_data\u001b[0;34m()\u001b[0m\n",
      "\u001b[0;32m~/.local/lib/python3.8/site-packages/pandas/_libs/parsers.pyx\u001b[0m in \u001b[0;36mpandas._libs.parsers.TextReader._convert_tokens\u001b[0;34m()\u001b[0m\n",
      "\u001b[0;31mValueError\u001b[0m: could not convert string to float: 'PrivacySuppressed'"
     ]
    }
   ],
   "source": [
    "## Try reading it with these dtypes\n",
    "col_try_again = pd.read_csv(datadir + '/MERGED2009_10_PP.csv',\n",
    "                            dtype=col_dtypes,usecols=col_dtypes.keys())\n",
    "\n",
    "## ValueError: could not convert string to float: 'PrivacySuppressed'"
   ]
  },
  {
   "cell_type": "code",
   "execution_count": 35,
   "metadata": {},
   "outputs": [
    {
     "name": "stdout",
     "output_type": "stream",
     "text": [
      "<class 'pandas.core.frame.DataFrame'>\n",
      "RangeIndex: 7217 entries, 0 to 7216\n",
      "Data columns (total 21 columns):\n",
      " #   Column           Non-Null Count  Dtype  \n",
      "---  ------           --------------  -----  \n",
      " 0   UNITID           7217 non-null   int64  \n",
      " 1   OPEID            7217 non-null   object \n",
      " 2   OPEID6           7217 non-null   float64\n",
      " 3   INSTNM           7217 non-null   object \n",
      " 4   CITY             7217 non-null   object \n",
      " 5   STABBR           7217 non-null   object \n",
      " 6   ZIP              7217 non-null   object \n",
      " 7   MAIN             7217 non-null   float64\n",
      " 8   NUMBRANCH        7217 non-null   float64\n",
      " 9   PREDDEG          7217 non-null   float64\n",
      " 10  HIGHDEG          7217 non-null   float64\n",
      " 11  CONTROL          7217 non-null   float64\n",
      " 12  ST_FIPS          7217 non-null   float64\n",
      " 13  REGION           7217 non-null   float64\n",
      " 14  ADM_RATE         2794 non-null   float64\n",
      " 15  UGDS             6649 non-null   float64\n",
      " 16  TUITIONFEE_IN    4289 non-null   float64\n",
      " 17  TUITIONFEE_OUT   4141 non-null   float64\n",
      " 18  MN_EARN_WNE_P10  5505 non-null   float64\n",
      " 19  ICLEVEL          7217 non-null   float64\n",
      " 20  OPEFLAG          7217 non-null   float64\n",
      "dtypes: float64(15), int64(1), object(5)\n",
      "memory usage: 1.2+ MB\n"
     ]
    }
   ],
   "source": [
    "## Try reading it again\n",
    "col_try_again = pd.read_csv(datadir + '/MERGED2009_10_PP.csv',na_values='PrivacySuppressed',\n",
    "                            dtype=col_dtypes,usecols=col_dtypes.keys())\n",
    "col_try_again.info()"
   ]
  },
  {
   "cell_type": "code",
   "execution_count": 36,
   "metadata": {},
   "outputs": [],
   "source": [
    "col_try_again['Year'] = pd.Period('2010',freq='Y') # more discussion about time series in book"
   ]
  },
  {
   "cell_type": "code",
   "execution_count": 37,
   "metadata": {},
   "outputs": [
    {
     "data": {
      "text/html": [
       "<div>\n",
       "<style scoped>\n",
       "    .dataframe tbody tr th:only-of-type {\n",
       "        vertical-align: middle;\n",
       "    }\n",
       "\n",
       "    .dataframe tbody tr th {\n",
       "        vertical-align: top;\n",
       "    }\n",
       "\n",
       "    .dataframe thead th {\n",
       "        text-align: right;\n",
       "    }\n",
       "</style>\n",
       "<table border=\"1\" class=\"dataframe\">\n",
       "  <thead>\n",
       "    <tr style=\"text-align: right;\">\n",
       "      <th></th>\n",
       "      <th>UNITID</th>\n",
       "      <th>OPEID</th>\n",
       "      <th>OPEID6</th>\n",
       "      <th>INSTNM</th>\n",
       "      <th>CITY</th>\n",
       "      <th>STABBR</th>\n",
       "      <th>ZIP</th>\n",
       "      <th>MAIN</th>\n",
       "      <th>NUMBRANCH</th>\n",
       "      <th>PREDDEG</th>\n",
       "      <th>...</th>\n",
       "      <th>ST_FIPS</th>\n",
       "      <th>REGION</th>\n",
       "      <th>ADM_RATE</th>\n",
       "      <th>UGDS</th>\n",
       "      <th>TUITIONFEE_IN</th>\n",
       "      <th>TUITIONFEE_OUT</th>\n",
       "      <th>MN_EARN_WNE_P10</th>\n",
       "      <th>ICLEVEL</th>\n",
       "      <th>OPEFLAG</th>\n",
       "      <th>Year</th>\n",
       "    </tr>\n",
       "  </thead>\n",
       "  <tbody>\n",
       "    <tr>\n",
       "      <th>0</th>\n",
       "      <td>100636</td>\n",
       "      <td>01230800</td>\n",
       "      <td>12308.0</td>\n",
       "      <td>Community College of the Air Force</td>\n",
       "      <td>Montgomery</td>\n",
       "      <td>AL</td>\n",
       "      <td>36114-3011</td>\n",
       "      <td>1.0</td>\n",
       "      <td>1.0</td>\n",
       "      <td>2.0</td>\n",
       "      <td>...</td>\n",
       "      <td>1.0</td>\n",
       "      <td>0.0</td>\n",
       "      <td>NaN</td>\n",
       "      <td>0.0</td>\n",
       "      <td>NaN</td>\n",
       "      <td>NaN</td>\n",
       "      <td>NaN</td>\n",
       "      <td>2.0</td>\n",
       "      <td>3.0</td>\n",
       "      <td>2010</td>\n",
       "    </tr>\n",
       "    <tr>\n",
       "      <th>1</th>\n",
       "      <td>100654</td>\n",
       "      <td>00100200</td>\n",
       "      <td>1002.0</td>\n",
       "      <td>Alabama A &amp; M University</td>\n",
       "      <td>Normal</td>\n",
       "      <td>AL</td>\n",
       "      <td>35762</td>\n",
       "      <td>1.0</td>\n",
       "      <td>1.0</td>\n",
       "      <td>3.0</td>\n",
       "      <td>...</td>\n",
       "      <td>1.0</td>\n",
       "      <td>5.0</td>\n",
       "      <td>0.4726</td>\n",
       "      <td>4483.0</td>\n",
       "      <td>4692.0</td>\n",
       "      <td>8638.0</td>\n",
       "      <td>36600.0</td>\n",
       "      <td>1.0</td>\n",
       "      <td>1.0</td>\n",
       "      <td>2010</td>\n",
       "    </tr>\n",
       "    <tr>\n",
       "      <th>2</th>\n",
       "      <td>100663</td>\n",
       "      <td>00105200</td>\n",
       "      <td>1052.0</td>\n",
       "      <td>University of Alabama at Birmingham</td>\n",
       "      <td>Birmingham</td>\n",
       "      <td>AL</td>\n",
       "      <td>35294-0110</td>\n",
       "      <td>1.0</td>\n",
       "      <td>1.0</td>\n",
       "      <td>3.0</td>\n",
       "      <td>...</td>\n",
       "      <td>1.0</td>\n",
       "      <td>5.0</td>\n",
       "      <td>0.8357</td>\n",
       "      <td>10265.0</td>\n",
       "      <td>5096.0</td>\n",
       "      <td>11432.0</td>\n",
       "      <td>48500.0</td>\n",
       "      <td>1.0</td>\n",
       "      <td>1.0</td>\n",
       "      <td>2010</td>\n",
       "    </tr>\n",
       "    <tr>\n",
       "      <th>3</th>\n",
       "      <td>100690</td>\n",
       "      <td>02503400</td>\n",
       "      <td>25034.0</td>\n",
       "      <td>Amridge University</td>\n",
       "      <td>Montgomery</td>\n",
       "      <td>AL</td>\n",
       "      <td>36117-3553</td>\n",
       "      <td>1.0</td>\n",
       "      <td>1.0</td>\n",
       "      <td>3.0</td>\n",
       "      <td>...</td>\n",
       "      <td>1.0</td>\n",
       "      <td>5.0</td>\n",
       "      <td>0.8750</td>\n",
       "      <td>389.0</td>\n",
       "      <td>8000.0</td>\n",
       "      <td>8000.0</td>\n",
       "      <td>42800.0</td>\n",
       "      <td>1.0</td>\n",
       "      <td>1.0</td>\n",
       "      <td>2010</td>\n",
       "    </tr>\n",
       "    <tr>\n",
       "      <th>4</th>\n",
       "      <td>100706</td>\n",
       "      <td>00105500</td>\n",
       "      <td>1055.0</td>\n",
       "      <td>University of Alabama in Huntsville</td>\n",
       "      <td>Huntsville</td>\n",
       "      <td>AL</td>\n",
       "      <td>35899</td>\n",
       "      <td>1.0</td>\n",
       "      <td>1.0</td>\n",
       "      <td>3.0</td>\n",
       "      <td>...</td>\n",
       "      <td>1.0</td>\n",
       "      <td>5.0</td>\n",
       "      <td>0.7209</td>\n",
       "      <td>5956.0</td>\n",
       "      <td>6510.0</td>\n",
       "      <td>15628.0</td>\n",
       "      <td>51900.0</td>\n",
       "      <td>1.0</td>\n",
       "      <td>1.0</td>\n",
       "      <td>2010</td>\n",
       "    </tr>\n",
       "  </tbody>\n",
       "</table>\n",
       "<p>5 rows × 22 columns</p>\n",
       "</div>"
      ],
      "text/plain": [
       "   UNITID     OPEID   OPEID6                               INSTNM        CITY  \\\n",
       "0  100636  01230800  12308.0   Community College of the Air Force  Montgomery   \n",
       "1  100654  00100200   1002.0             Alabama A & M University      Normal   \n",
       "2  100663  00105200   1052.0  University of Alabama at Birmingham  Birmingham   \n",
       "3  100690  02503400  25034.0                   Amridge University  Montgomery   \n",
       "4  100706  00105500   1055.0  University of Alabama in Huntsville  Huntsville   \n",
       "\n",
       "  STABBR         ZIP  MAIN  NUMBRANCH  PREDDEG  ...  ST_FIPS  REGION  \\\n",
       "0     AL  36114-3011   1.0        1.0      2.0  ...      1.0     0.0   \n",
       "1     AL       35762   1.0        1.0      3.0  ...      1.0     5.0   \n",
       "2     AL  35294-0110   1.0        1.0      3.0  ...      1.0     5.0   \n",
       "3     AL  36117-3553   1.0        1.0      3.0  ...      1.0     5.0   \n",
       "4     AL       35899   1.0        1.0      3.0  ...      1.0     5.0   \n",
       "\n",
       "   ADM_RATE     UGDS  TUITIONFEE_IN  TUITIONFEE_OUT  MN_EARN_WNE_P10  ICLEVEL  \\\n",
       "0       NaN      0.0            NaN             NaN              NaN      2.0   \n",
       "1    0.4726   4483.0         4692.0          8638.0          36600.0      1.0   \n",
       "2    0.8357  10265.0         5096.0         11432.0          48500.0      1.0   \n",
       "3    0.8750    389.0         8000.0          8000.0          42800.0      1.0   \n",
       "4    0.7209   5956.0         6510.0         15628.0          51900.0      1.0   \n",
       "\n",
       "   OPEFLAG  Year  \n",
       "0      3.0  2010  \n",
       "1      1.0  2010  \n",
       "2      1.0  2010  \n",
       "3      1.0  2010  \n",
       "4      1.0  2010  \n",
       "\n",
       "[5 rows x 22 columns]"
      ]
     },
     "execution_count": 37,
     "metadata": {},
     "output_type": "execute_result"
    }
   ],
   "source": [
    "col_try_again.head()"
   ]
  },
  {
   "cell_type": "code",
   "execution_count": 38,
   "metadata": {
    "slideshow": {
     "slide_type": "slide"
    }
   },
   "outputs": [
    {
     "data": {
      "text/plain": [
       "Timestamp('2010-01-01 00:00:00')"
      ]
     },
     "execution_count": 38,
     "metadata": {},
     "output_type": "execute_result"
    }
   ],
   "source": [
    "y = col_try_again['Year'][0]\n",
    "y.to_timestamp() # convert Period to Timestamp"
   ]
  },
  {
   "cell_type": "code",
   "execution_count": 39,
   "metadata": {
    "slideshow": {
     "slide_type": "fragment"
    }
   },
   "outputs": [
    {
     "data": {
      "text/plain": [
       "Timestamp('2010-01-01 00:00:00')"
      ]
     },
     "execution_count": 39,
     "metadata": {},
     "output_type": "execute_result"
    }
   ],
   "source": [
    "y.start_time # Start time of period - not optimal"
   ]
  },
  {
   "cell_type": "code",
   "execution_count": 40,
   "metadata": {
    "slideshow": {
     "slide_type": "fragment"
    }
   },
   "outputs": [
    {
     "data": {
      "text/plain": [
       "Timestamp('2010-12-31 23:59:59.999999999')"
      ]
     },
     "execution_count": 40,
     "metadata": {},
     "output_type": "execute_result"
    }
   ],
   "source": [
    "y.end_time # End time of period - not optimal"
   ]
  },
  {
   "cell_type": "code",
   "execution_count": 41,
   "metadata": {
    "slideshow": {
     "slide_type": "slide"
    }
   },
   "outputs": [],
   "source": [
    "## Apply what we learned to all data files\n",
    "\n",
    "def read_cs_data(year,col_dtypes,datadir):\n",
    "    \"\"\"read a CollegeScorecard dataframe\"\"\"\n",
    "    nextyr = str(int(year) + 1)[-2:]\n",
    "    filename = datadir + '/MERGED{}_{}_PP.csv'.format(year,nextyr)\n",
    "    col = pd.read_csv(filename,na_values='PrivacySuppressed',\n",
    "                      dtype=col_dtypes,usecols=col_dtypes.keys())\n",
    "    col['Year'] = pd.Period(str(int(year) + 1),freq='Y')\n",
    "    return col"
   ]
  },
  {
   "cell_type": "code",
   "execution_count": 42,
   "metadata": {
    "slideshow": {
     "slide_type": "fragment"
    }
   },
   "outputs": [],
   "source": [
    "## pd.concat stacks DataFrames (append rows)\n",
    "\n",
    "col = pd.concat((read_cs_data(str(y),col_dtypes,datadir) for y in range(1996,2017))) # gen exp\n",
    "col = col.set_index(['UNITID','Year']) # set multi index"
   ]
  },
  {
   "cell_type": "code",
   "execution_count": 43,
   "metadata": {
    "slideshow": {
     "slide_type": "slide"
    }
   },
   "outputs": [
    {
     "data": {
      "text/html": [
       "<div>\n",
       "<style scoped>\n",
       "    .dataframe tbody tr th:only-of-type {\n",
       "        vertical-align: middle;\n",
       "    }\n",
       "\n",
       "    .dataframe tbody tr th {\n",
       "        vertical-align: top;\n",
       "    }\n",
       "\n",
       "    .dataframe thead th {\n",
       "        text-align: right;\n",
       "    }\n",
       "</style>\n",
       "<table border=\"1\" class=\"dataframe\">\n",
       "  <thead>\n",
       "    <tr style=\"text-align: right;\">\n",
       "      <th></th>\n",
       "      <th></th>\n",
       "      <th>OPEID</th>\n",
       "      <th>OPEID6</th>\n",
       "      <th>INSTNM</th>\n",
       "      <th>CITY</th>\n",
       "      <th>STABBR</th>\n",
       "      <th>ZIP</th>\n",
       "      <th>MAIN</th>\n",
       "      <th>NUMBRANCH</th>\n",
       "      <th>PREDDEG</th>\n",
       "      <th>HIGHDEG</th>\n",
       "      <th>CONTROL</th>\n",
       "      <th>ST_FIPS</th>\n",
       "      <th>REGION</th>\n",
       "      <th>ADM_RATE</th>\n",
       "      <th>UGDS</th>\n",
       "      <th>TUITIONFEE_IN</th>\n",
       "      <th>TUITIONFEE_OUT</th>\n",
       "      <th>MN_EARN_WNE_P10</th>\n",
       "      <th>ICLEVEL</th>\n",
       "      <th>OPEFLAG</th>\n",
       "    </tr>\n",
       "    <tr>\n",
       "      <th>UNITID</th>\n",
       "      <th>Year</th>\n",
       "      <th></th>\n",
       "      <th></th>\n",
       "      <th></th>\n",
       "      <th></th>\n",
       "      <th></th>\n",
       "      <th></th>\n",
       "      <th></th>\n",
       "      <th></th>\n",
       "      <th></th>\n",
       "      <th></th>\n",
       "      <th></th>\n",
       "      <th></th>\n",
       "      <th></th>\n",
       "      <th></th>\n",
       "      <th></th>\n",
       "      <th></th>\n",
       "      <th></th>\n",
       "      <th></th>\n",
       "      <th></th>\n",
       "      <th></th>\n",
       "    </tr>\n",
       "  </thead>\n",
       "  <tbody>\n",
       "    <tr>\n",
       "      <th>100636</th>\n",
       "      <th>1997</th>\n",
       "      <td>01230800</td>\n",
       "      <td>12308.0</td>\n",
       "      <td>Community College of the Air Force</td>\n",
       "      <td>Montgomery</td>\n",
       "      <td>AL</td>\n",
       "      <td>36114-3011</td>\n",
       "      <td>1.0</td>\n",
       "      <td>1.0</td>\n",
       "      <td>2.0</td>\n",
       "      <td>2.0</td>\n",
       "      <td>1.0</td>\n",
       "      <td>1.0</td>\n",
       "      <td>0.0</td>\n",
       "      <td>NaN</td>\n",
       "      <td>44141.0</td>\n",
       "      <td>NaN</td>\n",
       "      <td>NaN</td>\n",
       "      <td>NaN</td>\n",
       "      <td>2.0</td>\n",
       "      <td>1.0</td>\n",
       "    </tr>\n",
       "    <tr>\n",
       "      <th>100654</th>\n",
       "      <th>1997</th>\n",
       "      <td>00100200</td>\n",
       "      <td>1002.0</td>\n",
       "      <td>Alabama A &amp; M University</td>\n",
       "      <td>Normal</td>\n",
       "      <td>AL</td>\n",
       "      <td>35762</td>\n",
       "      <td>1.0</td>\n",
       "      <td>1.0</td>\n",
       "      <td>3.0</td>\n",
       "      <td>4.0</td>\n",
       "      <td>1.0</td>\n",
       "      <td>1.0</td>\n",
       "      <td>5.0</td>\n",
       "      <td>NaN</td>\n",
       "      <td>3852.0</td>\n",
       "      <td>NaN</td>\n",
       "      <td>NaN</td>\n",
       "      <td>NaN</td>\n",
       "      <td>1.0</td>\n",
       "      <td>1.0</td>\n",
       "    </tr>\n",
       "    <tr>\n",
       "      <th>100663</th>\n",
       "      <th>1997</th>\n",
       "      <td>00105200</td>\n",
       "      <td>1052.0</td>\n",
       "      <td>University of Alabama at Birmingham</td>\n",
       "      <td>Birmingham</td>\n",
       "      <td>AL</td>\n",
       "      <td>35294-0110</td>\n",
       "      <td>1.0</td>\n",
       "      <td>2.0</td>\n",
       "      <td>3.0</td>\n",
       "      <td>4.0</td>\n",
       "      <td>1.0</td>\n",
       "      <td>1.0</td>\n",
       "      <td>5.0</td>\n",
       "      <td>NaN</td>\n",
       "      <td>9889.0</td>\n",
       "      <td>NaN</td>\n",
       "      <td>NaN</td>\n",
       "      <td>NaN</td>\n",
       "      <td>1.0</td>\n",
       "      <td>1.0</td>\n",
       "    </tr>\n",
       "    <tr>\n",
       "      <th>100672</th>\n",
       "      <th>1997</th>\n",
       "      <td>00574900</td>\n",
       "      <td>5749.0</td>\n",
       "      <td>ALABAMA AVIATION AND TECHNICAL COLLEGE</td>\n",
       "      <td>OZARK</td>\n",
       "      <td>AL</td>\n",
       "      <td>36360</td>\n",
       "      <td>1.0</td>\n",
       "      <td>1.0</td>\n",
       "      <td>1.0</td>\n",
       "      <td>2.0</td>\n",
       "      <td>1.0</td>\n",
       "      <td>1.0</td>\n",
       "      <td>5.0</td>\n",
       "      <td>NaN</td>\n",
       "      <td>295.0</td>\n",
       "      <td>NaN</td>\n",
       "      <td>NaN</td>\n",
       "      <td>NaN</td>\n",
       "      <td>2.0</td>\n",
       "      <td>1.0</td>\n",
       "    </tr>\n",
       "    <tr>\n",
       "      <th>100690</th>\n",
       "      <th>1997</th>\n",
       "      <td>02503400</td>\n",
       "      <td>25034.0</td>\n",
       "      <td>Amridge University</td>\n",
       "      <td>Montgomery</td>\n",
       "      <td>AL</td>\n",
       "      <td>36117-3553</td>\n",
       "      <td>1.0</td>\n",
       "      <td>1.0</td>\n",
       "      <td>3.0</td>\n",
       "      <td>4.0</td>\n",
       "      <td>2.0</td>\n",
       "      <td>1.0</td>\n",
       "      <td>5.0</td>\n",
       "      <td>NaN</td>\n",
       "      <td>60.0</td>\n",
       "      <td>NaN</td>\n",
       "      <td>NaN</td>\n",
       "      <td>NaN</td>\n",
       "      <td>1.0</td>\n",
       "      <td>1.0</td>\n",
       "    </tr>\n",
       "  </tbody>\n",
       "</table>\n",
       "</div>"
      ],
      "text/plain": [
       "                OPEID   OPEID6                                  INSTNM  \\\n",
       "UNITID Year                                                              \n",
       "100636 1997  01230800  12308.0      Community College of the Air Force   \n",
       "100654 1997  00100200   1002.0                Alabama A & M University   \n",
       "100663 1997  00105200   1052.0     University of Alabama at Birmingham   \n",
       "100672 1997  00574900   5749.0  ALABAMA AVIATION AND TECHNICAL COLLEGE   \n",
       "100690 1997  02503400  25034.0                      Amridge University   \n",
       "\n",
       "                   CITY STABBR         ZIP  MAIN  NUMBRANCH  PREDDEG  HIGHDEG  \\\n",
       "UNITID Year                                                                     \n",
       "100636 1997  Montgomery     AL  36114-3011   1.0        1.0      2.0      2.0   \n",
       "100654 1997      Normal     AL       35762   1.0        1.0      3.0      4.0   \n",
       "100663 1997  Birmingham     AL  35294-0110   1.0        2.0      3.0      4.0   \n",
       "100672 1997       OZARK     AL       36360   1.0        1.0      1.0      2.0   \n",
       "100690 1997  Montgomery     AL  36117-3553   1.0        1.0      3.0      4.0   \n",
       "\n",
       "             CONTROL  ST_FIPS  REGION  ADM_RATE     UGDS  TUITIONFEE_IN  \\\n",
       "UNITID Year                                                               \n",
       "100636 1997      1.0      1.0     0.0       NaN  44141.0            NaN   \n",
       "100654 1997      1.0      1.0     5.0       NaN   3852.0            NaN   \n",
       "100663 1997      1.0      1.0     5.0       NaN   9889.0            NaN   \n",
       "100672 1997      1.0      1.0     5.0       NaN    295.0            NaN   \n",
       "100690 1997      2.0      1.0     5.0       NaN     60.0            NaN   \n",
       "\n",
       "             TUITIONFEE_OUT  MN_EARN_WNE_P10  ICLEVEL  OPEFLAG  \n",
       "UNITID Year                                                     \n",
       "100636 1997             NaN              NaN      2.0      1.0  \n",
       "100654 1997             NaN              NaN      1.0      1.0  \n",
       "100663 1997             NaN              NaN      1.0      1.0  \n",
       "100672 1997             NaN              NaN      2.0      1.0  \n",
       "100690 1997             NaN              NaN      1.0      1.0  "
      ]
     },
     "execution_count": 43,
     "metadata": {},
     "output_type": "execute_result"
    }
   ],
   "source": [
    "col.head()"
   ]
  },
  {
   "cell_type": "code",
   "execution_count": 44,
   "metadata": {
    "slideshow": {
     "slide_type": "slide"
    }
   },
   "outputs": [],
   "source": [
    "## Find UC Davis\n",
    "\n",
    "col_large = col[col['UGDS'] > 1000] # Filter with boolean indexing\n",
    "davis = col_large.query('CITY==\"Davis\" and STABBR==\"CA\"') # .query finds rows satisfying expression\n",
    "davis = davis.reset_index(level=0) # access index via level"
   ]
  },
  {
   "cell_type": "code",
   "execution_count": 45,
   "metadata": {
    "slideshow": {
     "slide_type": "slide"
    }
   },
   "outputs": [
    {
     "data": {
      "image/png": "[encoded data removed]",
      "text/plain": [
       "<Figure size 432x288 with 1 Axes>"
      ]
     },
     "metadata": {
      "needs_background": "light"
     },
     "output_type": "display_data"
    }
   ],
   "source": [
    "## Plot davis\n",
    "import matplotlib.pyplot as plt\n",
    "\n",
    "ax = davis.plot(y='UGDS') # dataframe.plot()!\n",
    "ax.set_title('UC Davis undergraduate pop.')\n",
    "ax.set_ylabel('UG Enrollment')\n",
    "plt.show()"
   ]
  }
 ],
 "metadata": {
  "celltoolbar": "Slideshow",
  "kernelspec": {
   "display_name": "Python 3 (ipykernel)",
   "language": "python",
   "name": "python3"
  },
  "language_info": {
   "codemirror_mode": {
    "name": "ipython",
    "version": 3
   },
   "file_extension": ".py",
   "mimetype": "text/x-python",
   "name": "python",
   "nbconvert_exporter": "python",
   "pygments_lexer": "ipython3",
   "version": "3.8.10"
  }
 },
 "nbformat": 4,
 "nbformat_minor": 1
}
