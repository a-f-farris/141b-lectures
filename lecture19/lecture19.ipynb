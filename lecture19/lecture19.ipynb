{
 "cells": [
  {
   "cell_type": "markdown",
   "metadata": {
    "slideshow": {
     "slide_type": "slide"
    }
   },
   "source": [
    "# Getting Data from the Web\n",
    "## STA 141B\n"
   ]
  },
  {
   "cell_type": "markdown",
   "metadata": {
    "slideshow": {
     "slide_type": "slide"
    }
   },
   "source": [
    "## Getting data from the Web\n",
    "\n",
    "### The Internet and HTTP\n",
    "\n",
    "<blockquote> \"It's a series of tubes\" - Sen. Ted Stevens </blockquote>\n",
    "\n",
    "\n",
    "\n",
    "<center>\n",
    "<img src=\"pipe.gif\" alt=\"tubes\" style=\"width: 200px;margin-top:1.5cm;\"\"/>\n",
    "</center>"
   ]
  },
  {
   "cell_type": "markdown",
   "metadata": {
    "slideshow": {
     "slide_type": "slide"
    }
   },
   "source": [
    "## Getting data from the Web\n",
    "\n",
    "### The Internet and HTTP\n",
    "\n",
    "- Internet: system of computer networks that uses internet protocols to link communicating devices\n",
    "- Network protocols: which are rules by which computers communicate.\n",
    "- Each protocol is designed for a certain task\n",
    " - Simple Mail Transfer Protocol (SMTP) and Post Office Protocol (POP), are agreements on how email clients and servers create and parse messages\n",
    " - These protocols are mostly open source, such as HTTP, but some are proprietary, like the Yahoo! Instant Messenger Protocol.\n",
    " - The cryptocurrency, Bitcoin, has an associated protocol that specifies how bitcoins are sent and recieved."
   ]
  },
  {
   "cell_type": "markdown",
   "metadata": {
    "slideshow": {
     "slide_type": "slide"
    }
   },
   "source": [
    "## Internet Protocol (IP)\n",
    "\n",
    "The internet protocol suite is a stack of interdependent protocols that power the internet.\n",
    "\n",
    "- routing of packets (IP)\n",
    "- the interaction with physical components (MAC/Ethernet/etc.)\n",
    "- the error-free transmission of data (TCP)\n",
    "- and the application layer that standardizes communication (HTTP)."
   ]
  },
  {
   "cell_type": "markdown",
   "metadata": {
    "slideshow": {
     "slide_type": "slide"
    }
   },
   "source": [
    "## Some history\n",
    "\n",
    "![](http://geektrio.net/wp-content/themes/arras-theme/library/timthumb.php?src=http://geektrio.net/wp-content/uploads/2017/08/vintbob.jpg&w=630&h=250&zc=1)\n",
    "\n",
    "Bob Kahn and Vinton Cerf developed TCP/IP for DARPA, the research arm of the Department of Defense."
   ]
  },
  {
   "cell_type": "markdown",
   "metadata": {
    "slideshow": {
     "slide_type": "slide"
    }
   },
   "source": [
    "## Some History\n",
    "\n",
    "- Kahn and Cerf invented ARPANET, and the protocols multiplied as TCP spawned IP, and other researchers joined the project.\n",
    "- Tim Berners-Lee at the European Organization for Nuclear Research (CERN) developed the Hypertext Transfer Protocol (HTTP).\n",
    "- HTTP is the application protocol that is the basis for the world wide web.\n",
    "- HTTP standards are maintained and updated by the Internet Engineering Task Force (IETF) and the World Wide Web Consortium (W3C)."
   ]
  },
  {
   "cell_type": "markdown",
   "metadata": {
    "slideshow": {
     "slide_type": "slide"
    }
   },
   "source": [
    "## RFCs\n",
    "\n",
    "Network protocols that are maintained by the IETF are published in Request for Comment (RFC) documents.\n",
    "\n",
    "<center><pre>Network Working Group                                     T. Berners-Lee\n",
    "Request for Comments: 1945                                       MIT/LCS\n",
    "Category: Informational                                      R. Fielding\n",
    "                                                               UC Irvine\n",
    "                                                              H. Frystyk\n",
    "                                                                 MIT/LCS\n",
    "                                                                May 1996\n",
    "\n",
    "\n",
    "Hypertext Transfer Protocol -- HTTP/1.0\n",
    "    \n",
    "Abstract\n",
    "\n",
    "   The Hypertext Transfer Protocol (HTTP) is an application-level\n",
    "   protocol with the lightness and speed necessary for distributed,\n",
    "   collaborative, hypermedia information systems. It is a generic,\n",
    "   stateless, object-oriented protocol which can be used for many tasks,\n",
    "   such as name servers and distributed object management systems,\n",
    "   through extension of its request methods (commands). A feature of\n",
    "   HTTP is the typing of data representation, allowing systems to be\n",
    "   built independently of the data being transferred.\n",
    "</pre></center>"
   ]
  },
  {
   "cell_type": "markdown",
   "metadata": {
    "slideshow": {
     "slide_type": "slide"
    }
   },
   "source": [
    "## HTTP\n",
    "\n",
    "- HTTP is based on the client-server computing model\n",
    " - client is typically a web browser\n",
    " - web server serves content\n",
    "- One common open-source web server application is Apache\n",
    "- HTTP is a request-response protocol---clients make requests for content and then the server makes a response.\n",
    "- request methods to HTTP: \n",
    " - GET which is used to retrieve data\n",
    " - POST which asks the server to accept data at a URI  "
   ]
  },
  {
   "cell_type": "markdown",
   "metadata": {
    "slideshow": {
     "slide_type": "slide"
    }
   },
   "source": [
    "## Making requests in Python\n",
    "\n",
    "- Request package: we will focus on extracting data from the web, we will focus on GET requests, and ignore POST requests\n",
    "- basic GET request is what the browser does when you navigate to a URL\n",
    "- can pass parameters to URLs  \n",
    "- URL can be broken into the following components: \n",
    " - scheme\n",
    " - network location\n",
    " - hierarchical path\n",
    " - parameters, query, and fragment identifier.  "
   ]
  },
  {
   "cell_type": "markdown",
   "metadata": {
    "slideshow": {
     "slide_type": "slide"
    }
   },
   "source": [
    "## Making requests in Python\n",
    "\n",
    "- basic format: ``scheme://netloc/path;parameters?query#fragment``. \n",
    "- scheme can be <code>file, ftp, http, https,...</code>\n",
    "- the netloc is typically the host root url, like <code>www.google.com</code>\n",
    "- the path is a typical relative path\n",
    "- the parameters and query specify arguments for GET, POST, PUT, etc.  \n",
    "\n",
    "**Example:** <code>http://api.petfinder.com/my.method?key=12345&arg1=foo&token=67890&sig=abcdef</code> \n",
    "- scheme <code>http</code>, \n",
    "- netloc of <code>api.petfinder.com</code>, \n",
    "- path of <code>my.method</code>, and \n",
    "- query is <code>key=12345&arg1=foo&token=67890&sig=abcdef</code>"
   ]
  },
  {
   "cell_type": "markdown",
   "metadata": {
    "slideshow": {
     "slide_type": "slide"
    }
   },
   "source": [
    "## Requests\n",
    "\n",
    "The basic use of the Requests package is through the GET method, as in the following."
   ]
  },
  {
   "cell_type": "code",
   "execution_count": 7,
   "metadata": {
    "slideshow": {
     "slide_type": "fragment"
    }
   },
   "outputs": [],
   "source": [
    "import requests\n",
    "\n",
    "r = requests.get('https://api.github.com/events')"
   ]
  },
  {
   "cell_type": "markdown",
   "metadata": {
    "slideshow": {
     "slide_type": "fragment"
    }
   },
   "source": [
    "- establish a connection to github.com \n",
    "- make the get request.  \n",
    "- same as what your browser does when you type https://api.github.com/events into the url (go ahead and try it)"
   ]
  },
  {
   "cell_type": "code",
   "execution_count": 8,
   "metadata": {
    "slideshow": {
     "slide_type": "slide"
    }
   },
   "outputs": [
    {
     "data": {
      "text/plain": [
       "'[{\"id\":\"8530767475\",\"type\":\"PushEvent\",\"actor\":{\"id\":324298,\"login\":\"jimkang\",\"display_login\":\"jimkang\",\"gravatar_id\":\"\",\"url\":\"https://api.github.com/users/jimkang\",\"avatar_url\":\"https://avatars.githubusercontent.com/u/324298?\"},\"repo\":{\"id\":129019986,\"name\":\"jimkang/self-tagging-bot\",\"url\":\"https:'"
      ]
     },
     "execution_count": 8,
     "metadata": {},
     "output_type": "execute_result"
    }
   ],
   "source": [
    "r.text[:300]"
   ]
  },
  {
   "cell_type": "markdown",
   "metadata": {
    "slideshow": {
     "slide_type": "fragment"
    }
   },
   "source": [
    "We are seeing a serialization of JSON data from a web API, which we will discuss shortly."
   ]
  },
  {
   "cell_type": "markdown",
   "metadata": {
    "slideshow": {
     "slide_type": "fragment"
    }
   },
   "source": [
    "**Note:** You can use requests to make an overwhelmingly large number of requests to a webserver in a very short period of time.  This is how denial of service attacks work, and it is an unkind thing to do.  Please use requests with care."
   ]
  },
  {
   "cell_type": "markdown",
   "metadata": {
    "slideshow": {
     "slide_type": "slide"
    }
   },
   "source": [
    "## Web APIs and JSON\n",
    "\n",
    "- application programming interface (API): set of methods by which software components communicate\n",
    "- Web APIs define how HTTP request methods can be used to access and modify data on the server\n",
    "- <code>http://api.petfinder.com/subsystem.method</code> indicating the method\n",
    "\n",
    "- JSON, specified by a request for comment (RFC 7159), is a simple data exchange format.\n",
    "- efficiently parse complex data\n",
    "- not meant to be especially human readible and writtable like markup languages\n",
    "\n",
    "- Serialization: turn an object (list a dictionary) into a string that can be sent via HTTP or written to a file\n",
    "- convert back is called deserialization"
   ]
  },
  {
   "cell_type": "markdown",
   "metadata": {
    "slideshow": {
     "slide_type": "slide"
    }
   },
   "source": [
    "## Reading JSON\n",
    "\n",
    "JSON is based on dictionaries and lists (called objects and arrays in JSON), and you can nest these in complex ways.  \n",
    "- a matrix could be written as a list of lists\n",
    "- a DataFrame is a dictionary with column names for keys and lists for values, etc"
   ]
  },
  {
   "cell_type": "markdown",
   "metadata": {
    "slideshow": {
     "slide_type": "slide"
    }
   },
   "source": [
    "![](object.gif)"
   ]
  },
  {
   "cell_type": "markdown",
   "metadata": {
    "slideshow": {
     "slide_type": "slide"
    }
   },
   "source": [
    "![](array.gif)"
   ]
  },
  {
   "cell_type": "markdown",
   "metadata": {
    "slideshow": {
     "slide_type": "slide"
    }
   },
   "source": [
    "![](value.gif)"
   ]
  },
  {
   "cell_type": "markdown",
   "metadata": {
    "slideshow": {
     "slide_type": "slide"
    }
   },
   "source": [
    "```\n",
    "[\n",
    "  {\n",
    "    \"id\": \"8537980078\",\n",
    "    \"type\": \"PushEvent\",\n",
    "    \"actor\": {\n",
    "      \"id\": 43446077,\n",
    "      \"login\": \"nguadarrama\",\n",
    "      \"display_login\": \"nguadarrama\",\n",
    "      \"gravatar_id\": \"\",\n",
    "      \"url\": \"https://api.github.com/users/nguadarrama\",\n",
    "      \"avatar_url\": \"https://avatars.githubusercontent.com/u/43446077?\"\n",
    "    },\n",
    "    \"repo\": {\n",
    "      \"id\": 150308400,\n",
    "      \"name\": \"nguadarrama/sicoa-services\",\n",
    "      \"url\": \"https://api.github.com/repos/nguadarrama/sicoa-services\"\n",
    "    },\n",
    "    \"payload\": {\n",
    "      \"push_id\": 3021746006,\n",
    "      \"size\": 1,\n",
    "      \"distinct_size\": 1,\n",
    "```"
   ]
  },
  {
   "cell_type": "code",
   "execution_count": 12,
   "metadata": {
    "slideshow": {
     "slide_type": "slide"
    }
   },
   "outputs": [],
   "source": [
    "gh_json = r.json()"
   ]
  },
  {
   "cell_type": "code",
   "execution_count": 13,
   "metadata": {
    "slideshow": {
     "slide_type": "fragment"
    }
   },
   "outputs": [
    {
     "data": {
      "text/plain": [
       "list"
      ]
     },
     "execution_count": 13,
     "metadata": {},
     "output_type": "execute_result"
    }
   ],
   "source": [
    "type(gh_json)"
   ]
  },
  {
   "cell_type": "markdown",
   "metadata": {
    "slideshow": {
     "slide_type": "fragment"
    }
   },
   "source": [
    "Arrays are interpretted as lists, and similarly, the object is interpretted as a dictionary."
   ]
  },
  {
   "cell_type": "code",
   "execution_count": 14,
   "metadata": {
    "slideshow": {
     "slide_type": "fragment"
    }
   },
   "outputs": [
    {
     "data": {
      "text/plain": [
       "dict"
      ]
     },
     "execution_count": 14,
     "metadata": {},
     "output_type": "execute_result"
    }
   ],
   "source": [
    "type(gh_json[0])"
   ]
  },
  {
   "cell_type": "markdown",
   "metadata": {
    "slideshow": {
     "slide_type": "slide"
    }
   },
   "source": [
    "So for example, we could get the id of the first entry of the response with,"
   ]
  },
  {
   "cell_type": "code",
   "execution_count": 15,
   "metadata": {
    "slideshow": {
     "slide_type": "fragment"
    }
   },
   "outputs": [
    {
     "data": {
      "text/plain": [
       "'8530767475'"
      ]
     },
     "execution_count": 15,
     "metadata": {},
     "output_type": "execute_result"
    }
   ],
   "source": [
    "gh_json[0]['id']"
   ]
  },
  {
   "cell_type": "markdown",
   "metadata": {
    "slideshow": {
     "slide_type": "fragment"
    }
   },
   "source": [
    "- no standard format for the response of web APIs\n",
    "- reading the data from each will differ from API to API."
   ]
  },
  {
   "cell_type": "markdown",
   "metadata": {
    "slideshow": {
     "slide_type": "slide"
    }
   },
   "source": [
    "### Petfinder API"
   ]
  },
  {
   "cell_type": "code",
   "execution_count": 2,
   "metadata": {
    "slideshow": {
     "slide_type": "fragment"
    }
   },
   "outputs": [],
   "source": [
    "import requests_cache\n",
    "import pandas as pd\n",
    "from matplotlib import pyplot as plt\n",
    "\n",
    "plt.style.use('ggplot')\n",
    "requests_cache.install_cache('pet_cache')"
   ]
  },
  {
   "cell_type": "code",
   "execution_count": 152,
   "metadata": {
    "slideshow": {
     "slide_type": "fragment"
    }
   },
   "outputs": [],
   "source": [
    "key = \"12345\" #get your own key!"
   ]
  },
  {
   "cell_type": "code",
   "execution_count": 4,
   "metadata": {
    "slideshow": {
     "slide_type": "slide"
    }
   },
   "outputs": [],
   "source": [
    "## Specify parameters\n",
    "params = {'key': key, 'animal': 'dog', 'format': 'json'}"
   ]
  },
  {
   "cell_type": "code",
   "execution_count": 5,
   "metadata": {
    "slideshow": {
     "slide_type": "fragment"
    }
   },
   "outputs": [],
   "source": [
    "## Specify method URL\n",
    "breed_url = \"http://api.petfinder.com/breed.list\""
   ]
  },
  {
   "cell_type": "markdown",
   "metadata": {
    "slideshow": {
     "slide_type": "fragment"
    }
   },
   "source": [
    "These are combined to make the request using ``requests.get``.  "
   ]
  },
  {
   "cell_type": "code",
   "execution_count": 8,
   "metadata": {
    "slideshow": {
     "slide_type": "fragment"
    }
   },
   "outputs": [],
   "source": [
    "req = requests.get(breed_url,params=params)"
   ]
  },
  {
   "cell_type": "code",
   "execution_count": 156,
   "metadata": {
    "slideshow": {
     "slide_type": "slide"
    }
   },
   "outputs": [
    {
     "data": {
      "text/plain": [
       "'http://api.petfinder.com/breed.list?animal=dog&format=json&key=12345'"
      ]
     },
     "execution_count": 156,
     "metadata": {},
     "output_type": "execute_result"
    }
   ],
   "source": [
    "req.url # look at url"
   ]
  },
  {
   "cell_type": "code",
   "execution_count": 9,
   "metadata": {
    "slideshow": {
     "slide_type": "fragment"
    }
   },
   "outputs": [
    {
     "name": "stdout",
     "output_type": "stream",
     "text": [
      "{'@encoding': 'iso-8859-1', '@version': '1.0', 'petfinder': {'@xmlns:xsi': 'http://www.w3.org/2001/XMLSchema-instance', 'breeds': {'breed': [{'$t': 'Affenpinscher'}, {'$t': 'Afghan Hound'}, {'$t': 'Airedale Terrier'}, {'$t': 'Akbash'}, {'$t': 'Akita'}, {'$t': 'Alaskan Malamute'}, {'$t': 'American Bu\n"
     ]
    }
   ],
   "source": [
    "js = req.json() # parse the JSON\n",
    "\n",
    "print(js.__repr__()[0:300])"
   ]
  },
  {
   "cell_type": "code",
   "execution_count": 25,
   "metadata": {
    "slideshow": {
     "slide_type": "fragment"
    }
   },
   "outputs": [
    {
     "data": {
      "text/plain": [
       "200"
      ]
     },
     "execution_count": 25,
     "metadata": {},
     "output_type": "execute_result"
    }
   ],
   "source": [
    "req.status_code"
   ]
  },
  {
   "cell_type": "code",
   "execution_count": 27,
   "metadata": {
    "slideshow": {
     "slide_type": "slide"
    }
   },
   "outputs": [
    {
     "name": "stdout",
     "output_type": "stream",
     "text": [
      "dict_keys(['@encoding', '@version', 'petfinder'])\n"
     ]
    }
   ],
   "source": [
    "print(js.keys())"
   ]
  },
  {
   "cell_type": "code",
   "execution_count": 28,
   "metadata": {
    "slideshow": {
     "slide_type": "fragment"
    }
   },
   "outputs": [
    {
     "data": {
      "text/plain": [
       "dict_keys(['@xmlns:xsi', 'breeds', 'header', '@xsi:noNamespaceSchemaLocation'])"
      ]
     },
     "execution_count": 28,
     "metadata": {},
     "output_type": "execute_result"
    }
   ],
   "source": [
    "js['petfinder'].keys()"
   ]
  },
  {
   "cell_type": "code",
   "execution_count": 10,
   "metadata": {
    "slideshow": {
     "slide_type": "fragment"
    }
   },
   "outputs": [
    {
     "data": {
      "text/plain": [
       "dict_keys(['breed', '@animal'])"
      ]
     },
     "execution_count": 10,
     "metadata": {},
     "output_type": "execute_result"
    }
   ],
   "source": [
    "js['petfinder']['breeds'].keys()"
   ]
  },
  {
   "cell_type": "code",
   "execution_count": 12,
   "metadata": {
    "slideshow": {
     "slide_type": "slide"
    }
   },
   "outputs": [],
   "source": [
    "## Extract dog breeds\n",
    "breeds = [b['$t'] for b in js['petfinder']['breeds']['breed']]"
   ]
  },
  {
   "cell_type": "code",
   "execution_count": 14,
   "metadata": {
    "slideshow": {
     "slide_type": "fragment"
    }
   },
   "outputs": [
    {
     "data": {
      "text/plain": [
       "257"
      ]
     },
     "execution_count": 14,
     "metadata": {},
     "output_type": "execute_result"
    }
   ],
   "source": [
    "len(breeds)"
   ]
  },
  {
   "cell_type": "code",
   "execution_count": 13,
   "metadata": {
    "slideshow": {
     "slide_type": "fragment"
    }
   },
   "outputs": [
    {
     "name": "stdout",
     "output_type": "stream",
     "text": [
      "Affenpinscher, Afghan Hound, Airedale Terrier, Akbash, Akita, Alaskan Malamute, American Bulldog, American Eskimo Dog, American Foxhound, American Hairless Terrier, American Staffordshire Terrier, American Water Spaniel, Anatolian Shepherd, Appenzell Mountain Dog, Australian Cattle Dog / Blue Heeler, Australian Kelpie, Australian Shepherd, Australian Terrier, Basenji, Basset Hound, Beagle, Bearded Collie, Beauceron, Bedlington Terrier, Belgian Shepherd / Laekenois, Belgian Shepherd / Malinois, Belgian Shepherd / Sheepdog, Belgian Shepherd / Tervuren, Bernese Mountain Dog, Bichon Frise\n"
     ]
    }
   ],
   "source": [
    "print(\", \".join(breeds[:30]))"
   ]
  },
  {
   "cell_type": "markdown",
   "metadata": {
    "slideshow": {
     "slide_type": "slide"
    }
   },
   "source": [
    "The Petfinder API also includes a ``pet.getRandom`` method which allows one to randomly sample the database for a pet with a specific breed."
   ]
  },
  {
   "cell_type": "code",
   "execution_count": 16,
   "metadata": {
    "slideshow": {
     "slide_type": "fragment"
    }
   },
   "outputs": [],
   "source": [
    "pet_url_ex = \"http://api.petfinder.com/pet.getRandom\"\n",
    "randomparms = {'key':key,'animal':'dog','format':'json','output':'basic'}\n",
    "randreq = requests.get(pet_url_ex,params = randomparms)\n",
    "js = randreq.json()"
   ]
  },
  {
   "cell_type": "code",
   "execution_count": 18,
   "metadata": {
    "slideshow": {
     "slide_type": "slide"
    }
   },
   "outputs": [
    {
     "name": "stdout",
     "output_type": "stream",
     "text": [
      "{'pet': {'options': {'option': [{'$t': 'altered'}, {'$t': 'hasShots'}, {'$t': 'housetrained'}]}, 'status': {'$t': 'A'}, 'contact': {'phone': {'$t': '210-535-5480'}, 'state': {'$t': 'TX'}, 'address2': {'$t': 'P.O. Box 743'}, 'email': {'$t': 'teresakopacki@gmail.com'}, 'city': {'$t': 'Lytle'}, 'zip': {'$t': '78052'}, 'fax': {}, 'address1': {'$t': '17971 W. FM 2790 S.'}}, 'age': {'$t': 'Adult'}, 'size': {'$t': 'S'}, 'media': {'photos': {'photo': [{'@size': 'pnt', '$t': 'http://photos.petfinder.com/photos/pets/40700638/1/?bust=1516246159&width=60&-pnt.jpg', '@id': '1'}, {'@size': 'fpm', '$t': 'http://photos.petfinder.com/photos/pets/40700638/1/?bust=1516246159&width=95&-fpm.jpg', '@id': '1'}, {'\n"
     ]
    }
   ],
   "source": [
    "print(js['petfinder'].__repr__()[0:700])"
   ]
  },
  {
   "cell_type": "code",
   "execution_count": 24,
   "metadata": {
    "slideshow": {
     "slide_type": "slide"
    }
   },
   "outputs": [],
   "source": [
    "def print_pet(js):\n",
    "    \"\"\"\n",
    "    Input: Petfinder JSON object from getRandom method\n",
    "    Output: String describing the pet\n",
    "    \"\"\"\n",
    "    breed_obj = js[u'petfinder'][u'pet'][u'breeds'][u'breed']\n",
    "    if type(breed_obj) == list:\n",
    "        breeds = [a[u'$t'] for a in breed_obj]\n",
    "        breed = \", \".join(breeds) + \" mix\"\n",
    "    else:\n",
    "        breed = breed_obj[u'$t']\n",
    "    name = js[u'petfinder'][u'pet'][u'name'][u'$t']\n",
    "    desc = js[u'petfinder'][u'pet'][u'description'][u'$t']\n",
    "    return \"{} is a {}. {}\".format(name,breed,desc)"
   ]
  },
  {
   "cell_type": "code",
   "execution_count": 40,
   "metadata": {
    "slideshow": {
     "slide_type": "slide"
    }
   },
   "outputs": [
    {
     "name": "stdout",
     "output_type": "stream",
     "text": [
      "Murray is a Rat Terrier. Meet MURRAY!!\n",
      "\n",
      "Murray is an approximately 2 year old, 18-20 pound, neutered, male terrier mix breed. Possibly a Rat Terrier blend.\n",
      "\n",
      "Murray was originally found as a stray and was in a semi-rural outdoor shelter near Lytle. The ACO reached out to us and we happily brought Murray into our program.\n",
      "\n",
      "Murray is a gentlemanly little guy. He is very social, but generally minds his own business, and likes to be active. Murray is a chunky guy and needs an active person to help get him fit. He does well with the other dogs in his foster home, but does not like other pushy or bossy males picking on him. He has not shown alot of interest in cats, but as a typical terrier may give chase. He is crate trained and does his business outside when kept on a consistent schedule. Murray is loyal and loves his people.\n",
      "\n",
      "Murray is heartworm negative, up to date on vaccinations, is current on flea and heartworm preventive, and is micro-chipped. He comes with a health certificate if transported.\n",
      "\n",
      "Murray's preferred home has a secure fenced in yard he can play in supervised (no wireless or electric please), a canine friend to hang with, and an active person to keep him exercised. No children under 6 please.\n",
      "\n",
      "Murray is currently in a foster home in San Antonio TX and can be transported once adopted. All adopters must meet all requirements.\n",
      "\n",
      "Murray is available thru the City of Lytle Animal Care and Control. Adoption fee is $185, and transport fee to the East coast via Rescue Road Trips is $185.\n",
      "\n",
      "*****SERIOUS INQUIRIES ONLY PLEASE\n",
      "Please CONTACT Teresa at teresakopacki@gmail.com for an application or for additional information.\n"
     ]
    }
   ],
   "source": [
    "print(print_pet(js))"
   ]
  },
  {
   "cell_type": "code",
   "execution_count": 20,
   "metadata": {
    "slideshow": {
     "slide_type": "slide"
    }
   },
   "outputs": [
    {
     "data": {
      "text/plain": [
       "{'@size': 'pnt',\n",
       " '$t': 'http://photos.petfinder.com/photos/pets/40700638/1/?bust=1516246159&width=60&-pnt.jpg',\n",
       " '@id': '1'}"
      ]
     },
     "execution_count": 20,
     "metadata": {},
     "output_type": "execute_result"
    }
   ],
   "source": [
    "image_recs = js[u'petfinder'][u'pet'][u'media'][u'photos'][u'photo']\n",
    "image_recs[0]"
   ]
  },
  {
   "cell_type": "code",
   "execution_count": 21,
   "metadata": {
    "slideshow": {
     "slide_type": "skip"
    }
   },
   "outputs": [],
   "source": [
    "from IPython.display import HTML"
   ]
  },
  {
   "cell_type": "code",
   "execution_count": 22,
   "metadata": {
    "slideshow": {
     "slide_type": "skip"
    }
   },
   "outputs": [],
   "source": [
    "def display_pet(js):\n",
    "    \"\"\"\n",
    "    Input: petfinder json object\n",
    "    Output: html string with image\n",
    "    \"\"\"\n",
    "    try:\n",
    "        image_recs = js[u'petfinder'][u'pet'][u'media'][u'photos'][u'photo']\n",
    "    except KeyError:\n",
    "        return \"\"\n",
    "    for rec in image_recs:\n",
    "        image_uri = rec['$t']\n",
    "        if rec['@size'] == u'x':\n",
    "            break\n",
    "    return \"<center><img src='{}'></center>\".format(image_uri)"
   ]
  },
  {
   "cell_type": "code",
   "execution_count": 25,
   "metadata": {
    "slideshow": {
     "slide_type": "slide"
    }
   },
   "outputs": [
    {
     "data": {
      "text/html": [
       "<center><img src='http://photos.petfinder.com/photos/pets/40700638/1/?bust=1516246159&width=500&-x.jpg'></center><pre>Murray is a Rat Terrier. Meet MURRAY!!\n",
       "\n",
       "Murray is an approximately 2 year old, 18-20 pound, neutered, male terrier mix breed. Possibly a Rat Terrier blend.\n",
       "\n",
       "Murray was originally found as a stray and was in a semi-rural outdoor shelter near Lytle. The ACO reached out to us and we happily brought Murray into our program.\n",
       "\n",
       "Murray is a gentlemanly little guy. He is very social, but generally minds his own business, and likes to be active. Murray is a chunky guy and needs an active person to help get him fit. He does well with the other dogs in his foster home, but does not like other pushy or bossy males picking on him. He has not shown alot of interest in cats, but as a typical terrier may give chase. He is crate trained and does his business outside when kept on a consistent schedule. Murray is loyal and loves his people.\n",
       "\n",
       "Murray is heartworm negative, up to date on vaccinations, is current on flea and heartworm preventive, and is micro-chipped. He comes with a health certificate if transported.\n",
       "\n",
       "Murray's preferred home has a secure fenced in yard he can play in supervised (no wireless or electric please), a canine friend to hang with, and an active person to keep him exercised. No children under 6 please.\n",
       "\n",
       "Murray is currently in a foster home in San Antonio TX and can be transported once adopted. All adopters must meet all requirements.\n",
       "\n",
       "Murray is available thru the City of Lytle Animal Care and Control. Adoption fee is $185, and transport fee to the East coast via Rescue Road Trips is $185.\n",
       "\n",
       "*****SERIOUS INQUIRIES ONLY PLEASE\n",
       "Please CONTACT Teresa at teresakopacki@gmail.com for an application or for additional information.</pre>"
      ],
      "text/plain": [
       "<IPython.core.display.HTML object>"
      ]
     },
     "execution_count": 25,
     "metadata": {},
     "output_type": "execute_result"
    }
   ],
   "source": [
    "HTML(display_pet(js) + \"<pre>\" + print_pet(js) + \"</pre>\") "
   ]
  },
  {
   "cell_type": "markdown",
   "metadata": {
    "slideshow": {
     "slide_type": "slide"
    }
   },
   "source": [
    "Let's streamline this process with the following function."
   ]
  },
  {
   "cell_type": "code",
   "execution_count": 26,
   "metadata": {
    "slideshow": {
     "slide_type": "fragment"
    }
   },
   "outputs": [],
   "source": [
    "def random_dog(key):\n",
    "    \"\"\"\n",
    "    Input: api key\n",
    "    Output: HTML description of the dog\n",
    "    \"\"\"\n",
    "    pet_url_ex = \"http://api.petfinder.com/pet.getRandom\"\n",
    "    randomparms = {'key':key,'animal':'dog','format':'json','output':'basic'}\n",
    "    randreq = requests.get(pet_url_ex,params = randomparms)\n",
    "    js = randreq.json()\n",
    "    return js"
   ]
  },
  {
   "cell_type": "code",
   "execution_count": 27,
   "metadata": {
    "slideshow": {
     "slide_type": "slide"
    }
   },
   "outputs": [
    {
     "data": {
      "text/html": [
       "<center><img src='http://photos.petfinder.com/photos/pets/43203450/1/?bust=1541352696&width=500&-x.jpg'></center><pre>Snowman is a Great Pyrenees. This is Snowman he is a 10 month old Great  Pyrenees that now needs a new home through no fault of his. He is house trained current on shots and still does dumb puppy things. Snowman needs a home that will continue his training and be able to provide lots of hugs and belly rubs.</pre>"
      ],
      "text/plain": [
       "<IPython.core.display.HTML object>"
      ]
     },
     "execution_count": 27,
     "metadata": {},
     "output_type": "execute_result"
    }
   ],
   "source": [
    "with requests_cache.disabled():\n",
    "    js = random_dog(key)\n",
    "HTML(display_pet(js) + \"<pre>\" + print_pet(js) + \"</pre>\") "
   ]
  },
  {
   "cell_type": "markdown",
   "metadata": {
    "slideshow": {
     "slide_type": "slide"
    }
   },
   "source": [
    "Now we are ready to get a random sample of the dataset.  This should only be done sparingly because it will make many requests to the webserver in a short period of time.  Many APIs including the petfinder API have rate limits that restrict the number of queries a single key can make."
   ]
  },
  {
   "cell_type": "code",
   "execution_count": 30,
   "metadata": {
    "slideshow": {
     "slide_type": "fragment"
    }
   },
   "outputs": [],
   "source": [
    "## Make 500 requests to the petfinder API of random dogs\n",
    "samp_size = 500\n",
    "\n",
    "with requests_cache.disabled():\n",
    "    dog_data = [random_dog(key) for s in range(samp_size)]"
   ]
  },
  {
   "cell_type": "code",
   "execution_count": 31,
   "metadata": {
    "slideshow": {
     "slide_type": "slide"
    }
   },
   "outputs": [],
   "source": [
    "def extract_breeds(pet):\n",
    "    \"\"\"Extract the breed information for petfinder json\"\"\"\n",
    "    try:\n",
    "        breed_obj = pet[u'breeds'][u'breed']\n",
    "        if type(breed_obj) == list:\n",
    "            breeds = [a[u'$t'] for a in breed_obj]\n",
    "        else:\n",
    "            breeds = [breed_obj[u'$t']]\n",
    "        return breeds\n",
    "    except KeyError:\n",
    "        return None"
   ]
  },
  {
   "cell_type": "code",
   "execution_count": 32,
   "metadata": {
    "slideshow": {
     "slide_type": "slide"
    }
   },
   "outputs": [],
   "source": [
    "def catch_missing(var_dict,key):\n",
    "    \"\"\"Catch missingness in a variable and return None\"\"\"\n",
    "    try:\n",
    "        var = var_dict[key]['$t']\n",
    "        return var\n",
    "    except KeyError:\n",
    "        return None"
   ]
  },
  {
   "cell_type": "code",
   "execution_count": 33,
   "metadata": {
    "slideshow": {
     "slide_type": "slide"
    }
   },
   "outputs": [],
   "source": [
    "def extract_pet_vars(js):\n",
    "    \"\"\"Extract the desired variables from petfinder json\"\"\"\n",
    "    pet = js['petfinder']['pet']\n",
    "    pet_breeds = extract_breeds(pet)\n",
    "    pet_cont = pet['contact']\n",
    "    pet_state = catch_missing(pet_cont,'state')\n",
    "    pet_age = catch_missing(pet,'age')\n",
    "    pet_size = catch_missing(pet,'size')\n",
    "    pet_id = int(catch_missing(pet,'id'))\n",
    "    pet_desc = catch_missing(pet,'description')\n",
    "    pet_shelterId = catch_missing(pet,'shelterId')\n",
    "    return {'breeds':pet_breeds, 'state':pet_state, 'age':pet_age, 'size':pet_size, 'id':pet_id, \n",
    "           'desc': pet_desc, 'shelter_id': pet_shelterId}"
   ]
  },
  {
   "cell_type": "code",
   "execution_count": 34,
   "metadata": {
    "slideshow": {
     "slide_type": "slide"
    }
   },
   "outputs": [
    {
     "data": {
      "text/plain": [
       "{'breeds': ['Great Pyrenees'],\n",
       " 'state': 'NC',\n",
       " 'age': 'Baby',\n",
       " 'size': 'L',\n",
       " 'id': 43203450,\n",
       " 'desc': 'This is Snowman he is a 10 month old Great  Pyrenees that now needs a new home through no fault of his. He is house trained current on shots and still does dumb puppy things. Snowman needs a home that will continue his training and be able to provide lots of hugs and belly rubs.',\n",
       " 'shelter_id': 'NC820'}"
      ]
     },
     "execution_count": 34,
     "metadata": {},
     "output_type": "execute_result"
    }
   ],
   "source": [
    "extract_pet_vars(js)"
   ]
  },
  {
   "cell_type": "code",
   "execution_count": 35,
   "metadata": {
    "slideshow": {
     "slide_type": "slide"
    }
   },
   "outputs": [],
   "source": [
    "dog_df = pd.DataFrame(extract_pet_vars(js) for js in dog_data)\n",
    "\n",
    "dog_df = dog_df.set_index('id')"
   ]
  },
  {
   "cell_type": "code",
   "execution_count": 36,
   "metadata": {
    "slideshow": {
     "slide_type": "fragment"
    }
   },
   "outputs": [
    {
     "data": {
      "text/html": [
       "<div>\n",
       "<style scoped>\n",
       "    .dataframe tbody tr th:only-of-type {\n",
       "        vertical-align: middle;\n",
       "    }\n",
       "\n",
       "    .dataframe tbody tr th {\n",
       "        vertical-align: top;\n",
       "    }\n",
       "\n",
       "    .dataframe thead th {\n",
       "        text-align: right;\n",
       "    }\n",
       "</style>\n",
       "<table border=\"1\" class=\"dataframe\">\n",
       "  <thead>\n",
       "    <tr style=\"text-align: right;\">\n",
       "      <th></th>\n",
       "      <th>age</th>\n",
       "      <th>breeds</th>\n",
       "      <th>desc</th>\n",
       "      <th>shelter_id</th>\n",
       "      <th>size</th>\n",
       "      <th>state</th>\n",
       "    </tr>\n",
       "  </thead>\n",
       "  <tbody>\n",
       "    <tr>\n",
       "      <th>count</th>\n",
       "      <td>500</td>\n",
       "      <td>500</td>\n",
       "      <td>447</td>\n",
       "      <td>500</td>\n",
       "      <td>500</td>\n",
       "      <td>500</td>\n",
       "    </tr>\n",
       "    <tr>\n",
       "      <th>unique</th>\n",
       "      <td>4</td>\n",
       "      <td>215</td>\n",
       "      <td>438</td>\n",
       "      <td>440</td>\n",
       "      <td>4</td>\n",
       "      <td>49</td>\n",
       "    </tr>\n",
       "    <tr>\n",
       "      <th>top</th>\n",
       "      <td>Adult</td>\n",
       "      <td>[Pit Bull Terrier]</td>\n",
       "      <td>No Notes</td>\n",
       "      <td>IL192</td>\n",
       "      <td>M</td>\n",
       "      <td>TX</td>\n",
       "    </tr>\n",
       "    <tr>\n",
       "      <th>freq</th>\n",
       "      <td>236</td>\n",
       "      <td>51</td>\n",
       "      <td>4</td>\n",
       "      <td>4</td>\n",
       "      <td>245</td>\n",
       "      <td>74</td>\n",
       "    </tr>\n",
       "  </tbody>\n",
       "</table>\n",
       "</div>"
      ],
      "text/plain": [
       "          age              breeds      desc shelter_id size state\n",
       "count     500                 500       447        500  500   500\n",
       "unique      4                 215       438        440    4    49\n",
       "top     Adult  [Pit Bull Terrier]  No Notes      IL192    M    TX\n",
       "freq      236                  51         4          4  245    74"
      ]
     },
     "execution_count": 36,
     "metadata": {},
     "output_type": "execute_result"
    }
   ],
   "source": [
    "dog_df.describe()"
   ]
  },
  {
   "cell_type": "code",
   "execution_count": 37,
   "metadata": {
    "slideshow": {
     "slide_type": "slide"
    }
   },
   "outputs": [
    {
     "data": {
      "text/html": [
       "<div>\n",
       "<style scoped>\n",
       "    .dataframe tbody tr th:only-of-type {\n",
       "        vertical-align: middle;\n",
       "    }\n",
       "\n",
       "    .dataframe tbody tr th {\n",
       "        vertical-align: top;\n",
       "    }\n",
       "\n",
       "    .dataframe thead tr th {\n",
       "        text-align: left;\n",
       "    }\n",
       "\n",
       "    .dataframe thead tr:last-of-type th {\n",
       "        text-align: right;\n",
       "    }\n",
       "</style>\n",
       "<table border=\"1\" class=\"dataframe\">\n",
       "  <thead>\n",
       "    <tr>\n",
       "      <th></th>\n",
       "      <th colspan=\"4\" halign=\"left\">breeds</th>\n",
       "      <th colspan=\"4\" halign=\"left\">desc</th>\n",
       "      <th colspan=\"4\" halign=\"left\">shelter_id</th>\n",
       "      <th colspan=\"4\" halign=\"left\">size</th>\n",
       "      <th colspan=\"4\" halign=\"left\">state</th>\n",
       "    </tr>\n",
       "    <tr>\n",
       "      <th></th>\n",
       "      <th>count</th>\n",
       "      <th>unique</th>\n",
       "      <th>top</th>\n",
       "      <th>freq</th>\n",
       "      <th>count</th>\n",
       "      <th>unique</th>\n",
       "      <th>top</th>\n",
       "      <th>freq</th>\n",
       "      <th>count</th>\n",
       "      <th>unique</th>\n",
       "      <th>top</th>\n",
       "      <th>freq</th>\n",
       "      <th>count</th>\n",
       "      <th>unique</th>\n",
       "      <th>top</th>\n",
       "      <th>freq</th>\n",
       "      <th>count</th>\n",
       "      <th>unique</th>\n",
       "      <th>top</th>\n",
       "      <th>freq</th>\n",
       "    </tr>\n",
       "    <tr>\n",
       "      <th>age</th>\n",
       "      <th></th>\n",
       "      <th></th>\n",
       "      <th></th>\n",
       "      <th></th>\n",
       "      <th></th>\n",
       "      <th></th>\n",
       "      <th></th>\n",
       "      <th></th>\n",
       "      <th></th>\n",
       "      <th></th>\n",
       "      <th></th>\n",
       "      <th></th>\n",
       "      <th></th>\n",
       "      <th></th>\n",
       "      <th></th>\n",
       "      <th></th>\n",
       "      <th></th>\n",
       "      <th></th>\n",
       "      <th></th>\n",
       "      <th></th>\n",
       "    </tr>\n",
       "  </thead>\n",
       "  <tbody>\n",
       "    <tr>\n",
       "      <th>Adult</th>\n",
       "      <td>236</td>\n",
       "      <td>113</td>\n",
       "      <td>[Pit Bull Terrier]</td>\n",
       "      <td>28</td>\n",
       "      <td>213</td>\n",
       "      <td>208</td>\n",
       "      <td>No Notes</td>\n",
       "      <td>4</td>\n",
       "      <td>236</td>\n",
       "      <td>223</td>\n",
       "      <td>TN75</td>\n",
       "      <td>2</td>\n",
       "      <td>236</td>\n",
       "      <td>4</td>\n",
       "      <td>M</td>\n",
       "      <td>100</td>\n",
       "      <td>236</td>\n",
       "      <td>43</td>\n",
       "      <td>TX</td>\n",
       "      <td>31</td>\n",
       "    </tr>\n",
       "    <tr>\n",
       "      <th>Baby</th>\n",
       "      <td>80</td>\n",
       "      <td>60</td>\n",
       "      <td>[Labrador Retriever]</td>\n",
       "      <td>8</td>\n",
       "      <td>73</td>\n",
       "      <td>73</td>\n",
       "      <td>Meet Cosmo! Cosmo is a 6 month old Beagle/Houn...</td>\n",
       "      <td>1</td>\n",
       "      <td>80</td>\n",
       "      <td>77</td>\n",
       "      <td>MN289</td>\n",
       "      <td>2</td>\n",
       "      <td>80</td>\n",
       "      <td>4</td>\n",
       "      <td>M</td>\n",
       "      <td>47</td>\n",
       "      <td>80</td>\n",
       "      <td>31</td>\n",
       "      <td>TX</td>\n",
       "      <td>10</td>\n",
       "    </tr>\n",
       "    <tr>\n",
       "      <th>Senior</th>\n",
       "      <td>48</td>\n",
       "      <td>32</td>\n",
       "      <td>[Chihuahua]</td>\n",
       "      <td>9</td>\n",
       "      <td>45</td>\n",
       "      <td>45</td>\n",
       "      <td>HIGHLY ADOPTABLE!!! ROSIE is a Jack Russell Te...</td>\n",
       "      <td>1</td>\n",
       "      <td>48</td>\n",
       "      <td>45</td>\n",
       "      <td>NV200</td>\n",
       "      <td>2</td>\n",
       "      <td>48</td>\n",
       "      <td>4</td>\n",
       "      <td>S</td>\n",
       "      <td>22</td>\n",
       "      <td>48</td>\n",
       "      <td>23</td>\n",
       "      <td>CA</td>\n",
       "      <td>7</td>\n",
       "    </tr>\n",
       "    <tr>\n",
       "      <th>Young</th>\n",
       "      <td>136</td>\n",
       "      <td>79</td>\n",
       "      <td>[Pit Bull Terrier]</td>\n",
       "      <td>15</td>\n",
       "      <td>116</td>\n",
       "      <td>114</td>\n",
       "      <td>Craigie D Boss came to us from a kill shelter ...</td>\n",
       "      <td>3</td>\n",
       "      <td>136</td>\n",
       "      <td>129</td>\n",
       "      <td>IN434</td>\n",
       "      <td>3</td>\n",
       "      <td>136</td>\n",
       "      <td>3</td>\n",
       "      <td>M</td>\n",
       "      <td>84</td>\n",
       "      <td>136</td>\n",
       "      <td>31</td>\n",
       "      <td>TX</td>\n",
       "      <td>27</td>\n",
       "    </tr>\n",
       "  </tbody>\n",
       "</table>\n",
       "</div>"
      ],
      "text/plain": [
       "       breeds                                    desc         \\\n",
       "        count unique                   top freq count unique   \n",
       "age                                                            \n",
       "Adult     236    113    [Pit Bull Terrier]   28   213    208   \n",
       "Baby       80     60  [Labrador Retriever]    8    73     73   \n",
       "Senior     48     32           [Chihuahua]    9    45     45   \n",
       "Young     136     79    [Pit Bull Terrier]   15   116    114   \n",
       "\n",
       "                                                               shelter_id  \\\n",
       "                                                      top freq      count   \n",
       "age                                                                         \n",
       "Adult                                            No Notes    4        236   \n",
       "Baby    Meet Cosmo! Cosmo is a 6 month old Beagle/Houn...    1         80   \n",
       "Senior  HIGHLY ADOPTABLE!!! ROSIE is a Jack Russell Te...    1         48   \n",
       "Young   Craigie D Boss came to us from a kill shelter ...    3        136   \n",
       "\n",
       "                           size                 state                  \n",
       "       unique    top freq count unique top freq count unique top freq  \n",
       "age                                                                    \n",
       "Adult     223   TN75    2   236      4   M  100   236     43  TX   31  \n",
       "Baby       77  MN289    2    80      4   M   47    80     31  TX   10  \n",
       "Senior     45  NV200    2    48      4   S   22    48     23  CA    7  \n",
       "Young     129  IN434    3   136      3   M   84   136     31  TX   27  "
      ]
     },
     "execution_count": 37,
     "metadata": {},
     "output_type": "execute_result"
    }
   ],
   "source": [
    "dog_df.groupby('age').describe()"
   ]
  },
  {
   "cell_type": "code",
   "execution_count": 109,
   "metadata": {
    "slideshow": {
     "slide_type": "slide"
    }
   },
   "outputs": [],
   "source": [
    "from collections import Counter\n",
    "\n",
    "all_breeds = Counter(sum(dog_df['breeds'].values,[]))"
   ]
  },
  {
   "cell_type": "code",
   "execution_count": 113,
   "metadata": {
    "slideshow": {
     "slide_type": "fragment"
    }
   },
   "outputs": [
    {
     "data": {
      "text/plain": [
       "[('Labrador Retriever', 89),\n",
       " ('Pit Bull Terrier', 76),\n",
       " ('Mixed Breed', 67),\n",
       " ('Chihuahua', 37),\n",
       " ('Shepherd', 26)]"
      ]
     },
     "execution_count": 113,
     "metadata": {},
     "output_type": "execute_result"
    }
   ],
   "source": [
    "all_breeds.most_common()[:5]"
   ]
  },
  {
   "cell_type": "code",
   "execution_count": 116,
   "metadata": {
    "slideshow": {
     "slide_type": "fragment"
    }
   },
   "outputs": [
    {
     "data": {
      "text/plain": [
       "2"
      ]
     },
     "execution_count": 116,
     "metadata": {},
     "output_type": "execute_result"
    }
   ],
   "source": [
    "max(len(br) for br in dog_df['breeds'].values)"
   ]
  },
  {
   "cell_type": "code",
   "execution_count": 117,
   "metadata": {
    "slideshow": {
     "slide_type": "slide"
    }
   },
   "outputs": [],
   "source": [
    "## Encode breeds into two vars\n",
    "\n",
    "dog_df['breed1'] = [br[0] for br in dog_df['breeds'].values]\n",
    "dog_df['breed2'] = [br[-1] for br in dog_df['breeds'].values]"
   ]
  },
  {
   "cell_type": "code",
   "execution_count": 126,
   "metadata": {
    "slideshow": {
     "slide_type": "slide"
    }
   },
   "outputs": [],
   "source": [
    "lab_dogs = dog_df.query('breed1 == \"{0}\" or breed2 == \"{0}\"'.format(\"Labrador Retriever\"))\n",
    "lab_dog = lab_dogs.iloc[0,:]"
   ]
  },
  {
   "cell_type": "code",
   "execution_count": 127,
   "metadata": {
    "slideshow": {
     "slide_type": "fragment"
    }
   },
   "outputs": [
    {
     "data": {
      "text/plain": [
       "age                                                       Adult\n",
       "breeds                                     [Labrador Retriever]\n",
       "desc          This is the Animal Description Header\\nRover i...\n",
       "shelter_id                                                CA387\n",
       "size                                                          L\n",
       "state                                                        CA\n",
       "breed1                                       Labrador Retriever\n",
       "breed2                                       Labrador Retriever\n",
       "Name: 42874092, dtype: object"
      ]
     },
     "execution_count": 127,
     "metadata": {},
     "output_type": "execute_result"
    }
   ],
   "source": [
    "lab_dog"
   ]
  },
  {
   "cell_type": "code",
   "execution_count": 129,
   "metadata": {
    "slideshow": {
     "slide_type": "slide"
    }
   },
   "outputs": [
    {
     "name": "stdout",
     "output_type": "stream",
     "text": [
      "This is the Animal Description Header\n",
      "Rover is all dog, hence the name! He loves people and is very confident and playful in his surroundings. He will need some training since he can be mouthy in play and is jumpy with excitement when meeting new people. Rover is a hunting stock kind of Lab mix, lanky and energetic - he needs space and adventures!; This is a high energy boy who will need and love lots of exercise. He will make an excellent dog for outdoorsy folks who have the time and sense of adventure to go on long hikes, to do some training and recall work - he'll likely be really good and he does want to please - but he needs an outlet for his enthusiasm!This is the Animal Description Footer\n",
      "10/23/18 2:49 AM\n"
     ]
    }
   ],
   "source": [
    "print(lab_dog['desc'])"
   ]
  },
  {
   "cell_type": "code",
   "execution_count": 132,
   "metadata": {
    "slideshow": {
     "slide_type": "slide"
    }
   },
   "outputs": [
    {
     "data": {
      "text/plain": [
       "state\n",
       "TX    75\n",
       "CA    55\n",
       "FL    30\n",
       "GA    28\n",
       "OH    19\n",
       "Name: age, dtype: int64"
      ]
     },
     "execution_count": 132,
     "metadata": {},
     "output_type": "execute_result"
    }
   ],
   "source": [
    "dog_df.groupby('state').count().sort_values('age',ascending=False).iloc[:5,0]"
   ]
  },
  {
   "cell_type": "code",
   "execution_count": 136,
   "metadata": {
    "slideshow": {
     "slide_type": "slide"
    }
   },
   "outputs": [],
   "source": [
    "pitt_dog = dog_df.query('state == \"TX\" and breed1 == \"Pit Bull Terrier\"').iloc[0,:]"
   ]
  },
  {
   "cell_type": "code",
   "execution_count": 137,
   "metadata": {
    "slideshow": {
     "slide_type": "fragment"
    }
   },
   "outputs": [
    {
     "data": {
      "text/plain": [
       "age                                                       Adult\n",
       "breeds                                       [Pit Bull Terrier]\n",
       "desc          I'm a petite little lady who loves to give kis...\n",
       "shelter_id                                                TX198\n",
       "size                                                          M\n",
       "state                                                        TX\n",
       "breed1                                         Pit Bull Terrier\n",
       "breed2                                         Pit Bull Terrier\n",
       "Name: 41596889, dtype: object"
      ]
     },
     "execution_count": 137,
     "metadata": {},
     "output_type": "execute_result"
    }
   ],
   "source": [
    "pitt_dog"
   ]
  },
  {
   "cell_type": "code",
   "execution_count": 139,
   "metadata": {
    "slideshow": {
     "slide_type": "fragment"
    }
   },
   "outputs": [
    {
     "data": {
      "text/plain": [
       "\"I'm a petite little lady who loves to give kisses! I'm sweet and enjoy lots of belly rubs, and I'm also a pretty amazing athlete! I like playing with toys, going for runs, and sleeping next you once I'm all tuckered out. I would prefer to have all your attention to myself, so I'd do best an only pet - I'm such a good girl, I'm the only companion you need! Primary Color: Black Secondary Color: White Weight: 43.4lbs Age: 3yrs 11mths 1wks Animal has been Spayed\""
      ]
     },
     "execution_count": 139,
     "metadata": {},
     "output_type": "execute_result"
    }
   ],
   "source": [
    "pitt_dog['desc']"
   ]
  }
 ],
 "metadata": {
  "celltoolbar": "Slideshow",
  "kernelspec": {
   "display_name": "Python 3 (ipykernel)",
   "language": "python",
   "name": "python3"
  },
  "language_info": {
   "codemirror_mode": {
    "name": "ipython",
    "version": 3
   },
   "file_extension": ".py",
   "mimetype": "text/x-python",
   "name": "python",
   "nbconvert_exporter": "python",
   "pygments_lexer": "ipython3",
   "version": "3.8.10"
  }
 },
 "nbformat": 4,
 "nbformat_minor": 2
}
