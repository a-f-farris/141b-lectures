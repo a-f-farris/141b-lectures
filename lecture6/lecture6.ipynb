{
 "cells": [
  {
   "cell_type": "markdown",
   "metadata": {
    "slideshow": {
     "slide_type": "slide"
    }
   },
   "source": [
    "# Data in Python\n",
    "\n",
    "## Stats 141B\n",
    "\n",
    "## Lecture 6"
   ]
  },
  {
   "cell_type": "markdown",
   "metadata": {
    "slideshow": {
     "slide_type": "slide"
    }
   },
   "source": [
    "## Jupyter notebook\n",
    "\n",
    "- ``jupyter notebook`` from terminal\n",
    "- runs ipython in background\n",
    "- notebook consists of\n",
    " - markdown cells: \n",
    " - code cells\n",
    "- code cells act like ipython prompt: tab completion, magic commands, etc.\n",
    "- markdown is a markup language that makes formatted text\n",
    " - e.g. `#` makes header text,  `$ \\alpha  $`  makes latex equations as in $\\alpha$\n",
    " - see [markdown cheatsheet](https://github.com/adam-p/markdown-here/wiki/Markdown-Cheatsheet)"
   ]
  },
  {
   "cell_type": "markdown",
   "metadata": {
    "slideshow": {
     "slide_type": "slide"
    }
   },
   "source": [
    "## What is Data?\n",
    "\n",
    "- Computation takes Data as input\n",
    "- Statistics are computed from Data\n",
    "\n",
    "## Data Types in Python\n",
    "\n",
    "- Different data types have different common operations\n",
    "- Python sequence data types (lists, tuples, etc) are ready for \"for\" loops\n",
    "- Python is good for string manipulation\n",
    "- Choose the data type (e.g. list vs. dict) based on what you plan to do"
   ]
  },
  {
   "cell_type": "markdown",
   "metadata": {
    "slideshow": {
     "slide_type": "slide"
    }
   },
   "source": [
    "## Some Python rules \n",
    "\n",
    "- indentation is required!\n",
    "- code block initiated by ``if header:``\n",
    "- method for file object: ``file.readline()`` \n",
    "- ``+`` is defined for strings (operator overloading): ``loc = 'CollegeScorecard/' + filename``\n",
    "- for loops act on iterables like lists: ``for filename in cs_files:``\n",
    "- print to screen with ``print('header differs for ' + filename)`` - different from Python 2.7"
   ]
  },
  {
   "cell_type": "code",
   "execution_count": 1,
   "metadata": {
    "slideshow": {
     "slide_type": "slide"
    }
   },
   "outputs": [
    {
     "name": "stdout",
     "output_type": "stream",
     "text": [
      "The Zen of Python, by Tim Peters\n",
      "\n",
      "Beautiful is better than ugly.\n",
      "Explicit is better than implicit.\n",
      "Simple is better than complex.\n",
      "Complex is better than complicated.\n",
      "Flat is better than nested.\n",
      "Sparse is better than dense.\n",
      "Readability counts.\n",
      "Special cases aren't special enough to break the rules.\n",
      "Although practicality beats purity.\n",
      "Errors should never pass silently.\n",
      "Unless explicitly silenced.\n",
      "In the face of ambiguity, refuse the temptation to guess.\n",
      "There should be one-- and preferably only one --obvious way to do it.\n",
      "Although that way may not be obvious at first unless you're Dutch.\n",
      "Now is better than never.\n",
      "Although never is often better than *right* now.\n",
      "If the implementation is hard to explain, it's a bad idea.\n",
      "If the implementation is easy to explain, it may be a good idea.\n",
      "Namespaces are one honking great idea -- let's do more of those!\n"
     ]
    }
   ],
   "source": [
    "import this"
   ]
  },
  {
   "cell_type": "code",
   "execution_count": null,
   "metadata": {
    "slideshow": {
     "slide_type": "slide"
    }
   },
   "outputs": [],
   "source": [
    "%run some_script.py"
   ]
  },
  {
   "cell_type": "code",
   "execution_count": null,
   "metadata": {
    "slideshow": {
     "slide_type": "fragment"
    }
   },
   "outputs": [],
   "source": [
    "%save temp.py 1-2\n",
    "# its magic!"
   ]
  },
  {
   "cell_type": "markdown",
   "metadata": {
    "slideshow": {
     "slide_type": "slide"
    }
   },
   "source": [
    "## IPython - text editor workflow\n",
    "\n",
    "- run simple commands in ipython\n",
    "- ``%save`` to temp file, move to python file and clean up\n",
    "- run longer version (on full data) or save for reproducibility\n",
    "- run in ipython with ``%run``\n",
    "- run in terminal with ``python scriptname.py``"
   ]
  },
  {
   "cell_type": "code",
   "execution_count": 4,
   "metadata": {
    "slideshow": {
     "slide_type": "slide"
    }
   },
   "outputs": [
    {
     "name": "stdout",
     "output_type": "stream",
     "text": [
      "date,name,words\r\n",
      "\"January 8, 1790\",George Washington,1089\r\n",
      "\"December 8, 1790\",George Washington,1401\r\n",
      "\"October 25, 1791\",George Washington,2302\r\n",
      "\"November 6, 1792\",George Washington,2101\r\n",
      "\"December 3, 1793\",George Washington,1968\r\n",
      "\"November 19, 1794\",George Washington,2918\r\n",
      "\"December 8, 1795\",George Washington,1989\r\n",
      "\"December 7, 1796\",George Washington,2871\r\n",
      "\"November 22, 1797\",John Adams,2063\r\n"
     ]
    }
   ],
   "source": [
    "! head data/state_of_union.csv"
   ]
  },
  {
   "cell_type": "code",
   "execution_count": 5,
   "metadata": {
    "slideshow": {
     "slide_type": "slide"
    }
   },
   "outputs": [],
   "source": [
    "datafile = \"data/state_of_union.csv\"\n",
    "\n",
    "with open(datafile,'r') as sou:\n",
    "    header = sou.readline()\n",
    "    sou_line = sou.readline()"
   ]
  },
  {
   "cell_type": "code",
   "execution_count": 6,
   "metadata": {
    "slideshow": {
     "slide_type": "fragment"
    }
   },
   "outputs": [
    {
     "name": "stdout",
     "output_type": "stream",
     "text": [
      "date,name,words\n",
      "\n",
      "\"January 8, 1790\",George Washington,1089\n",
      "\n"
     ]
    }
   ],
   "source": [
    "print(header) # print header string\n",
    "print(sou_line)"
   ]
  },
  {
   "cell_type": "code",
   "execution_count": 7,
   "metadata": {
    "slideshow": {
     "slide_type": "fragment"
    }
   },
   "outputs": [
    {
     "data": {
      "text/plain": [
       "str"
      ]
     },
     "execution_count": 7,
     "metadata": {},
     "output_type": "execute_result"
    }
   ],
   "source": [
    "type(header) # type checks the type of object"
   ]
  },
  {
   "cell_type": "code",
   "execution_count": 8,
   "metadata": {
    "slideshow": {
     "slide_type": "slide"
    }
   },
   "outputs": [
    {
     "data": {
      "text/plain": [
       "'date,name,words'"
      ]
     },
     "execution_count": 8,
     "metadata": {},
     "output_type": "execute_result"
    }
   ],
   "source": [
    "header = header.strip() # remove whitespace in front/back\n",
    "header"
   ]
  },
  {
   "cell_type": "code",
   "execution_count": 9,
   "metadata": {
    "slideshow": {
     "slide_type": "fragment"
    }
   },
   "outputs": [
    {
     "data": {
      "text/plain": [
       "['date', 'name', 'words']"
      ]
     },
     "execution_count": 9,
     "metadata": {},
     "output_type": "execute_result"
    }
   ],
   "source": [
    "header = header.split(',') # split the string by ,\n",
    "header"
   ]
  },
  {
   "cell_type": "code",
   "execution_count": 10,
   "metadata": {
    "slideshow": {
     "slide_type": "fragment"
    }
   },
   "outputs": [
    {
     "data": {
      "text/plain": [
       "('date', 'name', 'words')"
      ]
     },
     "execution_count": 10,
     "metadata": {},
     "output_type": "execute_result"
    }
   ],
   "source": [
    "header = tuple(header) # convert list to tuple\n",
    "header"
   ]
  },
  {
   "cell_type": "markdown",
   "metadata": {
    "slideshow": {
     "slide_type": "slide"
    }
   },
   "source": [
    "### Built in data structures:\n",
    "\n",
    "**Sequences:**\n",
    "- list\n",
    "- tuple\n",
    "- string\n",
    "\n",
    "**Numeric:**\n",
    "- boolean\n",
    "- integer\n",
    "- float\n",
    "\n",
    "**Mappings: dictionaries**\n",
    "\n",
    "**Exceptions, Classes**"
   ]
  },
  {
   "cell_type": "code",
   "execution_count": 11,
   "metadata": {
    "slideshow": {
     "slide_type": "slide"
    }
   },
   "outputs": [
    {
     "name": "stdout",
     "output_type": "stream",
     "text": [
      "\"January 8, 1790\",George Washington,1089\n"
     ]
    }
   ],
   "source": [
    "print('\"January 8, 1790\",George Washington,1089') # first line\n",
    "\n",
    "def proc_sou(line):\n",
    "    \"\"\"state of union line processing - in the future use Pandas\"\"\"\n",
    "    line_date, line_rest = line.strip().split('\",') # strip and split btw date/name\n",
    "    line_date = line_date.strip('\"') # remove \"\n",
    "    name, words = line_rest.split(',') # split name/words\n",
    "    return(line_date,name,int(words)) # return - convert int"
   ]
  },
  {
   "cell_type": "code",
   "execution_count": 12,
   "metadata": {
    "slideshow": {
     "slide_type": "slide"
    }
   },
   "outputs": [],
   "source": [
    "with open(datafile,'r') as sou:\n",
    "    head_temp = sou.readline() # skip the first line\n",
    "    sou_data = [proc_sou(line) for line in sou] # list comp - return to this"
   ]
  },
  {
   "cell_type": "code",
   "execution_count": 14,
   "metadata": {
    "slideshow": {
     "slide_type": "slide"
    }
   },
   "outputs": [
    {
     "data": {
      "text/plain": [
       "[('January 8, 1790', 'George Washington', 1089),\n",
       " ('December 8, 1790', 'George Washington', 1401),\n",
       " ('October 25, 1791', 'George Washington', 2302),\n",
       " ('November 6, 1792', 'George Washington', 2101),\n",
       " ('December 3, 1793', 'George Washington', 1968),\n",
       " ('November 19, 1794', 'George Washington', 2918),\n",
       " ('December 8, 1795', 'George Washington', 1989),\n",
       " ('December 7, 1796', 'George Washington', 2871),\n",
       " ('November 22, 1797', 'John Adams', 2063),\n",
       " ('December 8, 1798', 'John Adams', 2218),\n",
       " ('December 3, 1799', 'John Adams', 1505),\n",
       " ('November 22, 1800', 'John Adams', 1372),\n",
       " ('December 8, 1801', 'Thomas Jefferson', 3224),\n",
       " ('December 15, 1802', 'Thomas Jefferson', 2197),\n",
       " ('October 17, 1803', 'Thomas Jefferson', 2263)]"
      ]
     },
     "execution_count": 14,
     "metadata": {},
     "output_type": "execute_result"
    }
   ],
   "source": [
    "sou_data"
   ]
  },
  {
   "cell_type": "code",
   "execution_count": 15,
   "metadata": {
    "slideshow": {
     "slide_type": "slide"
    }
   },
   "outputs": [
    {
     "data": {
      "text/plain": [
       "'date,name,words\\n'"
      ]
     },
     "execution_count": 15,
     "metadata": {},
     "output_type": "execute_result"
    }
   ],
   "source": [
    "head_temp"
   ]
  },
  {
   "cell_type": "code",
   "execution_count": 13,
   "metadata": {
    "slideshow": {
     "slide_type": "fragment"
    }
   },
   "outputs": [],
   "source": [
    "dates, names, words = zip(*sou_data) # zip and tuple unpacking"
   ]
  },
  {
   "cell_type": "code",
   "execution_count": 16,
   "metadata": {
    "slideshow": {
     "slide_type": "slide"
    }
   },
   "outputs": [
    {
     "data": {
      "text/plain": [
       "(1089,\n",
       " 1401,\n",
       " 2302,\n",
       " 2101,\n",
       " 1968,\n",
       " 2918,\n",
       " 1989,\n",
       " 2871,\n",
       " 2063,\n",
       " 2218,\n",
       " 1505,\n",
       " 1372,\n",
       " 3224,\n",
       " 2197,\n",
       " 2263)"
      ]
     },
     "execution_count": 16,
     "metadata": {},
     "output_type": "execute_result"
    }
   ],
   "source": [
    "words"
   ]
  },
  {
   "cell_type": "markdown",
   "metadata": {
    "slideshow": {
     "slide_type": "slide"
    }
   },
   "source": [
    "### Python [built in functions](https://docs.python.org/3/library/functions.html)\n",
    "\n",
    "- zip: combines multiple sequences into sequence of tuples\n",
    "- range(i,j): iterable from i to j-1\n",
    "- format: insert variables into string\n",
    "- print\n",
    "- iter, next: iterable tools\n",
    "- all, any, max, min, len"
   ]
  },
  {
   "cell_type": "markdown",
   "metadata": {
    "slideshow": {
     "slide_type": "slide"
    }
   },
   "source": [
    "### Tuple\n",
    "\n",
    "- sequence of mixed type\n",
    "- tuple unpacking is a neat trick\n",
    "- immutable\n",
    "- think of as a single record of multiple variables"
   ]
  },
  {
   "cell_type": "code",
   "execution_count": 12,
   "metadata": {
    "slideshow": {
     "slide_type": "fragment"
    }
   },
   "outputs": [
    {
     "data": {
      "text/plain": [
       "('date', 'name', 'words')"
      ]
     },
     "execution_count": 12,
     "metadata": {},
     "output_type": "execute_result"
    }
   ],
   "source": [
    "header"
   ]
  },
  {
   "cell_type": "code",
   "execution_count": 13,
   "metadata": {
    "slideshow": {
     "slide_type": "slide"
    }
   },
   "outputs": [
    {
     "name": "stdout",
     "output_type": "stream",
     "text": [
      "1 2 2.23606797749979\n"
     ]
    }
   ],
   "source": [
    "x, y = 1, 2 #assign values\n",
    "y, x = x, y #swap values\n",
    "r, (x, y) = (x**2 + y**2)**0.5, (y, x) #nested value assignment and swapping\n",
    "print(x, y, r)"
   ]
  },
  {
   "cell_type": "code",
   "execution_count": 14,
   "metadata": {
    "slideshow": {
     "slide_type": "slide"
    }
   },
   "outputs": [
    {
     "data": {
      "text/plain": [
       "('date', 'name', 'words')"
      ]
     },
     "execution_count": 14,
     "metadata": {},
     "output_type": "execute_result"
    }
   ],
   "source": [
    "header"
   ]
  },
  {
   "cell_type": "code",
   "execution_count": 15,
   "metadata": {
    "slideshow": {
     "slide_type": "fragment"
    }
   },
   "outputs": [
    {
     "ename": "TypeError",
     "evalue": "'tuple' object does not support item assignment",
     "output_type": "error",
     "traceback": [
      "\u001b[0;31m---------------------------------------------------------------------------\u001b[0m",
      "\u001b[0;31mTypeError\u001b[0m                                 Traceback (most recent call last)",
      "\u001b[0;32m<ipython-input-15-b77ba8dac1e1>\u001b[0m in \u001b[0;36m<module>\u001b[0;34m\u001b[0m\n\u001b[0;32m----> 1\u001b[0;31m \u001b[0mheader\u001b[0m\u001b[0;34m[\u001b[0m\u001b[0;36m1\u001b[0m\u001b[0;34m]\u001b[0m \u001b[0;34m=\u001b[0m \u001b[0;34m'pres'\u001b[0m \u001b[0;31m# cannot modify tuple\u001b[0m\u001b[0;34m\u001b[0m\u001b[0;34m\u001b[0m\u001b[0m\n\u001b[0m",
      "\u001b[0;31mTypeError\u001b[0m: 'tuple' object does not support item assignment"
     ]
    }
   ],
   "source": [
    "header[1] = 'pres' # cannot modify tuple"
   ]
  },
  {
   "cell_type": "code",
   "execution_count": 16,
   "metadata": {
    "slideshow": {
     "slide_type": "fragment"
    }
   },
   "outputs": [
    {
     "data": {
      "text/plain": [
       "('date', 'pres', 'words')"
      ]
     },
     "execution_count": 16,
     "metadata": {},
     "output_type": "execute_result"
    }
   ],
   "source": [
    "header = (header[0], 'pres', header[2]) # reassign tuple\n",
    "header"
   ]
  },
  {
   "cell_type": "markdown",
   "metadata": {
    "slideshow": {
     "slide_type": "slide"
    }
   },
   "source": [
    "- zip: combines multiple sequences into sequence of tuples\n",
    "- unpack tuples in arguments with *\n",
    "- `zip(*arg)` unzips"
   ]
  },
  {
   "cell_type": "code",
   "execution_count": 17,
   "metadata": {
    "slideshow": {
     "slide_type": "fragment"
    }
   },
   "outputs": [],
   "source": [
    "dates, names, words = zip(*sou_data) \n",
    "words = list(words)"
   ]
  },
  {
   "cell_type": "code",
   "execution_count": 18,
   "metadata": {
    "slideshow": {
     "slide_type": "slide"
    }
   },
   "outputs": [
    {
     "name": "stdout",
     "output_type": "stream",
     "text": [
      "George Washington spoke 1089 words\n",
      "George Washington spoke 1401 words\n",
      "George Washington spoke 2302 words\n",
      "George Washington spoke 2101 words\n",
      "George Washington spoke 1968 words\n",
      "George Washington spoke 2918 words\n",
      "George Washington spoke 1989 words\n",
      "George Washington spoke 2871 words\n",
      "John Adams spoke 2063 words\n",
      "John Adams spoke 2218 words\n",
      "John Adams spoke 1505 words\n",
      "John Adams spoke 1372 words\n",
      "Thomas Jefferson spoke 3224 words\n",
      "Thomas Jefferson spoke 2197 words\n",
      "Thomas Jefferson spoke 2263 words\n"
     ]
    }
   ],
   "source": [
    "for n,w in zip(names, words): # zip combines lists/iterables\n",
    "    print(\"{} spoke {} words\".format(n,w)) # format string method"
   ]
  },
  {
   "cell_type": "markdown",
   "metadata": {
    "slideshow": {
     "slide_type": "slide"
    }
   },
   "source": [
    "### Lists\n",
    "\n",
    "- sequences\n",
    "- appendable, mutable\n",
    "- slice-able\n",
    "- think of as many rows of dataset"
   ]
  },
  {
   "cell_type": "code",
   "execution_count": 19,
   "metadata": {
    "slideshow": {
     "slide_type": "fragment"
    }
   },
   "outputs": [
    {
     "name": "stdout",
     "output_type": "stream",
     "text": [
      "[1089, 1401, 2302, 2101, 1968, 2918, 1989, 2871, 2063, 2218, 1505, 1372, 3224, 2197, 2263]\n"
     ]
    }
   ],
   "source": [
    "print(words)"
   ]
  },
  {
   "cell_type": "code",
   "execution_count": 20,
   "metadata": {
    "slideshow": {
     "slide_type": "slide"
    }
   },
   "outputs": [
    {
     "data": {
      "text/plain": [
       "1089"
      ]
     },
     "execution_count": 20,
     "metadata": {},
     "output_type": "execute_result"
    }
   ],
   "source": [
    "words[0] # select single element"
   ]
  },
  {
   "cell_type": "code",
   "execution_count": 21,
   "metadata": {
    "slideshow": {
     "slide_type": "fragment"
    }
   },
   "outputs": [
    {
     "data": {
      "text/plain": [
       "[1089, 1401, 2302, 2101, 1968, 2918, 1989, 2871]"
      ]
     },
     "execution_count": 21,
     "metadata": {},
     "output_type": "execute_result"
    }
   ],
   "source": [
    "words[0:8] # select first 8"
   ]
  },
  {
   "cell_type": "code",
   "execution_count": 22,
   "metadata": {
    "slideshow": {
     "slide_type": "fragment"
    }
   },
   "outputs": [
    {
     "data": {
      "text/plain": [
       "2263"
      ]
     },
     "execution_count": 22,
     "metadata": {},
     "output_type": "execute_result"
    }
   ],
   "source": [
    "words[-1] # select last"
   ]
  },
  {
   "cell_type": "code",
   "execution_count": 23,
   "metadata": {
    "slideshow": {
     "slide_type": "fragment"
    }
   },
   "outputs": [
    {
     "data": {
      "text/plain": [
       "[3224, 2197, 2263]"
      ]
     },
     "execution_count": 23,
     "metadata": {},
     "output_type": "execute_result"
    }
   ],
   "source": [
    "words[-3:] # last 3"
   ]
  },
  {
   "cell_type": "code",
   "execution_count": 24,
   "metadata": {
    "slideshow": {
     "slide_type": "fragment"
    }
   },
   "outputs": [
    {
     "data": {
      "text/plain": [
       "[1089, 1968, 2063, 3224]"
      ]
     },
     "execution_count": 24,
     "metadata": {},
     "output_type": "execute_result"
    }
   ],
   "source": [
    "words[::4] # every 4"
   ]
  }
 ],
 "metadata": {
  "kernelspec": {
   "display_name": "Python 3 (ipykernel)",
   "language": "python",
   "name": "python3"
  },
  "language_info": {
   "codemirror_mode": {
    "name": "ipython",
    "version": 3
   },
   "file_extension": ".py",
   "mimetype": "text/x-python",
   "name": "python",
   "nbconvert_exporter": "python",
   "pygments_lexer": "ipython3",
   "version": "3.9.5"
  }
 },
 "nbformat": 4,
 "nbformat_minor": 2
}
