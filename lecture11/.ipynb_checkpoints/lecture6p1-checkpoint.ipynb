{
 "cells": [
  {
   "cell_type": "markdown",
   "metadata": {
    "slideshow": {
     "slide_type": "slide"
    }
   },
   "source": [
    "## 141B Lecture 6 Part 1\n",
    "\n",
    "## Data Munging\n",
    "\n",
    "### James Sharpnack"
   ]
  },
  {
   "cell_type": "code",
   "execution_count": 5,
   "metadata": {
    "collapsed": true,
    "slideshow": {
     "slide_type": "fragment"
    }
   },
   "outputs": [],
   "source": [
    "import pandas as pd\n",
    "import numpy as np\n",
    "import matplotlib.pyplot as plt"
   ]
  },
  {
   "cell_type": "markdown",
   "metadata": {
    "slideshow": {
     "slide_type": "skip"
    }
   },
   "source": [
    "One might think that we have everything that we need to work with data.\n",
    "We can read data with built-in Python functions and we can store and manipulate that data with Numpy.\n",
    "Numpy is based around the Array, and Pandas is based around the DataFrame.\n",
    "Unlike the Array, the Dataframe treats each axis differently, with named columns and indexed rows.\n",
    "Pandas does this under the assumption that a DataFrame holds a large sample of a limited number of variables.\n",
    "Each column corresponds to a variable, while each row corresponds to an individual, time-point, or other index for repeated data.\n",
    "\n",
    "Due to this presumption, Pandas is able to optimize operations such as indexing, aggregation, and time series statistics.\n",
    "It also\thas great Input/Output tools for reading delimited data, working with databases, and HDF5 data.\t\n",
    "Pandas is built around the data types: DataFrames, Series.\n",
    "Roughly, a Series is a list of indices and values (think of a time series where the datatime is the index), and a DataFrame is a dictionary where the keys are the column names and the values are entire Series, and these Series have a common index.\n",
    "This is a high-level overview of Pandas, and for more syntax details see http://pandas.pydata.org/pandas-docs/stable/"
   ]
  },
  {
   "cell_type": "markdown",
   "metadata": {
    "slideshow": {
     "slide_type": "skip"
    }
   },
   "source": [
    "### Series\n",
    "\n",
    "Let's simulate a Brownian motion so that we can discuss Series objects.  You can see a plot of this below, we will go over data visualization in the next chapter."
   ]
  },
  {
   "cell_type": "code",
   "execution_count": 44,
   "metadata": {
    "collapsed": true,
    "slideshow": {
     "slide_type": "slide"
    }
   },
   "outputs": [],
   "source": [
    "T = 1000\n",
    "innov = np.random.normal(0,1,T)\n",
    "brown = np.cumsum(innov)"
   ]
  },
  {
   "cell_type": "code",
   "execution_count": 45,
   "metadata": {
    "slideshow": {
     "slide_type": "slide"
    }
   },
   "outputs": [
    {
     "data": {
      "image/png": "[encoded data removed]",
      "text/plain": [
       "<matplotlib.figure.Figure at 0x7f41ff3be908>"
      ]
     },
     "metadata": {},
     "output_type": "display_data"
    }
   ],
   "source": [
    "plt.plot(brown)\n",
    "plt.show()"
   ]
  },
  {
   "cell_type": "markdown",
   "metadata": {
    "slideshow": {
     "slide_type": "skip"
    }
   },
   "source": [
    "Let's suppose that the above simulation represents the change in a stock price starting from Jan 1, 2015. Pandas provides a tool for making sequences of datetimes; the following makes a DateTimeIndex object."
   ]
  },
  {
   "cell_type": "code",
   "execution_count": 46,
   "metadata": {
    "slideshow": {
     "slide_type": "slide"
    }
   },
   "outputs": [],
   "source": [
    "days = pd.date_range('1/1/2015',periods=T,freq='d')"
   ]
  },
  {
   "cell_type": "markdown",
   "metadata": {
    "slideshow": {
     "slide_type": "skip"
    }
   },
   "source": [
    "We will return to datetime functionality in Pandas later.  Another option for working with datetimes is the ``datetime`` package, which has the date, time, and datetime types and a timedelta object for increments of time.  To see the specifics of the ``datetime`` package you can look at https://docs.python.org/3.7/library/datetime.html  \n",
    "\n",
    "The resulting list contains the dates, for example,"
   ]
  },
  {
   "cell_type": "code",
   "execution_count": 47,
   "metadata": {
    "slideshow": {
     "slide_type": "fragment"
    }
   },
   "outputs": [
    {
     "data": {
      "text/plain": [
       "Timestamp('2016-08-23 00:00:00', freq='D')"
      ]
     },
     "execution_count": 47,
     "metadata": {},
     "output_type": "execute_result"
    }
   ],
   "source": [
    "days[600]"
   ]
  },
  {
   "cell_type": "markdown",
   "metadata": {
    "slideshow": {
     "slide_type": "skip"
    }
   },
   "source": [
    "We can initialize a series with a 1D array and an index sequence.  If you omit the index then it will index with the row number.  You can also initialize with dictionaries where the index values are the keys and the values are the data."
   ]
  },
  {
   "cell_type": "code",
   "execution_count": 48,
   "metadata": {
    "slideshow": {
     "slide_type": "fragment"
    }
   },
   "outputs": [],
   "source": [
    "stock = pd.Series(brown,index=days)"
   ]
  },
  {
   "cell_type": "markdown",
   "metadata": {
    "slideshow": {
     "slide_type": "skip"
    }
   },
   "source": [
    "The Series object should be thought of as a vector of data where each value is attached to an index value.  Series operations will preserve the indices when they can.  You can slice a series as if it were an array; in the following, we look at every seventh day in the first 100 days."
   ]
  },
  {
   "cell_type": "code",
   "execution_count": 49,
   "metadata": {
    "slideshow": {
     "slide_type": "slide"
    }
   },
   "outputs": [
    {
     "data": {
      "text/plain": [
       "2015-01-01   -0.132526\n",
       "2015-01-08    3.900432\n",
       "2015-01-15    7.371181\n",
       "2015-01-22    6.224340\n",
       "2015-01-29    3.449301\n",
       "2015-02-05    1.346746\n",
       "2015-02-12    2.084879\n",
       "2015-02-19   -0.752967\n",
       "2015-02-26   -0.983502\n",
       "2015-03-05   -0.575965\n",
       "2015-03-12    1.140087\n",
       "2015-03-19   -2.205040\n",
       "2015-03-26   -2.214539\n",
       "2015-04-02   -1.170000\n",
       "2015-04-09   -1.984565\n",
       "Freq: 7D, dtype: float64"
      ]
     },
     "execution_count": 49,
     "metadata": {},
     "output_type": "execute_result"
    }
   ],
   "source": [
    "stock[:100:7]"
   ]
  },
  {
   "cell_type": "markdown",
   "metadata": {
    "slideshow": {
     "slide_type": "skip"
    }
   },
   "source": [
    "Due to the indexing, we can also think of this as a dictionary, as in the following."
   ]
  },
  {
   "cell_type": "code",
   "execution_count": 50,
   "metadata": {
    "slideshow": {
     "slide_type": "fragment"
    }
   },
   "outputs": [
    {
     "data": {
      "text/plain": [
       "11.191250684953793"
      ]
     },
     "execution_count": 50,
     "metadata": {},
     "output_type": "execute_result"
    }
   ],
   "source": [
    "stock['2016/7/27']"
   ]
  },
  {
   "cell_type": "markdown",
   "metadata": {
    "slideshow": {
     "slide_type": "skip"
    }
   },
   "source": [
    "One of the key features that makes the series different from an array is that operations between two series will align the indices.  For example, suppose that we have bought 100 shares of another stock on Jan 1, 2016, which we can simulate as well.  As usual, since we are reusing code, let's wrap it up in a function which we could put in a module."
   ]
  },
  {
   "cell_type": "code",
   "execution_count": 51,
   "metadata": {
    "collapsed": true,
    "slideshow": {
     "slide_type": "slide"
    }
   },
   "outputs": [],
   "source": [
    "def stock_sim(T,day1):\n",
    "    \"\"\"Simulate a stock for T days starting from day1\"\"\"\n",
    "    innov = np.random.normal(0,1,T)\n",
    "    brown = np.cumsum(innov)\n",
    "    days = pd.date_range(day1,periods=T,freq='d')\n",
    "    return pd.Series(brown,index=days)"
   ]
  },
  {
   "cell_type": "code",
   "execution_count": 52,
   "metadata": {
    "slideshow": {
     "slide_type": "slide"
    }
   },
   "outputs": [],
   "source": [
    "T = 1000 - 365\n",
    "day1 = '2016/1/1'\n",
    "stock_2 = stock_sim(T,day1)"
   ]
  },
  {
   "cell_type": "markdown",
   "metadata": {
    "slideshow": {
     "slide_type": "skip"
    }
   },
   "source": [
    "For each date we would like to see the difference between the value of the portfolio and the amount we spent on the portfolio.  This is proportional to the sum of the two changes in stock price since we have bought even amounts of each stock."
   ]
  },
  {
   "cell_type": "code",
   "execution_count": 65,
   "metadata": {
    "slideshow": {
     "slide_type": "fragment"
    }
   },
   "outputs": [],
   "source": [
    "portfolio = stock.add(stock_2,fill_value=0)"
   ]
  },
  {
   "cell_type": "markdown",
   "metadata": {
    "slideshow": {
     "slide_type": "skip"
    }
   },
   "source": [
    "``stock`` and ``stock_2`` have different lengths but we are able to add them because the indices can be matched.  So after 2016 the change in value of stock 2 is added to stock 1 since that will correspond to the change in portfolio value.  We had to specify a ``fill_value`` of 0 otherwise it would try report the portfolio value as missing before 2016.  We can plot this."
   ]
  },
  {
   "cell_type": "code",
   "execution_count": 67,
   "metadata": {
    "slideshow": {
     "slide_type": "slide"
    }
   },
   "outputs": [
    {
     "data": {
      "image/png": "[encoded data removed]",
      "text/plain": [
       "<matplotlib.figure.Figure at 0x7f41ff3be3c8>"
      ]
     },
     "metadata": {},
     "output_type": "display_data"
    }
   ],
   "source": [
    "# See next chapter\n",
    "ax = portfolio.plot(title=\"Portfolio gain\")\n",
    "ax.figure.autofmt_xdate()\n",
    "plt.show()"
   ]
  },
  {
   "cell_type": "markdown",
   "metadata": {
    "slideshow": {
     "slide_type": "skip"
    }
   },
   "source": [
    "### Dataframe\n",
    "\n",
    "You should think of a dataframe as a collection of series objects with a common index.\n",
    "Each series in the dataframe has a different name, and they should be thought of as different variables.  We can initialize the dataframe with a dictionary mapping names to series objects."
   ]
  },
  {
   "cell_type": "code",
   "execution_count": 68,
   "metadata": {
    "collapsed": true,
    "slideshow": {
     "slide_type": "slide"
    }
   },
   "outputs": [],
   "source": [
    "port_df = pd.DataFrame({'stock 1':stock,'stock 2':stock_2,'portfolio':portfolio})"
   ]
  },
  {
   "cell_type": "markdown",
   "metadata": {
    "slideshow": {
     "slide_type": "skip"
    }
   },
   "source": [
    "If we had passed arrays instead of series then the default index of the row numbers would be used.  You can also pass a 2D array and specify the ``indices`` and ``columns`` arguments.  There are other ways to initialize a dataframe, such as from lists of tuples and lists of dictionaries.\n",
    "\n",
    "We can view the first few rows of any dataframe with the ``head`` method."
   ]
  },
  {
   "cell_type": "code",
   "execution_count": 70,
   "metadata": {
    "slideshow": {
     "slide_type": "fragment"
    }
   },
   "outputs": [
    {
     "data": {
      "text/html": [
       "<div>\n",
       "<style scoped>\n",
       "    .dataframe tbody tr th:only-of-type {\n",
       "        vertical-align: middle;\n",
       "    }\n",
       "\n",
       "    .dataframe tbody tr th {\n",
       "        vertical-align: top;\n",
       "    }\n",
       "\n",
       "    .dataframe thead th {\n",
       "        text-align: right;\n",
       "    }\n",
       "</style>\n",
       "<table border=\"1\" class=\"dataframe\">\n",
       "  <thead>\n",
       "    <tr style=\"text-align: right;\">\n",
       "      <th></th>\n",
       "      <th>stock 1</th>\n",
       "      <th>stock 2</th>\n",
       "      <th>portfolio</th>\n",
       "    </tr>\n",
       "  </thead>\n",
       "  <tbody>\n",
       "    <tr>\n",
       "      <th>2015-01-01</th>\n",
       "      <td>-0.132526</td>\n",
       "      <td>NaN</td>\n",
       "      <td>-0.132526</td>\n",
       "    </tr>\n",
       "    <tr>\n",
       "      <th>2015-01-02</th>\n",
       "      <td>-0.087030</td>\n",
       "      <td>NaN</td>\n",
       "      <td>-0.087030</td>\n",
       "    </tr>\n",
       "    <tr>\n",
       "      <th>2015-01-03</th>\n",
       "      <td>-1.578688</td>\n",
       "      <td>NaN</td>\n",
       "      <td>-1.578688</td>\n",
       "    </tr>\n",
       "    <tr>\n",
       "      <th>2015-01-04</th>\n",
       "      <td>-0.240958</td>\n",
       "      <td>NaN</td>\n",
       "      <td>-0.240958</td>\n",
       "    </tr>\n",
       "    <tr>\n",
       "      <th>2015-01-05</th>\n",
       "      <td>1.170581</td>\n",
       "      <td>NaN</td>\n",
       "      <td>1.170581</td>\n",
       "    </tr>\n",
       "  </tbody>\n",
       "</table>\n",
       "</div>"
      ],
      "text/plain": [
       "             stock 1  stock 2  portfolio\n",
       "2015-01-01 -0.132526      NaN  -0.132526\n",
       "2015-01-02 -0.087030      NaN  -0.087030\n",
       "2015-01-03 -1.578688      NaN  -1.578688\n",
       "2015-01-04 -0.240958      NaN  -0.240958\n",
       "2015-01-05  1.170581      NaN   1.170581"
      ]
     },
     "execution_count": 70,
     "metadata": {},
     "output_type": "execute_result"
    }
   ],
   "source": [
    "port_df.head()"
   ]
  },
  {
   "cell_type": "markdown",
   "metadata": {
    "slideshow": {
     "slide_type": "skip"
    }
   },
   "source": [
    "We see that stock 2 was filled with NaN values.  We can also get at the indices and names via"
   ]
  },
  {
   "cell_type": "code",
   "execution_count": 77,
   "metadata": {
    "slideshow": {
     "slide_type": "slide"
    }
   },
   "outputs": [
    {
     "name": "stdout",
     "output_type": "stream",
     "text": [
      "DatetimeIndex(['2015-01-01', '2015-01-02', '2015-01-03', '2015-01-04',\n",
      "               '2015-01-05', '2015-01-06', '2015-01-07'],\n",
      "              dtype='datetime64[ns]', freq='D')\n",
      "Index(['stock 1', 'stock 2', 'portfolio'], dtype='object')\n"
     ]
    }
   ],
   "source": [
    "print(port_df.index[:7])\n",
    "print(port_df.columns)"
   ]
  },
  {
   "cell_type": "markdown",
   "metadata": {
    "slideshow": {
     "slide_type": "slide"
    }
   },
   "source": [
    "Accessing elements in a dataframe differs from arrays in the following ways:\n",
    "\n",
    "- dataframes act like dictionaries from the column names to the column\n",
    "- slicing is done over the row indices\n",
    "- to access elements use .loc"
   ]
  },
  {
   "cell_type": "code",
   "execution_count": 79,
   "metadata": {
    "slideshow": {
     "slide_type": "slide"
    }
   },
   "outputs": [
    {
     "data": {
      "text/plain": [
       "2015-01-01   -0.132526\n",
       "2015-01-02   -0.087030\n",
       "2015-01-03   -1.578688\n",
       "2015-01-04   -0.240958\n",
       "2015-01-05    1.170581\n",
       "Freq: D, Name: stock 1, dtype: float64"
      ]
     },
     "execution_count": 79,
     "metadata": {},
     "output_type": "execute_result"
    }
   ],
   "source": [
    "port_df['stock 1'].head() # this returns the column"
   ]
  },
  {
   "cell_type": "code",
   "execution_count": 86,
   "metadata": {
    "slideshow": {
     "slide_type": "slide"
    }
   },
   "outputs": [
    {
     "data": {
      "text/html": [
       "<div>\n",
       "<style scoped>\n",
       "    .dataframe tbody tr th:only-of-type {\n",
       "        vertical-align: middle;\n",
       "    }\n",
       "\n",
       "    .dataframe tbody tr th {\n",
       "        vertical-align: top;\n",
       "    }\n",
       "\n",
       "    .dataframe thead th {\n",
       "        text-align: right;\n",
       "    }\n",
       "</style>\n",
       "<table border=\"1\" class=\"dataframe\">\n",
       "  <thead>\n",
       "    <tr style=\"text-align: right;\">\n",
       "      <th></th>\n",
       "      <th>stock 1</th>\n",
       "      <th>stock 2</th>\n",
       "      <th>portfolio</th>\n",
       "    </tr>\n",
       "  </thead>\n",
       "  <tbody>\n",
       "    <tr>\n",
       "      <th>2015-01-01</th>\n",
       "      <td>-0.132526</td>\n",
       "      <td>NaN</td>\n",
       "      <td>-0.132526</td>\n",
       "    </tr>\n",
       "    <tr>\n",
       "      <th>2015-01-02</th>\n",
       "      <td>-0.087030</td>\n",
       "      <td>NaN</td>\n",
       "      <td>-0.087030</td>\n",
       "    </tr>\n",
       "    <tr>\n",
       "      <th>2015-01-03</th>\n",
       "      <td>-1.578688</td>\n",
       "      <td>NaN</td>\n",
       "      <td>-1.578688</td>\n",
       "    </tr>\n",
       "    <tr>\n",
       "      <th>2015-01-04</th>\n",
       "      <td>-0.240958</td>\n",
       "      <td>NaN</td>\n",
       "      <td>-0.240958</td>\n",
       "    </tr>\n",
       "    <tr>\n",
       "      <th>2015-01-05</th>\n",
       "      <td>1.170581</td>\n",
       "      <td>NaN</td>\n",
       "      <td>1.170581</td>\n",
       "    </tr>\n",
       "  </tbody>\n",
       "</table>\n",
       "</div>"
      ],
      "text/plain": [
       "             stock 1  stock 2  portfolio\n",
       "2015-01-01 -0.132526      NaN  -0.132526\n",
       "2015-01-02 -0.087030      NaN  -0.087030\n",
       "2015-01-03 -1.578688      NaN  -1.578688\n",
       "2015-01-04 -0.240958      NaN  -0.240958\n",
       "2015-01-05  1.170581      NaN   1.170581"
      ]
     },
     "execution_count": 86,
     "metadata": {},
     "output_type": "execute_result"
    }
   ],
   "source": [
    "port_df['2015/1/1':'2016/1/1'].head() #this returns a slice of rows"
   ]
  },
  {
   "cell_type": "markdown",
   "metadata": {
    "slideshow": {
     "slide_type": "skip"
    }
   },
   "source": [
    "Boolean fancy indexing works in the place of the slice above as well, for example, we can select rows with a boolean series,"
   ]
  },
  {
   "cell_type": "code",
   "execution_count": 88,
   "metadata": {
    "slideshow": {
     "slide_type": "slide"
    }
   },
   "outputs": [
    {
     "data": {
      "text/html": [
       "<div>\n",
       "<style scoped>\n",
       "    .dataframe tbody tr th:only-of-type {\n",
       "        vertical-align: middle;\n",
       "    }\n",
       "\n",
       "    .dataframe tbody tr th {\n",
       "        vertical-align: top;\n",
       "    }\n",
       "\n",
       "    .dataframe thead th {\n",
       "        text-align: right;\n",
       "    }\n",
       "</style>\n",
       "<table border=\"1\" class=\"dataframe\">\n",
       "  <thead>\n",
       "    <tr style=\"text-align: right;\">\n",
       "      <th></th>\n",
       "      <th>stock 1</th>\n",
       "      <th>stock 2</th>\n",
       "      <th>portfolio</th>\n",
       "    </tr>\n",
       "  </thead>\n",
       "  <tbody>\n",
       "    <tr>\n",
       "      <th>2016-01-01</th>\n",
       "      <td>8.154289</td>\n",
       "      <td>0.702001</td>\n",
       "      <td>8.856290</td>\n",
       "    </tr>\n",
       "    <tr>\n",
       "      <th>2016-01-12</th>\n",
       "      <td>3.746795</td>\n",
       "      <td>0.412568</td>\n",
       "      <td>4.159364</td>\n",
       "    </tr>\n",
       "    <tr>\n",
       "      <th>2016-01-13</th>\n",
       "      <td>1.930705</td>\n",
       "      <td>0.585910</td>\n",
       "      <td>2.516615</td>\n",
       "    </tr>\n",
       "    <tr>\n",
       "      <th>2016-01-18</th>\n",
       "      <td>-2.250490</td>\n",
       "      <td>0.158522</td>\n",
       "      <td>-2.091968</td>\n",
       "    </tr>\n",
       "    <tr>\n",
       "      <th>2016-01-19</th>\n",
       "      <td>-1.874360</td>\n",
       "      <td>0.796581</td>\n",
       "      <td>-1.077779</td>\n",
       "    </tr>\n",
       "  </tbody>\n",
       "</table>\n",
       "</div>"
      ],
      "text/plain": [
       "             stock 1   stock 2  portfolio\n",
       "2016-01-01  8.154289  0.702001   8.856290\n",
       "2016-01-12  3.746795  0.412568   4.159364\n",
       "2016-01-13  1.930705  0.585910   2.516615\n",
       "2016-01-18 -2.250490  0.158522  -2.091968\n",
       "2016-01-19 -1.874360  0.796581  -1.077779"
      ]
     },
     "execution_count": 88,
     "metadata": {},
     "output_type": "execute_result"
    }
   ],
   "source": [
    "port_df[port_df['portfolio'] > port_df['stock 1']].head()"
   ]
  },
  {
   "cell_type": "markdown",
   "metadata": {
    "slideshow": {
     "slide_type": "skip"
    }
   },
   "source": [
    "which will find the elements in which the portfolio is better off than just our share in stock 1.  The comparison between the portfolio and stock 1 is not quite fair because we invested more money in the portfolio.  We can create new columns via the following assignment,"
   ]
  },
  {
   "cell_type": "code",
   "execution_count": 94,
   "metadata": {
    "slideshow": {
     "slide_type": "slide"
    }
   },
   "outputs": [
    {
     "data": {
      "text/html": [
       "<div>\n",
       "<style scoped>\n",
       "    .dataframe tbody tr th:only-of-type {\n",
       "        vertical-align: middle;\n",
       "    }\n",
       "\n",
       "    .dataframe tbody tr th {\n",
       "        vertical-align: top;\n",
       "    }\n",
       "\n",
       "    .dataframe thead th {\n",
       "        text-align: right;\n",
       "    }\n",
       "</style>\n",
       "<table border=\"1\" class=\"dataframe\">\n",
       "  <thead>\n",
       "    <tr style=\"text-align: right;\">\n",
       "      <th></th>\n",
       "      <th>stock 1</th>\n",
       "      <th>stock 2</th>\n",
       "      <th>portfolio</th>\n",
       "      <th>stock 1 sim</th>\n",
       "    </tr>\n",
       "  </thead>\n",
       "  <tbody>\n",
       "    <tr>\n",
       "      <th>2016-01-16</th>\n",
       "      <td>-2.004913</td>\n",
       "      <td>-1.310433</td>\n",
       "      <td>-3.315347</td>\n",
       "      <td>-4.009827</td>\n",
       "    </tr>\n",
       "    <tr>\n",
       "      <th>2016-01-17</th>\n",
       "      <td>-2.863114</td>\n",
       "      <td>-0.532889</td>\n",
       "      <td>-3.396003</td>\n",
       "      <td>-5.726228</td>\n",
       "    </tr>\n",
       "    <tr>\n",
       "      <th>2016-01-18</th>\n",
       "      <td>-2.250490</td>\n",
       "      <td>0.158522</td>\n",
       "      <td>-2.091968</td>\n",
       "      <td>-4.500980</td>\n",
       "    </tr>\n",
       "    <tr>\n",
       "      <th>2016-01-19</th>\n",
       "      <td>-1.874360</td>\n",
       "      <td>0.796581</td>\n",
       "      <td>-1.077779</td>\n",
       "      <td>-3.748719</td>\n",
       "    </tr>\n",
       "    <tr>\n",
       "      <th>2016-01-20</th>\n",
       "      <td>-1.835044</td>\n",
       "      <td>1.822567</td>\n",
       "      <td>-0.012477</td>\n",
       "      <td>-3.670089</td>\n",
       "    </tr>\n",
       "  </tbody>\n",
       "</table>\n",
       "</div>"
      ],
      "text/plain": [
       "             stock 1   stock 2  portfolio  stock 1 sim\n",
       "2016-01-16 -2.004913 -1.310433  -3.315347    -4.009827\n",
       "2016-01-17 -2.863114 -0.532889  -3.396003    -5.726228\n",
       "2016-01-18 -2.250490  0.158522  -2.091968    -4.500980\n",
       "2016-01-19 -1.874360  0.796581  -1.077779    -3.748719\n",
       "2016-01-20 -1.835044  1.822567  -0.012477    -3.670089"
      ]
     },
     "execution_count": 94,
     "metadata": {},
     "output_type": "execute_result"
    }
   ],
   "source": [
    "s1sim = port_df['stock 1'].add(port_df['stock 1']['2016/1/1':],fill_value=0)\n",
    "port_df['stock 1 sim'] = s1sim\n",
    "port_df[port_df['portfolio'] > port_df['stock 1 sim']].head()"
   ]
  },
  {
   "cell_type": "markdown",
   "metadata": {
    "slideshow": {
     "slide_type": "skip"
    }
   },
   "source": [
    "We added the value of stock 1 after 2016 to all of stock 1 to see what the price would be if we invested in stock 1 again on Jan 1, 2016.  If we wanted to select instead a specific date, we would need to use the ``loc`` method, "
   ]
  },
  {
   "cell_type": "code",
   "execution_count": 95,
   "metadata": {
    "slideshow": {
     "slide_type": "slide"
    }
   },
   "outputs": [
    {
     "data": {
      "text/plain": [
       "stock 1        11.191251\n",
       "stock 2         2.867483\n",
       "portfolio      14.058734\n",
       "stock 1 sim    22.382501\n",
       "Name: 2016-07-27 00:00:00, dtype: float64"
      ]
     },
     "execution_count": 95,
     "metadata": {},
     "output_type": "execute_result"
    }
   ],
   "source": [
    "port_df.loc['2016/7/27']"
   ]
  },
  {
   "cell_type": "markdown",
   "metadata": {
    "slideshow": {
     "slide_type": "skip"
    }
   },
   "source": [
    "We can select and slice the dataframe as if it were a Numpy array using the ``iloc`` method,"
   ]
  },
  {
   "cell_type": "code",
   "execution_count": 96,
   "metadata": {
    "slideshow": {
     "slide_type": "slide"
    }
   },
   "outputs": [
    {
     "data": {
      "text/html": [
       "<div>\n",
       "<style scoped>\n",
       "    .dataframe tbody tr th:only-of-type {\n",
       "        vertical-align: middle;\n",
       "    }\n",
       "\n",
       "    .dataframe tbody tr th {\n",
       "        vertical-align: top;\n",
       "    }\n",
       "\n",
       "    .dataframe thead th {\n",
       "        text-align: right;\n",
       "    }\n",
       "</style>\n",
       "<table border=\"1\" class=\"dataframe\">\n",
       "  <thead>\n",
       "    <tr style=\"text-align: right;\">\n",
       "      <th></th>\n",
       "      <th>stock 1</th>\n",
       "      <th>stock 2</th>\n",
       "      <th>portfolio</th>\n",
       "    </tr>\n",
       "  </thead>\n",
       "  <tbody>\n",
       "    <tr>\n",
       "      <th>2016-02-05</th>\n",
       "      <td>-3.581697</td>\n",
       "      <td>6.968880</td>\n",
       "      <td>3.387182</td>\n",
       "    </tr>\n",
       "    <tr>\n",
       "      <th>2016-02-06</th>\n",
       "      <td>-3.854760</td>\n",
       "      <td>6.472026</td>\n",
       "      <td>2.617266</td>\n",
       "    </tr>\n",
       "    <tr>\n",
       "      <th>2016-02-07</th>\n",
       "      <td>-2.697462</td>\n",
       "      <td>7.555933</td>\n",
       "      <td>4.858471</td>\n",
       "    </tr>\n",
       "    <tr>\n",
       "      <th>2016-02-08</th>\n",
       "      <td>-4.389190</td>\n",
       "      <td>10.106156</td>\n",
       "      <td>5.716965</td>\n",
       "    </tr>\n",
       "    <tr>\n",
       "      <th>2016-02-09</th>\n",
       "      <td>-4.027021</td>\n",
       "      <td>8.067919</td>\n",
       "      <td>4.040898</td>\n",
       "    </tr>\n",
       "  </tbody>\n",
       "</table>\n",
       "</div>"
      ],
      "text/plain": [
       "             stock 1    stock 2  portfolio\n",
       "2016-02-05 -3.581697   6.968880   3.387182\n",
       "2016-02-06 -3.854760   6.472026   2.617266\n",
       "2016-02-07 -2.697462   7.555933   4.858471\n",
       "2016-02-08 -4.389190  10.106156   5.716965\n",
       "2016-02-09 -4.027021   8.067919   4.040898"
      ]
     },
     "execution_count": 96,
     "metadata": {},
     "output_type": "execute_result"
    }
   ],
   "source": [
    "port_df.iloc[400:405,0:3]"
   ]
  },
  {
   "cell_type": "markdown",
   "metadata": {
    "slideshow": {
     "slide_type": "slide"
    }
   },
   "source": [
    "Other things to be aware of are \n",
    "\n",
    "- the ``info`` method which provides the types and information of the columns,\n",
    "- many elementwise Numpy operations can be performed on series and dataframes, such as ``np.exp``\n",
    "- Pandas has many of the same descriptive statistics such as ``dataframe.mean()`` including ``min, max, std, count,...``\n",
    "\n",
    "We can see many of the descriptive statistics with the ``describe`` method."
   ]
  },
  {
   "cell_type": "code",
   "execution_count": 97,
   "metadata": {
    "slideshow": {
     "slide_type": "slide"
    }
   },
   "outputs": [
    {
     "data": {
      "text/html": [
       "<div>\n",
       "<style scoped>\n",
       "    .dataframe tbody tr th:only-of-type {\n",
       "        vertical-align: middle;\n",
       "    }\n",
       "\n",
       "    .dataframe tbody tr th {\n",
       "        vertical-align: top;\n",
       "    }\n",
       "\n",
       "    .dataframe thead th {\n",
       "        text-align: right;\n",
       "    }\n",
       "</style>\n",
       "<table border=\"1\" class=\"dataframe\">\n",
       "  <thead>\n",
       "    <tr style=\"text-align: right;\">\n",
       "      <th></th>\n",
       "      <th>stock 1</th>\n",
       "      <th>stock 2</th>\n",
       "      <th>portfolio</th>\n",
       "      <th>stock 1 sim</th>\n",
       "    </tr>\n",
       "  </thead>\n",
       "  <tbody>\n",
       "    <tr>\n",
       "      <th>count</th>\n",
       "      <td>1000.000000</td>\n",
       "      <td>635.000000</td>\n",
       "      <td>1000.000000</td>\n",
       "      <td>1000.000000</td>\n",
       "    </tr>\n",
       "    <tr>\n",
       "      <th>mean</th>\n",
       "      <td>2.209039</td>\n",
       "      <td>8.755110</td>\n",
       "      <td>7.768534</td>\n",
       "      <td>2.802033</td>\n",
       "    </tr>\n",
       "    <tr>\n",
       "      <th>std</th>\n",
       "      <td>6.782089</td>\n",
       "      <td>9.029220</td>\n",
       "      <td>11.534137</td>\n",
       "      <td>12.119164</td>\n",
       "    </tr>\n",
       "    <tr>\n",
       "      <th>min</th>\n",
       "      <td>-13.394813</td>\n",
       "      <td>-14.372408</td>\n",
       "      <td>-20.329462</td>\n",
       "      <td>-26.789627</td>\n",
       "    </tr>\n",
       "    <tr>\n",
       "      <th>25%</th>\n",
       "      <td>-2.834049</td>\n",
       "      <td>3.965685</td>\n",
       "      <td>0.280122</td>\n",
       "      <td>-4.962457</td>\n",
       "    </tr>\n",
       "    <tr>\n",
       "      <th>50%</th>\n",
       "      <td>3.748605</td>\n",
       "      <td>11.666626</td>\n",
       "      <td>7.178422</td>\n",
       "      <td>4.646818</td>\n",
       "    </tr>\n",
       "    <tr>\n",
       "      <th>75%</th>\n",
       "      <td>7.014775</td>\n",
       "      <td>15.381508</td>\n",
       "      <td>16.705302</td>\n",
       "      <td>10.896449</td>\n",
       "    </tr>\n",
       "    <tr>\n",
       "      <th>max</th>\n",
       "      <td>16.995441</td>\n",
       "      <td>23.052934</td>\n",
       "      <td>32.141200</td>\n",
       "      <td>29.696000</td>\n",
       "    </tr>\n",
       "  </tbody>\n",
       "</table>\n",
       "</div>"
      ],
      "text/plain": [
       "           stock 1     stock 2    portfolio  stock 1 sim\n",
       "count  1000.000000  635.000000  1000.000000  1000.000000\n",
       "mean      2.209039    8.755110     7.768534     2.802033\n",
       "std       6.782089    9.029220    11.534137    12.119164\n",
       "min     -13.394813  -14.372408   -20.329462   -26.789627\n",
       "25%      -2.834049    3.965685     0.280122    -4.962457\n",
       "50%       3.748605   11.666626     7.178422     4.646818\n",
       "75%       7.014775   15.381508    16.705302    10.896449\n",
       "max      16.995441   23.052934    32.141200    29.696000"
      ]
     },
     "execution_count": 97,
     "metadata": {},
     "output_type": "execute_result"
    }
   ],
   "source": [
    "port_df.describe()"
   ]
  }
 ],
 "metadata": {
  "celltoolbar": "Slideshow",
  "kernelspec": {
   "display_name": "Python 3 (ipykernel)",
   "language": "python",
   "name": "python3"
  },
  "language_info": {
   "codemirror_mode": {
    "name": "ipython",
    "version": 3
   },
   "file_extension": ".py",
   "mimetype": "text/x-python",
   "name": "python",
   "nbconvert_exporter": "python",
   "pygments_lexer": "ipython3",
   "version": "3.8.10"
  }
 },
 "nbformat": 4,
 "nbformat_minor": 1
}
