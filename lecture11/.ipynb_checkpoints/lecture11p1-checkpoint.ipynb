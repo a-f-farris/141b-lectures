{
 "cells": [
  {
   "cell_type": "markdown",
   "metadata": {
    "slideshow": {
     "slide_type": "slide"
    }
   },
   "source": [
    "## 141B Lecture 11\n",
    "\n",
    "## Data Munging\n"
   ]
  },
  {
   "cell_type": "code",
   "execution_count": 1,
   "metadata": {
    "slideshow": {
     "slide_type": "fragment"
    }
   },
   "outputs": [],
   "source": [
    "import pandas as pd\n",
    "import numpy as np\n",
    "import matplotlib.pyplot as plt"
   ]
  },
  {
   "cell_type": "markdown",
   "metadata": {
    "slideshow": {
     "slide_type": "skip"
    }
   },
   "source": [
    "One might think that we have everything that we need to work with data.\n",
    "We can read data with built-in Python functions and we can store and manipulate that data with Numpy.\n",
    "Numpy is based around the Array, and Pandas is based around the DataFrame.\n",
    "Unlike the Array, the Dataframe treats each axis differently, with named columns and indexed rows.\n",
    "Pandas does this under the assumption that a DataFrame holds a large sample of a limited number of variables.\n",
    "Each column corresponds to a variable, while each row corresponds to an individual, time-point, or other index for repeated data.\n",
    "\n",
    "Due to this presumption, Pandas is able to optimize operations such as indexing, aggregation, and time series statistics.\n",
    "It also\thas great Input/Output tools for reading delimited data, working with databases, and HDF5 data.\t\n",
    "Pandas is built around the data types: DataFrames, Series.\n",
    "Roughly, a Series is a list of indices and values (think of a time series where the datatime is the index), and a DataFrame is a dictionary where the keys are the column names and the values are entire Series, and these Series have a common index.\n",
    "This is a high-level overview of Pandas, and for more syntax details see http://pandas.pydata.org/pandas-docs/stable/"
   ]
  },
  {
   "cell_type": "markdown",
   "metadata": {
    "slideshow": {
     "slide_type": "skip"
    }
   },
   "source": [
    "### Series\n",
    "\n",
    "Let's simulate a Brownian motion so that we can discuss Series objects.  You can see a plot of this below, we will go over data visualization in the next chapter."
   ]
  },
  {
   "cell_type": "code",
   "execution_count": 2,
   "metadata": {
    "slideshow": {
     "slide_type": "slide"
    }
   },
   "outputs": [],
   "source": [
    "T = 1000\n",
    "innov = np.random.normal(0,1,T)\n",
    "brown = np.cumsum(innov)"
   ]
  },
  {
   "cell_type": "code",
   "execution_count": 3,
   "metadata": {
    "slideshow": {
     "slide_type": "slide"
    }
   },
   "outputs": [
    {
     "data": {
      "image/png": "[encoded data removed]",
      "text/plain": [
       "<Figure size 432x288 with 1 Axes>"
      ]
     },
     "metadata": {
      "needs_background": "light"
     },
     "output_type": "display_data"
    }
   ],
   "source": [
    "plt.plot(brown)\n",
    "plt.show()"
   ]
  },
  {
   "cell_type": "markdown",
   "metadata": {
    "slideshow": {
     "slide_type": "skip"
    }
   },
   "source": [
    "Let's suppose that the above simulation represents the change in a stock price starting from Jan 1, 2015. Pandas provides a tool for making sequences of datetimes; the following makes a DateTimeIndex object."
   ]
  },
  {
   "cell_type": "code",
   "execution_count": 4,
   "metadata": {
    "slideshow": {
     "slide_type": "slide"
    }
   },
   "outputs": [],
   "source": [
    "days = pd.date_range('1/1/2015',periods=T,freq='d')"
   ]
  },
  {
   "cell_type": "markdown",
   "metadata": {
    "slideshow": {
     "slide_type": "skip"
    }
   },
   "source": [
    "We will return to datetime functionality in Pandas later.  Another option for working with datetimes is the ``datetime`` package, which has the date, time, and datetime types and a timedelta object for increments of time.  To see the specifics of the ``datetime`` package you can look at https://docs.python.org/3.7/library/datetime.html  \n",
    "\n",
    "The resulting list contains the dates, for example,"
   ]
  },
  {
   "cell_type": "code",
   "execution_count": 5,
   "metadata": {
    "slideshow": {
     "slide_type": "fragment"
    }
   },
   "outputs": [
    {
     "data": {
      "text/plain": [
       "Timestamp('2016-08-23 00:00:00', freq='D')"
      ]
     },
     "execution_count": 5,
     "metadata": {},
     "output_type": "execute_result"
    }
   ],
   "source": [
    "days[600]"
   ]
  },
  {
   "cell_type": "markdown",
   "metadata": {
    "slideshow": {
     "slide_type": "skip"
    }
   },
   "source": [
    "We can initialize a series with a 1D array and an index sequence.  If you omit the index then it will index with the row number.  You can also initialize with dictionaries where the index values are the keys and the values are the data."
   ]
  },
  {
   "cell_type": "code",
   "execution_count": 6,
   "metadata": {
    "slideshow": {
     "slide_type": "fragment"
    }
   },
   "outputs": [],
   "source": [
    "stock = pd.Series(brown,index=days)"
   ]
  },
  {
   "cell_type": "markdown",
   "metadata": {
    "slideshow": {
     "slide_type": "skip"
    }
   },
   "source": [
    "The Series object should be thought of as a vector of data where each value is attached to an index value.  Series operations will preserve the indices when they can.  You can slice a series as if it were an array; in the following, we look at every seventh day in the first 100 days."
   ]
  },
  {
   "cell_type": "code",
   "execution_count": 7,
   "metadata": {
    "slideshow": {
     "slide_type": "slide"
    }
   },
   "outputs": [
    {
     "data": {
      "text/plain": [
       "2015-01-01    1.716015\n",
       "2015-01-08    2.841195\n",
       "2015-01-15    0.663130\n",
       "2015-01-22    2.479183\n",
       "2015-01-29    1.431195\n",
       "2015-02-05    5.772854\n",
       "2015-02-12    2.918406\n",
       "2015-02-19    1.681542\n",
       "2015-02-26   -0.906079\n",
       "2015-03-05   -3.085700\n",
       "2015-03-12   -3.645269\n",
       "2015-03-19    1.984616\n",
       "2015-03-26   -0.647522\n",
       "2015-04-02   -2.931073\n",
       "2015-04-09   -2.003976\n",
       "Freq: 7D, dtype: float64"
      ]
     },
     "execution_count": 7,
     "metadata": {},
     "output_type": "execute_result"
    }
   ],
   "source": [
    "stock[:100:7]"
   ]
  },
  {
   "cell_type": "markdown",
   "metadata": {
    "slideshow": {
     "slide_type": "skip"
    }
   },
   "source": [
    "Due to the indexing, we can also think of this as a dictionary, as in the following."
   ]
  },
  {
   "cell_type": "code",
   "execution_count": 8,
   "metadata": {
    "slideshow": {
     "slide_type": "fragment"
    }
   },
   "outputs": [
    {
     "data": {
      "text/plain": [
       "12.782286188070643"
      ]
     },
     "execution_count": 8,
     "metadata": {},
     "output_type": "execute_result"
    }
   ],
   "source": [
    "stock['2016/7/27']"
   ]
  },
  {
   "cell_type": "markdown",
   "metadata": {
    "slideshow": {
     "slide_type": "skip"
    }
   },
   "source": [
    "One of the key features that makes the series different from an array is that operations between two series will align the indices.  For example, suppose that we have bought 100 shares of another stock on Jan 1, 2016, which we can simulate as well.  As usual, since we are reusing code, let's wrap it up in a function which we could put in a module."
   ]
  },
  {
   "cell_type": "code",
   "execution_count": 9,
   "metadata": {
    "slideshow": {
     "slide_type": "slide"
    }
   },
   "outputs": [],
   "source": [
    "def stock_sim(T,day1):\n",
    "    \"\"\"Simulate a stock for T days starting from day1\"\"\"\n",
    "    innov = np.random.normal(0,1,T)\n",
    "    brown = np.cumsum(innov)\n",
    "    days = pd.date_range(day1,periods=T,freq='d')\n",
    "    return pd.Series(brown,index=days)"
   ]
  },
  {
   "cell_type": "code",
   "execution_count": 10,
   "metadata": {
    "slideshow": {
     "slide_type": "slide"
    }
   },
   "outputs": [],
   "source": [
    "T = 1000 - 365\n",
    "day1 = '2016/1/1'\n",
    "stock_2 = stock_sim(T,day1)"
   ]
  },
  {
   "cell_type": "markdown",
   "metadata": {
    "slideshow": {
     "slide_type": "skip"
    }
   },
   "source": [
    "For each date we would like to see the difference between the value of the portfolio and the amount we spent on the portfolio.  This is proportional to the sum of the two changes in stock price since we have bought even amounts of each stock."
   ]
  },
  {
   "cell_type": "code",
   "execution_count": 11,
   "metadata": {
    "slideshow": {
     "slide_type": "fragment"
    }
   },
   "outputs": [],
   "source": [
    "portfolio = stock.add(stock_2,fill_value=0)"
   ]
  },
  {
   "cell_type": "markdown",
   "metadata": {
    "slideshow": {
     "slide_type": "skip"
    }
   },
   "source": [
    "``stock`` and ``stock_2`` have different lengths but we are able to add them because the indices can be matched.  So after 2016 the change in value of stock 2 is added to stock 1 since that will correspond to the change in portfolio value.  We had to specify a ``fill_value`` of 0 otherwise it would try report the portfolio value as missing before 2016.  We can plot this."
   ]
  },
  {
   "cell_type": "code",
   "execution_count": 12,
   "metadata": {
    "slideshow": {
     "slide_type": "slide"
    }
   },
   "outputs": [
    {
     "data": {
      "image/png": "[encoded data removed]",
      "text/plain": [
       "<Figure size 432x288 with 1 Axes>"
      ]
     },
     "metadata": {
      "needs_background": "light"
     },
     "output_type": "display_data"
    }
   ],
   "source": [
    "# See next chapter\n",
    "ax = portfolio.plot(title=\"Portfolio gain\")\n",
    "ax.figure.autofmt_xdate()\n",
    "plt.show()"
   ]
  },
  {
   "cell_type": "markdown",
   "metadata": {
    "slideshow": {
     "slide_type": "skip"
    }
   },
   "source": [
    "### Dataframe\n",
    "\n",
    "You should think of a dataframe as a collection of series objects with a common index.\n",
    "Each series in the dataframe has a different name, and they should be thought of as different variables.  We can initialize the dataframe with a dictionary mapping names to series objects."
   ]
  },
  {
   "cell_type": "code",
   "execution_count": 13,
   "metadata": {
    "slideshow": {
     "slide_type": "slide"
    }
   },
   "outputs": [],
   "source": [
    "port_df = pd.DataFrame({'stock 1':stock,'stock 2':stock_2,'portfolio':portfolio})"
   ]
  },
  {
   "cell_type": "markdown",
   "metadata": {
    "slideshow": {
     "slide_type": "skip"
    }
   },
   "source": [
    "If we had passed arrays instead of series then the default index of the row numbers would be used.  You can also pass a 2D array and specify the ``indices`` and ``columns`` arguments.  There are other ways to initialize a dataframe, such as from lists of tuples and lists of dictionaries.\n",
    "\n",
    "We can view the first few rows of any dataframe with the ``head`` method."
   ]
  },
  {
   "cell_type": "code",
   "execution_count": 14,
   "metadata": {
    "slideshow": {
     "slide_type": "fragment"
    }
   },
   "outputs": [
    {
     "data": {
      "text/html": [
       "<div>\n",
       "<style scoped>\n",
       "    .dataframe tbody tr th:only-of-type {\n",
       "        vertical-align: middle;\n",
       "    }\n",
       "\n",
       "    .dataframe tbody tr th {\n",
       "        vertical-align: top;\n",
       "    }\n",
       "\n",
       "    .dataframe thead th {\n",
       "        text-align: right;\n",
       "    }\n",
       "</style>\n",
       "<table border=\"1\" class=\"dataframe\">\n",
       "  <thead>\n",
       "    <tr style=\"text-align: right;\">\n",
       "      <th></th>\n",
       "      <th>stock 1</th>\n",
       "      <th>stock 2</th>\n",
       "      <th>portfolio</th>\n",
       "    </tr>\n",
       "  </thead>\n",
       "  <tbody>\n",
       "    <tr>\n",
       "      <th>2015-01-01</th>\n",
       "      <td>1.716015</td>\n",
       "      <td>NaN</td>\n",
       "      <td>1.716015</td>\n",
       "    </tr>\n",
       "    <tr>\n",
       "      <th>2015-01-02</th>\n",
       "      <td>3.134750</td>\n",
       "      <td>NaN</td>\n",
       "      <td>3.134750</td>\n",
       "    </tr>\n",
       "    <tr>\n",
       "      <th>2015-01-03</th>\n",
       "      <td>5.238548</td>\n",
       "      <td>NaN</td>\n",
       "      <td>5.238548</td>\n",
       "    </tr>\n",
       "    <tr>\n",
       "      <th>2015-01-04</th>\n",
       "      <td>2.308689</td>\n",
       "      <td>NaN</td>\n",
       "      <td>2.308689</td>\n",
       "    </tr>\n",
       "    <tr>\n",
       "      <th>2015-01-05</th>\n",
       "      <td>2.872132</td>\n",
       "      <td>NaN</td>\n",
       "      <td>2.872132</td>\n",
       "    </tr>\n",
       "  </tbody>\n",
       "</table>\n",
       "</div>"
      ],
      "text/plain": [
       "             stock 1  stock 2  portfolio\n",
       "2015-01-01  1.716015      NaN   1.716015\n",
       "2015-01-02  3.134750      NaN   3.134750\n",
       "2015-01-03  5.238548      NaN   5.238548\n",
       "2015-01-04  2.308689      NaN   2.308689\n",
       "2015-01-05  2.872132      NaN   2.872132"
      ]
     },
     "execution_count": 14,
     "metadata": {},
     "output_type": "execute_result"
    }
   ],
   "source": [
    "port_df.head()"
   ]
  },
  {
   "cell_type": "markdown",
   "metadata": {
    "slideshow": {
     "slide_type": "skip"
    }
   },
   "source": [
    "We see that stock 2 was filled with NaN values.  We can also get at the indices and names via"
   ]
  },
  {
   "cell_type": "code",
   "execution_count": 15,
   "metadata": {
    "slideshow": {
     "slide_type": "slide"
    }
   },
   "outputs": [
    {
     "name": "stdout",
     "output_type": "stream",
     "text": [
      "DatetimeIndex(['2015-01-01', '2015-01-02', '2015-01-03', '2015-01-04',\n",
      "               '2015-01-05', '2015-01-06', '2015-01-07'],\n",
      "              dtype='datetime64[ns]', freq='D')\n",
      "Index(['stock 1', 'stock 2', 'portfolio'], dtype='object')\n"
     ]
    }
   ],
   "source": [
    "print(port_df.index[:7])\n",
    "print(port_df.columns)"
   ]
  },
  {
   "cell_type": "markdown",
   "metadata": {
    "slideshow": {
     "slide_type": "slide"
    }
   },
   "source": [
    "Accessing elements in a dataframe differs from arrays in the following ways:\n",
    "\n",
    "- dataframes act like dictionaries from the column names to the column\n",
    "- slicing is done over the row indices\n",
    "- to access elements use .loc"
   ]
  },
  {
   "cell_type": "code",
   "execution_count": 16,
   "metadata": {
    "slideshow": {
     "slide_type": "slide"
    }
   },
   "outputs": [
    {
     "data": {
      "text/plain": [
       "2015-01-01    1.716015\n",
       "2015-01-02    3.134750\n",
       "2015-01-03    5.238548\n",
       "2015-01-04    2.308689\n",
       "2015-01-05    2.872132\n",
       "Freq: D, Name: stock 1, dtype: float64"
      ]
     },
     "execution_count": 16,
     "metadata": {},
     "output_type": "execute_result"
    }
   ],
   "source": [
    "port_df['stock 1'].head() # this returns the column"
   ]
  },
  {
   "cell_type": "code",
   "execution_count": 17,
   "metadata": {
    "slideshow": {
     "slide_type": "slide"
    }
   },
   "outputs": [
    {
     "data": {
      "text/html": [
       "<div>\n",
       "<style scoped>\n",
       "    .dataframe tbody tr th:only-of-type {\n",
       "        vertical-align: middle;\n",
       "    }\n",
       "\n",
       "    .dataframe tbody tr th {\n",
       "        vertical-align: top;\n",
       "    }\n",
       "\n",
       "    .dataframe thead th {\n",
       "        text-align: right;\n",
       "    }\n",
       "</style>\n",
       "<table border=\"1\" class=\"dataframe\">\n",
       "  <thead>\n",
       "    <tr style=\"text-align: right;\">\n",
       "      <th></th>\n",
       "      <th>stock 1</th>\n",
       "      <th>stock 2</th>\n",
       "      <th>portfolio</th>\n",
       "    </tr>\n",
       "  </thead>\n",
       "  <tbody>\n",
       "    <tr>\n",
       "      <th>2015-01-01</th>\n",
       "      <td>1.716015</td>\n",
       "      <td>NaN</td>\n",
       "      <td>1.716015</td>\n",
       "    </tr>\n",
       "    <tr>\n",
       "      <th>2015-01-02</th>\n",
       "      <td>3.134750</td>\n",
       "      <td>NaN</td>\n",
       "      <td>3.134750</td>\n",
       "    </tr>\n",
       "    <tr>\n",
       "      <th>2015-01-03</th>\n",
       "      <td>5.238548</td>\n",
       "      <td>NaN</td>\n",
       "      <td>5.238548</td>\n",
       "    </tr>\n",
       "    <tr>\n",
       "      <th>2015-01-04</th>\n",
       "      <td>2.308689</td>\n",
       "      <td>NaN</td>\n",
       "      <td>2.308689</td>\n",
       "    </tr>\n",
       "    <tr>\n",
       "      <th>2015-01-05</th>\n",
       "      <td>2.872132</td>\n",
       "      <td>NaN</td>\n",
       "      <td>2.872132</td>\n",
       "    </tr>\n",
       "  </tbody>\n",
       "</table>\n",
       "</div>"
      ],
      "text/plain": [
       "             stock 1  stock 2  portfolio\n",
       "2015-01-01  1.716015      NaN   1.716015\n",
       "2015-01-02  3.134750      NaN   3.134750\n",
       "2015-01-03  5.238548      NaN   5.238548\n",
       "2015-01-04  2.308689      NaN   2.308689\n",
       "2015-01-05  2.872132      NaN   2.872132"
      ]
     },
     "execution_count": 17,
     "metadata": {},
     "output_type": "execute_result"
    }
   ],
   "source": [
    "port_df['2015/1/1':'2016/1/1'].head() #this returns a slice of rows"
   ]
  },
  {
   "cell_type": "markdown",
   "metadata": {
    "slideshow": {
     "slide_type": "skip"
    }
   },
   "source": [
    "Boolean fancy indexing works in the place of the slice above as well, for example, we can select rows with a boolean series,"
   ]
  },
  {
   "cell_type": "code",
   "execution_count": 18,
   "metadata": {
    "slideshow": {
     "slide_type": "slide"
    }
   },
   "outputs": [
    {
     "data": {
      "text/html": [
       "<div>\n",
       "<style scoped>\n",
       "    .dataframe tbody tr th:only-of-type {\n",
       "        vertical-align: middle;\n",
       "    }\n",
       "\n",
       "    .dataframe tbody tr th {\n",
       "        vertical-align: top;\n",
       "    }\n",
       "\n",
       "    .dataframe thead th {\n",
       "        text-align: right;\n",
       "    }\n",
       "</style>\n",
       "<table border=\"1\" class=\"dataframe\">\n",
       "  <thead>\n",
       "    <tr style=\"text-align: right;\">\n",
       "      <th></th>\n",
       "      <th>stock 1</th>\n",
       "      <th>stock 2</th>\n",
       "      <th>portfolio</th>\n",
       "    </tr>\n",
       "  </thead>\n",
       "  <tbody>\n",
       "    <tr>\n",
       "      <th>2016-01-01</th>\n",
       "      <td>8.560254</td>\n",
       "      <td>0.115453</td>\n",
       "      <td>8.675708</td>\n",
       "    </tr>\n",
       "    <tr>\n",
       "      <th>2016-01-12</th>\n",
       "      <td>5.333871</td>\n",
       "      <td>1.038811</td>\n",
       "      <td>6.372683</td>\n",
       "    </tr>\n",
       "    <tr>\n",
       "      <th>2016-01-13</th>\n",
       "      <td>6.079132</td>\n",
       "      <td>1.467496</td>\n",
       "      <td>7.546627</td>\n",
       "    </tr>\n",
       "    <tr>\n",
       "      <th>2016-01-14</th>\n",
       "      <td>7.780583</td>\n",
       "      <td>1.575427</td>\n",
       "      <td>9.356010</td>\n",
       "    </tr>\n",
       "    <tr>\n",
       "      <th>2016-01-15</th>\n",
       "      <td>9.260823</td>\n",
       "      <td>2.253576</td>\n",
       "      <td>11.514399</td>\n",
       "    </tr>\n",
       "  </tbody>\n",
       "</table>\n",
       "</div>"
      ],
      "text/plain": [
       "             stock 1   stock 2  portfolio\n",
       "2016-01-01  8.560254  0.115453   8.675708\n",
       "2016-01-12  5.333871  1.038811   6.372683\n",
       "2016-01-13  6.079132  1.467496   7.546627\n",
       "2016-01-14  7.780583  1.575427   9.356010\n",
       "2016-01-15  9.260823  2.253576  11.514399"
      ]
     },
     "execution_count": 18,
     "metadata": {},
     "output_type": "execute_result"
    }
   ],
   "source": [
    "port_df[port_df['portfolio'] > port_df['stock 1']].head()"
   ]
  },
  {
   "cell_type": "markdown",
   "metadata": {
    "slideshow": {
     "slide_type": "skip"
    }
   },
   "source": [
    "which will find the elements in which the portfolio is better off than just our share in stock 1.  The comparison between the portfolio and stock 1 is not quite fair because we invested more money in the portfolio.  We can create new columns via the following assignment,"
   ]
  },
  {
   "cell_type": "code",
   "execution_count": 19,
   "metadata": {
    "slideshow": {
     "slide_type": "slide"
    }
   },
   "outputs": [
    {
     "data": {
      "text/html": [
       "<div>\n",
       "<style scoped>\n",
       "    .dataframe tbody tr th:only-of-type {\n",
       "        vertical-align: middle;\n",
       "    }\n",
       "\n",
       "    .dataframe tbody tr th {\n",
       "        vertical-align: top;\n",
       "    }\n",
       "\n",
       "    .dataframe thead th {\n",
       "        text-align: right;\n",
       "    }\n",
       "</style>\n",
       "<table border=\"1\" class=\"dataframe\">\n",
       "  <thead>\n",
       "    <tr style=\"text-align: right;\">\n",
       "      <th></th>\n",
       "      <th>stock 1</th>\n",
       "      <th>stock 2</th>\n",
       "      <th>portfolio</th>\n",
       "      <th>stock 1 sim</th>\n",
       "    </tr>\n",
       "  </thead>\n",
       "  <tbody>\n",
       "    <tr>\n",
       "      <th>2016-01-25</th>\n",
       "      <td>5.566959</td>\n",
       "      <td>5.897782</td>\n",
       "      <td>11.464741</td>\n",
       "      <td>11.133918</td>\n",
       "    </tr>\n",
       "    <tr>\n",
       "      <th>2016-01-26</th>\n",
       "      <td>6.676599</td>\n",
       "      <td>6.783943</td>\n",
       "      <td>13.460542</td>\n",
       "      <td>13.353198</td>\n",
       "    </tr>\n",
       "    <tr>\n",
       "      <th>2016-01-27</th>\n",
       "      <td>7.379763</td>\n",
       "      <td>9.461308</td>\n",
       "      <td>16.841070</td>\n",
       "      <td>14.759525</td>\n",
       "    </tr>\n",
       "    <tr>\n",
       "      <th>2016-01-28</th>\n",
       "      <td>7.682397</td>\n",
       "      <td>10.216684</td>\n",
       "      <td>17.899081</td>\n",
       "      <td>15.364794</td>\n",
       "    </tr>\n",
       "    <tr>\n",
       "      <th>2016-01-29</th>\n",
       "      <td>7.228278</td>\n",
       "      <td>9.295756</td>\n",
       "      <td>16.524034</td>\n",
       "      <td>14.456556</td>\n",
       "    </tr>\n",
       "  </tbody>\n",
       "</table>\n",
       "</div>"
      ],
      "text/plain": [
       "             stock 1    stock 2  portfolio  stock 1 sim\n",
       "2016-01-25  5.566959   5.897782  11.464741    11.133918\n",
       "2016-01-26  6.676599   6.783943  13.460542    13.353198\n",
       "2016-01-27  7.379763   9.461308  16.841070    14.759525\n",
       "2016-01-28  7.682397  10.216684  17.899081    15.364794\n",
       "2016-01-29  7.228278   9.295756  16.524034    14.456556"
      ]
     },
     "execution_count": 19,
     "metadata": {},
     "output_type": "execute_result"
    }
   ],
   "source": [
    "s1sim = port_df['stock 1'].add(port_df['stock 1']['2016/1/1':],fill_value=0)\n",
    "port_df['stock 1 sim'] = s1sim\n",
    "port_df[port_df['portfolio'] > port_df['stock 1 sim']].head()"
   ]
  },
  {
   "cell_type": "markdown",
   "metadata": {
    "slideshow": {
     "slide_type": "skip"
    }
   },
   "source": [
    "We added the value of stock 1 after 2016 to all of stock 1 to see what the price would be if we invested in stock 1 again on Jan 1, 2016.  If we wanted to select instead a specific date, we would need to use the ``loc`` method, "
   ]
  },
  {
   "cell_type": "code",
   "execution_count": 20,
   "metadata": {
    "slideshow": {
     "slide_type": "slide"
    }
   },
   "outputs": [
    {
     "data": {
      "text/plain": [
       "stock 1        12.782286\n",
       "stock 2         9.499296\n",
       "portfolio      22.281582\n",
       "stock 1 sim    25.564572\n",
       "Name: 2016-07-27 00:00:00, dtype: float64"
      ]
     },
     "execution_count": 20,
     "metadata": {},
     "output_type": "execute_result"
    }
   ],
   "source": [
    "port_df.loc['2016/7/27']"
   ]
  },
  {
   "cell_type": "markdown",
   "metadata": {
    "slideshow": {
     "slide_type": "skip"
    }
   },
   "source": [
    "We can select and slice the dataframe as if it were a Numpy array using the ``iloc`` method,"
   ]
  },
  {
   "cell_type": "code",
   "execution_count": 21,
   "metadata": {
    "slideshow": {
     "slide_type": "slide"
    }
   },
   "outputs": [
    {
     "data": {
      "text/html": [
       "<div>\n",
       "<style scoped>\n",
       "    .dataframe tbody tr th:only-of-type {\n",
       "        vertical-align: middle;\n",
       "    }\n",
       "\n",
       "    .dataframe tbody tr th {\n",
       "        vertical-align: top;\n",
       "    }\n",
       "\n",
       "    .dataframe thead th {\n",
       "        text-align: right;\n",
       "    }\n",
       "</style>\n",
       "<table border=\"1\" class=\"dataframe\">\n",
       "  <thead>\n",
       "    <tr style=\"text-align: right;\">\n",
       "      <th></th>\n",
       "      <th>stock 1</th>\n",
       "      <th>stock 2</th>\n",
       "      <th>portfolio</th>\n",
       "    </tr>\n",
       "  </thead>\n",
       "  <tbody>\n",
       "    <tr>\n",
       "      <th>2016-02-05</th>\n",
       "      <td>4.477208</td>\n",
       "      <td>9.228976</td>\n",
       "      <td>13.706185</td>\n",
       "    </tr>\n",
       "    <tr>\n",
       "      <th>2016-02-06</th>\n",
       "      <td>3.894809</td>\n",
       "      <td>10.841898</td>\n",
       "      <td>14.736707</td>\n",
       "    </tr>\n",
       "    <tr>\n",
       "      <th>2016-02-07</th>\n",
       "      <td>5.923513</td>\n",
       "      <td>13.431442</td>\n",
       "      <td>19.354955</td>\n",
       "    </tr>\n",
       "    <tr>\n",
       "      <th>2016-02-08</th>\n",
       "      <td>5.108110</td>\n",
       "      <td>12.278905</td>\n",
       "      <td>17.387016</td>\n",
       "    </tr>\n",
       "    <tr>\n",
       "      <th>2016-02-09</th>\n",
       "      <td>5.215039</td>\n",
       "      <td>12.366939</td>\n",
       "      <td>17.581978</td>\n",
       "    </tr>\n",
       "  </tbody>\n",
       "</table>\n",
       "</div>"
      ],
      "text/plain": [
       "             stock 1    stock 2  portfolio\n",
       "2016-02-05  4.477208   9.228976  13.706185\n",
       "2016-02-06  3.894809  10.841898  14.736707\n",
       "2016-02-07  5.923513  13.431442  19.354955\n",
       "2016-02-08  5.108110  12.278905  17.387016\n",
       "2016-02-09  5.215039  12.366939  17.581978"
      ]
     },
     "execution_count": 21,
     "metadata": {},
     "output_type": "execute_result"
    }
   ],
   "source": [
    "port_df.iloc[400:405,0:3]"
   ]
  },
  {
   "cell_type": "markdown",
   "metadata": {
    "slideshow": {
     "slide_type": "slide"
    }
   },
   "source": [
    "Other things to be aware of are \n",
    "\n",
    "- the ``info`` method which provides the types and information of the columns,\n",
    "- many elementwise Numpy operations can be performed on series and dataframes, such as ``np.exp``\n",
    "- Pandas has many of the same descriptive statistics such as ``dataframe.mean()`` including ``min, max, std, count,...``\n",
    "\n",
    "We can see many of the descriptive statistics with the ``describe`` method."
   ]
  },
  {
   "cell_type": "code",
   "execution_count": 22,
   "metadata": {
    "slideshow": {
     "slide_type": "slide"
    }
   },
   "outputs": [
    {
     "data": {
      "text/html": [
       "<div>\n",
       "<style scoped>\n",
       "    .dataframe tbody tr th:only-of-type {\n",
       "        vertical-align: middle;\n",
       "    }\n",
       "\n",
       "    .dataframe tbody tr th {\n",
       "        vertical-align: top;\n",
       "    }\n",
       "\n",
       "    .dataframe thead th {\n",
       "        text-align: right;\n",
       "    }\n",
       "</style>\n",
       "<table border=\"1\" class=\"dataframe\">\n",
       "  <thead>\n",
       "    <tr style=\"text-align: right;\">\n",
       "      <th></th>\n",
       "      <th>stock 1</th>\n",
       "      <th>stock 2</th>\n",
       "      <th>portfolio</th>\n",
       "      <th>stock 1 sim</th>\n",
       "    </tr>\n",
       "  </thead>\n",
       "  <tbody>\n",
       "    <tr>\n",
       "      <th>count</th>\n",
       "      <td>1000.000000</td>\n",
       "      <td>635.000000</td>\n",
       "      <td>1000.000000</td>\n",
       "      <td>1000.000000</td>\n",
       "    </tr>\n",
       "    <tr>\n",
       "      <th>mean</th>\n",
       "      <td>18.484721</td>\n",
       "      <td>8.616824</td>\n",
       "      <td>23.956404</td>\n",
       "      <td>35.468818</td>\n",
       "    </tr>\n",
       "    <tr>\n",
       "      <th>std</th>\n",
       "      <td>18.981341</td>\n",
       "      <td>5.523930</td>\n",
       "      <td>19.992708</td>\n",
       "      <td>38.639429</td>\n",
       "    </tr>\n",
       "    <tr>\n",
       "      <th>min</th>\n",
       "      <td>-8.225786</td>\n",
       "      <td>-2.650435</td>\n",
       "      <td>-8.225786</td>\n",
       "      <td>-15.094475</td>\n",
       "    </tr>\n",
       "    <tr>\n",
       "      <th>25%</th>\n",
       "      <td>3.247689</td>\n",
       "      <td>3.761642</td>\n",
       "      <td>6.834605</td>\n",
       "      <td>4.050856</td>\n",
       "    </tr>\n",
       "    <tr>\n",
       "      <th>50%</th>\n",
       "      <td>12.334209</td>\n",
       "      <td>9.339304</td>\n",
       "      <td>20.706094</td>\n",
       "      <td>16.935877</td>\n",
       "    </tr>\n",
       "    <tr>\n",
       "      <th>75%</th>\n",
       "      <td>37.519264</td>\n",
       "      <td>12.897303</td>\n",
       "      <td>45.580664</td>\n",
       "      <td>75.038528</td>\n",
       "    </tr>\n",
       "    <tr>\n",
       "      <th>max</th>\n",
       "      <td>55.002709</td>\n",
       "      <td>21.711928</td>\n",
       "      <td>60.619873</td>\n",
       "      <td>110.005417</td>\n",
       "    </tr>\n",
       "  </tbody>\n",
       "</table>\n",
       "</div>"
      ],
      "text/plain": [
       "           stock 1     stock 2    portfolio  stock 1 sim\n",
       "count  1000.000000  635.000000  1000.000000  1000.000000\n",
       "mean     18.484721    8.616824    23.956404    35.468818\n",
       "std      18.981341    5.523930    19.992708    38.639429\n",
       "min      -8.225786   -2.650435    -8.225786   -15.094475\n",
       "25%       3.247689    3.761642     6.834605     4.050856\n",
       "50%      12.334209    9.339304    20.706094    16.935877\n",
       "75%      37.519264   12.897303    45.580664    75.038528\n",
       "max      55.002709   21.711928    60.619873   110.005417"
      ]
     },
     "execution_count": 22,
     "metadata": {},
     "output_type": "execute_result"
    }
   ],
   "source": [
    "port_df.describe()"
   ]
  }
 ],
 "metadata": {
  "celltoolbar": "Slideshow",
  "kernelspec": {
   "display_name": "Python 3 (ipykernel)",
   "language": "python",
   "name": "python3"
  },
  "language_info": {
   "codemirror_mode": {
    "name": "ipython",
    "version": 3
   },
   "file_extension": ".py",
   "mimetype": "text/x-python",
   "name": "python",
   "nbconvert_exporter": "python",
   "pygments_lexer": "ipython3",
   "version": "3.8.10"
  }
 },
 "nbformat": 4,
 "nbformat_minor": 1
}
