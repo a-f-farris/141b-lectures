{
 "cells": [
  {
   "cell_type": "markdown",
   "metadata": {
    "slideshow": {
     "slide_type": "slide"
    }
   },
   "source": [
    "## Relational Databases\n",
    "\n",
    "### Relational Database Management Systems (RDBMS)\n",
    "\n",
    "Relational database management systems (RDBMS) is a database system that is based on the relational model of <a href=\"http://www.seas.upenn.edu/~zives/03f/cis550/codd.pdf\">Codd, \"A Relational Model of Data for Large Shared Data Banks\", 1970.</a>\n",
    "\n",
    "- a computer application that stores data in a structured way, and allows users to interact with that data.\n",
    "- organizes the data in tables\n",
    "\n",
    "A few fundamental properties of the relational model (from Codd 1970):\n",
    "\n",
    "1. Each row is an n-tuple\n",
    "2. The ordering of rows is unimportant\n",
    "3. The rows are distinct\n",
    "4. The ordering of columns is significant because each corresponds to a unique attribute\n",
    "5. Each column has a descriptive name"
   ]
  },
  {
   "cell_type": "markdown",
   "metadata": {
    "slideshow": {
     "slide_type": "slide"
    }
   },
   "source": [
    "The main advantage of having a separate language SQL that works over many RDBMSs is that we can write code that works regardless of the database engine.\n",
    "\n",
    "The paper, Codd 1970, begins with the following,\n",
    "\n",
    "> \"Future users of large data banks must be protected from\n",
    "having to know how the data is organized in the machine (the\n",
    "internal representation). A prompting service which supplies\n",
    "such information is not a satisfactory solution. Activities of users\n",
    "at terminals and most application programs should remain\n",
    "unaffected when the internal representation of data is changed\n",
    "and even when some aspects of the external representation\n",
    "are changed.\" Codd 1970."
   ]
  },
  {
   "cell_type": "markdown",
   "metadata": {
    "slideshow": {
     "slide_type": "slide"
    }
   },
   "source": [
    "  The top RDBMSs are \n",
    "  - Oracle Database, \n",
    "  - Microsoft SQL Server, \n",
    "  - MySQL,\n",
    "  - SQLite"
   ]
  },
  {
   "cell_type": "markdown",
   "metadata": {
    "slideshow": {
     "slide_type": "slide"
    }
   },
   "source": [
    "### Structured Query Language (SQL)\n",
    "\n",
    "SQL is a declarative language in that it is based on logical statements that are interpreted by the RDBMS.\n",
    "\n",
    "You can create a table with the code,\n",
    "\n",
    "```\n",
    "create table animals (\n",
    "    name text,\n",
    "    species text,\n",
    "    age integer,\n",
    "    shelter_id integer)\n",
    "```\n",
    "- generate an empty table called animals that has 4 columns."
   ]
  },
  {
   "cell_type": "markdown",
   "metadata": {
    "slideshow": {
     "slide_type": "slide"
    }
   },
   "source": [
    "### Basic commands\n",
    "\n",
    "You can then insert rows into the table with\n",
    "```\n",
    "insert into animals values (\"Emmy\", \"dog\", 1, \"CA\")\n",
    "```\n",
    "\n",
    "Furthermore, we can retrieve records with the select statement by\n",
    "```\n",
    "select * from animals\n",
    "```\n",
    "which will return the entire animals table."
   ]
  },
  {
   "cell_type": "markdown",
   "metadata": {
    "slideshow": {
     "slide_type": "slide"
    }
   },
   "source": [
    "### Functions and Clauses\n",
    "\n",
    "You can add a \"where\" clause to the select statement: \n",
    "```\n",
    "select * from animals where species=\"dog\"\n",
    "```\n",
    "This will select only the records with the species set to 'dog'.\n",
    "Other operators can be used, such as ``=,<,>,!=,between,like,in,is not null, as``, where 'like' will match patterns for text, and 'as' can change a field name in the select statement.\n",
    "\n",
    "You can apply functions and select specific columns with the select statement as in \n",
    "```\n",
    "select name, log(age + 1) from animals\n",
    "```    \n",
    "Moreover, there are aggregating functions such as in \n",
    "```\n",
    "select count(*) from animals\n",
    "```\n",
    "which will return the number of records."
   ]
  },
  {
   "cell_type": "markdown",
   "metadata": {
    "slideshow": {
     "slide_type": "slide"
    }
   },
   "source": [
    "### Functions and Clauses\n",
    "\n",
    "The group by clause, as in \n",
    "```\n",
    "select avg(age), count(*) from animals group by species\n",
    "```\n",
    "will group the records by species and then apply aggregations within the groups.\n",
    "Another common clause is the order by clause as in \n",
    "```\n",
    "select name from animals where species=\"dog\" order by age\n",
    "```\n",
    "will return the dogs in ascending order of age.\n",
    "The groupby and aggregation operations are already familiar to those familiar with Pandas.  You should think of the SQL grammar as the basis for the interface to DataFrames."
   ]
  },
  {
   "cell_type": "markdown",
   "metadata": {
    "slideshow": {
     "slide_type": "slide"
    }
   },
   "source": [
    "### Other statements\n",
    "\n",
    "Other statements: ``insert, update, alter table, drop table``.\n",
    "\n",
    "- With insert you can add records, and update will let you modify records.\n",
    "- With alter table you can add and drop columns, and drop table will remove the table all together.\n",
    "\n",
    "In day to day operations of data scientists, select statements are extremely common, where modifications to existing tables are done offline in scripts.\n",
    "In this lesson we will use pandas to construct the table and make the sql select statements."
   ]
  },
  {
   "cell_type": "markdown",
   "metadata": {
    "slideshow": {
     "slide_type": "slide"
    }
   },
   "source": [
    "### Joins tables\n",
    "\n",
    "We have already talked about joining tables.\n",
    "To see the animals in a county, then we will need to join these tables.\n",
    "We can do this by\n",
    "```\n",
    "select * from animals join shelters on animals.shelter_id = shelters.id\n",
    "```\n",
    "Outer join is done by \n",
    "```\n",
    "select * from animals outer join shelters on animals.shelter_id = shelters.id\n",
    "```\n",
    "inner join is similar."
   ]
  },
  {
   "cell_type": "markdown",
   "metadata": {
    "slideshow": {
     "slide_type": "slide"
    }
   },
   "source": [
    "### Pandas and SQLAlchemy\n",
    "\n",
    "- The sqlalchemy package provides a unified way to interact with many different RDBMSs.\n",
    "- You have to begin by initializing the connection to a database, which is done by the <code>create_engine</code> command.\n",
    "\n",
    "```\n",
    "from sqlalchemy import create_engine\n",
    "    disk_engine = create_engine('sqlite:///pets.sqlite')\n",
    "```\n",
    "\n",
    "- creates the connection to the sqlite file that will contain your database.\n",
    "- you can use the methods: <code>pd.to_sql, pd.read_sql_query</code>.\n",
    "- A typical way to use pandas then would be to construct the table in chunks and write to the database."
   ]
  },
  {
   "cell_type": "code",
   "execution_count": 1,
   "metadata": {
    "slideshow": {
     "slide_type": "slide"
    }
   },
   "outputs": [],
   "source": [
    "import pandas as pd\n",
    "from matplotlib import pyplot as plt\n",
    "import sqlalchemy as sqla\n",
    "plt.style.use('ggplot')"
   ]
  },
  {
   "cell_type": "markdown",
   "metadata": {
    "slideshow": {
     "slide_type": "slide"
    }
   },
   "source": [
    "### Reading in chunks with Pandas\n",
    "\n",
    "- set ``chunksize`` to create a DataFrameReader\n",
    "- Iterable which returns the file in sequence\n",
    "- Work on first chunk to convert to table"
   ]
  },
  {
   "cell_type": "markdown",
   "metadata": {
    "slideshow": {
     "slide_type": "slide"
    }
   },
   "source": [
    "## DOB Job Application Filings data\n",
    "\n",
    "- New York City Department of Buildings applications: https://data.cityofnewyork.us/Housing-Development/DOB-Job-Application-Filings/ic3t-wcy2\n",
    "\n",
    "> This dataset contains all job applications submitted through the Borough Offices, through eFiling, or through the HUB, which have a \"Latest Action Date\" since January 1, 2000. This dataset does not include jobs submitted through DOB NOW. See the DOB NOW: Build – Job Application Filings dataset for DOB NOW jobs."
   ]
  },
  {
   "cell_type": "code",
   "execution_count": 2,
   "metadata": {
    "slideshow": {
     "slide_type": "fragment"
    }
   },
   "outputs": [],
   "source": [
    "nycjobs_reader = pd.read_csv('data/DOB_Job_Application_Filings.csv',\n",
    "                             chunksize=10000,low_memory=False,encoding='latin-1')"
   ]
  },
  {
   "cell_type": "code",
   "execution_count": 3,
   "metadata": {
    "slideshow": {
     "slide_type": "slide"
    }
   },
   "outputs": [
    {
     "name": "stdout",
     "output_type": "stream",
     "text": [
      "<class 'pandas.core.frame.DataFrame'>\n",
      "RangeIndex: 10000 entries, 0 to 9999\n",
      "Data columns (total 96 columns):\n",
      " #   Column                         Non-Null Count  Dtype  \n",
      "---  ------                         --------------  -----  \n",
      " 0   Job #                          10000 non-null  int64  \n",
      " 1   Doc #                          10000 non-null  int64  \n",
      " 2   Borough                        10000 non-null  object \n",
      " 3   House #                        10000 non-null  object \n",
      " 4   Street Name                    10000 non-null  object \n",
      " 5   Block                          9999 non-null   float64\n",
      " 6   Lot                            9999 non-null   float64\n",
      " 7   Bin #                          10000 non-null  int64  \n",
      " 8   Job Type                       10000 non-null  object \n",
      " 9   Job Status                     10000 non-null  object \n",
      " 10  Job Status Descrp              10000 non-null  object \n",
      " 11  Latest Action Date             10000 non-null  object \n",
      " 12  Building Type                  10000 non-null  object \n",
      " 13  Community - Board              9998 non-null   float64\n",
      " 14  Cluster                        9348 non-null   object \n",
      " 15  Landmarked                     9850 non-null   object \n",
      " 16  Adult Estab                    8714 non-null   object \n",
      " 17  Loft Board                     9588 non-null   object \n",
      " 18  City Owned                     1135 non-null   object \n",
      " 19  Little e                       8477 non-null   object \n",
      " 20  PC Filed                       579 non-null    object \n",
      " 21  eFiling Filed                  9282 non-null   object \n",
      " 22  Plumbing                       2074 non-null   object \n",
      " 23  Mechanical                     1280 non-null   object \n",
      " 24  Boiler                         172 non-null    object \n",
      " 25  Fuel Burning                   28 non-null     object \n",
      " 26  Fuel Storage                   28 non-null     object \n",
      " 27  Standpipe                      132 non-null    object \n",
      " 28  Sprinkler                      591 non-null    object \n",
      " 29  Fire Alarm                     351 non-null    object \n",
      " 30  Equipment                      1079 non-null   object \n",
      " 31  Fire Suppression               59 non-null     object \n",
      " 32  Curb Cut                       179 non-null    object \n",
      " 33  Other                          7405 non-null   object \n",
      " 34  Other Description              7401 non-null   object \n",
      " 35  Applicant's First Name         10000 non-null  object \n",
      " 36  Applicant's Last Name          10000 non-null  object \n",
      " 37  Applicant Professional Title   10000 non-null  object \n",
      " 38  Applicant License #            9890 non-null   float64\n",
      " 39  Professional Cert              9597 non-null   object \n",
      " 40  Pre- Filing Date               10000 non-null  object \n",
      " 41  Paid                           9985 non-null   object \n",
      " 42  Fully Paid                     9985 non-null   object \n",
      " 43  Assigned                       7903 non-null   object \n",
      " 44  Approved                       7983 non-null   object \n",
      " 45  Fully Permitted                7034 non-null   object \n",
      " 46  Initial Cost                   10000 non-null  object \n",
      " 47  Total Est. Fee                 10000 non-null  object \n",
      " 48  Fee Status                     10000 non-null  object \n",
      " 49  Existing Zoning Sqft           10000 non-null  int64  \n",
      " 50  Proposed Zoning Sqft           10000 non-null  int64  \n",
      " 51  Horizontal Enlrgmt             534 non-null    object \n",
      " 52  Vertical Enlrgmt               422 non-null    object \n",
      " 53  Enlargement SQ Footage         10000 non-null  int64  \n",
      " 54  Street Frontage                10000 non-null  int64  \n",
      " 55  ExistingNo. of Stories         10000 non-null  int64  \n",
      " 56  Proposed No. of Stories        10000 non-null  int64  \n",
      " 57  Existing Height                10000 non-null  int64  \n",
      " 58  Proposed Height                10000 non-null  int64  \n",
      " 59  Existing Dwelling Units        4950 non-null   float64\n",
      " 60  Proposed Dwelling Units        5680 non-null   float64\n",
      " 61  Existing Occupancy             6991 non-null   object \n",
      " 62  Proposed Occupancy             7388 non-null   object \n",
      " 63  Site Fill                      7487 non-null   object \n",
      " 64  Zoning Dist1                   8746 non-null   object \n",
      " 65  Zoning Dist2                   906 non-null    object \n",
      " 66  Zoning Dist3                   42 non-null     object \n",
      " 67  Special District 1             1573 non-null   object \n",
      " 68  Special District 2             1247 non-null   object \n",
      " 69  Owner Type                     9923 non-null   object \n",
      " 70  Non-Profit                     9928 non-null   object \n",
      " 71  Owner's First Name             10000 non-null  object \n",
      " 72  Owner's Last Name              9998 non-null   object \n",
      " 73  Owner's Business Name          7667 non-null   object \n",
      " 74  Owner's House Number           3 non-null      float64\n",
      " 75  Owner'sHouse Street Name       3 non-null      object \n",
      " 76  City                           3 non-null      object \n",
      " 77  State                          3 non-null      object \n",
      " 78  Zip                            3 non-null      float64\n",
      " 79  Owner'sPhone #                 9992 non-null   float64\n",
      " 80  Job Description                8587 non-null   object \n",
      " 81  DOBRunDate                     10000 non-null  object \n",
      " 82  JOB_S1_NO                      10000 non-null  int64  \n",
      " 83  TOTAL_CONSTRUCTION_FLOOR_AREA  10000 non-null  int64  \n",
      " 84  WITHDRAWAL_FLAG                10000 non-null  int64  \n",
      " 85  SIGNOFF_DATE                   4091 non-null   object \n",
      " 86  SPECIAL_ACTION_STATUS          9941 non-null   object \n",
      " 87  SPECIAL_ACTION_DATE            875 non-null    object \n",
      " 88  BUILDING_CLASS                 9957 non-null   object \n",
      " 89  JOB_NO_GOOD_COUNT              10000 non-null  int64  \n",
      " 90  GIS_LATITUDE                   9936 non-null   float64\n",
      " 91  GIS_LONGITUDE                  9936 non-null   float64\n",
      " 92  GIS_COUNCIL_DISTRICT           9936 non-null   float64\n",
      " 93  GIS_CENSUS_TRACT               9936 non-null   float64\n",
      " 94  GIS_NTA_NAME                   9936 non-null   object \n",
      " 95  GIS_BIN                        9696 non-null   float64\n",
      "dtypes: float64(14), int64(15), object(67)\n",
      "memory usage: 7.3+ MB\n"
     ]
    }
   ],
   "source": [
    "nycjobs_chunk = next(nycjobs_reader)\n",
    "nyc_cols = nycjobs_chunk.columns\n",
    "nycjobs_chunk.info()"
   ]
  },
  {
   "cell_type": "code",
   "execution_count": 4,
   "metadata": {
    "slideshow": {
     "slide_type": "slide"
    }
   },
   "outputs": [
    {
     "data": {
      "text/html": [
       "<div>\n",
       "<style scoped>\n",
       "    .dataframe tbody tr th:only-of-type {\n",
       "        vertical-align: middle;\n",
       "    }\n",
       "\n",
       "    .dataframe tbody tr th {\n",
       "        vertical-align: top;\n",
       "    }\n",
       "\n",
       "    .dataframe thead th {\n",
       "        text-align: right;\n",
       "    }\n",
       "</style>\n",
       "<table border=\"1\" class=\"dataframe\">\n",
       "  <thead>\n",
       "    <tr style=\"text-align: right;\">\n",
       "      <th></th>\n",
       "      <th>Job #</th>\n",
       "      <th>Doc #</th>\n",
       "      <th>Borough</th>\n",
       "      <th>House #</th>\n",
       "      <th>Street Name</th>\n",
       "      <th>Block</th>\n",
       "      <th>Lot</th>\n",
       "      <th>Bin #</th>\n",
       "      <th>Job Type</th>\n",
       "      <th>Job Status</th>\n",
       "      <th>...</th>\n",
       "      <th>SPECIAL_ACTION_STATUS</th>\n",
       "      <th>SPECIAL_ACTION_DATE</th>\n",
       "      <th>BUILDING_CLASS</th>\n",
       "      <th>JOB_NO_GOOD_COUNT</th>\n",
       "      <th>GIS_LATITUDE</th>\n",
       "      <th>GIS_LONGITUDE</th>\n",
       "      <th>GIS_COUNCIL_DISTRICT</th>\n",
       "      <th>GIS_CENSUS_TRACT</th>\n",
       "      <th>GIS_NTA_NAME</th>\n",
       "      <th>GIS_BIN</th>\n",
       "    </tr>\n",
       "  </thead>\n",
       "  <tbody>\n",
       "    <tr>\n",
       "      <th>0</th>\n",
       "      <td>440673497</td>\n",
       "      <td>1</td>\n",
       "      <td>QUEENS</td>\n",
       "      <td>215-02</td>\n",
       "      <td>93 AVENUE</td>\n",
       "      <td>10618.0</td>\n",
       "      <td>28.0</td>\n",
       "      <td>4226672</td>\n",
       "      <td>A2</td>\n",
       "      <td>R</td>\n",
       "      <td>...</td>\n",
       "      <td>N</td>\n",
       "      <td>NaN</td>\n",
       "      <td>A1</td>\n",
       "      <td>0</td>\n",
       "      <td>40.720067</td>\n",
       "      <td>-73.742696</td>\n",
       "      <td>23.0</td>\n",
       "      <td>542.0</td>\n",
       "      <td>Queens Village</td>\n",
       "      <td>4226672.0</td>\n",
       "    </tr>\n",
       "    <tr>\n",
       "      <th>1</th>\n",
       "      <td>440673512</td>\n",
       "      <td>1</td>\n",
       "      <td>QUEENS</td>\n",
       "      <td>10040</td>\n",
       "      <td>222 STREET</td>\n",
       "      <td>10780.0</td>\n",
       "      <td>19.0</td>\n",
       "      <td>4231025</td>\n",
       "      <td>A2</td>\n",
       "      <td>R</td>\n",
       "      <td>...</td>\n",
       "      <td>N</td>\n",
       "      <td>NaN</td>\n",
       "      <td>A1</td>\n",
       "      <td>0</td>\n",
       "      <td>40.714365</td>\n",
       "      <td>-73.731171</td>\n",
       "      <td>27.0</td>\n",
       "      <td>568.0</td>\n",
       "      <td>Queens Village</td>\n",
       "      <td>4231025.0</td>\n",
       "    </tr>\n",
       "    <tr>\n",
       "      <th>2</th>\n",
       "      <td>210182309</td>\n",
       "      <td>2</td>\n",
       "      <td>BRONX</td>\n",
       "      <td>97</td>\n",
       "      <td>WEST 169 STREET</td>\n",
       "      <td>2519.0</td>\n",
       "      <td>27.0</td>\n",
       "      <td>2130622</td>\n",
       "      <td>NB</td>\n",
       "      <td>D</td>\n",
       "      <td>...</td>\n",
       "      <td>N</td>\n",
       "      <td>NaN</td>\n",
       "      <td>V0</td>\n",
       "      <td>0</td>\n",
       "      <td>40.839538</td>\n",
       "      <td>-73.923177</td>\n",
       "      <td>16.0</td>\n",
       "      <td>211.0</td>\n",
       "      <td>Highbridge</td>\n",
       "      <td>NaN</td>\n",
       "    </tr>\n",
       "    <tr>\n",
       "      <th>3</th>\n",
       "      <td>210182309</td>\n",
       "      <td>3</td>\n",
       "      <td>BRONX</td>\n",
       "      <td>97</td>\n",
       "      <td>WEST 169 STREET</td>\n",
       "      <td>2519.0</td>\n",
       "      <td>27.0</td>\n",
       "      <td>2130622</td>\n",
       "      <td>NB</td>\n",
       "      <td>D</td>\n",
       "      <td>...</td>\n",
       "      <td>N</td>\n",
       "      <td>NaN</td>\n",
       "      <td>V0</td>\n",
       "      <td>0</td>\n",
       "      <td>40.839538</td>\n",
       "      <td>-73.923177</td>\n",
       "      <td>16.0</td>\n",
       "      <td>211.0</td>\n",
       "      <td>Highbridge</td>\n",
       "      <td>NaN</td>\n",
       "    </tr>\n",
       "    <tr>\n",
       "      <th>4</th>\n",
       "      <td>421133972</td>\n",
       "      <td>2</td>\n",
       "      <td>QUEENS</td>\n",
       "      <td>88-36</td>\n",
       "      <td>139TH STREET</td>\n",
       "      <td>9620.0</td>\n",
       "      <td>33.0</td>\n",
       "      <td>4623670</td>\n",
       "      <td>NB</td>\n",
       "      <td>P</td>\n",
       "      <td>...</td>\n",
       "      <td>N</td>\n",
       "      <td>NaN</td>\n",
       "      <td>G7</td>\n",
       "      <td>0</td>\n",
       "      <td>40.703428</td>\n",
       "      <td>-73.813796</td>\n",
       "      <td>24.0</td>\n",
       "      <td>214.0</td>\n",
       "      <td>Briarwood-Jamaica Hills</td>\n",
       "      <td>NaN</td>\n",
       "    </tr>\n",
       "  </tbody>\n",
       "</table>\n",
       "<p>5 rows × 96 columns</p>\n",
       "</div>"
      ],
      "text/plain": [
       "       Job #  Doc # Borough House #      Street Name    Block   Lot    Bin #  \\\n",
       "0  440673497      1  QUEENS  215-02        93 AVENUE  10618.0  28.0  4226672   \n",
       "1  440673512      1  QUEENS   10040       222 STREET  10780.0  19.0  4231025   \n",
       "2  210182309      2   BRONX      97  WEST 169 STREET   2519.0  27.0  2130622   \n",
       "3  210182309      3   BRONX      97  WEST 169 STREET   2519.0  27.0  2130622   \n",
       "4  421133972      2  QUEENS   88-36     139TH STREET   9620.0  33.0  4623670   \n",
       "\n",
       "  Job Type Job Status  ... SPECIAL_ACTION_STATUS SPECIAL_ACTION_DATE  \\\n",
       "0       A2          R  ...                     N                 NaN   \n",
       "1       A2          R  ...                     N                 NaN   \n",
       "2       NB          D  ...                     N                 NaN   \n",
       "3       NB          D  ...                     N                 NaN   \n",
       "4       NB          P  ...                     N                 NaN   \n",
       "\n",
       "  BUILDING_CLASS  JOB_NO_GOOD_COUNT GIS_LATITUDE GIS_LONGITUDE  \\\n",
       "0             A1                  0    40.720067    -73.742696   \n",
       "1             A1                  0    40.714365    -73.731171   \n",
       "2             V0                  0    40.839538    -73.923177   \n",
       "3             V0                  0    40.839538    -73.923177   \n",
       "4             G7                  0    40.703428    -73.813796   \n",
       "\n",
       "  GIS_COUNCIL_DISTRICT GIS_CENSUS_TRACT             GIS_NTA_NAME    GIS_BIN  \n",
       "0                 23.0            542.0           Queens Village  4226672.0  \n",
       "1                 27.0            568.0           Queens Village  4231025.0  \n",
       "2                 16.0            211.0               Highbridge        NaN  \n",
       "3                 16.0            211.0               Highbridge        NaN  \n",
       "4                 24.0            214.0  Briarwood-Jamaica Hills        NaN  \n",
       "\n",
       "[5 rows x 96 columns]"
      ]
     },
     "execution_count": 4,
     "metadata": {},
     "output_type": "execute_result"
    }
   ],
   "source": [
    "nycjobs_chunk.head()"
   ]
  },
  {
   "cell_type": "code",
   "execution_count": 5,
   "metadata": {
    "slideshow": {
     "slide_type": "slide"
    }
   },
   "outputs": [],
   "source": [
    "## Create database engine\n",
    "sqlite_file = 'data/nycjobs.sqlite'\n",
    "nyc_conn = sqla.create_engine('sqlite:///' + sqlite_file)"
   ]
  },
  {
   "cell_type": "code",
   "execution_count": 6,
   "metadata": {
    "slideshow": {
     "slide_type": "fragment"
    }
   },
   "outputs": [],
   "source": [
    "## Fill in dataframe\n",
    "nycjobs_chunk.to_sql('jobs',nyc_conn,if_exists='replace')\n",
    "for nycjobs_chunk in nycjobs_reader:\n",
    "    nycjobs_chunk.to_sql('jobs',nyc_conn,if_exists='append')"
   ]
  },
  {
   "cell_type": "code",
   "execution_count": 7,
   "metadata": {
    "slideshow": {
     "slide_type": "slide"
    }
   },
   "outputs": [
    {
     "data": {
      "text/html": [
       "<div>\n",
       "<style scoped>\n",
       "    .dataframe tbody tr th:only-of-type {\n",
       "        vertical-align: middle;\n",
       "    }\n",
       "\n",
       "    .dataframe tbody tr th {\n",
       "        vertical-align: top;\n",
       "    }\n",
       "\n",
       "    .dataframe thead th {\n",
       "        text-align: right;\n",
       "    }\n",
       "</style>\n",
       "<table border=\"1\" class=\"dataframe\">\n",
       "  <thead>\n",
       "    <tr style=\"text-align: right;\">\n",
       "      <th></th>\n",
       "      <th>count(*)</th>\n",
       "    </tr>\n",
       "  </thead>\n",
       "  <tbody>\n",
       "    <tr>\n",
       "      <th>0</th>\n",
       "      <td>1773895</td>\n",
       "    </tr>\n",
       "  </tbody>\n",
       "</table>\n",
       "</div>"
      ],
      "text/plain": [
       "   count(*)\n",
       "0   1773895"
      ]
     },
     "execution_count": 7,
     "metadata": {},
     "output_type": "execute_result"
    }
   ],
   "source": [
    "## count all records\n",
    "pd.read_sql_query(\"select count(*) from jobs\",nyc_conn)"
   ]
  },
  {
   "cell_type": "code",
   "execution_count": 8,
   "metadata": {
    "slideshow": {
     "slide_type": "fragment"
    }
   },
   "outputs": [
    {
     "data": {
      "text/html": [
       "<div>\n",
       "<style scoped>\n",
       "    .dataframe tbody tr th:only-of-type {\n",
       "        vertical-align: middle;\n",
       "    }\n",
       "\n",
       "    .dataframe tbody tr th {\n",
       "        vertical-align: top;\n",
       "    }\n",
       "\n",
       "    .dataframe thead th {\n",
       "        text-align: right;\n",
       "    }\n",
       "</style>\n",
       "<table border=\"1\" class=\"dataframe\">\n",
       "  <thead>\n",
       "    <tr style=\"text-align: right;\">\n",
       "      <th></th>\n",
       "      <th>count(*)</th>\n",
       "    </tr>\n",
       "  </thead>\n",
       "  <tbody>\n",
       "    <tr>\n",
       "      <th>0</th>\n",
       "      <td>555733</td>\n",
       "    </tr>\n",
       "  </tbody>\n",
       "</table>\n",
       "</div>"
      ],
      "text/plain": [
       "   count(*)\n",
       "0    555733"
      ]
     },
     "execution_count": 8,
     "metadata": {},
     "output_type": "execute_result"
    }
   ],
   "source": [
    "## where statement filters\n",
    "pd.read_sql_query(\"select count(*) from jobs where Plumbing='X'\",nyc_conn)"
   ]
  },
  {
   "cell_type": "code",
   "execution_count": 9,
   "metadata": {
    "slideshow": {
     "slide_type": "slide"
    }
   },
   "outputs": [
    {
     "data": {
      "text/html": [
       "<div>\n",
       "<style scoped>\n",
       "    .dataframe tbody tr th:only-of-type {\n",
       "        vertical-align: middle;\n",
       "    }\n",
       "\n",
       "    .dataframe tbody tr th {\n",
       "        vertical-align: top;\n",
       "    }\n",
       "\n",
       "    .dataframe thead th {\n",
       "        text-align: right;\n",
       "    }\n",
       "</style>\n",
       "<table border=\"1\" class=\"dataframe\">\n",
       "  <thead>\n",
       "    <tr style=\"text-align: right;\">\n",
       "      <th></th>\n",
       "      <th>Plumbing</th>\n",
       "      <th>count</th>\n",
       "    </tr>\n",
       "  </thead>\n",
       "  <tbody>\n",
       "    <tr>\n",
       "      <th>0</th>\n",
       "      <td>None</td>\n",
       "      <td>1218162</td>\n",
       "    </tr>\n",
       "    <tr>\n",
       "      <th>1</th>\n",
       "      <td>X</td>\n",
       "      <td>555733</td>\n",
       "    </tr>\n",
       "  </tbody>\n",
       "</table>\n",
       "</div>"
      ],
      "text/plain": [
       "  Plumbing    count\n",
       "0     None  1218162\n",
       "1        X   555733"
      ]
     },
     "execution_count": 9,
     "metadata": {},
     "output_type": "execute_result"
    }
   ],
   "source": [
    "## groupby operation\n",
    "pd.read_sql_query(\"select Plumbing, count(*) as count from jobs group by Plumbing\",nyc_conn)"
   ]
  },
  {
   "cell_type": "code",
   "execution_count": 10,
   "metadata": {
    "slideshow": {
     "slide_type": "slide"
    }
   },
   "outputs": [],
   "source": [
    "## Multiline query\n",
    "sql_query = \"\"\"\n",
    "select * from jobs \n",
    "where Plumbing='X' \n",
    "order by \"Initial Cost\" desc\n",
    "limit 5000\n",
    "\"\"\"\n",
    "plumbing = pd.read_sql_query(sql_query,nyc_conn)"
   ]
  },
  {
   "cell_type": "code",
   "execution_count": 11,
   "metadata": {
    "slideshow": {
     "slide_type": "slide"
    }
   },
   "outputs": [
    {
     "data": {
      "text/html": [
       "<div>\n",
       "<style scoped>\n",
       "    .dataframe tbody tr th:only-of-type {\n",
       "        vertical-align: middle;\n",
       "    }\n",
       "\n",
       "    .dataframe tbody tr th {\n",
       "        vertical-align: top;\n",
       "    }\n",
       "\n",
       "    .dataframe thead th {\n",
       "        text-align: right;\n",
       "    }\n",
       "</style>\n",
       "<table border=\"1\" class=\"dataframe\">\n",
       "  <thead>\n",
       "    <tr style=\"text-align: right;\">\n",
       "      <th></th>\n",
       "      <th>index</th>\n",
       "      <th>Job #</th>\n",
       "      <th>Doc #</th>\n",
       "      <th>Borough</th>\n",
       "      <th>House #</th>\n",
       "      <th>Street Name</th>\n",
       "      <th>Block</th>\n",
       "      <th>Lot</th>\n",
       "      <th>Bin #</th>\n",
       "      <th>Job Type</th>\n",
       "      <th>...</th>\n",
       "      <th>SPECIAL_ACTION_STATUS</th>\n",
       "      <th>SPECIAL_ACTION_DATE</th>\n",
       "      <th>BUILDING_CLASS</th>\n",
       "      <th>JOB_NO_GOOD_COUNT</th>\n",
       "      <th>GIS_LATITUDE</th>\n",
       "      <th>GIS_LONGITUDE</th>\n",
       "      <th>GIS_COUNCIL_DISTRICT</th>\n",
       "      <th>GIS_CENSUS_TRACT</th>\n",
       "      <th>GIS_NTA_NAME</th>\n",
       "      <th>GIS_BIN</th>\n",
       "    </tr>\n",
       "  </thead>\n",
       "  <tbody>\n",
       "    <tr>\n",
       "      <th>0</th>\n",
       "      <td>524620</td>\n",
       "      <td>120653417</td>\n",
       "      <td>1</td>\n",
       "      <td>MANHATTAN</td>\n",
       "      <td>1817</td>\n",
       "      <td>2ND AVE</td>\n",
       "      <td>1540.0</td>\n",
       "      <td>22.0</td>\n",
       "      <td>1049222</td>\n",
       "      <td>A2</td>\n",
       "      <td>...</td>\n",
       "      <td>N</td>\n",
       "      <td>None</td>\n",
       "      <td>C7</td>\n",
       "      <td>0</td>\n",
       "      <td>40.783041</td>\n",
       "      <td>-73.947981</td>\n",
       "      <td>5.0</td>\n",
       "      <td>15601.0</td>\n",
       "      <td>Yorkville</td>\n",
       "      <td>1049222.0</td>\n",
       "    </tr>\n",
       "    <tr>\n",
       "      <th>1</th>\n",
       "      <td>214522</td>\n",
       "      <td>402326595</td>\n",
       "      <td>1</td>\n",
       "      <td>QUEENS</td>\n",
       "      <td>5005</td>\n",
       "      <td>31 AVENUE</td>\n",
       "      <td>752.0</td>\n",
       "      <td>1.0</td>\n",
       "      <td>4014094</td>\n",
       "      <td>A2</td>\n",
       "      <td>...</td>\n",
       "      <td>N</td>\n",
       "      <td>None</td>\n",
       "      <td>W1</td>\n",
       "      <td>0</td>\n",
       "      <td>40.757499</td>\n",
       "      <td>-73.908898</td>\n",
       "      <td>22.0</td>\n",
       "      <td>163.0</td>\n",
       "      <td>Astoria</td>\n",
       "      <td>4014094.0</td>\n",
       "    </tr>\n",
       "    <tr>\n",
       "      <th>2</th>\n",
       "      <td>1552548</td>\n",
       "      <td>104288245</td>\n",
       "      <td>1</td>\n",
       "      <td>MANHATTAN</td>\n",
       "      <td>157</td>\n",
       "      <td>WEST   85 STREET</td>\n",
       "      <td>1216.0</td>\n",
       "      <td>8.0</td>\n",
       "      <td>1032143</td>\n",
       "      <td>A2</td>\n",
       "      <td>...</td>\n",
       "      <td>N</td>\n",
       "      <td>None</td>\n",
       "      <td>C5</td>\n",
       "      <td>0</td>\n",
       "      <td>40.786473</td>\n",
       "      <td>-73.974231</td>\n",
       "      <td>6.0</td>\n",
       "      <td>169.0</td>\n",
       "      <td>Upper West Side</td>\n",
       "      <td>1032143.0</td>\n",
       "    </tr>\n",
       "    <tr>\n",
       "      <th>3</th>\n",
       "      <td>1015628</td>\n",
       "      <td>421344833</td>\n",
       "      <td>1</td>\n",
       "      <td>QUEENS</td>\n",
       "      <td>61-25</td>\n",
       "      <td>98TH STREET</td>\n",
       "      <td>2093.0</td>\n",
       "      <td>1.0</td>\n",
       "      <td>4431961</td>\n",
       "      <td>A2</td>\n",
       "      <td>...</td>\n",
       "      <td>N</td>\n",
       "      <td>None</td>\n",
       "      <td>D4</td>\n",
       "      <td>0</td>\n",
       "      <td>40.734257</td>\n",
       "      <td>-73.860517</td>\n",
       "      <td>29.0</td>\n",
       "      <td>71702.0</td>\n",
       "      <td>Rego Park</td>\n",
       "      <td>4431961.0</td>\n",
       "    </tr>\n",
       "    <tr>\n",
       "      <th>4</th>\n",
       "      <td>627276</td>\n",
       "      <td>320528185</td>\n",
       "      <td>1</td>\n",
       "      <td>BROOKLYN</td>\n",
       "      <td>237</td>\n",
       "      <td>PARKVILLE AVENUE</td>\n",
       "      <td>5424.0</td>\n",
       "      <td>77.0</td>\n",
       "      <td>3127947</td>\n",
       "      <td>A1</td>\n",
       "      <td>...</td>\n",
       "      <td>N</td>\n",
       "      <td>None</td>\n",
       "      <td>A5</td>\n",
       "      <td>0</td>\n",
       "      <td>40.631530</td>\n",
       "      <td>-73.970112</td>\n",
       "      <td>40.0</td>\n",
       "      <td>482.0</td>\n",
       "      <td>Flatbush</td>\n",
       "      <td>3127947.0</td>\n",
       "    </tr>\n",
       "  </tbody>\n",
       "</table>\n",
       "<p>5 rows × 97 columns</p>\n",
       "</div>"
      ],
      "text/plain": [
       "     index      Job #  Doc #    Borough House #       Street Name   Block  \\\n",
       "0   524620  120653417      1  MANHATTAN    1817           2ND AVE  1540.0   \n",
       "1   214522  402326595      1     QUEENS    5005         31 AVENUE   752.0   \n",
       "2  1552548  104288245      1  MANHATTAN     157  WEST   85 STREET  1216.0   \n",
       "3  1015628  421344833      1     QUEENS   61-25       98TH STREET  2093.0   \n",
       "4   627276  320528185      1   BROOKLYN     237  PARKVILLE AVENUE  5424.0   \n",
       "\n",
       "    Lot    Bin # Job Type  ... SPECIAL_ACTION_STATUS SPECIAL_ACTION_DATE  \\\n",
       "0  22.0  1049222       A2  ...                     N                None   \n",
       "1   1.0  4014094       A2  ...                     N                None   \n",
       "2   8.0  1032143       A2  ...                     N                None   \n",
       "3   1.0  4431961       A2  ...                     N                None   \n",
       "4  77.0  3127947       A1  ...                     N                None   \n",
       "\n",
       "  BUILDING_CLASS JOB_NO_GOOD_COUNT  GIS_LATITUDE GIS_LONGITUDE  \\\n",
       "0             C7                 0     40.783041    -73.947981   \n",
       "1             W1                 0     40.757499    -73.908898   \n",
       "2             C5                 0     40.786473    -73.974231   \n",
       "3             D4                 0     40.734257    -73.860517   \n",
       "4             A5                 0     40.631530    -73.970112   \n",
       "\n",
       "  GIS_COUNCIL_DISTRICT GIS_CENSUS_TRACT     GIS_NTA_NAME    GIS_BIN  \n",
       "0                  5.0          15601.0        Yorkville  1049222.0  \n",
       "1                 22.0            163.0          Astoria  4014094.0  \n",
       "2                  6.0            169.0  Upper West Side  1032143.0  \n",
       "3                 29.0          71702.0        Rego Park  4431961.0  \n",
       "4                 40.0            482.0         Flatbush  3127947.0  \n",
       "\n",
       "[5 rows x 97 columns]"
      ]
     },
     "execution_count": 11,
     "metadata": {},
     "output_type": "execute_result"
    }
   ],
   "source": [
    "plumbing.head()"
   ]
  },
  {
   "cell_type": "code",
   "execution_count": 12,
   "metadata": {
    "slideshow": {
     "slide_type": "slide"
    }
   },
   "outputs": [],
   "source": [
    "## Plot the initial cost histogram\n",
    "plumbing['Initial Cost'] = plumbing['Initial Cost'].map(lambda x: int(x[1:-3]))"
   ]
  },
  {
   "cell_type": "code",
   "execution_count": 13,
   "metadata": {
    "slideshow": {
     "slide_type": "fragment"
    }
   },
   "outputs": [
    {
     "data": {
      "text/plain": [
       "<AxesSubplot:ylabel='Frequency'>"
      ]
     },
     "execution_count": 13,
     "metadata": {},
     "output_type": "execute_result"
    },
    {
     "data": {
      "image/png": "[encoded data removed]",
      "text/plain": [
       "<Figure size 432x288 with 1 Axes>"
      ]
     },
     "metadata": {},
     "output_type": "display_data"
    }
   ],
   "source": [
    "plumbing.plot(y = 'Initial Cost',kind='hist',bins=20)"
   ]
  },
  {
   "cell_type": "code",
   "execution_count": 14,
   "metadata": {
    "slideshow": {
     "slide_type": "slide"
    }
   },
   "outputs": [],
   "source": [
    "## Detect some missingness\n",
    "query = \"\"\"select \"Owner's Business Name\", count(*) as count from jobs \n",
    "    where \"Owner's Business Name\"!=\" \" \n",
    "    group by \"Owner's Business Name\" \n",
    "    limit 1000\"\"\"\n",
    "owner_counts = pd.read_sql_query(query,nyc_conn)"
   ]
  },
  {
   "cell_type": "code",
   "execution_count": 15,
   "metadata": {
    "slideshow": {
     "slide_type": "fragment"
    }
   },
   "outputs": [
    {
     "data": {
      "text/html": [
       "<div>\n",
       "<style scoped>\n",
       "    .dataframe tbody tr th:only-of-type {\n",
       "        vertical-align: middle;\n",
       "    }\n",
       "\n",
       "    .dataframe tbody tr th {\n",
       "        vertical-align: top;\n",
       "    }\n",
       "\n",
       "    .dataframe thead th {\n",
       "        text-align: right;\n",
       "    }\n",
       "</style>\n",
       "<table border=\"1\" class=\"dataframe\">\n",
       "  <thead>\n",
       "    <tr style=\"text-align: right;\">\n",
       "      <th></th>\n",
       "      <th>Owner's Business Name</th>\n",
       "      <th>count</th>\n",
       "    </tr>\n",
       "  </thead>\n",
       "  <tbody>\n",
       "    <tr>\n",
       "      <th>0</th>\n",
       "      <td># 1 DUMPLING</td>\n",
       "      <td>1</td>\n",
       "    </tr>\n",
       "    <tr>\n",
       "      <th>1</th>\n",
       "      <td># 2 PALISA</td>\n",
       "      <td>1</td>\n",
       "    </tr>\n",
       "    <tr>\n",
       "      <th>2</th>\n",
       "      <td># 3 Gamercy Park Ass.</td>\n",
       "      <td>1</td>\n",
       "    </tr>\n",
       "    <tr>\n",
       "      <th>3</th>\n",
       "      <td>#1 CHINESE</td>\n",
       "      <td>1</td>\n",
       "    </tr>\n",
       "    <tr>\n",
       "      <th>4</th>\n",
       "      <td>#1 CHINESE REST</td>\n",
       "      <td>1</td>\n",
       "    </tr>\n",
       "  </tbody>\n",
       "</table>\n",
       "</div>"
      ],
      "text/plain": [
       "   Owner's Business Name  count\n",
       "0           # 1 DUMPLING      1\n",
       "1             # 2 PALISA      1\n",
       "2  # 3 Gamercy Park Ass.      1\n",
       "3             #1 CHINESE      1\n",
       "4        #1 CHINESE REST      1"
      ]
     },
     "execution_count": 15,
     "metadata": {},
     "output_type": "execute_result"
    }
   ],
   "source": [
    "owner_counts.head()"
   ]
  },
  {
   "cell_type": "code",
   "execution_count": 16,
   "metadata": {
    "slideshow": {
     "slide_type": "slide"
    }
   },
   "outputs": [
    {
     "data": {
      "text/plain": [
       "3146"
      ]
     },
     "execution_count": 16,
     "metadata": {},
     "output_type": "execute_result"
    }
   ],
   "source": [
    "owner_counts['count'].max()"
   ]
  },
  {
   "cell_type": "code",
   "execution_count": 17,
   "metadata": {
    "slideshow": {
     "slide_type": "fragment"
    }
   },
   "outputs": [
    {
     "data": {
      "text/plain": [
       "2"
      ]
     },
     "execution_count": 17,
     "metadata": {},
     "output_type": "execute_result"
    }
   ],
   "source": [
    "(owner_counts['count'] > 1000).sum()"
   ]
  },
  {
   "cell_type": "code",
   "execution_count": 18,
   "metadata": {
    "slideshow": {
     "slide_type": "fragment"
    }
   },
   "outputs": [
    {
     "data": {
      "image/png": "[encoded data removed]",
      "text/plain": [
       "<Figure size 432x288 with 1 Axes>"
      ]
     },
     "metadata": {},
     "output_type": "display_data"
    }
   ],
   "source": [
    "_ = owner_counts.plot(y=\"count\",kind='hist',bins=20)"
   ]
  }
 ],
 "metadata": {
  "celltoolbar": "Slideshow",
  "kernelspec": {
   "display_name": "Python 3 (ipykernel)",
   "language": "python",
   "name": "python3"
  },
  "language_info": {
   "codemirror_mode": {
    "name": "ipython",
    "version": 3
   },
   "file_extension": ".py",
   "mimetype": "text/x-python",
   "name": "python",
   "nbconvert_exporter": "python",
   "pygments_lexer": "ipython3",
   "version": "3.8.10"
  }
 },
 "nbformat": 4,
 "nbformat_minor": 2
}
