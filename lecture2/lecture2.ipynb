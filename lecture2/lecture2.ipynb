{
 "cells": [
  {
   "cell_type": "markdown",
   "metadata": {
    "slideshow": {
     "slide_type": "slide"
    }
   },
   "source": [
    "# Intro to Data Science\n",
    "\n",
    "## Stats 141B\n",
    "\n",
    "## Lecture 2 -- 9/27/21\n",
    "\n",
    "\n",
    "\n",
    "\n",
    "\n"
   ]
  },
  {
   "cell_type": "markdown",
   "metadata": {
    "slideshow": {
     "slide_type": "slide"
    }
   },
   "source": [
    "## IPython\n",
    "\n",
    "- install with anaconda or with package manager\n",
    "- python shell with lots of added features\n",
    "- tab completion\n",
    "- magic commands - start with %\n",
    "- shell commands - start with !\n",
    "- jupyter notebook\n",
    "\n",
    "## Text editor\n",
    "\n",
    "- opens unformatted text files\n",
    "- syntax highlighting\n",
    "- popular choices: vim, emacs, atom, sublimetext"
   ]
  },
  {
   "cell_type": "markdown",
   "metadata": {
    "slideshow": {
     "slide_type": "slide"
    }
   },
   "source": [
    "## IPython - text editor workflow\n",
    "\n",
    "- run simple commands in ipython\n",
    "- ``%save`` to temp file, move to python file and clean up\n",
    "- run longer version (on full data) or save for reproducibility\n",
    "- run in ipython with ``%run``\n",
    "- run in terminal with ``python scriptname.py``"
   ]
  },
  {
   "cell_type": "markdown",
   "metadata": {
    "slideshow": {
     "slide_type": "slide"
    }
   },
   "source": [
    "## Jupyter notebook\n",
    "\n",
    "- ``jupyter notebook`` from terminal\n",
    "- runs ipython in background\n",
    "- notebook consists of\n",
    " - markdown cells: \n",
    " - code cells\n",
    "- code cells act like ipython prompt: tab completion, magic commands, etc.\n",
    "- markdown is a markup language that makes formatted text\n",
    " - e.g. `#` makes header text,  `$ \\alpha  $`  makes latex equations as in $\\alpha$\n",
    " - see [markdown cheatsheet](https://github.com/adam-p/markdown-here/wiki/Markdown-Cheatsheet)"
   ]
  }
 ],
 "metadata": {
  "celltoolbar": "Slideshow",
  "kernelspec": {
   "display_name": "Python 3",
   "language": "python",
   "name": "python3"
  },
  "language_info": {
   "codemirror_mode": {
    "name": "ipython",
    "version": 3
   },
   "file_extension": ".py",
   "mimetype": "text/x-python",
   "name": "python",
   "nbconvert_exporter": "python",
   "pygments_lexer": "ipython3",
   "version": "3.8.8"
  }
 },
 "nbformat": 4,
 "nbformat_minor": 2
}
